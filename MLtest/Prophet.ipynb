{
 "cells": [
  {
   "cell_type": "code",
   "execution_count": 343,
   "id": "1e0ab615",
   "metadata": {},
   "outputs": [],
   "source": [
    "import warnings; \n",
    "warnings.simplefilter('ignore')"
   ]
  },
  {
   "cell_type": "code",
   "execution_count": 344,
   "id": "f10853ad",
   "metadata": {},
   "outputs": [],
   "source": [
    "import pandas as pd\n",
    "from fbprophet import Prophet"
   ]
  },
  {
   "cell_type": "code",
   "execution_count": 345,
   "id": "aa95b7fb",
   "metadata": {},
   "outputs": [],
   "source": [
    "pd.set_option('display.max_rows', None, 'display.max_columns', None)"
   ]
  },
  {
   "cell_type": "code",
   "execution_count": 356,
   "id": "a7d268dd",
   "metadata": {},
   "outputs": [
    {
     "data": {
      "text/plain": [
       "county                          object\n",
       "year                             int64\n",
       "totalpopulation                  int64\n",
       "average_yearly_wage              int64\n",
       "lowtiermedianhomevalue         float64\n",
       "hightiermedianhomevalue        float64\n",
       "singlefamilymedianhomevalue    float64\n",
       "value_inches                   float64\n",
       "murder                         float64\n",
       "rape                           float64\n",
       "robbery                        float64\n",
       "aggravated_assault             float64\n",
       "burglary                       float64\n",
       "larceny                        float64\n",
       "motor_vehicle_theft            float64\n",
       "index_per_100k                 float64\n",
       "employment                     float64\n",
       "unemployment                     int64\n",
       "labor_force                      int64\n",
       "unemployment_rate              float64\n",
       "county_code                      int64\n",
       "SFMHVrange                      object\n",
       "SFMHVclass                       int64\n",
       "dtype: object"
      ]
     },
     "execution_count": 356,
     "metadata": {},
     "output_type": "execute_result"
    }
   ],
   "source": [
    "M_df = pd.read_csv('Master_data_ML.csv')\n",
    "M_df.dtypes"
   ]
  },
  {
   "cell_type": "code",
   "execution_count": 357,
   "id": "e3cc2c6b",
   "metadata": {},
   "outputs": [
    {
     "data": {
      "text/plain": [
       "array(['Alachua', 'Baker', 'Bay', 'Bradford', 'Brevard', 'Broward',\n",
       "       'Calhoun', 'Charlotte', 'Citrus', 'Clay', 'Collier', 'Columbia',\n",
       "       'DeSoto', 'Dixie', 'Duval', 'Escambia', 'Flagler', 'Franklin',\n",
       "       'Gadsden', 'Gilchrist', 'Glades', 'Gulf', 'Hamilton', 'Hardee',\n",
       "       'Hendry', 'Hernando', 'Highlands', 'Hillsborough', 'Holmes',\n",
       "       'Indian River', 'Jackson', 'Jefferson', 'Lafayette', 'Lake', 'Lee',\n",
       "       'Leon', 'Levy', 'Liberty', 'Madison', 'Manatee', 'Marion',\n",
       "       'Martin', 'Miami-Dade', 'Monroe', 'Nassau', 'Okaloosa',\n",
       "       'Okeechobee', 'Orange', 'Osceola', 'Palm Beach', 'Pasco',\n",
       "       'Pinellas', 'Polk', 'Putnam', 'Santa Rosa', 'Sarasota', 'Seminole',\n",
       "       'St. Johns', 'St. Lucie', 'Sumter', 'Suwannee', 'Taylor', 'Union',\n",
       "       'Volusia', 'Wakulla', 'Walton', 'Washington'], dtype=object)"
      ]
     },
     "execution_count": 357,
     "metadata": {},
     "output_type": "execute_result"
    }
   ],
   "source": [
    "M_df['year'] = M_df['year'].map(str) +'-01-01'\n",
    "M_df['year'] = pd.to_datetime(M_df['year'])\n",
    "M_df['year'] = M_df['year'].dt.date\n",
    "M_df['county'].unique()"
   ]
  },
  {
   "cell_type": "code",
   "execution_count": 358,
   "id": "b393832a",
   "metadata": {},
   "outputs": [],
   "source": [
    "CountyGroups = []"
   ]
  },
  {
   "cell_type": "code",
   "execution_count": 361,
   "id": "9d25927a",
   "metadata": {},
   "outputs": [],
   "source": [
    "for i in range(0,67):\n",
    "    for county in pd.DataFrame(M_df.county.unique()):\n",
    "        globals()[f'county{i}'] = pd.DataFrame(M_df.loc[M_df['county_code']==i])\n",
    "        CountyGroups.append(f'county{i}')"
   ]
  },
  {
   "cell_type": "code",
   "execution_count": 362,
   "id": "f4ea6b1e",
   "metadata": {},
   "outputs": [
    {
     "data": {
      "text/plain": [
       "['county0',\n",
       " 'county1',\n",
       " 'county2',\n",
       " 'county3',\n",
       " 'county4',\n",
       " 'county5',\n",
       " 'county6',\n",
       " 'county7',\n",
       " 'county8',\n",
       " 'county9',\n",
       " 'county10',\n",
       " 'county11',\n",
       " 'county12',\n",
       " 'county13',\n",
       " 'county14',\n",
       " 'county15',\n",
       " 'county16',\n",
       " 'county17',\n",
       " 'county18',\n",
       " 'county19',\n",
       " 'county20',\n",
       " 'county21',\n",
       " 'county22',\n",
       " 'county23',\n",
       " 'county24',\n",
       " 'county25',\n",
       " 'county26',\n",
       " 'county27',\n",
       " 'county28',\n",
       " 'county29',\n",
       " 'county30',\n",
       " 'county31',\n",
       " 'county32',\n",
       " 'county33',\n",
       " 'county34',\n",
       " 'county35',\n",
       " 'county36',\n",
       " 'county37',\n",
       " 'county38',\n",
       " 'county39',\n",
       " 'county40',\n",
       " 'county41',\n",
       " 'county42',\n",
       " 'county43',\n",
       " 'county44',\n",
       " 'county45',\n",
       " 'county46',\n",
       " 'county47',\n",
       " 'county48',\n",
       " 'county49',\n",
       " 'county50',\n",
       " 'county51',\n",
       " 'county52',\n",
       " 'county53',\n",
       " 'county54',\n",
       " 'county55',\n",
       " 'county56',\n",
       " 'county57',\n",
       " 'county58',\n",
       " 'county59',\n",
       " 'county60',\n",
       " 'county61',\n",
       " 'county62',\n",
       " 'county63',\n",
       " 'county64',\n",
       " 'county65',\n",
       " 'county66']"
      ]
     },
     "execution_count": 362,
     "metadata": {},
     "output_type": "execute_result"
    }
   ],
   "source": [
    "CountyGroups"
   ]
  },
  {
   "cell_type": "code",
   "execution_count": null,
   "id": "b74ec72a",
   "metadata": {},
   "outputs": [],
   "source": []
  }
 ],
 "metadata": {
  "kernelspec": {
   "display_name": "mlenv",
   "language": "python",
   "name": "mlenv"
  },
  "language_info": {
   "codemirror_mode": {
    "name": "ipython",
    "version": 3
   },
   "file_extension": ".py",
   "mimetype": "text/x-python",
   "name": "python",
   "nbconvert_exporter": "python",
   "pygments_lexer": "ipython3",
   "version": "3.7.10"
  }
 },
 "nbformat": 4,
 "nbformat_minor": 5
}
