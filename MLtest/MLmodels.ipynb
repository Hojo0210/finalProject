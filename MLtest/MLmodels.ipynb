{
 "cells": [
  {
   "cell_type": "code",
   "execution_count": 85,
   "id": "efe003ca",
   "metadata": {},
   "outputs": [],
   "source": [
    "import pandas as pd\n",
    "from sklearn.cluster import KMeans\n",
    "import plotly.express as px\n",
    "import hvplot.pandas\n",
    "from sklearn.preprocessing import StandardScaler, MinMaxScaler\n",
    "from sklearn.decomposition import PCA"
   ]
  },
  {
   "cell_type": "markdown",
   "id": "7e29e492",
   "metadata": {},
   "source": [
    "# IMPORT, DROP NULL/DUPLICATE VALUES"
   ]
  },
  {
   "cell_type": "code",
   "execution_count": 86,
   "id": "68bee671",
   "metadata": {},
   "outputs": [
    {
     "data": {
      "text/html": [
       "<div>\n",
       "<style scoped>\n",
       "    .dataframe tbody tr th:only-of-type {\n",
       "        vertical-align: middle;\n",
       "    }\n",
       "\n",
       "    .dataframe tbody tr th {\n",
       "        vertical-align: top;\n",
       "    }\n",
       "\n",
       "    .dataframe thead th {\n",
       "        text-align: right;\n",
       "    }\n",
       "</style>\n",
       "<table border=\"1\" class=\"dataframe\">\n",
       "  <thead>\n",
       "    <tr style=\"text-align: right;\">\n",
       "      <th></th>\n",
       "      <th>state</th>\n",
       "      <th>county</th>\n",
       "      <th>year</th>\n",
       "      <th>totalpopulation</th>\n",
       "      <th>unincorporatedpop</th>\n",
       "      <th>incorporatedpop</th>\n",
       "      <th>average_yearly_wage</th>\n",
       "      <th>lowtiermedianhomevalue</th>\n",
       "      <th>hightiermedianhomevalue</th>\n",
       "      <th>singlefamilymedianhomevalue</th>\n",
       "      <th>...</th>\n",
       "      <th>robbery</th>\n",
       "      <th>aggravated_assault</th>\n",
       "      <th>burglary</th>\n",
       "      <th>larceny</th>\n",
       "      <th>motor_vehicle_theft</th>\n",
       "      <th>index_per_100k</th>\n",
       "      <th>employment</th>\n",
       "      <th>unemployment</th>\n",
       "      <th>labor_force</th>\n",
       "      <th>unemployment_rate</th>\n",
       "    </tr>\n",
       "  </thead>\n",
       "  <tbody>\n",
       "    <tr>\n",
       "      <th>0</th>\n",
       "      <td>Florida</td>\n",
       "      <td>Alachua</td>\n",
       "      <td>2001</td>\n",
       "      <td>222935</td>\n",
       "      <td>108532</td>\n",
       "      <td>114403</td>\n",
       "      <td>26917</td>\n",
       "      <td>72233.0</td>\n",
       "      <td>198921.0</td>\n",
       "      <td>121316.0</td>\n",
       "      <td>...</td>\n",
       "      <td>453.0</td>\n",
       "      <td>1240.0</td>\n",
       "      <td>2918.0</td>\n",
       "      <td>7736.0</td>\n",
       "      <td>1031.0</td>\n",
       "      <td>6083.0</td>\n",
       "      <td>114284.0</td>\n",
       "      <td>4263</td>\n",
       "      <td>118547</td>\n",
       "      <td>0.036</td>\n",
       "    </tr>\n",
       "    <tr>\n",
       "      <th>1</th>\n",
       "      <td>Florida</td>\n",
       "      <td>Alachua</td>\n",
       "      <td>2002</td>\n",
       "      <td>228607</td>\n",
       "      <td>111939</td>\n",
       "      <td>116668</td>\n",
       "      <td>27648</td>\n",
       "      <td>76757.0</td>\n",
       "      <td>210486.0</td>\n",
       "      <td>129499.0</td>\n",
       "      <td>...</td>\n",
       "      <td>335.0</td>\n",
       "      <td>1264.0</td>\n",
       "      <td>2768.0</td>\n",
       "      <td>7429.0</td>\n",
       "      <td>895.0</td>\n",
       "      <td>5637.0</td>\n",
       "      <td>113387.0</td>\n",
       "      <td>4776</td>\n",
       "      <td>118163</td>\n",
       "      <td>0.040</td>\n",
       "    </tr>\n",
       "    <tr>\n",
       "      <th>2</th>\n",
       "      <td>Florida</td>\n",
       "      <td>Alachua</td>\n",
       "      <td>2003</td>\n",
       "      <td>231296</td>\n",
       "      <td>95161</td>\n",
       "      <td>136135</td>\n",
       "      <td>28867</td>\n",
       "      <td>83740.0</td>\n",
       "      <td>228059.0</td>\n",
       "      <td>141447.0</td>\n",
       "      <td>...</td>\n",
       "      <td>304.0</td>\n",
       "      <td>1413.0</td>\n",
       "      <td>2542.0</td>\n",
       "      <td>6782.0</td>\n",
       "      <td>877.0</td>\n",
       "      <td>5225.0</td>\n",
       "      <td>114641.0</td>\n",
       "      <td>4446</td>\n",
       "      <td>119087</td>\n",
       "      <td>0.037</td>\n",
       "    </tr>\n",
       "    <tr>\n",
       "      <th>3</th>\n",
       "      <td>Florida</td>\n",
       "      <td>Alachua</td>\n",
       "      <td>2004</td>\n",
       "      <td>236174</td>\n",
       "      <td>98755</td>\n",
       "      <td>137419</td>\n",
       "      <td>30939</td>\n",
       "      <td>95977.0</td>\n",
       "      <td>260733.0</td>\n",
       "      <td>162329.0</td>\n",
       "      <td>...</td>\n",
       "      <td>310.0</td>\n",
       "      <td>1325.0</td>\n",
       "      <td>2533.0</td>\n",
       "      <td>6064.0</td>\n",
       "      <td>744.0</td>\n",
       "      <td>4733.0</td>\n",
       "      <td>115973.0</td>\n",
       "      <td>4283</td>\n",
       "      <td>120256</td>\n",
       "      <td>0.036</td>\n",
       "    </tr>\n",
       "    <tr>\n",
       "      <th>4</th>\n",
       "      <td>Florida</td>\n",
       "      <td>Alachua</td>\n",
       "      <td>2005</td>\n",
       "      <td>240764</td>\n",
       "      <td>100507</td>\n",
       "      <td>140257</td>\n",
       "      <td>33145</td>\n",
       "      <td>111818.0</td>\n",
       "      <td>301074.0</td>\n",
       "      <td>187998.0</td>\n",
       "      <td>...</td>\n",
       "      <td>291.0</td>\n",
       "      <td>1511.0</td>\n",
       "      <td>2442.0</td>\n",
       "      <td>6448.0</td>\n",
       "      <td>749.0</td>\n",
       "      <td>4852.0</td>\n",
       "      <td>119924.0</td>\n",
       "      <td>3626</td>\n",
       "      <td>123550</td>\n",
       "      <td>0.029</td>\n",
       "    </tr>\n",
       "    <tr>\n",
       "      <th>5</th>\n",
       "      <td>Florida</td>\n",
       "      <td>Alachua</td>\n",
       "      <td>2006</td>\n",
       "      <td>243779</td>\n",
       "      <td>101950</td>\n",
       "      <td>141829</td>\n",
       "      <td>34748</td>\n",
       "      <td>130667.0</td>\n",
       "      <td>345131.0</td>\n",
       "      <td>217399.0</td>\n",
       "      <td>...</td>\n",
       "      <td>382.0</td>\n",
       "      <td>1558.0</td>\n",
       "      <td>2779.0</td>\n",
       "      <td>7530.0</td>\n",
       "      <td>794.0</td>\n",
       "      <td>5454.0</td>\n",
       "      <td>122471.0</td>\n",
       "      <td>3372</td>\n",
       "      <td>125843</td>\n",
       "      <td>0.027</td>\n",
       "    </tr>\n",
       "    <tr>\n",
       "      <th>6</th>\n",
       "      <td>Florida</td>\n",
       "      <td>Alachua</td>\n",
       "      <td>2007</td>\n",
       "      <td>247561</td>\n",
       "      <td>103217</td>\n",
       "      <td>144344</td>\n",
       "      <td>36456</td>\n",
       "      <td>135485.0</td>\n",
       "      <td>354738.0</td>\n",
       "      <td>224103.0</td>\n",
       "      <td>...</td>\n",
       "      <td>409.0</td>\n",
       "      <td>1574.0</td>\n",
       "      <td>2920.0</td>\n",
       "      <td>7070.0</td>\n",
       "      <td>768.0</td>\n",
       "      <td>5229.0</td>\n",
       "      <td>125102.0</td>\n",
       "      <td>3908</td>\n",
       "      <td>129010</td>\n",
       "      <td>0.030</td>\n",
       "    </tr>\n",
       "    <tr>\n",
       "      <th>7</th>\n",
       "      <td>Florida</td>\n",
       "      <td>Alachua</td>\n",
       "      <td>2008</td>\n",
       "      <td>252388</td>\n",
       "      <td>105051</td>\n",
       "      <td>147337</td>\n",
       "      <td>37469</td>\n",
       "      <td>125463.0</td>\n",
       "      <td>325363.0</td>\n",
       "      <td>206437.0</td>\n",
       "      <td>...</td>\n",
       "      <td>353.0</td>\n",
       "      <td>1380.0</td>\n",
       "      <td>2747.0</td>\n",
       "      <td>7179.0</td>\n",
       "      <td>657.0</td>\n",
       "      <td>4950.0</td>\n",
       "      <td>125425.0</td>\n",
       "      <td>5821</td>\n",
       "      <td>131246</td>\n",
       "      <td>0.044</td>\n",
       "    </tr>\n",
       "    <tr>\n",
       "      <th>8</th>\n",
       "      <td>Florida</td>\n",
       "      <td>Alachua</td>\n",
       "      <td>2009</td>\n",
       "      <td>256232</td>\n",
       "      <td>107260</td>\n",
       "      <td>148972</td>\n",
       "      <td>39080</td>\n",
       "      <td>110449.0</td>\n",
       "      <td>288381.0</td>\n",
       "      <td>183571.0</td>\n",
       "      <td>...</td>\n",
       "      <td>374.0</td>\n",
       "      <td>1414.0</td>\n",
       "      <td>2858.0</td>\n",
       "      <td>7253.0</td>\n",
       "      <td>686.0</td>\n",
       "      <td>4988.0</td>\n",
       "      <td>120579.0</td>\n",
       "      <td>9236</td>\n",
       "      <td>129815</td>\n",
       "      <td>0.071</td>\n",
       "    </tr>\n",
       "    <tr>\n",
       "      <th>9</th>\n",
       "      <td>Florida</td>\n",
       "      <td>Alachua</td>\n",
       "      <td>2010</td>\n",
       "      <td>247336</td>\n",
       "      <td>98991</td>\n",
       "      <td>148345</td>\n",
       "      <td>39688</td>\n",
       "      <td>102223.0</td>\n",
       "      <td>269990.0</td>\n",
       "      <td>172110.0</td>\n",
       "      <td>...</td>\n",
       "      <td>298.0</td>\n",
       "      <td>1093.0</td>\n",
       "      <td>2297.0</td>\n",
       "      <td>6387.0</td>\n",
       "      <td>493.0</td>\n",
       "      <td>4198.0</td>\n",
       "      <td>117504.0</td>\n",
       "      <td>9880</td>\n",
       "      <td>127384</td>\n",
       "      <td>0.078</td>\n",
       "    </tr>\n",
       "    <tr>\n",
       "      <th>10</th>\n",
       "      <td>Florida</td>\n",
       "      <td>Alachua</td>\n",
       "      <td>2011</td>\n",
       "      <td>247337</td>\n",
       "      <td>98928</td>\n",
       "      <td>148409</td>\n",
       "      <td>40206</td>\n",
       "      <td>88550.0</td>\n",
       "      <td>243519.0</td>\n",
       "      <td>154451.0</td>\n",
       "      <td>...</td>\n",
       "      <td>281.0</td>\n",
       "      <td>1090.0</td>\n",
       "      <td>2023.0</td>\n",
       "      <td>6485.0</td>\n",
       "      <td>435.0</td>\n",
       "      <td>4238.0</td>\n",
       "      <td>NaN</td>\n",
       "      <td>9708</td>\n",
       "      <td>128282</td>\n",
       "      <td>0.076</td>\n",
       "    </tr>\n",
       "    <tr>\n",
       "      <th>11</th>\n",
       "      <td>Florida</td>\n",
       "      <td>Alachua</td>\n",
       "      <td>2012</td>\n",
       "      <td>246770</td>\n",
       "      <td>98850</td>\n",
       "      <td>147920</td>\n",
       "      <td>40775</td>\n",
       "      <td>82088.0</td>\n",
       "      <td>230283.0</td>\n",
       "      <td>144969.0</td>\n",
       "      <td>...</td>\n",
       "      <td>253.0</td>\n",
       "      <td>1057.0</td>\n",
       "      <td>1919.0</td>\n",
       "      <td>6372.0</td>\n",
       "      <td>357.0</td>\n",
       "      <td>4107.0</td>\n",
       "      <td>120238.0</td>\n",
       "      <td>8841</td>\n",
       "      <td>129079</td>\n",
       "      <td>0.068</td>\n",
       "    </tr>\n",
       "    <tr>\n",
       "      <th>12</th>\n",
       "      <td>Florida</td>\n",
       "      <td>Alachua</td>\n",
       "      <td>2013</td>\n",
       "      <td>248002</td>\n",
       "      <td>99282</td>\n",
       "      <td>148720</td>\n",
       "      <td>41588</td>\n",
       "      <td>83601.0</td>\n",
       "      <td>235069.0</td>\n",
       "      <td>149074.0</td>\n",
       "      <td>...</td>\n",
       "      <td>236.0</td>\n",
       "      <td>1023.0</td>\n",
       "      <td>1486.0</td>\n",
       "      <td>5996.0</td>\n",
       "      <td>362.0</td>\n",
       "      <td>3720.0</td>\n",
       "      <td>121314.0</td>\n",
       "      <td>7693</td>\n",
       "      <td>129007</td>\n",
       "      <td>0.060</td>\n",
       "    </tr>\n",
       "    <tr>\n",
       "      <th>13</th>\n",
       "      <td>Florida</td>\n",
       "      <td>Alachua</td>\n",
       "      <td>2014</td>\n",
       "      <td>250730</td>\n",
       "      <td>100380</td>\n",
       "      <td>150350</td>\n",
       "      <td>42691</td>\n",
       "      <td>88593.0</td>\n",
       "      <td>248717.0</td>\n",
       "      <td>158633.0</td>\n",
       "      <td>...</td>\n",
       "      <td>236.0</td>\n",
       "      <td>1003.0</td>\n",
       "      <td>1339.0</td>\n",
       "      <td>5879.0</td>\n",
       "      <td>421.0</td>\n",
       "      <td>3607.0</td>\n",
       "      <td>122367.0</td>\n",
       "      <td>6934</td>\n",
       "      <td>129301</td>\n",
       "      <td>0.054</td>\n",
       "    </tr>\n",
       "    <tr>\n",
       "      <th>14</th>\n",
       "      <td>Florida</td>\n",
       "      <td>Alachua</td>\n",
       "      <td>2015</td>\n",
       "      <td>254893</td>\n",
       "      <td>101621</td>\n",
       "      <td>153272</td>\n",
       "      <td>43598</td>\n",
       "      <td>92215.0</td>\n",
       "      <td>256906.0</td>\n",
       "      <td>164952.0</td>\n",
       "      <td>...</td>\n",
       "      <td>312.0</td>\n",
       "      <td>999.0</td>\n",
       "      <td>1236.0</td>\n",
       "      <td>5722.0</td>\n",
       "      <td>411.0</td>\n",
       "      <td>3478.0</td>\n",
       "      <td>123941.0</td>\n",
       "      <td>6052</td>\n",
       "      <td>129993</td>\n",
       "      <td>0.047</td>\n",
       "    </tr>\n",
       "    <tr>\n",
       "      <th>15</th>\n",
       "      <td>Florida</td>\n",
       "      <td>Alachua</td>\n",
       "      <td>2016</td>\n",
       "      <td>257062</td>\n",
       "      <td>102298</td>\n",
       "      <td>154764</td>\n",
       "      <td>44257</td>\n",
       "      <td>98319.0</td>\n",
       "      <td>268422.0</td>\n",
       "      <td>173570.0</td>\n",
       "      <td>...</td>\n",
       "      <td>271.0</td>\n",
       "      <td>966.0</td>\n",
       "      <td>1256.0</td>\n",
       "      <td>5963.0</td>\n",
       "      <td>534.0</td>\n",
       "      <td>3583.0</td>\n",
       "      <td>127302.0</td>\n",
       "      <td>5753</td>\n",
       "      <td>133055</td>\n",
       "      <td>0.043</td>\n",
       "    </tr>\n",
       "    <tr>\n",
       "      <th>16</th>\n",
       "      <td>Florida</td>\n",
       "      <td>Alachua</td>\n",
       "      <td>2017</td>\n",
       "      <td>260003</td>\n",
       "      <td>103810</td>\n",
       "      <td>156193</td>\n",
       "      <td>45705</td>\n",
       "      <td>107574.0</td>\n",
       "      <td>288320.0</td>\n",
       "      <td>187389.0</td>\n",
       "      <td>...</td>\n",
       "      <td>290.0</td>\n",
       "      <td>1097.0</td>\n",
       "      <td>1120.0</td>\n",
       "      <td>5751.0</td>\n",
       "      <td>524.0</td>\n",
       "      <td>3477.0</td>\n",
       "      <td>130056.0</td>\n",
       "      <td>5216</td>\n",
       "      <td>135272</td>\n",
       "      <td>0.039</td>\n",
       "    </tr>\n",
       "    <tr>\n",
       "      <th>17</th>\n",
       "      <td>Florida</td>\n",
       "      <td>Alachua</td>\n",
       "      <td>2018</td>\n",
       "      <td>263291</td>\n",
       "      <td>104904</td>\n",
       "      <td>158387</td>\n",
       "      <td>47858</td>\n",
       "      <td>114833.0</td>\n",
       "      <td>300367.0</td>\n",
       "      <td>197879.0</td>\n",
       "      <td>...</td>\n",
       "      <td>337.0</td>\n",
       "      <td>1175.0</td>\n",
       "      <td>1144.0</td>\n",
       "      <td>6170.0</td>\n",
       "      <td>633.0</td>\n",
       "      <td>3706.0</td>\n",
       "      <td>132658.0</td>\n",
       "      <td>4572</td>\n",
       "      <td>137230</td>\n",
       "      <td>0.033</td>\n",
       "    </tr>\n",
       "    <tr>\n",
       "      <th>18</th>\n",
       "      <td>Florida</td>\n",
       "      <td>Alachua</td>\n",
       "      <td>2019</td>\n",
       "      <td>267306</td>\n",
       "      <td>106299</td>\n",
       "      <td>161007</td>\n",
       "      <td>49116</td>\n",
       "      <td>123073.0</td>\n",
       "      <td>314621.0</td>\n",
       "      <td>208584.0</td>\n",
       "      <td>...</td>\n",
       "      <td>NaN</td>\n",
       "      <td>NaN</td>\n",
       "      <td>NaN</td>\n",
       "      <td>NaN</td>\n",
       "      <td>NaN</td>\n",
       "      <td>NaN</td>\n",
       "      <td>134690.0</td>\n",
       "      <td>4282</td>\n",
       "      <td>138972</td>\n",
       "      <td>0.031</td>\n",
       "    </tr>\n",
       "    <tr>\n",
       "      <th>19</th>\n",
       "      <td>Florida</td>\n",
       "      <td>Alachua</td>\n",
       "      <td>2020</td>\n",
       "      <td>271588</td>\n",
       "      <td>107807</td>\n",
       "      <td>163781</td>\n",
       "      <td>53345</td>\n",
       "      <td>132096.0</td>\n",
       "      <td>329247.0</td>\n",
       "      <td>221279.0</td>\n",
       "      <td>...</td>\n",
       "      <td>NaN</td>\n",
       "      <td>NaN</td>\n",
       "      <td>NaN</td>\n",
       "      <td>NaN</td>\n",
       "      <td>NaN</td>\n",
       "      <td>NaN</td>\n",
       "      <td>127696.0</td>\n",
       "      <td>7235</td>\n",
       "      <td>134931</td>\n",
       "      <td>0.054</td>\n",
       "    </tr>\n",
       "    <tr>\n",
       "      <th>20</th>\n",
       "      <td>Florida</td>\n",
       "      <td>Baker</td>\n",
       "      <td>2001</td>\n",
       "      <td>22562</td>\n",
       "      <td>17492</td>\n",
       "      <td>5070</td>\n",
       "      <td>23903</td>\n",
       "      <td>44580.0</td>\n",
       "      <td>135928.0</td>\n",
       "      <td>84900.0</td>\n",
       "      <td>...</td>\n",
       "      <td>4.0</td>\n",
       "      <td>83.0</td>\n",
       "      <td>78.0</td>\n",
       "      <td>337.0</td>\n",
       "      <td>38.0</td>\n",
       "      <td>2411.0</td>\n",
       "      <td>10060.0</td>\n",
       "      <td>443</td>\n",
       "      <td>10503</td>\n",
       "      <td>0.042</td>\n",
       "    </tr>\n",
       "    <tr>\n",
       "      <th>21</th>\n",
       "      <td>Florida</td>\n",
       "      <td>Baker</td>\n",
       "      <td>2002</td>\n",
       "      <td>22992</td>\n",
       "      <td>17818</td>\n",
       "      <td>5174</td>\n",
       "      <td>24108</td>\n",
       "      <td>51104.0</td>\n",
       "      <td>149413.0</td>\n",
       "      <td>94328.0</td>\n",
       "      <td>...</td>\n",
       "      <td>17.0</td>\n",
       "      <td>66.0</td>\n",
       "      <td>63.0</td>\n",
       "      <td>302.0</td>\n",
       "      <td>38.0</td>\n",
       "      <td>2122.0</td>\n",
       "      <td>9957.0</td>\n",
       "      <td>502</td>\n",
       "      <td>10459</td>\n",
       "      <td>0.048</td>\n",
       "    </tr>\n",
       "    <tr>\n",
       "      <th>22</th>\n",
       "      <td>Florida</td>\n",
       "      <td>Baker</td>\n",
       "      <td>2003</td>\n",
       "      <td>23383</td>\n",
       "      <td>18035</td>\n",
       "      <td>5348</td>\n",
       "      <td>25370</td>\n",
       "      <td>56025.0</td>\n",
       "      <td>161746.0</td>\n",
       "      <td>102230.0</td>\n",
       "      <td>...</td>\n",
       "      <td>10.0</td>\n",
       "      <td>53.0</td>\n",
       "      <td>89.0</td>\n",
       "      <td>296.0</td>\n",
       "      <td>42.0</td>\n",
       "      <td>2100.0</td>\n",
       "      <td>9922.0</td>\n",
       "      <td>504</td>\n",
       "      <td>10426</td>\n",
       "      <td>0.048</td>\n",
       "    </tr>\n",
       "    <tr>\n",
       "      <th>23</th>\n",
       "      <td>Florida</td>\n",
       "      <td>Baker</td>\n",
       "      <td>2004</td>\n",
       "      <td>23963</td>\n",
       "      <td>18456</td>\n",
       "      <td>5507</td>\n",
       "      <td>26503</td>\n",
       "      <td>65047.0</td>\n",
       "      <td>188634.0</td>\n",
       "      <td>118404.0</td>\n",
       "      <td>...</td>\n",
       "      <td>11.0</td>\n",
       "      <td>72.0</td>\n",
       "      <td>89.0</td>\n",
       "      <td>293.0</td>\n",
       "      <td>32.0</td>\n",
       "      <td>2087.0</td>\n",
       "      <td>10171.0</td>\n",
       "      <td>430</td>\n",
       "      <td>10601</td>\n",
       "      <td>0.041</td>\n",
       "    </tr>\n",
       "    <tr>\n",
       "      <th>24</th>\n",
       "      <td>Florida</td>\n",
       "      <td>Baker</td>\n",
       "      <td>2005</td>\n",
       "      <td>23953</td>\n",
       "      <td>18270</td>\n",
       "      <td>5683</td>\n",
       "      <td>27483</td>\n",
       "      <td>80196.0</td>\n",
       "      <td>230740.0</td>\n",
       "      <td>145879.0</td>\n",
       "      <td>...</td>\n",
       "      <td>10.0</td>\n",
       "      <td>107.0</td>\n",
       "      <td>78.0</td>\n",
       "      <td>383.0</td>\n",
       "      <td>23.0</td>\n",
       "      <td>2530.0</td>\n",
       "      <td>10751.0</td>\n",
       "      <td>361</td>\n",
       "      <td>11112</td>\n",
       "      <td>0.032</td>\n",
       "    </tr>\n",
       "  </tbody>\n",
       "</table>\n",
       "<p>25 rows × 23 columns</p>\n",
       "</div>"
      ],
      "text/plain": [
       "      state   county  year  totalpopulation  unincorporatedpop  \\\n",
       "0   Florida  Alachua  2001           222935             108532   \n",
       "1   Florida  Alachua  2002           228607             111939   \n",
       "2   Florida  Alachua  2003           231296              95161   \n",
       "3   Florida  Alachua  2004           236174              98755   \n",
       "4   Florida  Alachua  2005           240764             100507   \n",
       "5   Florida  Alachua  2006           243779             101950   \n",
       "6   Florida  Alachua  2007           247561             103217   \n",
       "7   Florida  Alachua  2008           252388             105051   \n",
       "8   Florida  Alachua  2009           256232             107260   \n",
       "9   Florida  Alachua  2010           247336              98991   \n",
       "10  Florida  Alachua  2011           247337              98928   \n",
       "11  Florida  Alachua  2012           246770              98850   \n",
       "12  Florida  Alachua  2013           248002              99282   \n",
       "13  Florida  Alachua  2014           250730             100380   \n",
       "14  Florida  Alachua  2015           254893             101621   \n",
       "15  Florida  Alachua  2016           257062             102298   \n",
       "16  Florida  Alachua  2017           260003             103810   \n",
       "17  Florida  Alachua  2018           263291             104904   \n",
       "18  Florida  Alachua  2019           267306             106299   \n",
       "19  Florida  Alachua  2020           271588             107807   \n",
       "20  Florida    Baker  2001            22562              17492   \n",
       "21  Florida    Baker  2002            22992              17818   \n",
       "22  Florida    Baker  2003            23383              18035   \n",
       "23  Florida    Baker  2004            23963              18456   \n",
       "24  Florida    Baker  2005            23953              18270   \n",
       "\n",
       "    incorporatedpop  average_yearly_wage  lowtiermedianhomevalue  \\\n",
       "0            114403                26917                 72233.0   \n",
       "1            116668                27648                 76757.0   \n",
       "2            136135                28867                 83740.0   \n",
       "3            137419                30939                 95977.0   \n",
       "4            140257                33145                111818.0   \n",
       "5            141829                34748                130667.0   \n",
       "6            144344                36456                135485.0   \n",
       "7            147337                37469                125463.0   \n",
       "8            148972                39080                110449.0   \n",
       "9            148345                39688                102223.0   \n",
       "10           148409                40206                 88550.0   \n",
       "11           147920                40775                 82088.0   \n",
       "12           148720                41588                 83601.0   \n",
       "13           150350                42691                 88593.0   \n",
       "14           153272                43598                 92215.0   \n",
       "15           154764                44257                 98319.0   \n",
       "16           156193                45705                107574.0   \n",
       "17           158387                47858                114833.0   \n",
       "18           161007                49116                123073.0   \n",
       "19           163781                53345                132096.0   \n",
       "20             5070                23903                 44580.0   \n",
       "21             5174                24108                 51104.0   \n",
       "22             5348                25370                 56025.0   \n",
       "23             5507                26503                 65047.0   \n",
       "24             5683                27483                 80196.0   \n",
       "\n",
       "    hightiermedianhomevalue  singlefamilymedianhomevalue  ...  robbery  \\\n",
       "0                  198921.0                     121316.0  ...    453.0   \n",
       "1                  210486.0                     129499.0  ...    335.0   \n",
       "2                  228059.0                     141447.0  ...    304.0   \n",
       "3                  260733.0                     162329.0  ...    310.0   \n",
       "4                  301074.0                     187998.0  ...    291.0   \n",
       "5                  345131.0                     217399.0  ...    382.0   \n",
       "6                  354738.0                     224103.0  ...    409.0   \n",
       "7                  325363.0                     206437.0  ...    353.0   \n",
       "8                  288381.0                     183571.0  ...    374.0   \n",
       "9                  269990.0                     172110.0  ...    298.0   \n",
       "10                 243519.0                     154451.0  ...    281.0   \n",
       "11                 230283.0                     144969.0  ...    253.0   \n",
       "12                 235069.0                     149074.0  ...    236.0   \n",
       "13                 248717.0                     158633.0  ...    236.0   \n",
       "14                 256906.0                     164952.0  ...    312.0   \n",
       "15                 268422.0                     173570.0  ...    271.0   \n",
       "16                 288320.0                     187389.0  ...    290.0   \n",
       "17                 300367.0                     197879.0  ...    337.0   \n",
       "18                 314621.0                     208584.0  ...      NaN   \n",
       "19                 329247.0                     221279.0  ...      NaN   \n",
       "20                 135928.0                      84900.0  ...      4.0   \n",
       "21                 149413.0                      94328.0  ...     17.0   \n",
       "22                 161746.0                     102230.0  ...     10.0   \n",
       "23                 188634.0                     118404.0  ...     11.0   \n",
       "24                 230740.0                     145879.0  ...     10.0   \n",
       "\n",
       "    aggravated_assault  burglary  larceny  motor_vehicle_theft  \\\n",
       "0               1240.0    2918.0   7736.0               1031.0   \n",
       "1               1264.0    2768.0   7429.0                895.0   \n",
       "2               1413.0    2542.0   6782.0                877.0   \n",
       "3               1325.0    2533.0   6064.0                744.0   \n",
       "4               1511.0    2442.0   6448.0                749.0   \n",
       "5               1558.0    2779.0   7530.0                794.0   \n",
       "6               1574.0    2920.0   7070.0                768.0   \n",
       "7               1380.0    2747.0   7179.0                657.0   \n",
       "8               1414.0    2858.0   7253.0                686.0   \n",
       "9               1093.0    2297.0   6387.0                493.0   \n",
       "10              1090.0    2023.0   6485.0                435.0   \n",
       "11              1057.0    1919.0   6372.0                357.0   \n",
       "12              1023.0    1486.0   5996.0                362.0   \n",
       "13              1003.0    1339.0   5879.0                421.0   \n",
       "14               999.0    1236.0   5722.0                411.0   \n",
       "15               966.0    1256.0   5963.0                534.0   \n",
       "16              1097.0    1120.0   5751.0                524.0   \n",
       "17              1175.0    1144.0   6170.0                633.0   \n",
       "18                 NaN       NaN      NaN                  NaN   \n",
       "19                 NaN       NaN      NaN                  NaN   \n",
       "20                83.0      78.0    337.0                 38.0   \n",
       "21                66.0      63.0    302.0                 38.0   \n",
       "22                53.0      89.0    296.0                 42.0   \n",
       "23                72.0      89.0    293.0                 32.0   \n",
       "24               107.0      78.0    383.0                 23.0   \n",
       "\n",
       "    index_per_100k  employment  unemployment  labor_force  unemployment_rate  \n",
       "0           6083.0    114284.0          4263       118547              0.036  \n",
       "1           5637.0    113387.0          4776       118163              0.040  \n",
       "2           5225.0    114641.0          4446       119087              0.037  \n",
       "3           4733.0    115973.0          4283       120256              0.036  \n",
       "4           4852.0    119924.0          3626       123550              0.029  \n",
       "5           5454.0    122471.0          3372       125843              0.027  \n",
       "6           5229.0    125102.0          3908       129010              0.030  \n",
       "7           4950.0    125425.0          5821       131246              0.044  \n",
       "8           4988.0    120579.0          9236       129815              0.071  \n",
       "9           4198.0    117504.0          9880       127384              0.078  \n",
       "10          4238.0         NaN          9708       128282              0.076  \n",
       "11          4107.0    120238.0          8841       129079              0.068  \n",
       "12          3720.0    121314.0          7693       129007              0.060  \n",
       "13          3607.0    122367.0          6934       129301              0.054  \n",
       "14          3478.0    123941.0          6052       129993              0.047  \n",
       "15          3583.0    127302.0          5753       133055              0.043  \n",
       "16          3477.0    130056.0          5216       135272              0.039  \n",
       "17          3706.0    132658.0          4572       137230              0.033  \n",
       "18             NaN    134690.0          4282       138972              0.031  \n",
       "19             NaN    127696.0          7235       134931              0.054  \n",
       "20          2411.0     10060.0           443        10503              0.042  \n",
       "21          2122.0      9957.0           502        10459              0.048  \n",
       "22          2100.0      9922.0           504        10426              0.048  \n",
       "23          2087.0     10171.0           430        10601              0.041  \n",
       "24          2530.0     10751.0           361        11112              0.032  \n",
       "\n",
       "[25 rows x 23 columns]"
      ]
     },
     "execution_count": 86,
     "metadata": {},
     "output_type": "execute_result"
    }
   ],
   "source": [
    "file_path = \"D:/finalProject/Master_data.csv\"\n",
    "M_df = pd.read_csv(file_path)\n",
    "M_df.head(25)"
   ]
  },
  {
   "cell_type": "code",
   "execution_count": 87,
   "id": "e5af9b2e",
   "metadata": {},
   "outputs": [
    {
     "name": "stdout",
     "output_type": "stream",
     "text": [
      "Index(['state', 'county', 'year', 'totalpopulation', 'unincorporatedpop',\n",
      "       'incorporatedpop', 'average_yearly_wage', 'lowtiermedianhomevalue',\n",
      "       'hightiermedianhomevalue', 'singlefamilymedianhomevalue',\n",
      "       'value_inches', 'murder', 'rape', 'robbery', 'aggravated_assault',\n",
      "       'burglary', 'larceny', 'motor_vehicle_theft', 'index_per_100k',\n",
      "       'employment', 'unemployment', 'labor_force', 'unemployment_rate'],\n",
      "      dtype='object')\n"
     ]
    }
   ],
   "source": [
    "print(M_df.columns)"
   ]
  },
  {
   "cell_type": "code",
   "execution_count": 88,
   "id": "f3cef7e4",
   "metadata": {},
   "outputs": [
    {
     "data": {
      "text/plain": [
       "state                           object\n",
       "county                          object\n",
       "year                             int64\n",
       "totalpopulation                  int64\n",
       "unincorporatedpop                int64\n",
       "incorporatedpop                  int64\n",
       "average_yearly_wage              int64\n",
       "lowtiermedianhomevalue         float64\n",
       "hightiermedianhomevalue        float64\n",
       "singlefamilymedianhomevalue    float64\n",
       "value_inches                   float64\n",
       "murder                         float64\n",
       "rape                           float64\n",
       "robbery                        float64\n",
       "aggravated_assault             float64\n",
       "burglary                       float64\n",
       "larceny                        float64\n",
       "motor_vehicle_theft            float64\n",
       "index_per_100k                 float64\n",
       "employment                     float64\n",
       "unemployment                     int64\n",
       "labor_force                      int64\n",
       "unemployment_rate              float64\n",
       "dtype: object"
      ]
     },
     "execution_count": 88,
     "metadata": {},
     "output_type": "execute_result"
    }
   ],
   "source": [
    "M_df.dtypes"
   ]
  },
  {
   "cell_type": "code",
   "execution_count": 89,
   "id": "73dc4a3d",
   "metadata": {},
   "outputs": [
    {
     "data": {
      "text/plain": [
       "state                          1340\n",
       "county                         1340\n",
       "year                           1340\n",
       "totalpopulation                1340\n",
       "unincorporatedpop              1340\n",
       "incorporatedpop                1340\n",
       "average_yearly_wage            1340\n",
       "lowtiermedianhomevalue         1304\n",
       "hightiermedianhomevalue        1304\n",
       "singlefamilymedianhomevalue    1304\n",
       "value_inches                   1340\n",
       "murder                         1203\n",
       "rape                           1203\n",
       "robbery                        1203\n",
       "aggravated_assault             1203\n",
       "burglary                       1203\n",
       "larceny                        1203\n",
       "motor_vehicle_theft            1203\n",
       "index_per_100k                 1201\n",
       "employment                     1339\n",
       "unemployment                   1340\n",
       "labor_force                    1340\n",
       "unemployment_rate              1340\n",
       "dtype: int64"
      ]
     },
     "execution_count": 89,
     "metadata": {},
     "output_type": "execute_result"
    }
   ],
   "source": [
    "M_df.count()"
   ]
  },
  {
   "cell_type": "code",
   "execution_count": 90,
   "id": "02baaaa8",
   "metadata": {},
   "outputs": [
    {
     "name": "stdout",
     "output_type": "stream",
     "text": [
      "Column state has 0 null values\n",
      "Column county has 0 null values\n",
      "Column year has 0 null values\n",
      "Column totalpopulation has 0 null values\n",
      "Column unincorporatedpop has 0 null values\n",
      "Column incorporatedpop has 0 null values\n",
      "Column average_yearly_wage has 0 null values\n",
      "Column lowtiermedianhomevalue has 36 null values\n",
      "Column hightiermedianhomevalue has 36 null values\n",
      "Column singlefamilymedianhomevalue has 36 null values\n",
      "Column value_inches has 0 null values\n",
      "Column murder has 137 null values\n",
      "Column rape has 137 null values\n",
      "Column robbery has 137 null values\n",
      "Column aggravated_assault has 137 null values\n",
      "Column burglary has 137 null values\n",
      "Column larceny has 137 null values\n",
      "Column motor_vehicle_theft has 137 null values\n",
      "Column index_per_100k has 139 null values\n",
      "Column employment has 1 null values\n",
      "Column unemployment has 0 null values\n",
      "Column labor_force has 0 null values\n",
      "Column unemployment_rate has 0 null values\n"
     ]
    }
   ],
   "source": [
    "for column in M_df.columns:\n",
    "    print(f\"Column {column} has {M_df[column].isnull().sum()} null values\")"
   ]
  },
  {
   "cell_type": "code",
   "execution_count": 91,
   "id": "9cf49b11",
   "metadata": {},
   "outputs": [],
   "source": [
    "M_df = M_df.dropna()"
   ]
  },
  {
   "cell_type": "code",
   "execution_count": 92,
   "id": "c6bd4dc1",
   "metadata": {},
   "outputs": [
    {
     "data": {
      "text/plain": [
       "state                          1164\n",
       "county                         1164\n",
       "year                           1164\n",
       "totalpopulation                1164\n",
       "unincorporatedpop              1164\n",
       "incorporatedpop                1164\n",
       "average_yearly_wage            1164\n",
       "lowtiermedianhomevalue         1164\n",
       "hightiermedianhomevalue        1164\n",
       "singlefamilymedianhomevalue    1164\n",
       "value_inches                   1164\n",
       "murder                         1164\n",
       "rape                           1164\n",
       "robbery                        1164\n",
       "aggravated_assault             1164\n",
       "burglary                       1164\n",
       "larceny                        1164\n",
       "motor_vehicle_theft            1164\n",
       "index_per_100k                 1164\n",
       "employment                     1164\n",
       "unemployment                   1164\n",
       "labor_force                    1164\n",
       "unemployment_rate              1164\n",
       "dtype: int64"
      ]
     },
     "execution_count": 92,
     "metadata": {},
     "output_type": "execute_result"
    }
   ],
   "source": [
    "M_df.count()"
   ]
  },
  {
   "cell_type": "code",
   "execution_count": 93,
   "id": "1f775d7a",
   "metadata": {},
   "outputs": [
    {
     "name": "stdout",
     "output_type": "stream",
     "text": [
      "Duplicate entries: 0\n"
     ]
    }
   ],
   "source": [
    "print(f\"Duplicate entries: {M_df.duplicated().sum()}\")"
   ]
  },
  {
   "cell_type": "markdown",
   "id": "517fafcc",
   "metadata": {},
   "source": [
    "# CREATE DF FROM INDENTIFYING COLUMNS"
   ]
  },
  {
   "cell_type": "code",
   "execution_count": 94,
   "id": "49d24d3f",
   "metadata": {},
   "outputs": [
    {
     "data": {
      "text/html": [
       "<div>\n",
       "<style scoped>\n",
       "    .dataframe tbody tr th:only-of-type {\n",
       "        vertical-align: middle;\n",
       "    }\n",
       "\n",
       "    .dataframe tbody tr th {\n",
       "        vertical-align: top;\n",
       "    }\n",
       "\n",
       "    .dataframe thead th {\n",
       "        text-align: right;\n",
       "    }\n",
       "</style>\n",
       "<table border=\"1\" class=\"dataframe\">\n",
       "  <thead>\n",
       "    <tr style=\"text-align: right;\">\n",
       "      <th></th>\n",
       "      <th>county</th>\n",
       "      <th>year</th>\n",
       "    </tr>\n",
       "  </thead>\n",
       "  <tbody>\n",
       "    <tr>\n",
       "      <th>0</th>\n",
       "      <td>Alachua</td>\n",
       "      <td>2001</td>\n",
       "    </tr>\n",
       "    <tr>\n",
       "      <th>1</th>\n",
       "      <td>Alachua</td>\n",
       "      <td>2002</td>\n",
       "    </tr>\n",
       "    <tr>\n",
       "      <th>2</th>\n",
       "      <td>Alachua</td>\n",
       "      <td>2003</td>\n",
       "    </tr>\n",
       "    <tr>\n",
       "      <th>3</th>\n",
       "      <td>Alachua</td>\n",
       "      <td>2004</td>\n",
       "    </tr>\n",
       "    <tr>\n",
       "      <th>4</th>\n",
       "      <td>Alachua</td>\n",
       "      <td>2005</td>\n",
       "    </tr>\n",
       "    <tr>\n",
       "      <th>5</th>\n",
       "      <td>Alachua</td>\n",
       "      <td>2006</td>\n",
       "    </tr>\n",
       "    <tr>\n",
       "      <th>6</th>\n",
       "      <td>Alachua</td>\n",
       "      <td>2007</td>\n",
       "    </tr>\n",
       "    <tr>\n",
       "      <th>7</th>\n",
       "      <td>Alachua</td>\n",
       "      <td>2008</td>\n",
       "    </tr>\n",
       "    <tr>\n",
       "      <th>8</th>\n",
       "      <td>Alachua</td>\n",
       "      <td>2009</td>\n",
       "    </tr>\n",
       "    <tr>\n",
       "      <th>9</th>\n",
       "      <td>Alachua</td>\n",
       "      <td>2010</td>\n",
       "    </tr>\n",
       "  </tbody>\n",
       "</table>\n",
       "</div>"
      ],
      "text/plain": [
       "    county  year\n",
       "0  Alachua  2001\n",
       "1  Alachua  2002\n",
       "2  Alachua  2003\n",
       "3  Alachua  2004\n",
       "4  Alachua  2005\n",
       "5  Alachua  2006\n",
       "6  Alachua  2007\n",
       "7  Alachua  2008\n",
       "8  Alachua  2009\n",
       "9  Alachua  2010"
      ]
     },
     "execution_count": 94,
     "metadata": {},
     "output_type": "execute_result"
    }
   ],
   "source": [
    "CountyYrs_df = pd.DataFrame(M_df[[\"county\", \"year\"]])\n",
    "CountyYrs_df.head(10)"
   ]
  },
  {
   "cell_type": "markdown",
   "id": "6481265b",
   "metadata": {},
   "source": [
    "# REMOVE SUBCOLUMNS/IDENTIFYING COLUMNS"
   ]
  },
  {
   "cell_type": "code",
   "execution_count": 95,
   "id": "36e76db7",
   "metadata": {},
   "outputs": [
    {
     "data": {
      "text/plain": [
       "array(['Florida'], dtype=object)"
      ]
     },
     "execution_count": 95,
     "metadata": {},
     "output_type": "execute_result"
    }
   ],
   "source": [
    "M_df.state.unique()"
   ]
  },
  {
   "cell_type": "code",
   "execution_count": 96,
   "id": "c928f4e7",
   "metadata": {},
   "outputs": [
    {
     "data": {
      "text/html": [
       "<div>\n",
       "<style scoped>\n",
       "    .dataframe tbody tr th:only-of-type {\n",
       "        vertical-align: middle;\n",
       "    }\n",
       "\n",
       "    .dataframe tbody tr th {\n",
       "        vertical-align: top;\n",
       "    }\n",
       "\n",
       "    .dataframe thead th {\n",
       "        text-align: right;\n",
       "    }\n",
       "</style>\n",
       "<table border=\"1\" class=\"dataframe\">\n",
       "  <thead>\n",
       "    <tr style=\"text-align: right;\">\n",
       "      <th></th>\n",
       "      <th>county</th>\n",
       "      <th>year</th>\n",
       "      <th>totalpopulation</th>\n",
       "      <th>average_yearly_wage</th>\n",
       "      <th>lowtiermedianhomevalue</th>\n",
       "      <th>hightiermedianhomevalue</th>\n",
       "      <th>singlefamilymedianhomevalue</th>\n",
       "      <th>value_inches</th>\n",
       "      <th>murder</th>\n",
       "      <th>rape</th>\n",
       "      <th>robbery</th>\n",
       "      <th>aggravated_assault</th>\n",
       "      <th>burglary</th>\n",
       "      <th>larceny</th>\n",
       "      <th>motor_vehicle_theft</th>\n",
       "      <th>index_per_100k</th>\n",
       "      <th>employment</th>\n",
       "      <th>unemployment</th>\n",
       "      <th>labor_force</th>\n",
       "      <th>unemployment_rate</th>\n",
       "    </tr>\n",
       "  </thead>\n",
       "  <tbody>\n",
       "    <tr>\n",
       "      <th>0</th>\n",
       "      <td>Alachua</td>\n",
       "      <td>2001</td>\n",
       "      <td>222935</td>\n",
       "      <td>26917</td>\n",
       "      <td>72233.0</td>\n",
       "      <td>198921.0</td>\n",
       "      <td>121316.0</td>\n",
       "      <td>45.63</td>\n",
       "      <td>8.0</td>\n",
       "      <td>176.0</td>\n",
       "      <td>453.0</td>\n",
       "      <td>1240.0</td>\n",
       "      <td>2918.0</td>\n",
       "      <td>7736.0</td>\n",
       "      <td>1031.0</td>\n",
       "      <td>6083.0</td>\n",
       "      <td>114284.0</td>\n",
       "      <td>4263</td>\n",
       "      <td>118547</td>\n",
       "      <td>0.036</td>\n",
       "    </tr>\n",
       "    <tr>\n",
       "      <th>1</th>\n",
       "      <td>Alachua</td>\n",
       "      <td>2002</td>\n",
       "      <td>228607</td>\n",
       "      <td>27648</td>\n",
       "      <td>76757.0</td>\n",
       "      <td>210486.0</td>\n",
       "      <td>129499.0</td>\n",
       "      <td>58.40</td>\n",
       "      <td>7.0</td>\n",
       "      <td>189.0</td>\n",
       "      <td>335.0</td>\n",
       "      <td>1264.0</td>\n",
       "      <td>2768.0</td>\n",
       "      <td>7429.0</td>\n",
       "      <td>895.0</td>\n",
       "      <td>5637.0</td>\n",
       "      <td>113387.0</td>\n",
       "      <td>4776</td>\n",
       "      <td>118163</td>\n",
       "      <td>0.040</td>\n",
       "    </tr>\n",
       "    <tr>\n",
       "      <th>2</th>\n",
       "      <td>Alachua</td>\n",
       "      <td>2003</td>\n",
       "      <td>231296</td>\n",
       "      <td>28867</td>\n",
       "      <td>83740.0</td>\n",
       "      <td>228059.0</td>\n",
       "      <td>141447.0</td>\n",
       "      <td>53.70</td>\n",
       "      <td>7.0</td>\n",
       "      <td>160.0</td>\n",
       "      <td>304.0</td>\n",
       "      <td>1413.0</td>\n",
       "      <td>2542.0</td>\n",
       "      <td>6782.0</td>\n",
       "      <td>877.0</td>\n",
       "      <td>5225.0</td>\n",
       "      <td>114641.0</td>\n",
       "      <td>4446</td>\n",
       "      <td>119087</td>\n",
       "      <td>0.037</td>\n",
       "    </tr>\n",
       "    <tr>\n",
       "      <th>3</th>\n",
       "      <td>Alachua</td>\n",
       "      <td>2004</td>\n",
       "      <td>236174</td>\n",
       "      <td>30939</td>\n",
       "      <td>95977.0</td>\n",
       "      <td>260733.0</td>\n",
       "      <td>162329.0</td>\n",
       "      <td>64.46</td>\n",
       "      <td>8.0</td>\n",
       "      <td>194.0</td>\n",
       "      <td>310.0</td>\n",
       "      <td>1325.0</td>\n",
       "      <td>2533.0</td>\n",
       "      <td>6064.0</td>\n",
       "      <td>744.0</td>\n",
       "      <td>4733.0</td>\n",
       "      <td>115973.0</td>\n",
       "      <td>4283</td>\n",
       "      <td>120256</td>\n",
       "      <td>0.036</td>\n",
       "    </tr>\n",
       "    <tr>\n",
       "      <th>4</th>\n",
       "      <td>Alachua</td>\n",
       "      <td>2005</td>\n",
       "      <td>240764</td>\n",
       "      <td>33145</td>\n",
       "      <td>111818.0</td>\n",
       "      <td>301074.0</td>\n",
       "      <td>187998.0</td>\n",
       "      <td>54.20</td>\n",
       "      <td>7.0</td>\n",
       "      <td>233.0</td>\n",
       "      <td>291.0</td>\n",
       "      <td>1511.0</td>\n",
       "      <td>2442.0</td>\n",
       "      <td>6448.0</td>\n",
       "      <td>749.0</td>\n",
       "      <td>4852.0</td>\n",
       "      <td>119924.0</td>\n",
       "      <td>3626</td>\n",
       "      <td>123550</td>\n",
       "      <td>0.029</td>\n",
       "    </tr>\n",
       "    <tr>\n",
       "      <th>5</th>\n",
       "      <td>Alachua</td>\n",
       "      <td>2006</td>\n",
       "      <td>243779</td>\n",
       "      <td>34748</td>\n",
       "      <td>130667.0</td>\n",
       "      <td>345131.0</td>\n",
       "      <td>217399.0</td>\n",
       "      <td>37.30</td>\n",
       "      <td>13.0</td>\n",
       "      <td>239.0</td>\n",
       "      <td>382.0</td>\n",
       "      <td>1558.0</td>\n",
       "      <td>2779.0</td>\n",
       "      <td>7530.0</td>\n",
       "      <td>794.0</td>\n",
       "      <td>5454.0</td>\n",
       "      <td>122471.0</td>\n",
       "      <td>3372</td>\n",
       "      <td>125843</td>\n",
       "      <td>0.027</td>\n",
       "    </tr>\n",
       "    <tr>\n",
       "      <th>6</th>\n",
       "      <td>Alachua</td>\n",
       "      <td>2007</td>\n",
       "      <td>247561</td>\n",
       "      <td>36456</td>\n",
       "      <td>135485.0</td>\n",
       "      <td>354738.0</td>\n",
       "      <td>224103.0</td>\n",
       "      <td>44.10</td>\n",
       "      <td>7.0</td>\n",
       "      <td>197.0</td>\n",
       "      <td>409.0</td>\n",
       "      <td>1574.0</td>\n",
       "      <td>2920.0</td>\n",
       "      <td>7070.0</td>\n",
       "      <td>768.0</td>\n",
       "      <td>5229.0</td>\n",
       "      <td>125102.0</td>\n",
       "      <td>3908</td>\n",
       "      <td>129010</td>\n",
       "      <td>0.030</td>\n",
       "    </tr>\n",
       "    <tr>\n",
       "      <th>7</th>\n",
       "      <td>Alachua</td>\n",
       "      <td>2008</td>\n",
       "      <td>252388</td>\n",
       "      <td>37469</td>\n",
       "      <td>125463.0</td>\n",
       "      <td>325363.0</td>\n",
       "      <td>206437.0</td>\n",
       "      <td>45.17</td>\n",
       "      <td>4.0</td>\n",
       "      <td>173.0</td>\n",
       "      <td>353.0</td>\n",
       "      <td>1380.0</td>\n",
       "      <td>2747.0</td>\n",
       "      <td>7179.0</td>\n",
       "      <td>657.0</td>\n",
       "      <td>4950.0</td>\n",
       "      <td>125425.0</td>\n",
       "      <td>5821</td>\n",
       "      <td>131246</td>\n",
       "      <td>0.044</td>\n",
       "    </tr>\n",
       "    <tr>\n",
       "      <th>8</th>\n",
       "      <td>Alachua</td>\n",
       "      <td>2009</td>\n",
       "      <td>256232</td>\n",
       "      <td>39080</td>\n",
       "      <td>110449.0</td>\n",
       "      <td>288381.0</td>\n",
       "      <td>183571.0</td>\n",
       "      <td>53.10</td>\n",
       "      <td>5.0</td>\n",
       "      <td>191.0</td>\n",
       "      <td>374.0</td>\n",
       "      <td>1414.0</td>\n",
       "      <td>2858.0</td>\n",
       "      <td>7253.0</td>\n",
       "      <td>686.0</td>\n",
       "      <td>4988.0</td>\n",
       "      <td>120579.0</td>\n",
       "      <td>9236</td>\n",
       "      <td>129815</td>\n",
       "      <td>0.071</td>\n",
       "    </tr>\n",
       "    <tr>\n",
       "      <th>9</th>\n",
       "      <td>Alachua</td>\n",
       "      <td>2010</td>\n",
       "      <td>247336</td>\n",
       "      <td>39688</td>\n",
       "      <td>102223.0</td>\n",
       "      <td>269990.0</td>\n",
       "      <td>172110.0</td>\n",
       "      <td>45.00</td>\n",
       "      <td>12.0</td>\n",
       "      <td>154.0</td>\n",
       "      <td>298.0</td>\n",
       "      <td>1093.0</td>\n",
       "      <td>2297.0</td>\n",
       "      <td>6387.0</td>\n",
       "      <td>493.0</td>\n",
       "      <td>4198.0</td>\n",
       "      <td>117504.0</td>\n",
       "      <td>9880</td>\n",
       "      <td>127384</td>\n",
       "      <td>0.078</td>\n",
       "    </tr>\n",
       "  </tbody>\n",
       "</table>\n",
       "</div>"
      ],
      "text/plain": [
       "    county  year  totalpopulation  average_yearly_wage  \\\n",
       "0  Alachua  2001           222935                26917   \n",
       "1  Alachua  2002           228607                27648   \n",
       "2  Alachua  2003           231296                28867   \n",
       "3  Alachua  2004           236174                30939   \n",
       "4  Alachua  2005           240764                33145   \n",
       "5  Alachua  2006           243779                34748   \n",
       "6  Alachua  2007           247561                36456   \n",
       "7  Alachua  2008           252388                37469   \n",
       "8  Alachua  2009           256232                39080   \n",
       "9  Alachua  2010           247336                39688   \n",
       "\n",
       "   lowtiermedianhomevalue  hightiermedianhomevalue  \\\n",
       "0                 72233.0                 198921.0   \n",
       "1                 76757.0                 210486.0   \n",
       "2                 83740.0                 228059.0   \n",
       "3                 95977.0                 260733.0   \n",
       "4                111818.0                 301074.0   \n",
       "5                130667.0                 345131.0   \n",
       "6                135485.0                 354738.0   \n",
       "7                125463.0                 325363.0   \n",
       "8                110449.0                 288381.0   \n",
       "9                102223.0                 269990.0   \n",
       "\n",
       "   singlefamilymedianhomevalue  value_inches  murder   rape  robbery  \\\n",
       "0                     121316.0         45.63     8.0  176.0    453.0   \n",
       "1                     129499.0         58.40     7.0  189.0    335.0   \n",
       "2                     141447.0         53.70     7.0  160.0    304.0   \n",
       "3                     162329.0         64.46     8.0  194.0    310.0   \n",
       "4                     187998.0         54.20     7.0  233.0    291.0   \n",
       "5                     217399.0         37.30    13.0  239.0    382.0   \n",
       "6                     224103.0         44.10     7.0  197.0    409.0   \n",
       "7                     206437.0         45.17     4.0  173.0    353.0   \n",
       "8                     183571.0         53.10     5.0  191.0    374.0   \n",
       "9                     172110.0         45.00    12.0  154.0    298.0   \n",
       "\n",
       "   aggravated_assault  burglary  larceny  motor_vehicle_theft  index_per_100k  \\\n",
       "0              1240.0    2918.0   7736.0               1031.0          6083.0   \n",
       "1              1264.0    2768.0   7429.0                895.0          5637.0   \n",
       "2              1413.0    2542.0   6782.0                877.0          5225.0   \n",
       "3              1325.0    2533.0   6064.0                744.0          4733.0   \n",
       "4              1511.0    2442.0   6448.0                749.0          4852.0   \n",
       "5              1558.0    2779.0   7530.0                794.0          5454.0   \n",
       "6              1574.0    2920.0   7070.0                768.0          5229.0   \n",
       "7              1380.0    2747.0   7179.0                657.0          4950.0   \n",
       "8              1414.0    2858.0   7253.0                686.0          4988.0   \n",
       "9              1093.0    2297.0   6387.0                493.0          4198.0   \n",
       "\n",
       "   employment  unemployment  labor_force  unemployment_rate  \n",
       "0    114284.0          4263       118547              0.036  \n",
       "1    113387.0          4776       118163              0.040  \n",
       "2    114641.0          4446       119087              0.037  \n",
       "3    115973.0          4283       120256              0.036  \n",
       "4    119924.0          3626       123550              0.029  \n",
       "5    122471.0          3372       125843              0.027  \n",
       "6    125102.0          3908       129010              0.030  \n",
       "7    125425.0          5821       131246              0.044  \n",
       "8    120579.0          9236       129815              0.071  \n",
       "9    117504.0          9880       127384              0.078  "
      ]
     },
     "execution_count": 96,
     "metadata": {},
     "output_type": "execute_result"
    }
   ],
   "source": [
    "M_df.drop(columns=[\"state\",\"unincorporatedpop\",\"incorporatedpop\"], inplace=True)\n",
    "M_df.head(10)"
   ]
  },
  {
   "cell_type": "markdown",
   "id": "325bc8c2",
   "metadata": {},
   "source": [
    "# Convert County to INT Code"
   ]
  },
  {
   "cell_type": "code",
   "execution_count": 97,
   "id": "786fe852",
   "metadata": {},
   "outputs": [
    {
     "data": {
      "text/html": [
       "<div>\n",
       "<style scoped>\n",
       "    .dataframe tbody tr th:only-of-type {\n",
       "        vertical-align: middle;\n",
       "    }\n",
       "\n",
       "    .dataframe tbody tr th {\n",
       "        vertical-align: top;\n",
       "    }\n",
       "\n",
       "    .dataframe thead th {\n",
       "        text-align: right;\n",
       "    }\n",
       "</style>\n",
       "<table border=\"1\" class=\"dataframe\">\n",
       "  <thead>\n",
       "    <tr style=\"text-align: right;\">\n",
       "      <th></th>\n",
       "      <th>county</th>\n",
       "      <th>year</th>\n",
       "      <th>totalpopulation</th>\n",
       "      <th>average_yearly_wage</th>\n",
       "      <th>lowtiermedianhomevalue</th>\n",
       "      <th>hightiermedianhomevalue</th>\n",
       "      <th>singlefamilymedianhomevalue</th>\n",
       "      <th>value_inches</th>\n",
       "      <th>murder</th>\n",
       "      <th>rape</th>\n",
       "      <th>...</th>\n",
       "      <th>aggravated_assault</th>\n",
       "      <th>burglary</th>\n",
       "      <th>larceny</th>\n",
       "      <th>motor_vehicle_theft</th>\n",
       "      <th>index_per_100k</th>\n",
       "      <th>employment</th>\n",
       "      <th>unemployment</th>\n",
       "      <th>labor_force</th>\n",
       "      <th>unemployment_rate</th>\n",
       "      <th>county_code</th>\n",
       "    </tr>\n",
       "  </thead>\n",
       "  <tbody>\n",
       "    <tr>\n",
       "      <th>0</th>\n",
       "      <td>Alachua</td>\n",
       "      <td>2001</td>\n",
       "      <td>222935</td>\n",
       "      <td>26917</td>\n",
       "      <td>72233.0</td>\n",
       "      <td>198921.0</td>\n",
       "      <td>121316.0</td>\n",
       "      <td>45.63</td>\n",
       "      <td>8.0</td>\n",
       "      <td>176.0</td>\n",
       "      <td>...</td>\n",
       "      <td>1240.0</td>\n",
       "      <td>2918.0</td>\n",
       "      <td>7736.0</td>\n",
       "      <td>1031.0</td>\n",
       "      <td>6083.0</td>\n",
       "      <td>114284.0</td>\n",
       "      <td>4263</td>\n",
       "      <td>118547</td>\n",
       "      <td>0.036</td>\n",
       "      <td>0</td>\n",
       "    </tr>\n",
       "    <tr>\n",
       "      <th>1</th>\n",
       "      <td>Alachua</td>\n",
       "      <td>2002</td>\n",
       "      <td>228607</td>\n",
       "      <td>27648</td>\n",
       "      <td>76757.0</td>\n",
       "      <td>210486.0</td>\n",
       "      <td>129499.0</td>\n",
       "      <td>58.40</td>\n",
       "      <td>7.0</td>\n",
       "      <td>189.0</td>\n",
       "      <td>...</td>\n",
       "      <td>1264.0</td>\n",
       "      <td>2768.0</td>\n",
       "      <td>7429.0</td>\n",
       "      <td>895.0</td>\n",
       "      <td>5637.0</td>\n",
       "      <td>113387.0</td>\n",
       "      <td>4776</td>\n",
       "      <td>118163</td>\n",
       "      <td>0.040</td>\n",
       "      <td>0</td>\n",
       "    </tr>\n",
       "    <tr>\n",
       "      <th>2</th>\n",
       "      <td>Alachua</td>\n",
       "      <td>2003</td>\n",
       "      <td>231296</td>\n",
       "      <td>28867</td>\n",
       "      <td>83740.0</td>\n",
       "      <td>228059.0</td>\n",
       "      <td>141447.0</td>\n",
       "      <td>53.70</td>\n",
       "      <td>7.0</td>\n",
       "      <td>160.0</td>\n",
       "      <td>...</td>\n",
       "      <td>1413.0</td>\n",
       "      <td>2542.0</td>\n",
       "      <td>6782.0</td>\n",
       "      <td>877.0</td>\n",
       "      <td>5225.0</td>\n",
       "      <td>114641.0</td>\n",
       "      <td>4446</td>\n",
       "      <td>119087</td>\n",
       "      <td>0.037</td>\n",
       "      <td>0</td>\n",
       "    </tr>\n",
       "    <tr>\n",
       "      <th>3</th>\n",
       "      <td>Alachua</td>\n",
       "      <td>2004</td>\n",
       "      <td>236174</td>\n",
       "      <td>30939</td>\n",
       "      <td>95977.0</td>\n",
       "      <td>260733.0</td>\n",
       "      <td>162329.0</td>\n",
       "      <td>64.46</td>\n",
       "      <td>8.0</td>\n",
       "      <td>194.0</td>\n",
       "      <td>...</td>\n",
       "      <td>1325.0</td>\n",
       "      <td>2533.0</td>\n",
       "      <td>6064.0</td>\n",
       "      <td>744.0</td>\n",
       "      <td>4733.0</td>\n",
       "      <td>115973.0</td>\n",
       "      <td>4283</td>\n",
       "      <td>120256</td>\n",
       "      <td>0.036</td>\n",
       "      <td>0</td>\n",
       "    </tr>\n",
       "    <tr>\n",
       "      <th>4</th>\n",
       "      <td>Alachua</td>\n",
       "      <td>2005</td>\n",
       "      <td>240764</td>\n",
       "      <td>33145</td>\n",
       "      <td>111818.0</td>\n",
       "      <td>301074.0</td>\n",
       "      <td>187998.0</td>\n",
       "      <td>54.20</td>\n",
       "      <td>7.0</td>\n",
       "      <td>233.0</td>\n",
       "      <td>...</td>\n",
       "      <td>1511.0</td>\n",
       "      <td>2442.0</td>\n",
       "      <td>6448.0</td>\n",
       "      <td>749.0</td>\n",
       "      <td>4852.0</td>\n",
       "      <td>119924.0</td>\n",
       "      <td>3626</td>\n",
       "      <td>123550</td>\n",
       "      <td>0.029</td>\n",
       "      <td>0</td>\n",
       "    </tr>\n",
       "    <tr>\n",
       "      <th>5</th>\n",
       "      <td>Alachua</td>\n",
       "      <td>2006</td>\n",
       "      <td>243779</td>\n",
       "      <td>34748</td>\n",
       "      <td>130667.0</td>\n",
       "      <td>345131.0</td>\n",
       "      <td>217399.0</td>\n",
       "      <td>37.30</td>\n",
       "      <td>13.0</td>\n",
       "      <td>239.0</td>\n",
       "      <td>...</td>\n",
       "      <td>1558.0</td>\n",
       "      <td>2779.0</td>\n",
       "      <td>7530.0</td>\n",
       "      <td>794.0</td>\n",
       "      <td>5454.0</td>\n",
       "      <td>122471.0</td>\n",
       "      <td>3372</td>\n",
       "      <td>125843</td>\n",
       "      <td>0.027</td>\n",
       "      <td>0</td>\n",
       "    </tr>\n",
       "    <tr>\n",
       "      <th>6</th>\n",
       "      <td>Alachua</td>\n",
       "      <td>2007</td>\n",
       "      <td>247561</td>\n",
       "      <td>36456</td>\n",
       "      <td>135485.0</td>\n",
       "      <td>354738.0</td>\n",
       "      <td>224103.0</td>\n",
       "      <td>44.10</td>\n",
       "      <td>7.0</td>\n",
       "      <td>197.0</td>\n",
       "      <td>...</td>\n",
       "      <td>1574.0</td>\n",
       "      <td>2920.0</td>\n",
       "      <td>7070.0</td>\n",
       "      <td>768.0</td>\n",
       "      <td>5229.0</td>\n",
       "      <td>125102.0</td>\n",
       "      <td>3908</td>\n",
       "      <td>129010</td>\n",
       "      <td>0.030</td>\n",
       "      <td>0</td>\n",
       "    </tr>\n",
       "    <tr>\n",
       "      <th>7</th>\n",
       "      <td>Alachua</td>\n",
       "      <td>2008</td>\n",
       "      <td>252388</td>\n",
       "      <td>37469</td>\n",
       "      <td>125463.0</td>\n",
       "      <td>325363.0</td>\n",
       "      <td>206437.0</td>\n",
       "      <td>45.17</td>\n",
       "      <td>4.0</td>\n",
       "      <td>173.0</td>\n",
       "      <td>...</td>\n",
       "      <td>1380.0</td>\n",
       "      <td>2747.0</td>\n",
       "      <td>7179.0</td>\n",
       "      <td>657.0</td>\n",
       "      <td>4950.0</td>\n",
       "      <td>125425.0</td>\n",
       "      <td>5821</td>\n",
       "      <td>131246</td>\n",
       "      <td>0.044</td>\n",
       "      <td>0</td>\n",
       "    </tr>\n",
       "    <tr>\n",
       "      <th>8</th>\n",
       "      <td>Alachua</td>\n",
       "      <td>2009</td>\n",
       "      <td>256232</td>\n",
       "      <td>39080</td>\n",
       "      <td>110449.0</td>\n",
       "      <td>288381.0</td>\n",
       "      <td>183571.0</td>\n",
       "      <td>53.10</td>\n",
       "      <td>5.0</td>\n",
       "      <td>191.0</td>\n",
       "      <td>...</td>\n",
       "      <td>1414.0</td>\n",
       "      <td>2858.0</td>\n",
       "      <td>7253.0</td>\n",
       "      <td>686.0</td>\n",
       "      <td>4988.0</td>\n",
       "      <td>120579.0</td>\n",
       "      <td>9236</td>\n",
       "      <td>129815</td>\n",
       "      <td>0.071</td>\n",
       "      <td>0</td>\n",
       "    </tr>\n",
       "    <tr>\n",
       "      <th>9</th>\n",
       "      <td>Alachua</td>\n",
       "      <td>2010</td>\n",
       "      <td>247336</td>\n",
       "      <td>39688</td>\n",
       "      <td>102223.0</td>\n",
       "      <td>269990.0</td>\n",
       "      <td>172110.0</td>\n",
       "      <td>45.00</td>\n",
       "      <td>12.0</td>\n",
       "      <td>154.0</td>\n",
       "      <td>...</td>\n",
       "      <td>1093.0</td>\n",
       "      <td>2297.0</td>\n",
       "      <td>6387.0</td>\n",
       "      <td>493.0</td>\n",
       "      <td>4198.0</td>\n",
       "      <td>117504.0</td>\n",
       "      <td>9880</td>\n",
       "      <td>127384</td>\n",
       "      <td>0.078</td>\n",
       "      <td>0</td>\n",
       "    </tr>\n",
       "  </tbody>\n",
       "</table>\n",
       "<p>10 rows × 21 columns</p>\n",
       "</div>"
      ],
      "text/plain": [
       "    county  year  totalpopulation  average_yearly_wage  \\\n",
       "0  Alachua  2001           222935                26917   \n",
       "1  Alachua  2002           228607                27648   \n",
       "2  Alachua  2003           231296                28867   \n",
       "3  Alachua  2004           236174                30939   \n",
       "4  Alachua  2005           240764                33145   \n",
       "5  Alachua  2006           243779                34748   \n",
       "6  Alachua  2007           247561                36456   \n",
       "7  Alachua  2008           252388                37469   \n",
       "8  Alachua  2009           256232                39080   \n",
       "9  Alachua  2010           247336                39688   \n",
       "\n",
       "   lowtiermedianhomevalue  hightiermedianhomevalue  \\\n",
       "0                 72233.0                 198921.0   \n",
       "1                 76757.0                 210486.0   \n",
       "2                 83740.0                 228059.0   \n",
       "3                 95977.0                 260733.0   \n",
       "4                111818.0                 301074.0   \n",
       "5                130667.0                 345131.0   \n",
       "6                135485.0                 354738.0   \n",
       "7                125463.0                 325363.0   \n",
       "8                110449.0                 288381.0   \n",
       "9                102223.0                 269990.0   \n",
       "\n",
       "   singlefamilymedianhomevalue  value_inches  murder   rape  ...  \\\n",
       "0                     121316.0         45.63     8.0  176.0  ...   \n",
       "1                     129499.0         58.40     7.0  189.0  ...   \n",
       "2                     141447.0         53.70     7.0  160.0  ...   \n",
       "3                     162329.0         64.46     8.0  194.0  ...   \n",
       "4                     187998.0         54.20     7.0  233.0  ...   \n",
       "5                     217399.0         37.30    13.0  239.0  ...   \n",
       "6                     224103.0         44.10     7.0  197.0  ...   \n",
       "7                     206437.0         45.17     4.0  173.0  ...   \n",
       "8                     183571.0         53.10     5.0  191.0  ...   \n",
       "9                     172110.0         45.00    12.0  154.0  ...   \n",
       "\n",
       "   aggravated_assault  burglary  larceny  motor_vehicle_theft  index_per_100k  \\\n",
       "0              1240.0    2918.0   7736.0               1031.0          6083.0   \n",
       "1              1264.0    2768.0   7429.0                895.0          5637.0   \n",
       "2              1413.0    2542.0   6782.0                877.0          5225.0   \n",
       "3              1325.0    2533.0   6064.0                744.0          4733.0   \n",
       "4              1511.0    2442.0   6448.0                749.0          4852.0   \n",
       "5              1558.0    2779.0   7530.0                794.0          5454.0   \n",
       "6              1574.0    2920.0   7070.0                768.0          5229.0   \n",
       "7              1380.0    2747.0   7179.0                657.0          4950.0   \n",
       "8              1414.0    2858.0   7253.0                686.0          4988.0   \n",
       "9              1093.0    2297.0   6387.0                493.0          4198.0   \n",
       "\n",
       "   employment  unemployment  labor_force  unemployment_rate  county_code  \n",
       "0    114284.0          4263       118547              0.036            0  \n",
       "1    113387.0          4776       118163              0.040            0  \n",
       "2    114641.0          4446       119087              0.037            0  \n",
       "3    115973.0          4283       120256              0.036            0  \n",
       "4    119924.0          3626       123550              0.029            0  \n",
       "5    122471.0          3372       125843              0.027            0  \n",
       "6    125102.0          3908       129010              0.030            0  \n",
       "7    125425.0          5821       131246              0.044            0  \n",
       "8    120579.0          9236       129815              0.071            0  \n",
       "9    117504.0          9880       127384              0.078            0  \n",
       "\n",
       "[10 rows x 21 columns]"
      ]
     },
     "execution_count": 97,
     "metadata": {},
     "output_type": "execute_result"
    }
   ],
   "source": [
    "M_df.county = pd.Categorical(M_df.county)\n",
    "M_df[\"county_code\"] = M_df.county.cat.codes\n",
    "M_df.head(10)"
   ]
  },
  {
   "cell_type": "code",
   "execution_count": 98,
   "id": "ce64f53e",
   "metadata": {},
   "outputs": [],
   "source": [
    "# Output clean data.\n",
    "file_path = \"Master_data_ML.csv\"\n",
    "M_df.to_csv(file_path, index=False)"
   ]
  },
  {
   "cell_type": "code",
   "execution_count": 99,
   "id": "dd436e38",
   "metadata": {},
   "outputs": [
    {
     "name": "stdout",
     "output_type": "stream",
     "text": [
      "(1164, 21)\n"
     ]
    }
   ],
   "source": [
    "print(M_df.shape)"
   ]
  },
  {
   "cell_type": "markdown",
   "id": "55454fac",
   "metadata": {},
   "source": [
    "# K-Means Functions"
   ]
  },
  {
   "cell_type": "code",
   "execution_count": 100,
   "id": "2747d3c6",
   "metadata": {},
   "outputs": [],
   "source": [
    "# Function to cluster and plot dataset\n",
    "def test_cluster_amount(df, clusters):\n",
    "    model = KMeans(n_clusters=clusters, random_state=5)\n",
    "    model\n",
    "\n",
    "    # Fitting model\n",
    "    model.fit(df)\n",
    "\n",
    "    # Add a new class column to df_iris\n",
    "    df[\"class\"] = model.labels_"
   ]
  },
  {
   "cell_type": "markdown",
   "id": "35a0ca5c",
   "metadata": {},
   "source": [
    "# Plotting w/Columns"
   ]
  },
  {
   "cell_type": "code",
   "execution_count": 101,
   "id": "36beda8a",
   "metadata": {},
   "outputs": [
    {
     "data": {
      "text/html": [
       "<div>\n",
       "<style scoped>\n",
       "    .dataframe tbody tr th:only-of-type {\n",
       "        vertical-align: middle;\n",
       "    }\n",
       "\n",
       "    .dataframe tbody tr th {\n",
       "        vertical-align: top;\n",
       "    }\n",
       "\n",
       "    .dataframe thead th {\n",
       "        text-align: right;\n",
       "    }\n",
       "</style>\n",
       "<table border=\"1\" class=\"dataframe\">\n",
       "  <thead>\n",
       "    <tr style=\"text-align: right;\">\n",
       "      <th></th>\n",
       "      <th>year</th>\n",
       "      <th>totalpopulation</th>\n",
       "      <th>average_yearly_wage</th>\n",
       "      <th>lowtiermedianhomevalue</th>\n",
       "      <th>hightiermedianhomevalue</th>\n",
       "      <th>singlefamilymedianhomevalue</th>\n",
       "      <th>value_inches</th>\n",
       "      <th>murder</th>\n",
       "      <th>rape</th>\n",
       "      <th>robbery</th>\n",
       "      <th>aggravated_assault</th>\n",
       "      <th>burglary</th>\n",
       "      <th>larceny</th>\n",
       "      <th>motor_vehicle_theft</th>\n",
       "      <th>index_per_100k</th>\n",
       "      <th>employment</th>\n",
       "      <th>unemployment</th>\n",
       "      <th>labor_force</th>\n",
       "      <th>unemployment_rate</th>\n",
       "      <th>county_code</th>\n",
       "    </tr>\n",
       "  </thead>\n",
       "  <tbody>\n",
       "    <tr>\n",
       "      <th>0</th>\n",
       "      <td>2001</td>\n",
       "      <td>222935</td>\n",
       "      <td>26917</td>\n",
       "      <td>72233.0</td>\n",
       "      <td>198921.0</td>\n",
       "      <td>121316.0</td>\n",
       "      <td>45.63</td>\n",
       "      <td>8.0</td>\n",
       "      <td>176.0</td>\n",
       "      <td>453.0</td>\n",
       "      <td>1240.0</td>\n",
       "      <td>2918.0</td>\n",
       "      <td>7736.0</td>\n",
       "      <td>1031.0</td>\n",
       "      <td>6083.0</td>\n",
       "      <td>114284.0</td>\n",
       "      <td>4263</td>\n",
       "      <td>118547</td>\n",
       "      <td>0.036</td>\n",
       "      <td>0</td>\n",
       "    </tr>\n",
       "    <tr>\n",
       "      <th>1</th>\n",
       "      <td>2002</td>\n",
       "      <td>228607</td>\n",
       "      <td>27648</td>\n",
       "      <td>76757.0</td>\n",
       "      <td>210486.0</td>\n",
       "      <td>129499.0</td>\n",
       "      <td>58.40</td>\n",
       "      <td>7.0</td>\n",
       "      <td>189.0</td>\n",
       "      <td>335.0</td>\n",
       "      <td>1264.0</td>\n",
       "      <td>2768.0</td>\n",
       "      <td>7429.0</td>\n",
       "      <td>895.0</td>\n",
       "      <td>5637.0</td>\n",
       "      <td>113387.0</td>\n",
       "      <td>4776</td>\n",
       "      <td>118163</td>\n",
       "      <td>0.040</td>\n",
       "      <td>0</td>\n",
       "    </tr>\n",
       "    <tr>\n",
       "      <th>2</th>\n",
       "      <td>2003</td>\n",
       "      <td>231296</td>\n",
       "      <td>28867</td>\n",
       "      <td>83740.0</td>\n",
       "      <td>228059.0</td>\n",
       "      <td>141447.0</td>\n",
       "      <td>53.70</td>\n",
       "      <td>7.0</td>\n",
       "      <td>160.0</td>\n",
       "      <td>304.0</td>\n",
       "      <td>1413.0</td>\n",
       "      <td>2542.0</td>\n",
       "      <td>6782.0</td>\n",
       "      <td>877.0</td>\n",
       "      <td>5225.0</td>\n",
       "      <td>114641.0</td>\n",
       "      <td>4446</td>\n",
       "      <td>119087</td>\n",
       "      <td>0.037</td>\n",
       "      <td>0</td>\n",
       "    </tr>\n",
       "    <tr>\n",
       "      <th>3</th>\n",
       "      <td>2004</td>\n",
       "      <td>236174</td>\n",
       "      <td>30939</td>\n",
       "      <td>95977.0</td>\n",
       "      <td>260733.0</td>\n",
       "      <td>162329.0</td>\n",
       "      <td>64.46</td>\n",
       "      <td>8.0</td>\n",
       "      <td>194.0</td>\n",
       "      <td>310.0</td>\n",
       "      <td>1325.0</td>\n",
       "      <td>2533.0</td>\n",
       "      <td>6064.0</td>\n",
       "      <td>744.0</td>\n",
       "      <td>4733.0</td>\n",
       "      <td>115973.0</td>\n",
       "      <td>4283</td>\n",
       "      <td>120256</td>\n",
       "      <td>0.036</td>\n",
       "      <td>0</td>\n",
       "    </tr>\n",
       "    <tr>\n",
       "      <th>4</th>\n",
       "      <td>2005</td>\n",
       "      <td>240764</td>\n",
       "      <td>33145</td>\n",
       "      <td>111818.0</td>\n",
       "      <td>301074.0</td>\n",
       "      <td>187998.0</td>\n",
       "      <td>54.20</td>\n",
       "      <td>7.0</td>\n",
       "      <td>233.0</td>\n",
       "      <td>291.0</td>\n",
       "      <td>1511.0</td>\n",
       "      <td>2442.0</td>\n",
       "      <td>6448.0</td>\n",
       "      <td>749.0</td>\n",
       "      <td>4852.0</td>\n",
       "      <td>119924.0</td>\n",
       "      <td>3626</td>\n",
       "      <td>123550</td>\n",
       "      <td>0.029</td>\n",
       "      <td>0</td>\n",
       "    </tr>\n",
       "    <tr>\n",
       "      <th>...</th>\n",
       "      <td>...</td>\n",
       "      <td>...</td>\n",
       "      <td>...</td>\n",
       "      <td>...</td>\n",
       "      <td>...</td>\n",
       "      <td>...</td>\n",
       "      <td>...</td>\n",
       "      <td>...</td>\n",
       "      <td>...</td>\n",
       "      <td>...</td>\n",
       "      <td>...</td>\n",
       "      <td>...</td>\n",
       "      <td>...</td>\n",
       "      <td>...</td>\n",
       "      <td>...</td>\n",
       "      <td>...</td>\n",
       "      <td>...</td>\n",
       "      <td>...</td>\n",
       "      <td>...</td>\n",
       "      <td>...</td>\n",
       "    </tr>\n",
       "    <tr>\n",
       "      <th>1333</th>\n",
       "      <td>2014</td>\n",
       "      <td>24959</td>\n",
       "      <td>32248</td>\n",
       "      <td>44284.0</td>\n",
       "      <td>145775.0</td>\n",
       "      <td>82425.0</td>\n",
       "      <td>64.95</td>\n",
       "      <td>1.0</td>\n",
       "      <td>6.0</td>\n",
       "      <td>5.0</td>\n",
       "      <td>34.0</td>\n",
       "      <td>97.0</td>\n",
       "      <td>241.0</td>\n",
       "      <td>23.0</td>\n",
       "      <td>1631.0</td>\n",
       "      <td>9010.0</td>\n",
       "      <td>671</td>\n",
       "      <td>9681</td>\n",
       "      <td>0.069</td>\n",
       "      <td>66</td>\n",
       "    </tr>\n",
       "    <tr>\n",
       "      <th>1334</th>\n",
       "      <td>2015</td>\n",
       "      <td>24975</td>\n",
       "      <td>33389</td>\n",
       "      <td>48463.0</td>\n",
       "      <td>158784.0</td>\n",
       "      <td>89607.0</td>\n",
       "      <td>63.82</td>\n",
       "      <td>0.0</td>\n",
       "      <td>5.0</td>\n",
       "      <td>7.0</td>\n",
       "      <td>29.0</td>\n",
       "      <td>95.0</td>\n",
       "      <td>230.0</td>\n",
       "      <td>24.0</td>\n",
       "      <td>1562.0</td>\n",
       "      <td>9068.0</td>\n",
       "      <td>580</td>\n",
       "      <td>9648</td>\n",
       "      <td>0.060</td>\n",
       "      <td>66</td>\n",
       "    </tr>\n",
       "    <tr>\n",
       "      <th>1335</th>\n",
       "      <td>2016</td>\n",
       "      <td>24888</td>\n",
       "      <td>33578</td>\n",
       "      <td>51488.0</td>\n",
       "      <td>169044.0</td>\n",
       "      <td>94775.0</td>\n",
       "      <td>61.88</td>\n",
       "      <td>0.0</td>\n",
       "      <td>3.0</td>\n",
       "      <td>6.0</td>\n",
       "      <td>35.0</td>\n",
       "      <td>92.0</td>\n",
       "      <td>225.0</td>\n",
       "      <td>20.0</td>\n",
       "      <td>1531.0</td>\n",
       "      <td>9228.0</td>\n",
       "      <td>504</td>\n",
       "      <td>9732</td>\n",
       "      <td>0.052</td>\n",
       "      <td>66</td>\n",
       "    </tr>\n",
       "    <tr>\n",
       "      <th>1336</th>\n",
       "      <td>2017</td>\n",
       "      <td>24985</td>\n",
       "      <td>34625</td>\n",
       "      <td>55413.0</td>\n",
       "      <td>179823.0</td>\n",
       "      <td>101328.0</td>\n",
       "      <td>57.09</td>\n",
       "      <td>2.0</td>\n",
       "      <td>1.0</td>\n",
       "      <td>4.0</td>\n",
       "      <td>46.0</td>\n",
       "      <td>57.0</td>\n",
       "      <td>235.0</td>\n",
       "      <td>20.0</td>\n",
       "      <td>1461.0</td>\n",
       "      <td>9343.0</td>\n",
       "      <td>432</td>\n",
       "      <td>9775</td>\n",
       "      <td>0.044</td>\n",
       "      <td>66</td>\n",
       "    </tr>\n",
       "    <tr>\n",
       "      <th>1337</th>\n",
       "      <td>2018</td>\n",
       "      <td>25129</td>\n",
       "      <td>35465</td>\n",
       "      <td>59381.0</td>\n",
       "      <td>193713.0</td>\n",
       "      <td>108928.0</td>\n",
       "      <td>73.80</td>\n",
       "      <td>1.0</td>\n",
       "      <td>3.0</td>\n",
       "      <td>3.0</td>\n",
       "      <td>36.0</td>\n",
       "      <td>86.0</td>\n",
       "      <td>164.0</td>\n",
       "      <td>13.0</td>\n",
       "      <td>1218.0</td>\n",
       "      <td>9365.0</td>\n",
       "      <td>384</td>\n",
       "      <td>9749</td>\n",
       "      <td>0.039</td>\n",
       "      <td>66</td>\n",
       "    </tr>\n",
       "  </tbody>\n",
       "</table>\n",
       "<p>1164 rows × 20 columns</p>\n",
       "</div>"
      ],
      "text/plain": [
       "      year  totalpopulation  average_yearly_wage  lowtiermedianhomevalue  \\\n",
       "0     2001           222935                26917                 72233.0   \n",
       "1     2002           228607                27648                 76757.0   \n",
       "2     2003           231296                28867                 83740.0   \n",
       "3     2004           236174                30939                 95977.0   \n",
       "4     2005           240764                33145                111818.0   \n",
       "...    ...              ...                  ...                     ...   \n",
       "1333  2014            24959                32248                 44284.0   \n",
       "1334  2015            24975                33389                 48463.0   \n",
       "1335  2016            24888                33578                 51488.0   \n",
       "1336  2017            24985                34625                 55413.0   \n",
       "1337  2018            25129                35465                 59381.0   \n",
       "\n",
       "      hightiermedianhomevalue  singlefamilymedianhomevalue  value_inches  \\\n",
       "0                    198921.0                     121316.0         45.63   \n",
       "1                    210486.0                     129499.0         58.40   \n",
       "2                    228059.0                     141447.0         53.70   \n",
       "3                    260733.0                     162329.0         64.46   \n",
       "4                    301074.0                     187998.0         54.20   \n",
       "...                       ...                          ...           ...   \n",
       "1333                 145775.0                      82425.0         64.95   \n",
       "1334                 158784.0                      89607.0         63.82   \n",
       "1335                 169044.0                      94775.0         61.88   \n",
       "1336                 179823.0                     101328.0         57.09   \n",
       "1337                 193713.0                     108928.0         73.80   \n",
       "\n",
       "      murder   rape  robbery  aggravated_assault  burglary  larceny  \\\n",
       "0        8.0  176.0    453.0              1240.0    2918.0   7736.0   \n",
       "1        7.0  189.0    335.0              1264.0    2768.0   7429.0   \n",
       "2        7.0  160.0    304.0              1413.0    2542.0   6782.0   \n",
       "3        8.0  194.0    310.0              1325.0    2533.0   6064.0   \n",
       "4        7.0  233.0    291.0              1511.0    2442.0   6448.0   \n",
       "...      ...    ...      ...                 ...       ...      ...   \n",
       "1333     1.0    6.0      5.0                34.0      97.0    241.0   \n",
       "1334     0.0    5.0      7.0                29.0      95.0    230.0   \n",
       "1335     0.0    3.0      6.0                35.0      92.0    225.0   \n",
       "1336     2.0    1.0      4.0                46.0      57.0    235.0   \n",
       "1337     1.0    3.0      3.0                36.0      86.0    164.0   \n",
       "\n",
       "      motor_vehicle_theft  index_per_100k  employment  unemployment  \\\n",
       "0                  1031.0          6083.0    114284.0          4263   \n",
       "1                   895.0          5637.0    113387.0          4776   \n",
       "2                   877.0          5225.0    114641.0          4446   \n",
       "3                   744.0          4733.0    115973.0          4283   \n",
       "4                   749.0          4852.0    119924.0          3626   \n",
       "...                   ...             ...         ...           ...   \n",
       "1333                 23.0          1631.0      9010.0           671   \n",
       "1334                 24.0          1562.0      9068.0           580   \n",
       "1335                 20.0          1531.0      9228.0           504   \n",
       "1336                 20.0          1461.0      9343.0           432   \n",
       "1337                 13.0          1218.0      9365.0           384   \n",
       "\n",
       "      labor_force  unemployment_rate  county_code  \n",
       "0          118547              0.036            0  \n",
       "1          118163              0.040            0  \n",
       "2          119087              0.037            0  \n",
       "3          120256              0.036            0  \n",
       "4          123550              0.029            0  \n",
       "...           ...                ...          ...  \n",
       "1333         9681              0.069           66  \n",
       "1334         9648              0.060           66  \n",
       "1335         9732              0.052           66  \n",
       "1336         9775              0.044           66  \n",
       "1337         9749              0.039           66  \n",
       "\n",
       "[1164 rows x 20 columns]"
      ]
     },
     "execution_count": 101,
     "metadata": {},
     "output_type": "execute_result"
    }
   ],
   "source": [
    "# Use new instance for plotting with Kmeans\n",
    "MK_df= M_df.drop(columns=[\"county\"])\n",
    "MK_df"
   ]
  },
  {
   "cell_type": "markdown",
   "id": "5b812da0",
   "metadata": {},
   "source": [
    "#### Elbow Curve"
   ]
  },
  {
   "cell_type": "code",
   "execution_count": 102,
   "id": "f947ac97",
   "metadata": {
    "scrolled": true
   },
   "outputs": [
    {
     "data": {},
     "metadata": {},
     "output_type": "display_data"
    },
    {
     "data": {
      "application/vnd.holoviews_exec.v0+json": "",
      "text/html": [
       "<div id='1900'>\n",
       "\n",
       "\n",
       "\n",
       "\n",
       "\n",
       "  <div class=\"bk-root\" id=\"4f39fd5b-2ab8-41ac-9f5f-c7320c175396\" data-root-id=\"1900\"></div>\n",
       "</div>\n",
       "<script type=\"application/javascript\">(function(root) {\n",
       "  function embed_document(root) {\n",
       "    var docs_json = {\"15d12627-f5a1-4e1d-8f01-0f17d7829920\":{\"defs\":[{\"extends\":null,\"module\":null,\"name\":\"ReactiveHTML1\",\"overrides\":[],\"properties\":[]},{\"extends\":null,\"module\":null,\"name\":\"FlexBox1\",\"overrides\":[],\"properties\":[{\"default\":\"flex-start\",\"kind\":null,\"name\":\"align_content\"},{\"default\":\"flex-start\",\"kind\":null,\"name\":\"align_items\"},{\"default\":\"row\",\"kind\":null,\"name\":\"flex_direction\"},{\"default\":\"wrap\",\"kind\":null,\"name\":\"flex_wrap\"},{\"default\":\"flex-start\",\"kind\":null,\"name\":\"justify_content\"}]},{\"extends\":null,\"module\":null,\"name\":\"TemplateActions1\",\"overrides\":[],\"properties\":[{\"default\":0,\"kind\":null,\"name\":\"open_modal\"},{\"default\":0,\"kind\":null,\"name\":\"close_modal\"}]},{\"extends\":null,\"module\":null,\"name\":\"MaterialTemplateActions1\",\"overrides\":[],\"properties\":[{\"default\":0,\"kind\":null,\"name\":\"open_modal\"},{\"default\":0,\"kind\":null,\"name\":\"close_modal\"}]}],\"roots\":{\"references\":[{\"attributes\":{\"margin\":[5,5,5,5],\"name\":\"HSpacer03148\",\"sizing_mode\":\"stretch_width\"},\"id\":\"1971\",\"type\":\"Spacer\"},{\"attributes\":{},\"id\":\"1910\",\"type\":\"LinearScale\"},{\"attributes\":{},\"id\":\"1926\",\"type\":\"ResetTool\"},{\"attributes\":{},\"id\":\"1951\",\"type\":\"BasicTickFormatter\"},{\"attributes\":{\"source\":{\"id\":\"1935\"}},\"id\":\"1942\",\"type\":\"CDSView\"},{\"attributes\":{\"text\":\"Elbow Curve\",\"text_color\":\"black\",\"text_font_size\":\"12pt\"},\"id\":\"1906\",\"type\":\"Title\"},{\"attributes\":{},\"id\":\"1946\",\"type\":\"BasicTickFormatter\"},{\"attributes\":{},\"id\":\"1919\",\"type\":\"BasicTicker\"},{\"attributes\":{\"end\":427885359194209.6,\"reset_end\":427885359194209.6,\"reset_start\":-23782941920461.047,\"start\":-23782941920461.047,\"tags\":[[[\"inertia\",\"inertia\",null]]]},\"id\":\"1903\",\"type\":\"Range1d\"},{\"attributes\":{\"line_alpha\":0.2,\"line_color\":\"#30a2da\",\"line_width\":2,\"x\":{\"field\":\"k\"},\"y\":{\"field\":\"inertia\"}},\"id\":\"1940\",\"type\":\"Line\"},{\"attributes\":{},\"id\":\"1952\",\"type\":\"AllLabels\"},{\"attributes\":{\"line_alpha\":0.1,\"line_color\":\"#30a2da\",\"line_width\":2,\"x\":{\"field\":\"k\"},\"y\":{\"field\":\"inertia\"}},\"id\":\"1939\",\"type\":\"Line\"},{\"attributes\":{\"below\":[{\"id\":\"1914\"}],\"center\":[{\"id\":\"1917\"},{\"id\":\"1921\"}],\"height\":300,\"left\":[{\"id\":\"1918\"}],\"margin\":[5,5,5,5],\"min_border_bottom\":10,\"min_border_left\":10,\"min_border_right\":10,\"min_border_top\":10,\"renderers\":[{\"id\":\"1941\"}],\"sizing_mode\":\"fixed\",\"title\":{\"id\":\"1906\"},\"toolbar\":{\"id\":\"1928\"},\"width\":700,\"x_range\":{\"id\":\"1902\"},\"x_scale\":{\"id\":\"1910\"},\"y_range\":{\"id\":\"1903\"},\"y_scale\":{\"id\":\"1912\"}},\"id\":\"1905\",\"subtype\":\"Figure\",\"type\":\"Plot\"},{\"attributes\":{\"axis_label\":\"inertia\",\"formatter\":{\"id\":\"1951\"},\"major_label_policy\":{\"id\":\"1952\"},\"ticker\":{\"id\":\"1919\"}},\"id\":\"1918\",\"type\":\"LinearAxis\"},{\"attributes\":{},\"id\":\"1936\",\"type\":\"Selection\"},{\"attributes\":{},\"id\":\"1959\",\"type\":\"UnionRenderers\"},{\"attributes\":{\"axis\":{\"id\":\"1914\"},\"grid_line_color\":null,\"ticker\":null},\"id\":\"1917\",\"type\":\"Grid\"},{\"attributes\":{\"line_color\":\"#30a2da\",\"line_width\":2,\"x\":{\"field\":\"k\"},\"y\":{\"field\":\"inertia\"}},\"id\":\"1938\",\"type\":\"Line\"},{\"attributes\":{},\"id\":\"1922\",\"type\":\"SaveTool\"},{\"attributes\":{\"data_source\":{\"id\":\"1935\"},\"glyph\":{\"id\":\"1938\"},\"hover_glyph\":null,\"muted_glyph\":{\"id\":\"1940\"},\"nonselection_glyph\":{\"id\":\"1939\"},\"selection_glyph\":{\"id\":\"1943\"},\"view\":{\"id\":\"1942\"}},\"id\":\"1941\",\"type\":\"GlyphRenderer\"},{\"attributes\":{\"axis_label\":\"k\",\"formatter\":{\"id\":\"1946\"},\"major_label_policy\":{\"id\":\"1947\"},\"ticker\":{\"id\":\"1944\"}},\"id\":\"1914\",\"type\":\"LinearAxis\"},{\"attributes\":{},\"id\":\"1912\",\"type\":\"LinearScale\"},{\"attributes\":{},\"id\":\"1924\",\"type\":\"WheelZoomTool\"},{\"attributes\":{\"data\":{\"inertia\":{\"__ndarray__\":\"hnTn4dQu9kKMxhYVrlPdQjoiuwfPbtNC6AHZlKOGyEICe9hMRhXBQrDKAvMOt7tCxpzhKOMxtkKkWjzImEKyQnsUHI8c96xCWZi41D00qUI=\",\"dtype\":\"float64\",\"order\":\"little\",\"shape\":[10]},\"k\":[1,2,3,4,5,6,7,8,9,10]},\"selected\":{\"id\":\"1936\"},\"selection_policy\":{\"id\":\"1959\"}},\"id\":\"1935\",\"type\":\"ColumnDataSource\"},{\"attributes\":{},\"id\":\"1923\",\"type\":\"PanTool\"},{\"attributes\":{\"end\":10.0,\"reset_end\":10.0,\"reset_start\":1.0,\"start\":1.0,\"tags\":[[[\"k\",\"k\",null]]]},\"id\":\"1902\",\"type\":\"Range1d\"},{\"attributes\":{\"active_multi\":null,\"tools\":[{\"id\":\"1904\"},{\"id\":\"1922\"},{\"id\":\"1923\"},{\"id\":\"1924\"},{\"id\":\"1925\"},{\"id\":\"1926\"}]},\"id\":\"1928\",\"type\":\"Toolbar\"},{\"attributes\":{\"overlay\":{\"id\":\"1927\"}},\"id\":\"1925\",\"type\":\"BoxZoomTool\"},{\"attributes\":{\"bottom_units\":\"screen\",\"fill_alpha\":0.5,\"fill_color\":\"lightgrey\",\"left_units\":\"screen\",\"level\":\"overlay\",\"line_alpha\":1.0,\"line_color\":\"black\",\"line_dash\":[4,4],\"line_width\":2,\"right_units\":\"screen\",\"syncable\":false,\"top_units\":\"screen\"},\"id\":\"1927\",\"type\":\"BoxAnnotation\"},{\"attributes\":{\"callback\":null,\"renderers\":[{\"id\":\"1941\"}],\"tags\":[\"hv_created\"],\"tooltips\":[[\"k\",\"@{k}\"],[\"inertia\",\"@{inertia}\"]]},\"id\":\"1904\",\"type\":\"HoverTool\"},{\"attributes\":{},\"id\":\"1947\",\"type\":\"AllLabels\"},{\"attributes\":{\"ticks\":[1,2,3,4,5,6,7,8,9,10]},\"id\":\"1944\",\"type\":\"FixedTicker\"},{\"attributes\":{\"children\":[{\"id\":\"1901\"},{\"id\":\"1905\"},{\"id\":\"1971\"}],\"margin\":[0,0,0,0],\"name\":\"Row03143\",\"tags\":[\"embedded\"]},\"id\":\"1900\",\"type\":\"Row\"},{\"attributes\":{\"margin\":[5,5,5,5],\"name\":\"HSpacer03147\",\"sizing_mode\":\"stretch_width\"},\"id\":\"1901\",\"type\":\"Spacer\"},{\"attributes\":{\"line_color\":\"#30a2da\",\"line_width\":2,\"x\":{\"field\":\"k\"},\"y\":{\"field\":\"inertia\"}},\"id\":\"1943\",\"type\":\"Line\"},{\"attributes\":{\"axis\":{\"id\":\"1918\"},\"dimension\":1,\"grid_line_color\":null,\"ticker\":null},\"id\":\"1921\",\"type\":\"Grid\"}],\"root_ids\":[\"1900\"]},\"title\":\"Bokeh Application\",\"version\":\"2.3.2\"}};\n",
       "    var render_items = [{\"docid\":\"15d12627-f5a1-4e1d-8f01-0f17d7829920\",\"root_ids\":[\"1900\"],\"roots\":{\"1900\":\"4f39fd5b-2ab8-41ac-9f5f-c7320c175396\"}}];\n",
       "    root.Bokeh.embed.embed_items_notebook(docs_json, render_items);\n",
       "  }\n",
       "  if (root.Bokeh !== undefined && root.Bokeh.Panel !== undefined) {\n",
       "    embed_document(root);\n",
       "  } else {\n",
       "    var attempts = 0;\n",
       "    var timer = setInterval(function(root) {\n",
       "      if (root.Bokeh !== undefined && root.Bokeh.Panel !== undefined) {\n",
       "        clearInterval(timer);\n",
       "        embed_document(root);\n",
       "      } else if (document.readyState == \"complete\") {\n",
       "        attempts++;\n",
       "        if (attempts > 200) {\n",
       "          clearInterval(timer);\n",
       "          console.log(\"Bokeh: ERROR: Unable to run BokehJS code because BokehJS library is missing\");\n",
       "        }\n",
       "      }\n",
       "    }, 25, root)\n",
       "  }\n",
       "})(window);</script>"
      ],
      "text/plain": [
       ":Curve   [k]   (inertia)"
      ]
     },
     "execution_count": 102,
     "metadata": {
      "application/vnd.holoviews_exec.v0+json": {
       "id": "1900"
      }
     },
     "output_type": "execute_result"
    }
   ],
   "source": [
    "inertia = []\n",
    "k = list(range(1, 11))\n",
    "\n",
    "# Calculate the inertia for the range of K values\n",
    "for i in k:\n",
    "    km = KMeans(n_clusters=i, random_state=0)\n",
    "    km.fit(MK_df)\n",
    "    inertia.append(km.inertia_)\n",
    "\n",
    "# Define a DataFrame to plot the Elbow Curve using hvPlot\n",
    "elbow_data = {\"k\": k, \"inertia\": inertia}\n",
    "df_elbow = pd.DataFrame(elbow_data)\n",
    "df_elbow.hvplot.line(x=\"k\", y=\"inertia\", title=\"Elbow Curve\", xticks=k)"
   ]
  },
  {
   "cell_type": "markdown",
   "id": "8edc32ac",
   "metadata": {},
   "source": [
    "#### 2D Plotting"
   ]
  },
  {
   "cell_type": "code",
   "execution_count": 103,
   "id": "7ff8afb2",
   "metadata": {
    "scrolled": true
   },
   "outputs": [
    {
     "data": {},
     "metadata": {},
     "output_type": "display_data"
    },
    {
     "data": {
      "application/vnd.holoviews_exec.v0+json": "",
      "text/html": [
       "<div id='2018'>\n",
       "\n",
       "\n",
       "\n",
       "\n",
       "\n",
       "  <div class=\"bk-root\" id=\"7fd71b48-61ed-4446-bef0-65cbbfcb951a\" data-root-id=\"2018\"></div>\n",
       "</div>\n",
       "<script type=\"application/javascript\">(function(root) {\n",
       "  function embed_document(root) {\n",
       "    var docs_json = {\"2ec54cf8-136e-4f11-9f9f-e26c535085c7\":{\"defs\":[{\"extends\":null,\"module\":null,\"name\":\"ReactiveHTML1\",\"overrides\":[],\"properties\":[]},{\"extends\":null,\"module\":null,\"name\":\"FlexBox1\",\"overrides\":[],\"properties\":[{\"default\":\"flex-start\",\"kind\":null,\"name\":\"align_content\"},{\"default\":\"flex-start\",\"kind\":null,\"name\":\"align_items\"},{\"default\":\"row\",\"kind\":null,\"name\":\"flex_direction\"},{\"default\":\"wrap\",\"kind\":null,\"name\":\"flex_wrap\"},{\"default\":\"flex-start\",\"kind\":null,\"name\":\"justify_content\"}]},{\"extends\":null,\"module\":null,\"name\":\"TemplateActions1\",\"overrides\":[],\"properties\":[{\"default\":0,\"kind\":null,\"name\":\"open_modal\"},{\"default\":0,\"kind\":null,\"name\":\"close_modal\"}]},{\"extends\":null,\"module\":null,\"name\":\"MaterialTemplateActions1\",\"overrides\":[],\"properties\":[{\"default\":0,\"kind\":null,\"name\":\"open_modal\"},{\"default\":0,\"kind\":null,\"name\":\"close_modal\"}]}],\"roots\":{\"references\":[{\"attributes\":{},\"id\":\"2105\",\"type\":\"Selection\"},{\"attributes\":{\"data\":{\"average_yearly_wage\":[33966,34475,35911,37905,39378,41276,42087,42718,43159,43811,44469,45051,45598,47012,48767,49548,51259,52977,34524,35694,36889,38849,40599,42975,44228,45142,45231,45653,46438,47011,47458,48883,50527,51259,52961,54800],\"class\":[1,1,1,1,1,1,1,1,1,1,1,1,1,1,1,1,1,1,1,1,1,1,1,1,1,1,1,1,1,1,1,1,1,1,1,1],\"unemployment_rate\":{\"__ndarray__\":\"qvHSTWIQqD+4HoXrUbiuPylcj8L1KKw/qvHSTWIQqD+LbOf7qfGiP1g5tMh2vp8/O99PjZduoj956SYxCKysP7Kd76fGS7c/SgwCK4cWuT+q8dJNYhC4P8uhRbbz/bQ/kxgEVg4tsj8IrBxaZDuvPzm0yHa+n6o/CtejcD0Kpz97FK5H4XqkP5zEILByaKE/CtejcD0Kpz9qvHSTGASmP4ts5/up8aI/WDm0yHa+nz/6fmq8dJOYPxsv3SQGgZU/2c73U+Olmz+6SQwCK4emP7Kd76fGS7c/wcqhRbbzvT/6fmq8dJO4P9NNYhBYObQ/2/l+arx0sz+cxCCwcmixPwisHFpkO68/KVyPwvUorD9aZDvfT42nPzvfT42XbqI/\",\"dtype\":\"float64\",\"order\":\"little\",\"shape\":[36]}},\"selected\":{\"id\":\"2083\"},\"selection_policy\":{\"id\":\"2099\"}},\"id\":\"2082\",\"type\":\"ColumnDataSource\"},{\"attributes\":{\"axis\":{\"id\":\"2034\"},\"grid_line_color\":null,\"ticker\":null},\"id\":\"2037\",\"type\":\"Grid\"},{\"attributes\":{\"source\":{\"id\":\"2104\"}},\"id\":\"2111\",\"type\":\"CDSView\"},{\"attributes\":{\"margin\":[5,5,5,5],\"name\":\"HSpacer03396\",\"sizing_mode\":\"stretch_width\"},\"id\":\"2254\",\"type\":\"Spacer\"},{\"attributes\":{},\"id\":\"2035\",\"type\":\"BasicTicker\"},{\"attributes\":{},\"id\":\"2076\",\"type\":\"UnionRenderers\"},{\"attributes\":{\"axis_label\":\"average_yearly_wage\",\"formatter\":{\"id\":\"2059\"},\"major_label_policy\":{\"id\":\"2060\"},\"ticker\":{\"id\":\"2039\"}},\"id\":\"2038\",\"type\":\"LinearAxis\"},{\"attributes\":{\"axis_label\":\"unemployment_rate\",\"formatter\":{\"id\":\"2056\"},\"major_label_policy\":{\"id\":\"2057\"},\"ticker\":{\"id\":\"2035\"}},\"id\":\"2034\",\"type\":\"LinearAxis\"},{\"attributes\":{\"fill_alpha\":{\"value\":0.1},\"fill_color\":{\"value\":\"#30a2da\"},\"line_alpha\":{\"value\":0.1},\"line_color\":{\"value\":\"#30a2da\"},\"size\":{\"value\":5.477225575051661},\"x\":{\"field\":\"unemployment_rate\"},\"y\":{\"field\":\"average_yearly_wage\"}},\"id\":\"2065\",\"type\":\"Scatter\"},{\"attributes\":{\"fill_color\":{\"value\":\"#30a2da\"},\"line_color\":{\"value\":\"#30a2da\"},\"size\":{\"value\":5.477225575051661},\"x\":{\"field\":\"unemployment_rate\"},\"y\":{\"field\":\"average_yearly_wage\"}},\"id\":\"2064\",\"type\":\"Scatter\"},{\"attributes\":{\"label\":{\"value\":\"0\"},\"renderers\":[{\"id\":\"2067\"}]},\"id\":\"2080\",\"type\":\"LegendItem\"},{\"attributes\":{\"data_source\":{\"id\":\"2104\"},\"glyph\":{\"id\":\"2107\"},\"hover_glyph\":null,\"muted_glyph\":{\"id\":\"2109\"},\"nonselection_glyph\":{\"id\":\"2108\"},\"selection_glyph\":{\"id\":\"2127\"},\"view\":{\"id\":\"2111\"}},\"id\":\"2110\",\"type\":\"GlyphRenderer\"},{\"attributes\":{},\"id\":\"2056\",\"type\":\"BasicTickFormatter\"},{\"attributes\":{\"source\":{\"id\":\"2082\"}},\"id\":\"2089\",\"type\":\"CDSView\"},{\"attributes\":{\"data_source\":{\"id\":\"2061\"},\"glyph\":{\"id\":\"2064\"},\"hover_glyph\":null,\"muted_glyph\":{\"id\":\"2066\"},\"nonselection_glyph\":{\"id\":\"2065\"},\"selection_glyph\":{\"id\":\"2081\"},\"view\":{\"id\":\"2068\"}},\"id\":\"2067\",\"type\":\"GlyphRenderer\"},{\"attributes\":{\"data_source\":{\"id\":\"2082\"},\"glyph\":{\"id\":\"2085\"},\"hover_glyph\":null,\"muted_glyph\":{\"id\":\"2087\"},\"nonselection_glyph\":{\"id\":\"2086\"},\"selection_glyph\":{\"id\":\"2103\"},\"view\":{\"id\":\"2089\"}},\"id\":\"2088\",\"type\":\"GlyphRenderer\"},{\"attributes\":{\"active_multi\":null,\"tools\":[{\"id\":\"2022\"},{\"id\":\"2042\"},{\"id\":\"2043\"},{\"id\":\"2044\"},{\"id\":\"2045\"},{\"id\":\"2046\"}]},\"id\":\"2048\",\"type\":\"Toolbar\"},{\"attributes\":{\"angle\":{\"value\":0.0},\"fill_alpha\":{\"value\":1.0},\"fill_color\":{\"value\":\"#e5ae38\"},\"hatch_alpha\":{\"value\":1.0},\"hatch_color\":{\"value\":\"black\"},\"hatch_scale\":{\"value\":12.0},\"hatch_weight\":{\"value\":1.0},\"line_alpha\":{\"value\":1.0},\"line_cap\":{\"value\":\"butt\"},\"line_color\":{\"value\":\"#e5ae38\"},\"line_dash\":{\"value\":[]},\"line_dash_offset\":{\"value\":0},\"line_join\":{\"value\":\"bevel\"},\"line_width\":{\"value\":1},\"marker\":{\"value\":\"circle\"},\"size\":{\"value\":5.477225575051661},\"x\":{\"field\":\"unemployment_rate\"},\"y\":{\"field\":\"average_yearly_wage\"}},\"id\":\"2127\",\"type\":\"Scatter\"},{\"attributes\":{\"click_policy\":\"mute\",\"items\":[{\"id\":\"2080\"},{\"id\":\"2102\"},{\"id\":\"2126\"}],\"location\":[0,0],\"title\":\"class\"},\"id\":\"2079\",\"type\":\"Legend\"},{\"attributes\":{\"axis\":{\"id\":\"2038\"},\"dimension\":1,\"grid_line_color\":null,\"ticker\":null},\"id\":\"2041\",\"type\":\"Grid\"},{\"attributes\":{},\"id\":\"2039\",\"type\":\"BasicTicker\"},{\"attributes\":{},\"id\":\"2099\",\"type\":\"UnionRenderers\"},{\"attributes\":{},\"id\":\"2030\",\"type\":\"LinearScale\"},{\"attributes\":{\"data\":{\"average_yearly_wage\":[48469,49685,33721,35279,37027,38635,40095,42232,43641,43724,44006,45084,45556,47027,47481,48811,49682,50569,51828,53569,32874,33936,35777,37448,38450,40397,41756,43298,44722,45133,46078,46893,47408,48388,49914,51197,52651,54564,35649,37065,37658,37866,37641,37602,38192,38628,38883,39616,40921,41884,43501,44827,32218,33650,34630,36446,37701,39180,40185,41046,41048,41487,42058,42857,43145,44422,46014,46990,48203,49952,35957,36550,37632,38873,40464,41938,43777,44464,45014,45833,46322,47769,48214,49845,51328,51834,53493,54787,31742,32160,33117,34311,35586,36960,38009,39285,39961,41102,42370,43960,43494,44758,46044,46938,47743,49283,34394,35195,35485,35676,36189,36954,37485,38504,39354,40245,41387,42378],\"class\":[2,2,2,2,2,2,2,2,2,2,2,2,2,2,2,2,2,2,2,2,2,2,2,2,2,2,2,2,2,2,2,2,2,2,2,2,2,2,2,2,2,2,2,2,2,2,2,2,2,2,2,2,2,2,2,2,2,2,2,2,2,2,2,2,2,2,2,2,2,2,2,2,2,2,2,2,2,2,2,2,2,2,2,2,2,2,2,2,2,2,2,2,2,2,2,2,2,2,2,2,2,2,2,2,2,2,2,2,2,2,2,2,2,2,2,2,2,2],\"unemployment_rate\":{\"__ndarray__\":\"ukkMAiuHpj8730+Nl26iP7pJDAIrh6Y/yXa+nxovrT8pXI/C9SisP+kmMQisHKo/exSuR+F6pD/sUbgeheuhPxsv3SQGgaU//Knx0k1isD/hehSuR+G6Pylcj8L1KLw/6SYxCKwcuj8K16NwPQq3PyuHFtnO97M/RIts5/upsT9oke18PzWuP5qZmZmZmak/arx0kxgEpj+LbOf7qfGiP2q8dJMYBKY/KVyPwvUorD85tMh2vp+qPwrXo3A9Cqc/2/l+arx0oz9MN4lBYOWgPxsv3SQGgaU/pHA9CtejsD+JQWDl0CK7Pzm0yHa+n7o/+n5qvHSTuD8j2/l+ary0P0SLbOf7qbE/uB6F61G4rj/pJjEIrByqPwrXo3A9Cqc/exSuR+F6pD/sUbgeheuhP/yp8dJNYqA/GQRWDi2ynT+q8dJNYhCoP3Noke18P7U/sHJoke18vz9g5dAi2/m+P9nO91Pjpbs/sp3vp8ZLtz/b+X5qvHSzP1g5tMh2vq8/ObTIdr6fqj+q8dJNYhCoP8uhRbbz/aQ/7FG4HoXroT+6SQwCK4emPxkEVg4tsq0/iUFg5dAiqz9aZDvfT42nPzvfT42XbqI/WDm0yHa+nz/b+X5qvHSjP7gehetRuK4/ObTIdr6fuj/hehSuR+G6P0oMAiuHFrk/w/UoXI/CtT+TGARWDi2yP7gehetRuK4/6SYxCKwcqj+6SQwCK4emP9v5fmq8dKM/TDeJQWDloD85tMh2vp+qP1TjpZvEILA/aJHtfD81rj+JQWDl0CKrP2q8dJMYBKY/i2zn+6nxoj+6SQwCK4emP5zEILByaLE/MQisHFpkuz+JQWDl0CK7P5qZmZmZmbk/ukkMAiuHtj8zMzMzMzOzP7gehetRuK4/ObTIdr6fqj+q8dJNYhCoPxsv3SQGgaU/i2zn+6nxoj8K16NwPQqnPxkEVg4tsq0/2c73U+Olqz9aZDvfT42nPyuHFtnO96M/nMQgsHJooT8bL90kBoGlP0w3iUFg5bA/2c73U+Oluz/hehSuR+G6P6JFtvP91Lg/y6FFtvP9tD9Ei2zn+6mxP2iR7Xw/Na4/mpmZmZmZqT+6SQwCK4emPyuHFtnO96M/nMQgsHJooT9aZDvfT42nP0SLbOf7qbE/IbByaJHtvD9oke18PzW+P3npJjEIrLw/8tJNYhBYuT9qvHSTGAS2P4ts5/up8bI//Knx0k1isD956SYxCKysP/p+arx0k6g/Gy/dJAaBpT8=\",\"dtype\":\"float64\",\"order\":\"little\",\"shape\":[118]}},\"selected\":{\"id\":\"2105\"},\"selection_policy\":{\"id\":\"2123\"}},\"id\":\"2104\",\"type\":\"ColumnDataSource\"},{\"attributes\":{\"label\":{\"value\":\"1\"},\"renderers\":[{\"id\":\"2088\"}]},\"id\":\"2102\",\"type\":\"LegendItem\"},{\"attributes\":{\"fill_alpha\":{\"value\":0.1},\"fill_color\":{\"value\":\"#fc4f30\"},\"line_alpha\":{\"value\":0.1},\"line_color\":{\"value\":\"#fc4f30\"},\"size\":{\"value\":5.477225575051661},\"x\":{\"field\":\"unemployment_rate\"},\"y\":{\"field\":\"average_yearly_wage\"}},\"id\":\"2086\",\"type\":\"Scatter\"},{\"attributes\":{\"bottom_units\":\"screen\",\"fill_alpha\":0.5,\"fill_color\":\"lightgrey\",\"left_units\":\"screen\",\"level\":\"overlay\",\"line_alpha\":1.0,\"line_color\":\"black\",\"line_dash\":[4,4],\"line_width\":2,\"right_units\":\"screen\",\"syncable\":false,\"top_units\":\"screen\"},\"id\":\"2047\",\"type\":\"BoxAnnotation\"},{\"attributes\":{\"source\":{\"id\":\"2061\"}},\"id\":\"2068\",\"type\":\"CDSView\"},{\"attributes\":{\"angle\":{\"value\":0.0},\"fill_alpha\":{\"value\":1.0},\"fill_color\":{\"value\":\"#fc4f30\"},\"hatch_alpha\":{\"value\":1.0},\"hatch_color\":{\"value\":\"black\"},\"hatch_scale\":{\"value\":12.0},\"hatch_weight\":{\"value\":1.0},\"line_alpha\":{\"value\":1.0},\"line_cap\":{\"value\":\"butt\"},\"line_color\":{\"value\":\"#fc4f30\"},\"line_dash\":{\"value\":[]},\"line_dash_offset\":{\"value\":0},\"line_join\":{\"value\":\"bevel\"},\"line_width\":{\"value\":1},\"marker\":{\"value\":\"circle\"},\"size\":{\"value\":5.477225575051661},\"x\":{\"field\":\"unemployment_rate\"},\"y\":{\"field\":\"average_yearly_wage\"}},\"id\":\"2103\",\"type\":\"Scatter\"},{\"attributes\":{},\"id\":\"2059\",\"type\":\"BasicTickFormatter\"},{\"attributes\":{\"fill_alpha\":{\"value\":0.2},\"fill_color\":{\"value\":\"#30a2da\"},\"line_alpha\":{\"value\":0.2},\"line_color\":{\"value\":\"#30a2da\"},\"size\":{\"value\":5.477225575051661},\"x\":{\"field\":\"unemployment_rate\"},\"y\":{\"field\":\"average_yearly_wage\"}},\"id\":\"2066\",\"type\":\"Scatter\"},{\"attributes\":{\"end\":0.15239999999999998,\"reset_end\":0.15239999999999998,\"reset_start\":0.015600000000000001,\"start\":0.015600000000000001,\"tags\":[[[\"unemployment_rate\",\"unemployment_rate\",null]]]},\"id\":\"2020\",\"type\":\"Range1d\"},{\"attributes\":{},\"id\":\"2060\",\"type\":\"AllLabels\"},{\"attributes\":{\"margin\":[5,5,5,5],\"name\":\"HSpacer03395\",\"sizing_mode\":\"stretch_width\"},\"id\":\"2019\",\"type\":\"Spacer\"},{\"attributes\":{},\"id\":\"2032\",\"type\":\"LinearScale\"},{\"attributes\":{\"fill_color\":{\"value\":\"#fc4f30\"},\"line_color\":{\"value\":\"#fc4f30\"},\"size\":{\"value\":5.477225575051661},\"x\":{\"field\":\"unemployment_rate\"},\"y\":{\"field\":\"average_yearly_wage\"}},\"id\":\"2085\",\"type\":\"Scatter\"},{\"attributes\":{},\"id\":\"2123\",\"type\":\"UnionRenderers\"},{\"attributes\":{\"angle\":{\"value\":0.0},\"fill_alpha\":{\"value\":1.0},\"fill_color\":{\"value\":\"#30a2da\"},\"hatch_alpha\":{\"value\":1.0},\"hatch_color\":{\"value\":\"black\"},\"hatch_scale\":{\"value\":12.0},\"hatch_weight\":{\"value\":1.0},\"line_alpha\":{\"value\":1.0},\"line_cap\":{\"value\":\"butt\"},\"line_color\":{\"value\":\"#30a2da\"},\"line_dash\":{\"value\":[]},\"line_dash_offset\":{\"value\":0},\"line_join\":{\"value\":\"bevel\"},\"line_width\":{\"value\":1},\"marker\":{\"value\":\"circle\"},\"size\":{\"value\":5.477225575051661},\"x\":{\"field\":\"unemployment_rate\"},\"y\":{\"field\":\"average_yearly_wage\"}},\"id\":\"2081\",\"type\":\"Scatter\"},{\"attributes\":{\"fill_alpha\":{\"value\":0.2},\"fill_color\":{\"value\":\"#fc4f30\"},\"line_alpha\":{\"value\":0.2},\"line_color\":{\"value\":\"#fc4f30\"},\"size\":{\"value\":5.477225575051661},\"x\":{\"field\":\"unemployment_rate\"},\"y\":{\"field\":\"average_yearly_wage\"}},\"id\":\"2087\",\"type\":\"Scatter\"},{\"attributes\":{},\"id\":\"2042\",\"type\":\"SaveTool\"},{\"attributes\":{\"fill_color\":{\"value\":\"#e5ae38\"},\"line_color\":{\"value\":\"#e5ae38\"},\"size\":{\"value\":5.477225575051661},\"x\":{\"field\":\"unemployment_rate\"},\"y\":{\"field\":\"average_yearly_wage\"}},\"id\":\"2107\",\"type\":\"Scatter\"},{\"attributes\":{\"callback\":null,\"renderers\":[{\"id\":\"2067\"},{\"id\":\"2088\"},{\"id\":\"2110\"}],\"tags\":[\"hv_created\"],\"tooltips\":[[\"class\",\"@{class}\"],[\"unemployment_rate\",\"@{unemployment_rate}\"],[\"average_yearly_wage\",\"@{average_yearly_wage}\"]]},\"id\":\"2022\",\"type\":\"HoverTool\"},{\"attributes\":{},\"id\":\"2043\",\"type\":\"PanTool\"},{\"attributes\":{\"data\":{\"average_yearly_wage\":[26917,27648,28867,30939,33145,34748,36456,37469,39080,39688,40775,41588,42691,43598,44257,45705,47858,23903,24108,25370,26503,27483,28143,28338,29124,29509,29649,30733,30616,30955,31589,31746,32118,33240,33877,26433,27448,29127,30257,31894,33341,33950,34361,34857,35948,35906,35546,35755,36828,37790,38770,39317,40652,26350,27106,27179,28489,29666,29425,30034,30670,30880,30769,30838,31467,32678,34199,35763,35692,35630,37468,32798,33913,35280,37912,38287,39778,40975,42089,43111,43770,44185,44153,44364,44484,45978,46778,24620,26709,27445,27291,27601,27999,27861,29194,29469,29911,30811,29059,32057,32746,25404,26119,25627,29998,31937,32370,32833,32927,32563,32414,32830,33218,34046,34559,35668,36356,37707,38922,25954,25958,27616,28582,30265,31438,31729,31664,33564,34679,35028,35470,35556,35142,35716,35475,36520,37288,22782,23610,26836,28033,29212,30475,31079,31297,31840,32238,32866,33430,33780,35055,35941,36742,38122,39490,30839,31507,33235,34856,38211,39320,41300,40178,39808,40820,40979,41778,43214,43934,44985,45427,46415,48697,26720,26780,27339,28820,30196,31361,31779,32132,32912,33989,33289,33535,34054,34888,35620,35681,37443,38204,22139,23382,23890,25919,26143,27991,29214,29661,30846,31639,31936,32839,33426,33988,34549,34618,35633,36489,24693,28088,24927,26204,27247,27270,27371,28072,27947,28556,28641,29191,29422,32077,32106,33367,34590,35228,28610,28905,29692,30972,32643,33754,34710,35512,36512,36730,37808,38406,38146,39354,40964,41637,42975,44262,24706,26374,28129,30824,32112,30351,30467,30417,30493,30883,30832,31196,31425,31443,32929,33180,34017,35493,20860,21636,22843,24214,26108,27067,27186,28215,29039,28528,28100,28284,29060,29364,30141,30217,30667,31600,23909,25380,25771,26457,27407,28655,30176,30676,31227,30919,31964,32196,31989,33021,33367,33748,35395,36571,23345,23400,24512,26260,26692,27359,27821,29905,30232,29997,29733,30018,31088,31880,32273,33200,24048,22633,23208,24976,28835,31221,32780,34245,36137,36194,37164,35408,35764,37067,38755,39552,41206,42009,25735,25737,26188,27664,28999,29949,30835,32145,32092,32220,32590,33159,33292,34181,34912,34341,35146,36906,31378,30331,31990,34585,35951,36516,35608,36688,41653,39128,39119,40287,40587,41824,39651,38215,42886,45410,23461,24389,24761,25940,26413,26632,27305,28463,28118,27770,28940,29821,29632,30806,31846,33283,34226,34934,23189,24133,24916,26487,26882,28556,30891,29950,29098,32946,31929,34784,35353,35585,37523,37102,37041,40841,24973,25349,26442,27081,28325,28990,29328,30133,30751,30767,31149,31953,32141,33127,33813,34330,35749,37411,22852,23210,23299,24487,25795,27538,28315,27692,28651,29786,29287,29618,30831,31284,32515,32840,33819,34535,22259,22566,23261,24428,24946,25643,26722,26701,27228,26951,27108,27700,27963,29068,29774,29309,31061,31553,27900,28444,29546,31812,32591,33823,35901,36557,35937,35191,35320,37121,37075,38754,40170,40903,41571,42879,23964,24050,26333,25836,27760,28114,29338,29839,31045,31065,31570,31776,32151,32773,33499,33911,34473,35620,22623,23414,24291,25698,26767,28136,29110,28867,29679,28646,28395,29741,30576,31216,32223,33280,33246,33905,21192,21330,23591,24481,24478,25729,26768,27333,28135,28134,27687,28781,28856,29619,29526,31049,31804,33359,25917,26632,27702,28996,30872,32269,31682,32369,31876,32219,32373,32720,33393,34204,35531,36000,36597,38237,29432,30324,31523,33932,30287,31432,32069,33578,34541,36033,37585,38517,39145,39561,39677,40087,40253,41113,42217,42887,44297,45272,21665,21438,22817,24502,24975,26122,26818,27627,27281,27598,27900,28491,28875,29272,30101,30912,31512,32670,33999,31181,30322,32127,33566,34427,34507,36395,39206,20837,21403,22370,24014,24611,26033,27233,28039,28715,29119,29237,29605,29842,31479,32062,31774,32067,32979,26629,28561,29217,30503,31906,33744,34792,34923,34885,35939,36948,36998,37320,37931,39444,40913,41597,43043,26012,26628,27840,29013,30008,31330,31623,32579,32724,33014,33475,33841,34425,34811,35784,37092,37233,38265,28589,30638,30963,32605,34518,35098,37341,37805,38553,38505,39324,39439,38148,39007,40420,40663,41252,42308,38902,39120,41017,42722,29673,30747,31438,31810,32948,33973,34688,34821,34976,37186,38377,39729,38637,40092,39959,38870,39531,41359,26151,27242,29266,31163,32976,34409,35613,36454,37823,38638,38881,39523,40207,41111,42627,43388,44313,45655,24869,25162,25767,27363,27966,28870,29661,30311,30904,31177,31449,32167,33332,33987,35213,34642,39506,37077,25083,26099,26922,27948,29288,30505,31958,32161,32476,33079,33036,33803,34138,34970,35863,36232,36852,37721,24562,25602,27351,28720,29432,31057,31890,32619,32339,32995,33342,33764,34540,35315,36428,37204,38247,39196,28890,29505,30277,31163,32235,33530,27575,27036,28389,28918,30256,31251,31508,32591,33920,33990,34507,34132,34152,34731,35944,36249,36873,38128,28060,28944,29722,31029,32453,34594,35536,35820,35777,36148,36785,36945,37341,38802,35179,36377,36840,37946,26878,27745,29079,30977,32109,33814,35555,34837,34080,34070,34615,34921,36173,36727,42890,43614,45261,47359,25440,25004,26412,27768,29788,32641,31966,32107,32508,32486,32737,33330,33117,33901,43653,44588,46699,48718,29030,29213,31416,33367,35455,37363,37737,38200,38454,38669,39166,39908,40567,41603,40361,43614,43395,45475,31951,32637,33629,35137,37126,37815,38582,38860,38404,38512,39359,40249,40948,41919,38021,38714,40043,41155,28247,28090,29192,29490,30030,30828,33831,32499,32547,32739,34917,35894,37574,36931,36956,38010,39789,41043,23240,25078,25842,27157,27494,28370,27657,28144,28244,28871,29720,30421,31346,32359,33592,34894,27425,27509,28430,28618,30072,30922,33075,33167,33708,35625,36468,36491,37593,37220,40705,38014,39208,40110,30772,31598,31775,31997,33539,33411,33075,33684,34060,34270,34267,35374,36174,38187,26064,26947,28037,29346,29927,31197,32196,32938,33021,33726,33861,34847,34947,36038,37196,37849,39060,40085,33264,24454,25445,26967,27767,29317,30586,31927,32352,32946,30815,30787,32026,32543,33230,33996,35143,35867,23060,24107,25092,26453,28773,30092,30861,30522,30373,30447,30674,31658,32148,32801,34151,35582,37312,38543,28704,29124,31078,30603,30508,30819,31727,32248,33389,33578,34625,35465],\"class\":[0,0,0,0,0,0,0,0,0,0,0,0,0,0,0,0,0,0,0,0,0,0,0,0,0,0,0,0,0,0,0,0,0,0,0,0,0,0,0,0,0,0,0,0,0,0,0,0,0,0,0,0,0,0,0,0,0,0,0,0,0,0,0,0,0,0,0,0,0,0,0,0,0,0,0,0,0,0,0,0,0,0,0,0,0,0,0,0,0,0,0,0,0,0,0,0,0,0,0,0,0,0,0,0,0,0,0,0,0,0,0,0,0,0,0,0,0,0,0,0,0,0,0,0,0,0,0,0,0,0,0,0,0,0,0,0,0,0,0,0,0,0,0,0,0,0,0,0,0,0,0,0,0,0,0,0,0,0,0,0,0,0,0,0,0,0,0,0,0,0,0,0,0,0,0,0,0,0,0,0,0,0,0,0,0,0,0,0,0,0,0,0,0,0,0,0,0,0,0,0,0,0,0,0,0,0,0,0,0,0,0,0,0,0,0,0,0,0,0,0,0,0,0,0,0,0,0,0,0,0,0,0,0,0,0,0,0,0,0,0,0,0,0,0,0,0,0,0,0,0,0,0,0,0,0,0,0,0,0,0,0,0,0,0,0,0,0,0,0,0,0,0,0,0,0,0,0,0,0,0,0,0,0,0,0,0,0,0,0,0,0,0,0,0,0,0,0,0,0,0,0,0,0,0,0,0,0,0,0,0,0,0,0,0,0,0,0,0,0,0,0,0,0,0,0,0,0,0,0,0,0,0,0,0,0,0,0,0,0,0,0,0,0,0,0,0,0,0,0,0,0,0,0,0,0,0,0,0,0,0,0,0,0,0,0,0,0,0,0,0,0,0,0,0,0,0,0,0,0,0,0,0,0,0,0,0,0,0,0,0,0,0,0,0,0,0,0,0,0,0,0,0,0,0,0,0,0,0,0,0,0,0,0,0,0,0,0,0,0,0,0,0,0,0,0,0,0,0,0,0,0,0,0,0,0,0,0,0,0,0,0,0,0,0,0,0,0,0,0,0,0,0,0,0,0,0,0,0,0,0,0,0,0,0,0,0,0,0,0,0,0,0,0,0,0,0,0,0,0,0,0,0,0,0,0,0,0,0,0,0,0,0,0,0,0,0,0,0,0,0,0,0,0,0,0,0,0,0,0,0,0,0,0,0,0,0,0,0,0,0,0,0,0,0,0,0,0,0,0,0,0,0,0,0,0,0,0,0,0,0,0,0,0,0,0,0,0,0,0,0,0,0,0,0,0,0,0,0,0,0,0,0,0,0,0,0,0,0,0,0,0,0,0,0,0,0,0,0,0,0,0,0,0,0,0,0,0,0,0,0,0,0,0,0,0,0,0,0,0,0,0,0,0,0,0,0,0,0,0,0,0,0,0,0,0,0,0,0,0,0,0,0,0,0,0,0,0,0,0,0,0,0,0,0,0,0,0,0,0,0,0,0,0,0,0,0,0,0,0,0,0,0,0,0,0,0,0,0,0,0,0,0,0,0,0,0,0,0,0,0,0,0,0,0,0,0,0,0,0,0,0,0,0,0,0,0,0,0,0,0,0,0,0,0,0,0,0,0,0,0,0,0,0,0,0,0,0,0,0,0,0,0,0,0,0,0,0,0,0,0,0,0,0,0,0,0,0,0,0,0,0,0,0,0,0,0,0,0,0,0,0,0,0,0,0,0,0,0,0,0,0,0,0,0,0,0,0,0,0,0,0,0,0,0,0,0,0,0,0,0,0,0,0,0,0,0,0,0,0,0,0,0,0,0,0,0,0,0,0,0,0,0,0,0,0,0,0,0,0,0,0,0,0,0,0,0,0,0,0,0,0,0,0,0,0,0,0,0,0,0,0,0,0,0,0,0,0,0,0,0,0,0,0,0,0,0,0,0,0,0,0,0,0,0,0,0,0,0,0,0,0,0,0,0,0,0,0,0,0,0,0,0,0,0,0,0,0,0,0,0,0,0,0,0,0,0,0,0,0,0,0,0,0,0,0,0,0,0,0,0,0,0,0,0,0,0,0,0,0,0,0,0,0,0,0,0,0,0,0,0,0,0,0,0,0,0,0,0,0,0,0,0,0,0,0,0,0,0,0,0,0,0,0,0,0,0,0,0,0,0,0,0,0,0,0,0,0,0,0,0,0,0,0,0,0,0,0,0,0,0,0,0,0,0,0,0,0,0,0,0,0,0,0,0,0,0,0,0,0,0,0,0,0,0,0,0,0,0,0,0,0,0,0,0,0,0,0,0,0,0,0,0,0,0,0,0,0,0,0,0],\"unemployment_rate\":{\"__ndarray__\":\"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\",\"dtype\":\"float64\",\"order\":\"little\",\"shape\":[1010]}},\"selected\":{\"id\":\"2062\"},\"selection_policy\":{\"id\":\"2076\"}},\"id\":\"2061\",\"type\":\"ColumnDataSource\"},{\"attributes\":{},\"id\":\"2046\",\"type\":\"ResetTool\"},{\"attributes\":{},\"id\":\"2044\",\"type\":\"WheelZoomTool\"},{\"attributes\":{\"below\":[{\"id\":\"2034\"}],\"center\":[{\"id\":\"2037\"},{\"id\":\"2041\"}],\"height\":300,\"left\":[{\"id\":\"2038\"}],\"margin\":[5,5,5,5],\"min_border_bottom\":10,\"min_border_left\":10,\"min_border_right\":10,\"min_border_top\":10,\"renderers\":[{\"id\":\"2067\"},{\"id\":\"2088\"},{\"id\":\"2110\"}],\"right\":[{\"id\":\"2079\"}],\"sizing_mode\":\"fixed\",\"title\":{\"id\":\"2026\"},\"toolbar\":{\"id\":\"2048\"},\"width\":700,\"x_range\":{\"id\":\"2020\"},\"x_scale\":{\"id\":\"2030\"},\"y_range\":{\"id\":\"2021\"},\"y_scale\":{\"id\":\"2032\"}},\"id\":\"2025\",\"subtype\":\"Figure\",\"type\":\"Plot\"},{\"attributes\":{},\"id\":\"2057\",\"type\":\"AllLabels\"},{\"attributes\":{\"children\":[{\"id\":\"2019\"},{\"id\":\"2025\"},{\"id\":\"2254\"}],\"margin\":[0,0,0,0],\"name\":\"Row03391\",\"tags\":[\"embedded\"]},\"id\":\"2018\",\"type\":\"Row\"},{\"attributes\":{\"end\":58196.3,\"reset_end\":58196.3,\"reset_start\":17440.7,\"start\":17440.7,\"tags\":[[[\"average_yearly_wage\",\"average_yearly_wage\",null]]]},\"id\":\"2021\",\"type\":\"Range1d\"},{\"attributes\":{\"overlay\":{\"id\":\"2047\"}},\"id\":\"2045\",\"type\":\"BoxZoomTool\"},{\"attributes\":{\"fill_alpha\":{\"value\":0.2},\"fill_color\":{\"value\":\"#e5ae38\"},\"line_alpha\":{\"value\":0.2},\"line_color\":{\"value\":\"#e5ae38\"},\"size\":{\"value\":5.477225575051661},\"x\":{\"field\":\"unemployment_rate\"},\"y\":{\"field\":\"average_yearly_wage\"}},\"id\":\"2109\",\"type\":\"Scatter\"},{\"attributes\":{\"label\":{\"value\":\"2\"},\"renderers\":[{\"id\":\"2110\"}]},\"id\":\"2126\",\"type\":\"LegendItem\"},{\"attributes\":{},\"id\":\"2062\",\"type\":\"Selection\"},{\"attributes\":{\"text_color\":\"black\",\"text_font_size\":\"12pt\"},\"id\":\"2026\",\"type\":\"Title\"},{\"attributes\":{\"fill_alpha\":{\"value\":0.1},\"fill_color\":{\"value\":\"#e5ae38\"},\"line_alpha\":{\"value\":0.1},\"line_color\":{\"value\":\"#e5ae38\"},\"size\":{\"value\":5.477225575051661},\"x\":{\"field\":\"unemployment_rate\"},\"y\":{\"field\":\"average_yearly_wage\"}},\"id\":\"2108\",\"type\":\"Scatter\"},{\"attributes\":{},\"id\":\"2083\",\"type\":\"Selection\"}],\"root_ids\":[\"2018\"]},\"title\":\"Bokeh Application\",\"version\":\"2.3.2\"}};\n",
       "    var render_items = [{\"docid\":\"2ec54cf8-136e-4f11-9f9f-e26c535085c7\",\"root_ids\":[\"2018\"],\"roots\":{\"2018\":\"7fd71b48-61ed-4446-bef0-65cbbfcb951a\"}}];\n",
       "    root.Bokeh.embed.embed_items_notebook(docs_json, render_items);\n",
       "  }\n",
       "  if (root.Bokeh !== undefined && root.Bokeh.Panel !== undefined) {\n",
       "    embed_document(root);\n",
       "  } else {\n",
       "    var attempts = 0;\n",
       "    var timer = setInterval(function(root) {\n",
       "      if (root.Bokeh !== undefined && root.Bokeh.Panel !== undefined) {\n",
       "        clearInterval(timer);\n",
       "        embed_document(root);\n",
       "      } else if (document.readyState == \"complete\") {\n",
       "        attempts++;\n",
       "        if (attempts > 200) {\n",
       "          clearInterval(timer);\n",
       "          console.log(\"Bokeh: ERROR: Unable to run BokehJS code because BokehJS library is missing\");\n",
       "        }\n",
       "      }\n",
       "    }, 25, root)\n",
       "  }\n",
       "})(window);</script>"
      ],
      "text/plain": [
       ":NdOverlay   [class]\n",
       "   :Scatter   [unemployment_rate]   (average_yearly_wage)"
      ]
     },
     "execution_count": 103,
     "metadata": {
      "application/vnd.holoviews_exec.v0+json": {
       "id": "2018"
      }
     },
     "output_type": "execute_result"
    }
   ],
   "source": [
    "# Plug and Play X and Y values\n",
    "test_cluster_amount(MK_df, 3)\n",
    "MK_df.hvplot.scatter(x=\"unemployment_rate\", y=\"average_yearly_wage\", by=\"class\")"
   ]
  },
  {
   "cell_type": "markdown",
   "id": "fa1b120f",
   "metadata": {},
   "source": [
    "#### 3D Plotting w/Columns"
   ]
  },
  {
   "cell_type": "code",
   "execution_count": 130,
   "id": "d464145a",
   "metadata": {},
   "outputs": [
    {
     "data": {
      "application/vnd.plotly.v1+json": {
       "config": {
        "plotlyServerURL": "https://plot.ly"
       },
       "data": [
        {
         "customdata": [
          [
           2001
          ],
          [
           2002
          ],
          [
           2003
          ],
          [
           2004
          ],
          [
           2005
          ],
          [
           2006
          ],
          [
           2007
          ],
          [
           2008
          ],
          [
           2009
          ],
          [
           2010
          ],
          [
           2012
          ],
          [
           2013
          ],
          [
           2014
          ],
          [
           2015
          ],
          [
           2016
          ],
          [
           2017
          ],
          [
           2018
          ],
          [
           2001
          ],
          [
           2002
          ],
          [
           2003
          ],
          [
           2004
          ],
          [
           2005
          ],
          [
           2006
          ],
          [
           2007
          ],
          [
           2008
          ],
          [
           2009
          ],
          [
           2010
          ],
          [
           2011
          ],
          [
           2012
          ],
          [
           2013
          ],
          [
           2014
          ],
          [
           2015
          ],
          [
           2016
          ],
          [
           2017
          ],
          [
           2018
          ],
          [
           2001
          ],
          [
           2002
          ],
          [
           2003
          ],
          [
           2004
          ],
          [
           2005
          ],
          [
           2006
          ],
          [
           2007
          ],
          [
           2008
          ],
          [
           2009
          ],
          [
           2010
          ],
          [
           2011
          ],
          [
           2012
          ],
          [
           2013
          ],
          [
           2014
          ],
          [
           2015
          ],
          [
           2016
          ],
          [
           2017
          ],
          [
           2018
          ],
          [
           2001
          ],
          [
           2002
          ],
          [
           2003
          ],
          [
           2004
          ],
          [
           2005
          ],
          [
           2006
          ],
          [
           2007
          ],
          [
           2008
          ],
          [
           2009
          ],
          [
           2010
          ],
          [
           2011
          ],
          [
           2012
          ],
          [
           2013
          ],
          [
           2014
          ],
          [
           2015
          ],
          [
           2016
          ],
          [
           2017
          ],
          [
           2018
          ],
          [
           2001
          ],
          [
           2002
          ],
          [
           2003
          ],
          [
           2004
          ],
          [
           2005
          ],
          [
           2006
          ],
          [
           2007
          ],
          [
           2008
          ],
          [
           2009
          ],
          [
           2010
          ],
          [
           2011
          ],
          [
           2012
          ],
          [
           2013
          ],
          [
           2014
          ],
          [
           2015
          ],
          [
           2016
          ],
          [
           2005
          ],
          [
           2006
          ],
          [
           2007
          ],
          [
           2008
          ],
          [
           2009
          ],
          [
           2010
          ],
          [
           2011
          ],
          [
           2012
          ],
          [
           2013
          ],
          [
           2014
          ],
          [
           2015
          ],
          [
           2016
          ],
          [
           2017
          ],
          [
           2018
          ],
          [
           2001
          ],
          [
           2002
          ],
          [
           2003
          ],
          [
           2004
          ],
          [
           2005
          ],
          [
           2006
          ],
          [
           2007
          ],
          [
           2008
          ],
          [
           2009
          ],
          [
           2010
          ],
          [
           2011
          ],
          [
           2012
          ],
          [
           2013
          ],
          [
           2014
          ],
          [
           2015
          ],
          [
           2016
          ],
          [
           2017
          ],
          [
           2018
          ],
          [
           2001
          ],
          [
           2002
          ],
          [
           2003
          ],
          [
           2004
          ],
          [
           2005
          ],
          [
           2006
          ],
          [
           2007
          ],
          [
           2008
          ],
          [
           2009
          ],
          [
           2010
          ],
          [
           2011
          ],
          [
           2012
          ],
          [
           2013
          ],
          [
           2014
          ],
          [
           2015
          ],
          [
           2016
          ],
          [
           2017
          ],
          [
           2018
          ],
          [
           2001
          ],
          [
           2002
          ],
          [
           2003
          ],
          [
           2004
          ],
          [
           2005
          ],
          [
           2006
          ],
          [
           2007
          ],
          [
           2008
          ],
          [
           2009
          ],
          [
           2010
          ],
          [
           2011
          ],
          [
           2012
          ],
          [
           2013
          ],
          [
           2014
          ],
          [
           2015
          ],
          [
           2016
          ],
          [
           2017
          ],
          [
           2018
          ],
          [
           2001
          ],
          [
           2002
          ],
          [
           2003
          ],
          [
           2004
          ],
          [
           2005
          ],
          [
           2006
          ],
          [
           2007
          ],
          [
           2008
          ],
          [
           2009
          ],
          [
           2010
          ],
          [
           2011
          ],
          [
           2012
          ],
          [
           2013
          ],
          [
           2014
          ],
          [
           2015
          ],
          [
           2016
          ],
          [
           2017
          ],
          [
           2018
          ],
          [
           2001
          ],
          [
           2002
          ],
          [
           2003
          ],
          [
           2004
          ],
          [
           2005
          ],
          [
           2006
          ],
          [
           2007
          ],
          [
           2008
          ],
          [
           2009
          ],
          [
           2010
          ],
          [
           2011
          ],
          [
           2012
          ],
          [
           2013
          ],
          [
           2014
          ],
          [
           2015
          ],
          [
           2016
          ],
          [
           2017
          ],
          [
           2018
          ],
          [
           2001
          ],
          [
           2002
          ],
          [
           2003
          ],
          [
           2004
          ],
          [
           2005
          ],
          [
           2006
          ],
          [
           2007
          ],
          [
           2008
          ],
          [
           2009
          ],
          [
           2010
          ],
          [
           2011
          ],
          [
           2012
          ],
          [
           2013
          ],
          [
           2014
          ],
          [
           2015
          ],
          [
           2016
          ],
          [
           2017
          ],
          [
           2018
          ],
          [
           2001
          ],
          [
           2002
          ],
          [
           2003
          ],
          [
           2004
          ],
          [
           2005
          ],
          [
           2006
          ],
          [
           2007
          ],
          [
           2008
          ],
          [
           2009
          ],
          [
           2010
          ],
          [
           2011
          ],
          [
           2012
          ],
          [
           2013
          ],
          [
           2014
          ],
          [
           2015
          ],
          [
           2016
          ],
          [
           2017
          ],
          [
           2018
          ],
          [
           2001
          ],
          [
           2002
          ],
          [
           2003
          ],
          [
           2004
          ],
          [
           2005
          ],
          [
           2006
          ],
          [
           2007
          ],
          [
           2008
          ],
          [
           2009
          ],
          [
           2010
          ],
          [
           2011
          ],
          [
           2012
          ],
          [
           2013
          ],
          [
           2014
          ],
          [
           2015
          ],
          [
           2016
          ],
          [
           2017
          ],
          [
           2018
          ],
          [
           2001
          ],
          [
           2002
          ],
          [
           2003
          ],
          [
           2004
          ],
          [
           2005
          ],
          [
           2006
          ],
          [
           2007
          ],
          [
           2008
          ],
          [
           2009
          ],
          [
           2010
          ],
          [
           2011
          ],
          [
           2012
          ],
          [
           2013
          ],
          [
           2014
          ],
          [
           2015
          ],
          [
           2016
          ],
          [
           2017
          ],
          [
           2018
          ],
          [
           2001
          ],
          [
           2002
          ],
          [
           2003
          ],
          [
           2004
          ],
          [
           2005
          ],
          [
           2006
          ],
          [
           2007
          ],
          [
           2008
          ],
          [
           2009
          ],
          [
           2010
          ],
          [
           2011
          ],
          [
           2012
          ],
          [
           2013
          ],
          [
           2014
          ],
          [
           2015
          ],
          [
           2016
          ],
          [
           2017
          ],
          [
           2018
          ],
          [
           2001
          ],
          [
           2002
          ],
          [
           2003
          ],
          [
           2004
          ],
          [
           2005
          ],
          [
           2006
          ],
          [
           2007
          ],
          [
           2008
          ],
          [
           2009
          ],
          [
           2010
          ],
          [
           2011
          ],
          [
           2012
          ],
          [
           2013
          ],
          [
           2014
          ],
          [
           2015
          ],
          [
           2016
          ],
          [
           2017
          ],
          [
           2018
          ],
          [
           2001
          ],
          [
           2002
          ],
          [
           2003
          ],
          [
           2004
          ],
          [
           2005
          ],
          [
           2006
          ],
          [
           2007
          ],
          [
           2008
          ],
          [
           2009
          ],
          [
           2010
          ],
          [
           2011
          ],
          [
           2012
          ],
          [
           2013
          ],
          [
           2014
          ],
          [
           2015
          ],
          [
           2018
          ],
          [
           2001
          ],
          [
           2002
          ],
          [
           2003
          ],
          [
           2004
          ],
          [
           2005
          ],
          [
           2006
          ],
          [
           2007
          ],
          [
           2008
          ],
          [
           2009
          ],
          [
           2010
          ],
          [
           2011
          ],
          [
           2012
          ],
          [
           2013
          ],
          [
           2014
          ],
          [
           2015
          ],
          [
           2016
          ],
          [
           2017
          ],
          [
           2018
          ],
          [
           2001
          ],
          [
           2002
          ],
          [
           2003
          ],
          [
           2004
          ],
          [
           2005
          ],
          [
           2006
          ],
          [
           2007
          ],
          [
           2008
          ],
          [
           2009
          ],
          [
           2010
          ],
          [
           2011
          ],
          [
           2012
          ],
          [
           2013
          ],
          [
           2014
          ],
          [
           2015
          ],
          [
           2016
          ],
          [
           2017
          ],
          [
           2018
          ],
          [
           2001
          ],
          [
           2002
          ],
          [
           2003
          ],
          [
           2004
          ],
          [
           2005
          ],
          [
           2006
          ],
          [
           2007
          ],
          [
           2008
          ],
          [
           2009
          ],
          [
           2010
          ],
          [
           2011
          ],
          [
           2012
          ],
          [
           2013
          ],
          [
           2014
          ],
          [
           2015
          ],
          [
           2016
          ],
          [
           2017
          ],
          [
           2018
          ],
          [
           2001
          ],
          [
           2002
          ],
          [
           2003
          ],
          [
           2004
          ],
          [
           2005
          ],
          [
           2006
          ],
          [
           2007
          ],
          [
           2008
          ],
          [
           2009
          ],
          [
           2010
          ],
          [
           2011
          ],
          [
           2012
          ],
          [
           2013
          ],
          [
           2014
          ],
          [
           2015
          ],
          [
           2016
          ],
          [
           2017
          ],
          [
           2018
          ],
          [
           2001
          ],
          [
           2002
          ],
          [
           2003
          ],
          [
           2004
          ],
          [
           2005
          ],
          [
           2006
          ],
          [
           2007
          ],
          [
           2008
          ],
          [
           2009
          ],
          [
           2010
          ],
          [
           2011
          ],
          [
           2012
          ],
          [
           2013
          ],
          [
           2014
          ],
          [
           2015
          ],
          [
           2016
          ],
          [
           2017
          ],
          [
           2018
          ],
          [
           2001
          ],
          [
           2002
          ],
          [
           2003
          ],
          [
           2004
          ],
          [
           2005
          ],
          [
           2006
          ],
          [
           2007
          ],
          [
           2008
          ],
          [
           2009
          ],
          [
           2010
          ],
          [
           2011
          ],
          [
           2012
          ],
          [
           2013
          ],
          [
           2014
          ],
          [
           2015
          ],
          [
           2016
          ],
          [
           2017
          ],
          [
           2018
          ],
          [
           2001
          ],
          [
           2002
          ],
          [
           2003
          ],
          [
           2004
          ],
          [
           2005
          ],
          [
           2006
          ],
          [
           2007
          ],
          [
           2008
          ],
          [
           2009
          ],
          [
           2010
          ],
          [
           2011
          ],
          [
           2012
          ],
          [
           2013
          ],
          [
           2014
          ],
          [
           2015
          ],
          [
           2016
          ],
          [
           2017
          ],
          [
           2018
          ],
          [
           2001
          ],
          [
           2002
          ],
          [
           2003
          ],
          [
           2004
          ],
          [
           2005
          ],
          [
           2006
          ],
          [
           2007
          ],
          [
           2008
          ],
          [
           2009
          ],
          [
           2010
          ],
          [
           2011
          ],
          [
           2012
          ],
          [
           2013
          ],
          [
           2014
          ],
          [
           2015
          ],
          [
           2016
          ],
          [
           2017
          ],
          [
           2018
          ],
          [
           2001
          ],
          [
           2002
          ],
          [
           2003
          ],
          [
           2004
          ],
          [
           2005
          ],
          [
           2006
          ],
          [
           2007
          ],
          [
           2008
          ],
          [
           2009
          ],
          [
           2010
          ],
          [
           2011
          ],
          [
           2012
          ],
          [
           2013
          ],
          [
           2014
          ],
          [
           2015
          ],
          [
           2016
          ],
          [
           2017
          ],
          [
           2018
          ],
          [
           2001
          ],
          [
           2002
          ],
          [
           2003
          ],
          [
           2004
          ],
          [
           2005
          ],
          [
           2006
          ],
          [
           2007
          ],
          [
           2008
          ],
          [
           2009
          ],
          [
           2010
          ],
          [
           2011
          ],
          [
           2012
          ],
          [
           2013
          ],
          [
           2014
          ],
          [
           2015
          ],
          [
           2016
          ],
          [
           2017
          ],
          [
           2018
          ],
          [
           2001
          ],
          [
           2002
          ],
          [
           2003
          ],
          [
           2004
          ],
          [
           2005
          ],
          [
           2006
          ],
          [
           2007
          ],
          [
           2008
          ],
          [
           2009
          ],
          [
           2010
          ],
          [
           2011
          ],
          [
           2012
          ],
          [
           2013
          ],
          [
           2014
          ],
          [
           2015
          ],
          [
           2016
          ],
          [
           2017
          ],
          [
           2018
          ],
          [
           2001
          ],
          [
           2002
          ],
          [
           2003
          ],
          [
           2004
          ],
          [
           2005
          ],
          [
           2006
          ],
          [
           2007
          ],
          [
           2008
          ],
          [
           2009
          ],
          [
           2010
          ],
          [
           2011
          ],
          [
           2012
          ],
          [
           2013
          ],
          [
           2014
          ],
          [
           2015
          ],
          [
           2016
          ],
          [
           2017
          ],
          [
           2018
          ],
          [
           2001
          ],
          [
           2002
          ],
          [
           2003
          ],
          [
           2004
          ],
          [
           2005
          ],
          [
           2006
          ],
          [
           2007
          ],
          [
           2008
          ],
          [
           2009
          ],
          [
           2010
          ],
          [
           2011
          ],
          [
           2012
          ],
          [
           2013
          ],
          [
           2014
          ],
          [
           2015
          ],
          [
           2016
          ],
          [
           2017
          ],
          [
           2018
          ],
          [
           2001
          ],
          [
           2002
          ],
          [
           2003
          ],
          [
           2004
          ],
          [
           2001
          ],
          [
           2002
          ],
          [
           2003
          ],
          [
           2004
          ],
          [
           2005
          ],
          [
           2006
          ],
          [
           2007
          ],
          [
           2008
          ],
          [
           2009
          ],
          [
           2010
          ],
          [
           2011
          ],
          [
           2012
          ],
          [
           2013
          ],
          [
           2014
          ],
          [
           2015
          ],
          [
           2016
          ],
          [
           2017
          ],
          [
           2018
          ],
          [
           2001
          ],
          [
           2002
          ],
          [
           2003
          ],
          [
           2004
          ],
          [
           2005
          ],
          [
           2006
          ],
          [
           2007
          ],
          [
           2008
          ],
          [
           2009
          ],
          [
           2010
          ],
          [
           2011
          ],
          [
           2012
          ],
          [
           2013
          ],
          [
           2014
          ],
          [
           2015
          ],
          [
           2016
          ],
          [
           2017
          ],
          [
           2018
          ],
          [
           2010
          ],
          [
           2011
          ],
          [
           2012
          ],
          [
           2013
          ],
          [
           2014
          ],
          [
           2015
          ],
          [
           2016
          ],
          [
           2017
          ],
          [
           2018
          ],
          [
           2001
          ],
          [
           2002
          ],
          [
           2003
          ],
          [
           2004
          ],
          [
           2005
          ],
          [
           2006
          ],
          [
           2007
          ],
          [
           2008
          ],
          [
           2009
          ],
          [
           2010
          ],
          [
           2011
          ],
          [
           2012
          ],
          [
           2013
          ],
          [
           2014
          ],
          [
           2015
          ],
          [
           2016
          ],
          [
           2017
          ],
          [
           2018
          ],
          [
           2001
          ],
          [
           2002
          ],
          [
           2003
          ],
          [
           2004
          ],
          [
           2005
          ],
          [
           2006
          ],
          [
           2007
          ],
          [
           2008
          ],
          [
           2009
          ],
          [
           2010
          ],
          [
           2011
          ],
          [
           2012
          ],
          [
           2013
          ],
          [
           2014
          ],
          [
           2015
          ],
          [
           2016
          ],
          [
           2017
          ],
          [
           2018
          ],
          [
           2001
          ],
          [
           2002
          ],
          [
           2003
          ],
          [
           2004
          ],
          [
           2005
          ],
          [
           2006
          ],
          [
           2007
          ],
          [
           2008
          ],
          [
           2009
          ],
          [
           2010
          ],
          [
           2011
          ],
          [
           2012
          ],
          [
           2013
          ],
          [
           2014
          ],
          [
           2015
          ],
          [
           2016
          ],
          [
           2017
          ],
          [
           2018
          ],
          [
           2001
          ],
          [
           2002
          ],
          [
           2003
          ],
          [
           2004
          ],
          [
           2005
          ],
          [
           2006
          ],
          [
           2007
          ],
          [
           2008
          ],
          [
           2009
          ],
          [
           2010
          ],
          [
           2011
          ],
          [
           2012
          ],
          [
           2013
          ],
          [
           2014
          ],
          [
           2015
          ],
          [
           2016
          ],
          [
           2017
          ],
          [
           2018
          ],
          [
           2015
          ],
          [
           2016
          ],
          [
           2017
          ],
          [
           2018
          ],
          [
           2001
          ],
          [
           2002
          ],
          [
           2003
          ],
          [
           2004
          ],
          [
           2005
          ],
          [
           2006
          ],
          [
           2007
          ],
          [
           2008
          ],
          [
           2009
          ],
          [
           2010
          ],
          [
           2011
          ],
          [
           2012
          ],
          [
           2013
          ],
          [
           2014
          ],
          [
           2015
          ],
          [
           2016
          ],
          [
           2017
          ],
          [
           2018
          ],
          [
           2001
          ],
          [
           2002
          ],
          [
           2003
          ],
          [
           2004
          ],
          [
           2005
          ],
          [
           2006
          ],
          [
           2007
          ],
          [
           2008
          ],
          [
           2009
          ],
          [
           2010
          ],
          [
           2011
          ],
          [
           2012
          ],
          [
           2013
          ],
          [
           2014
          ],
          [
           2015
          ],
          [
           2016
          ],
          [
           2017
          ],
          [
           2018
          ],
          [
           2001
          ],
          [
           2002
          ],
          [
           2003
          ],
          [
           2004
          ],
          [
           2005
          ],
          [
           2006
          ],
          [
           2007
          ],
          [
           2008
          ],
          [
           2009
          ],
          [
           2010
          ],
          [
           2011
          ],
          [
           2012
          ],
          [
           2013
          ],
          [
           2014
          ],
          [
           2015
          ],
          [
           2016
          ],
          [
           2017
          ],
          [
           2018
          ],
          [
           2001
          ],
          [
           2002
          ],
          [
           2003
          ],
          [
           2004
          ],
          [
           2005
          ],
          [
           2006
          ],
          [
           2007
          ],
          [
           2008
          ],
          [
           2009
          ],
          [
           2010
          ],
          [
           2011
          ],
          [
           2012
          ],
          [
           2013
          ],
          [
           2014
          ],
          [
           2015
          ],
          [
           2016
          ],
          [
           2017
          ],
          [
           2018
          ],
          [
           2001
          ],
          [
           2002
          ],
          [
           2003
          ],
          [
           2004
          ],
          [
           2005
          ],
          [
           2006
          ],
          [
           2007
          ],
          [
           2008
          ],
          [
           2009
          ],
          [
           2010
          ],
          [
           2011
          ],
          [
           2012
          ],
          [
           2013
          ],
          [
           2014
          ],
          [
           2015
          ],
          [
           2016
          ],
          [
           2017
          ],
          [
           2018
          ],
          [
           2001
          ],
          [
           2002
          ],
          [
           2003
          ],
          [
           2004
          ],
          [
           2005
          ],
          [
           2006
          ],
          [
           2001
          ],
          [
           2002
          ],
          [
           2003
          ],
          [
           2004
          ],
          [
           2005
          ],
          [
           2006
          ],
          [
           2007
          ],
          [
           2008
          ],
          [
           2009
          ],
          [
           2010
          ],
          [
           2011
          ],
          [
           2012
          ],
          [
           2013
          ],
          [
           2014
          ],
          [
           2015
          ],
          [
           2016
          ],
          [
           2017
          ],
          [
           2018
          ],
          [
           2001
          ],
          [
           2002
          ],
          [
           2003
          ],
          [
           2004
          ],
          [
           2005
          ],
          [
           2006
          ],
          [
           2007
          ],
          [
           2008
          ],
          [
           2009
          ],
          [
           2010
          ],
          [
           2011
          ],
          [
           2012
          ],
          [
           2013
          ],
          [
           2014
          ],
          [
           2015
          ],
          [
           2016
          ],
          [
           2017
          ],
          [
           2018
          ],
          [
           2001
          ],
          [
           2002
          ],
          [
           2003
          ],
          [
           2004
          ],
          [
           2005
          ],
          [
           2006
          ],
          [
           2007
          ],
          [
           2008
          ],
          [
           2009
          ],
          [
           2010
          ],
          [
           2011
          ],
          [
           2012
          ],
          [
           2013
          ],
          [
           2014
          ],
          [
           2015
          ],
          [
           2016
          ],
          [
           2017
          ],
          [
           2018
          ],
          [
           2001
          ],
          [
           2002
          ],
          [
           2003
          ],
          [
           2004
          ],
          [
           2005
          ],
          [
           2006
          ],
          [
           2007
          ],
          [
           2008
          ],
          [
           2009
          ],
          [
           2010
          ],
          [
           2011
          ],
          [
           2012
          ],
          [
           2013
          ],
          [
           2014
          ],
          [
           2015
          ],
          [
           2016
          ],
          [
           2017
          ],
          [
           2018
          ],
          [
           2001
          ],
          [
           2002
          ],
          [
           2003
          ],
          [
           2004
          ],
          [
           2005
          ],
          [
           2006
          ],
          [
           2007
          ],
          [
           2008
          ],
          [
           2009
          ],
          [
           2010
          ],
          [
           2011
          ],
          [
           2012
          ],
          [
           2013
          ],
          [
           2014
          ],
          [
           2015
          ],
          [
           2016
          ],
          [
           2017
          ],
          [
           2018
          ],
          [
           2001
          ],
          [
           2002
          ],
          [
           2003
          ],
          [
           2004
          ],
          [
           2005
          ],
          [
           2006
          ],
          [
           2007
          ],
          [
           2008
          ],
          [
           2009
          ],
          [
           2010
          ],
          [
           2011
          ],
          [
           2012
          ],
          [
           2013
          ],
          [
           2014
          ],
          [
           2015
          ],
          [
           2016
          ],
          [
           2017
          ],
          [
           2018
          ],
          [
           2001
          ],
          [
           2002
          ],
          [
           2003
          ],
          [
           2004
          ],
          [
           2005
          ],
          [
           2006
          ],
          [
           2007
          ],
          [
           2008
          ],
          [
           2009
          ],
          [
           2010
          ],
          [
           2011
          ],
          [
           2012
          ],
          [
           2013
          ],
          [
           2014
          ],
          [
           2015
          ],
          [
           2016
          ],
          [
           2017
          ],
          [
           2018
          ],
          [
           2003
          ],
          [
           2004
          ],
          [
           2005
          ],
          [
           2006
          ],
          [
           2007
          ],
          [
           2008
          ],
          [
           2009
          ],
          [
           2010
          ],
          [
           2011
          ],
          [
           2012
          ],
          [
           2013
          ],
          [
           2014
          ],
          [
           2015
          ],
          [
           2016
          ],
          [
           2017
          ],
          [
           2018
          ],
          [
           2001
          ],
          [
           2002
          ],
          [
           2003
          ],
          [
           2004
          ],
          [
           2005
          ],
          [
           2006
          ],
          [
           2007
          ],
          [
           2008
          ],
          [
           2009
          ],
          [
           2010
          ],
          [
           2011
          ],
          [
           2012
          ],
          [
           2013
          ],
          [
           2014
          ],
          [
           2015
          ],
          [
           2016
          ],
          [
           2017
          ],
          [
           2018
          ],
          [
           2005
          ],
          [
           2006
          ],
          [
           2007
          ],
          [
           2008
          ],
          [
           2009
          ],
          [
           2010
          ],
          [
           2011
          ],
          [
           2012
          ],
          [
           2013
          ],
          [
           2014
          ],
          [
           2015
          ],
          [
           2016
          ],
          [
           2017
          ],
          [
           2018
          ],
          [
           2001
          ],
          [
           2002
          ],
          [
           2003
          ],
          [
           2004
          ],
          [
           2005
          ],
          [
           2006
          ],
          [
           2007
          ],
          [
           2008
          ],
          [
           2009
          ],
          [
           2010
          ],
          [
           2011
          ],
          [
           2012
          ],
          [
           2013
          ],
          [
           2014
          ],
          [
           2015
          ],
          [
           2016
          ],
          [
           2017
          ],
          [
           2018
          ],
          [
           2001
          ],
          [
           2002
          ],
          [
           2003
          ],
          [
           2004
          ],
          [
           2005
          ],
          [
           2006
          ],
          [
           2007
          ],
          [
           2008
          ],
          [
           2009
          ],
          [
           2010
          ],
          [
           2011
          ],
          [
           2012
          ],
          [
           2013
          ],
          [
           2014
          ],
          [
           2015
          ],
          [
           2016
          ],
          [
           2017
          ],
          [
           2018
          ],
          [
           2001
          ],
          [
           2002
          ],
          [
           2003
          ],
          [
           2004
          ],
          [
           2005
          ],
          [
           2006
          ],
          [
           2007
          ],
          [
           2008
          ],
          [
           2009
          ],
          [
           2010
          ],
          [
           2011
          ],
          [
           2012
          ],
          [
           2013
          ],
          [
           2014
          ],
          [
           2015
          ],
          [
           2016
          ],
          [
           2017
          ],
          [
           2018
          ],
          [
           2007
          ],
          [
           2008
          ],
          [
           2009
          ],
          [
           2010
          ],
          [
           2011
          ],
          [
           2012
          ],
          [
           2013
          ],
          [
           2014
          ],
          [
           2015
          ],
          [
           2016
          ],
          [
           2017
          ],
          [
           2018
          ]
         ],
         "hovertemplate": "class=0<br>totalpopulation=%{x}<br>unemployment_rate=%{y}<br>average_yearly_wage=%{z}<br>year=%{marker.color}<extra></extra>",
         "legendgroup": "0",
         "marker": {
          "color": [
           2001,
           2002,
           2003,
           2004,
           2005,
           2006,
           2007,
           2008,
           2009,
           2010,
           2012,
           2013,
           2014,
           2015,
           2016,
           2017,
           2018,
           2001,
           2002,
           2003,
           2004,
           2005,
           2006,
           2007,
           2008,
           2009,
           2010,
           2011,
           2012,
           2013,
           2014,
           2015,
           2016,
           2017,
           2018,
           2001,
           2002,
           2003,
           2004,
           2005,
           2006,
           2007,
           2008,
           2009,
           2010,
           2011,
           2012,
           2013,
           2014,
           2015,
           2016,
           2017,
           2018,
           2001,
           2002,
           2003,
           2004,
           2005,
           2006,
           2007,
           2008,
           2009,
           2010,
           2011,
           2012,
           2013,
           2014,
           2015,
           2016,
           2017,
           2018,
           2001,
           2002,
           2003,
           2004,
           2005,
           2006,
           2007,
           2008,
           2009,
           2010,
           2011,
           2012,
           2013,
           2014,
           2015,
           2016,
           2005,
           2006,
           2007,
           2008,
           2009,
           2010,
           2011,
           2012,
           2013,
           2014,
           2015,
           2016,
           2017,
           2018,
           2001,
           2002,
           2003,
           2004,
           2005,
           2006,
           2007,
           2008,
           2009,
           2010,
           2011,
           2012,
           2013,
           2014,
           2015,
           2016,
           2017,
           2018,
           2001,
           2002,
           2003,
           2004,
           2005,
           2006,
           2007,
           2008,
           2009,
           2010,
           2011,
           2012,
           2013,
           2014,
           2015,
           2016,
           2017,
           2018,
           2001,
           2002,
           2003,
           2004,
           2005,
           2006,
           2007,
           2008,
           2009,
           2010,
           2011,
           2012,
           2013,
           2014,
           2015,
           2016,
           2017,
           2018,
           2001,
           2002,
           2003,
           2004,
           2005,
           2006,
           2007,
           2008,
           2009,
           2010,
           2011,
           2012,
           2013,
           2014,
           2015,
           2016,
           2017,
           2018,
           2001,
           2002,
           2003,
           2004,
           2005,
           2006,
           2007,
           2008,
           2009,
           2010,
           2011,
           2012,
           2013,
           2014,
           2015,
           2016,
           2017,
           2018,
           2001,
           2002,
           2003,
           2004,
           2005,
           2006,
           2007,
           2008,
           2009,
           2010,
           2011,
           2012,
           2013,
           2014,
           2015,
           2016,
           2017,
           2018,
           2001,
           2002,
           2003,
           2004,
           2005,
           2006,
           2007,
           2008,
           2009,
           2010,
           2011,
           2012,
           2013,
           2014,
           2015,
           2016,
           2017,
           2018,
           2001,
           2002,
           2003,
           2004,
           2005,
           2006,
           2007,
           2008,
           2009,
           2010,
           2011,
           2012,
           2013,
           2014,
           2015,
           2016,
           2017,
           2018,
           2001,
           2002,
           2003,
           2004,
           2005,
           2006,
           2007,
           2008,
           2009,
           2010,
           2011,
           2012,
           2013,
           2014,
           2015,
           2016,
           2017,
           2018,
           2001,
           2002,
           2003,
           2004,
           2005,
           2006,
           2007,
           2008,
           2009,
           2010,
           2011,
           2012,
           2013,
           2014,
           2015,
           2016,
           2017,
           2018,
           2001,
           2002,
           2003,
           2004,
           2005,
           2006,
           2007,
           2008,
           2009,
           2010,
           2011,
           2012,
           2013,
           2014,
           2015,
           2016,
           2017,
           2018,
           2001,
           2002,
           2003,
           2004,
           2005,
           2006,
           2007,
           2008,
           2009,
           2010,
           2011,
           2012,
           2013,
           2014,
           2015,
           2018,
           2001,
           2002,
           2003,
           2004,
           2005,
           2006,
           2007,
           2008,
           2009,
           2010,
           2011,
           2012,
           2013,
           2014,
           2015,
           2016,
           2017,
           2018,
           2001,
           2002,
           2003,
           2004,
           2005,
           2006,
           2007,
           2008,
           2009,
           2010,
           2011,
           2012,
           2013,
           2014,
           2015,
           2016,
           2017,
           2018,
           2001,
           2002,
           2003,
           2004,
           2005,
           2006,
           2007,
           2008,
           2009,
           2010,
           2011,
           2012,
           2013,
           2014,
           2015,
           2016,
           2017,
           2018,
           2001,
           2002,
           2003,
           2004,
           2005,
           2006,
           2007,
           2008,
           2009,
           2010,
           2011,
           2012,
           2013,
           2014,
           2015,
           2016,
           2017,
           2018,
           2001,
           2002,
           2003,
           2004,
           2005,
           2006,
           2007,
           2008,
           2009,
           2010,
           2011,
           2012,
           2013,
           2014,
           2015,
           2016,
           2017,
           2018,
           2001,
           2002,
           2003,
           2004,
           2005,
           2006,
           2007,
           2008,
           2009,
           2010,
           2011,
           2012,
           2013,
           2014,
           2015,
           2016,
           2017,
           2018,
           2001,
           2002,
           2003,
           2004,
           2005,
           2006,
           2007,
           2008,
           2009,
           2010,
           2011,
           2012,
           2013,
           2014,
           2015,
           2016,
           2017,
           2018,
           2001,
           2002,
           2003,
           2004,
           2005,
           2006,
           2007,
           2008,
           2009,
           2010,
           2011,
           2012,
           2013,
           2014,
           2015,
           2016,
           2017,
           2018,
           2001,
           2002,
           2003,
           2004,
           2005,
           2006,
           2007,
           2008,
           2009,
           2010,
           2011,
           2012,
           2013,
           2014,
           2015,
           2016,
           2017,
           2018,
           2001,
           2002,
           2003,
           2004,
           2005,
           2006,
           2007,
           2008,
           2009,
           2010,
           2011,
           2012,
           2013,
           2014,
           2015,
           2016,
           2017,
           2018,
           2001,
           2002,
           2003,
           2004,
           2005,
           2006,
           2007,
           2008,
           2009,
           2010,
           2011,
           2012,
           2013,
           2014,
           2015,
           2016,
           2017,
           2018,
           2001,
           2002,
           2003,
           2004,
           2005,
           2006,
           2007,
           2008,
           2009,
           2010,
           2011,
           2012,
           2013,
           2014,
           2015,
           2016,
           2017,
           2018,
           2001,
           2002,
           2003,
           2004,
           2005,
           2006,
           2007,
           2008,
           2009,
           2010,
           2011,
           2012,
           2013,
           2014,
           2015,
           2016,
           2017,
           2018,
           2001,
           2002,
           2003,
           2004,
           2001,
           2002,
           2003,
           2004,
           2005,
           2006,
           2007,
           2008,
           2009,
           2010,
           2011,
           2012,
           2013,
           2014,
           2015,
           2016,
           2017,
           2018,
           2001,
           2002,
           2003,
           2004,
           2005,
           2006,
           2007,
           2008,
           2009,
           2010,
           2011,
           2012,
           2013,
           2014,
           2015,
           2016,
           2017,
           2018,
           2010,
           2011,
           2012,
           2013,
           2014,
           2015,
           2016,
           2017,
           2018,
           2001,
           2002,
           2003,
           2004,
           2005,
           2006,
           2007,
           2008,
           2009,
           2010,
           2011,
           2012,
           2013,
           2014,
           2015,
           2016,
           2017,
           2018,
           2001,
           2002,
           2003,
           2004,
           2005,
           2006,
           2007,
           2008,
           2009,
           2010,
           2011,
           2012,
           2013,
           2014,
           2015,
           2016,
           2017,
           2018,
           2001,
           2002,
           2003,
           2004,
           2005,
           2006,
           2007,
           2008,
           2009,
           2010,
           2011,
           2012,
           2013,
           2014,
           2015,
           2016,
           2017,
           2018,
           2001,
           2002,
           2003,
           2004,
           2005,
           2006,
           2007,
           2008,
           2009,
           2010,
           2011,
           2012,
           2013,
           2014,
           2015,
           2016,
           2017,
           2018,
           2015,
           2016,
           2017,
           2018,
           2001,
           2002,
           2003,
           2004,
           2005,
           2006,
           2007,
           2008,
           2009,
           2010,
           2011,
           2012,
           2013,
           2014,
           2015,
           2016,
           2017,
           2018,
           2001,
           2002,
           2003,
           2004,
           2005,
           2006,
           2007,
           2008,
           2009,
           2010,
           2011,
           2012,
           2013,
           2014,
           2015,
           2016,
           2017,
           2018,
           2001,
           2002,
           2003,
           2004,
           2005,
           2006,
           2007,
           2008,
           2009,
           2010,
           2011,
           2012,
           2013,
           2014,
           2015,
           2016,
           2017,
           2018,
           2001,
           2002,
           2003,
           2004,
           2005,
           2006,
           2007,
           2008,
           2009,
           2010,
           2011,
           2012,
           2013,
           2014,
           2015,
           2016,
           2017,
           2018,
           2001,
           2002,
           2003,
           2004,
           2005,
           2006,
           2007,
           2008,
           2009,
           2010,
           2011,
           2012,
           2013,
           2014,
           2015,
           2016,
           2017,
           2018,
           2001,
           2002,
           2003,
           2004,
           2005,
           2006,
           2001,
           2002,
           2003,
           2004,
           2005,
           2006,
           2007,
           2008,
           2009,
           2010,
           2011,
           2012,
           2013,
           2014,
           2015,
           2016,
           2017,
           2018,
           2001,
           2002,
           2003,
           2004,
           2005,
           2006,
           2007,
           2008,
           2009,
           2010,
           2011,
           2012,
           2013,
           2014,
           2015,
           2016,
           2017,
           2018,
           2001,
           2002,
           2003,
           2004,
           2005,
           2006,
           2007,
           2008,
           2009,
           2010,
           2011,
           2012,
           2013,
           2014,
           2015,
           2016,
           2017,
           2018,
           2001,
           2002,
           2003,
           2004,
           2005,
           2006,
           2007,
           2008,
           2009,
           2010,
           2011,
           2012,
           2013,
           2014,
           2015,
           2016,
           2017,
           2018,
           2001,
           2002,
           2003,
           2004,
           2005,
           2006,
           2007,
           2008,
           2009,
           2010,
           2011,
           2012,
           2013,
           2014,
           2015,
           2016,
           2017,
           2018,
           2001,
           2002,
           2003,
           2004,
           2005,
           2006,
           2007,
           2008,
           2009,
           2010,
           2011,
           2012,
           2013,
           2014,
           2015,
           2016,
           2017,
           2018,
           2001,
           2002,
           2003,
           2004,
           2005,
           2006,
           2007,
           2008,
           2009,
           2010,
           2011,
           2012,
           2013,
           2014,
           2015,
           2016,
           2017,
           2018,
           2003,
           2004,
           2005,
           2006,
           2007,
           2008,
           2009,
           2010,
           2011,
           2012,
           2013,
           2014,
           2015,
           2016,
           2017,
           2018,
           2001,
           2002,
           2003,
           2004,
           2005,
           2006,
           2007,
           2008,
           2009,
           2010,
           2011,
           2012,
           2013,
           2014,
           2015,
           2016,
           2017,
           2018,
           2005,
           2006,
           2007,
           2008,
           2009,
           2010,
           2011,
           2012,
           2013,
           2014,
           2015,
           2016,
           2017,
           2018,
           2001,
           2002,
           2003,
           2004,
           2005,
           2006,
           2007,
           2008,
           2009,
           2010,
           2011,
           2012,
           2013,
           2014,
           2015,
           2016,
           2017,
           2018,
           2001,
           2002,
           2003,
           2004,
           2005,
           2006,
           2007,
           2008,
           2009,
           2010,
           2011,
           2012,
           2013,
           2014,
           2015,
           2016,
           2017,
           2018,
           2001,
           2002,
           2003,
           2004,
           2005,
           2006,
           2007,
           2008,
           2009,
           2010,
           2011,
           2012,
           2013,
           2014,
           2015,
           2016,
           2017,
           2018,
           2007,
           2008,
           2009,
           2010,
           2011,
           2012,
           2013,
           2014,
           2015,
           2016,
           2017,
           2018
          ],
          "coloraxis": "coloraxis",
          "symbol": "circle"
         },
         "mode": "markers",
         "name": "0",
         "scene": "scene",
         "showlegend": true,
         "type": "scatter3d",
         "x": [
          222935,
          228607,
          231296,
          236174,
          240764,
          243779,
          247561,
          252388,
          256232,
          247336,
          246770,
          248002,
          250730,
          254893,
          257062,
          260003,
          263291,
          22562,
          22992,
          23383,
          23963,
          23953,
          25004,
          25623,
          25890,
          25899,
          27115,
          26927,
          26938,
          26881,
          26991,
          27017,
          26965,
          27191,
          27652,
          150287,
          152186,
          154827,
          158437,
          161721,
          165515,
          167631,
          169307,
          169562,
          168852,
          169278,
          169392,
          169866,
          170781,
          173310,
          176016,
          178820,
          181199,
          26080,
          26517,
          26972,
          27740,
          28118,
          28551,
          29055,
          29059,
          29085,
          28520,
          28662,
          27239,
          27217,
          27323,
          27310,
          27440,
          27642,
          28057,
          485178,
          494102,
          507810,
          521422,
          531970,
          543050,
          552109,
          556213,
          555657,
          543376,
          545184,
          545625,
          548424,
          552427,
          561714,
          568919,
          13945,
          14113,
          14477,
          14310,
          14601,
          14625,
          14685,
          14641,
          14621,
          14592,
          14549,
          14580,
          15001,
          15093,
          144571,
          148521,
          151994,
          156985,
          154030,
          160315,
          164584,
          165781,
          165455,
          159978,
          160463,
          163357,
          163679,
          164467,
          167141,
          170450,
          172720,
          177987,
          120471,
          123008,
          125804,
          129110,
          132635,
          136749,
          140124,
          142043,
          142609,
          141236,
          140956,
          140761,
          140519,
          140798,
          141501,
          143054,
          143801,
          145721,
          142838,
          149901,
          156011,
          163461,
          169623,
          176901,
          184644,
          185168,
          185208,
          190865,
          191143,
          192071,
          192843,
          197403,
          201277,
          205321,
          208549,
          212034,
          264475,
          277457,
          292466,
          306186,
          317788,
          326658,
          333858,
          332854,
          333032,
          321520,
          323785,
          329849,
          333663,
          336783,
          343802,
          350202,
          357470,
          367347,
          57066,
          58372,
          58890,
          60453,
          61466,
          63538,
          65373,
          66121,
          66409,
          67531,
          67528,
          67729,
          67489,
          67826,
          68163,
          68566,
          68943,
          69721,
          32736,
          32798,
          33713,
          34105,
          32606,
          33164,
          33983,
          34487,
          34792,
          34862,
          34708,
          34408,
          34367,
          34426,
          34777,
          35141,
          35621,
          35520,
          14059,
          14459,
          14688,
          14928,
          15377,
          15677,
          15808,
          15963,
          16221,
          16422,
          16385,
          16298,
          16263,
          16356,
          16468,
          16773,
          16726,
          16489,
          296709,
          299485,
          303310,
          307226,
          303623,
          309647,
          311775,
          313480,
          312980,
          297619,
          299261,
          299511,
          301120,
          303907,
          306944,
          309986,
          313381,
          318560,
          53061,
          56785,
          61541,
          69683,
          78617,
          89075,
          93568,
          95512,
          94901,
          95696,
          96241,
          97160,
          97843,
          99121,
          101353,
          103095,
          105157,
          107511,
          11197,
          10161,
          10480,
          10649,
          10845,
          11916,
          12249,
          12331,
          12414,
          11549,
          11527,
          11530,
          11562,
          11794,
          11840,
          11916,
          12161,
          12009,
          45284,
          45911,
          46491,
          46857,
          47713,
          48195,
          49398,
          50611,
          50046,
          46389,
          48200,
          47506,
          47588,
          48096,
          48315,
          48486,
          48263,
          47828,
          14699,
          15023,
          15517,
          15900,
          16221,
          16703,
          17106,
          17256,
          17393,
          16939,
          16983,
          16946,
          16880,
          16853,
          16839,
          17424,
          10612,
          10664,
          10729,
          10733,
          10729,
          10796,
          11055,
          11323,
          11311,
          12884,
          12812,
          12671,
          12658,
          12852,
          12853,
          13047,
          13087,
          13002,
          14952,
          15202,
          15615,
          16171,
          16479,
          16509,
          16815,
          16923,
          16798,
          15863,
          15789,
          15907,
          16106,
          16543,
          16346,
          16628,
          16297,
          16499,
          13731,
          13925,
          14025,
          14303,
          14315,
          14517,
          14705,
          14779,
          14783,
          14799,
          14744,
          14836,
          14507,
          14351,
          14630,
          14665,
          14663,
          14621,
          26921,
          27437,
          27400,
          27787,
          27333,
          27186,
          27520,
          27909,
          28333,
          27731,
          27653,
          27762,
          27682,
          27712,
          27645,
          27637,
          27426,
          27296,
          36302,
          36154,
          36511,
          37394,
          38376,
          38678,
          39651,
          41216,
          41320,
          39140,
          38908,
          38132,
          37808,
          37895,
          38096,
          38370,
          39057,
          39586,
          132762,
          136484,
          140670,
          145207,
          150784,
          157006,
          162193,
          164907,
          165048,
          172778,
          173078,
          173104,
          173808,
          174955,
          176819,
          179503,
          181882,
          185604,
          88212,
          89038,
          90393,
          92057,
          93456,
          96672,
          98727,
          100207,
          99713,
          98786,
          98712,
          98955,
          99092,
          99818,
          100748,
          101531,
          102138,
          102525,
          18714,
          18708,
          18940,
          19012,
          19157,
          19502,
          19464,
          19757,
          19857,
          19927,
          19901,
          19984,
          20022,
          20025,
          19902,
          20003,
          20210,
          20133,
          115716,
          118149,
          121174,
          126829,
          130043,
          135262,
          139757,
          141667,
          141634,
          138028,
          138694,
          139446,
          139586,
          140955,
          143326,
          146410,
          148962,
          151825,
          47495,
          47707,
          48991,
          48870,
          49691,
          50246,
          50416,
          52639,
          52637,
          49746,
          49964,
          49847,
          50166,
          50231,
          50458,
          50345,
          50418,
          50435,
          13043,
          13261,
          13552,
          14064,
          14233,
          14353,
          14494,
          14553,
          14677,
          14761,
          14666,
          14478,
          14554,
          14597,
          14519,
          14498,
          14611,
          14733,
          7057,
          7205,
          7353,
          7535,
          7971,
          8060,
          8215,
          8287,
          8183,
          8870,
          8752,
          8663,
          8618,
          8696,
          8664,
          8621,
          8479,
          8501,
          220323,
          231072,
          240716,
          251878,
          263017,
          276783,
          286499,
          288379,
          291993,
          297047,
          298265,
          299677,
          303317,
          309736,
          316569,
          323985,
          331724,
          342917,
          454918,
          475073,
          495088,
          521253,
          244208,
          248039,
          255500,
          263896,
          271111,
          272497,
          272896,
          274892,
          274803,
          275487,
          276278,
          277670,
          278377,
          281292,
          284443,
          287671,
          287899,
          292332,
          35118,
          36013,
          36664,
          37486,
          37985,
          38981,
          40045,
          40817,
          40674,
          40801,
          40767,
          40339,
          40304,
          40473,
          40448,
          40553,
          41015,
          41054,
          8365,
          8370,
          8519,
          8483,
          8668,
          8698,
          8736,
          8719,
          8915,
          18862,
          18932,
          19139,
          19498,
          19696,
          19814,
          19944,
          20152,
          20333,
          19224,
          19298,
          19227,
          19395,
          19303,
          19200,
          19238,
          19377,
          19473,
          270771,
          277362,
          286884,
          295242,
          304364,
          308325,
          315890,
          317699,
          318404,
          322833,
          325905,
          330302,
          333880,
          339545,
          349334,
          357591,
          368782,
          377826,
          264277,
          271096,
          281966,
          293317,
          304926,
          315074,
          325023,
          329418,
          330440,
          331303,
          331745,
          332989,
          335008,
          337455,
          341205,
          345749,
          349267,
          353898,
          128873,
          131051,
          134491,
          137637,
          141059,
          142645,
          143737,
          143868,
          143856,
          146318,
          146689,
          147203,
          148077,
          148585,
          150062,
          150870,
          153022,
          155556,
          74206,
          76047,
          76889,
          73940,
          59409,
          61094,
          63062,
          65016,
          65759,
          68188,
          69569,
          71915,
          72588,
          73314,
          73684,
          73745,
          74661,
          75321,
          76536,
          77841,
          80456,
          82748,
          173450,
          176971,
          181102,
          185778,
          188939,
          192672,
          196540,
          197597,
          196237,
          180822,
          181679,
          187280,
          188349,
          190666,
          191898,
          192925,
          195488,
          198152,
          36147,
          36551,
          37236,
          38004,
          37765,
          38666,
          39030,
          40003,
          39703,
          39996,
          39870,
          39805,
          39762,
          39828,
          40052,
          40806,
          41140,
          41120,
          179534,
          193355,
          210438,
          225816,
          235156,
          255903,
          266123,
          273709,
          272788,
          268685,
          273867,
          280866,
          288361,
          295553,
          308327,
          322862,
          337614,
          352496,
          352380,
          361468,
          375318,
          389776,
          406898,
          424355,
          434425,
          438668,
          439786,
          464697,
          466533,
          468562,
          473566,
          479340,
          487588,
          495868,
          505709,
          515077,
          496112,
          502385,
          511929,
          528389,
          541840,
          565049,
          70820,
          71329,
          71971,
          73226,
          73764,
          74416,
          74799,
          74989,
          74608,
          74364,
          74052,
          73158,
          72605,
          72523,
          72756,
          72972,
          73176,
          72981,
          121370,
          124956,
          128889,
          133721,
          136443,
          141428,
          142144,
          144136,
          144508,
          151372,
          154901,
          155390,
          157317,
          159785,
          162925,
          167009,
          170835,
          174887,
          334023,
          339684,
          348761,
          358307,
          367867,
          379386,
          387461,
          393608,
          389320,
          379448,
          381319,
          383664,
          385292,
          387140,
          392090,
          399538,
          407260,
          417442,
          377960,
          387626,
          394900,
          403361,
          411744,
          420667,
          425698,
          426413,
          423759,
          422718,
          424587,
          428104,
          431074,
          437086,
          442903,
          449124,
          454757,
          463560,
          128604,
          133953,
          139849,
          149336,
          157278,
          165291,
          173935,
          181180,
          183572,
          190039,
          192852,
          196071,
          201541,
          207443,
          213566,
          220257,
          229715,
          238742,
          198253,
          203360,
          211898,
          226216,
          240039,
          259315,
          271961,
          276585,
          272864,
          277789,
          279696,
          280355,
          281151,
          282821,
          287749,
          292826,
          297634,
          302432,
          56932,
          61348,
          63001,
          66416,
          74052,
          82599,
          89771,
          93034,
          95326,
          93420,
          96615,
          100198,
          105104,
          111125,
          115657,
          118577,
          120700,
          124935,
          37198,
          37713,
          38174,
          38799,
          39608,
          40927,
          40230,
          41551,
          43215,
          43796,
          43873,
          44168,
          44452,
          44349,
          44690,
          44879,
          19521,
          19800,
          20646,
          20941,
          21310,
          21471,
          22516,
          23199,
          23164,
          22570,
          22500,
          22898,
          23018,
          22932,
          22824,
          22478,
          22295,
          22283,
          15046,
          15028,
          15722,
          15974,
          15576,
          15535,
          15473,
          15510,
          15483,
          15647,
          15918,
          15887,
          15947,
          15867,
          452050,
          459737,
          470770,
          484261,
          494649,
          503844,
          508014,
          510750,
          507105,
          494593,
          495400,
          497145,
          498978,
          503851,
          510494,
          517411,
          523405,
          531062,
          23807,
          24217,
          24938,
          25505,
          26867,
          28393,
          29417,
          30717,
          31791,
          30776,
          30877,
          30771,
          30869,
          31285,
          31283,
          31599,
          31909,
          31943,
          42542,
          45521,
          47066,
          50543,
          53525,
          55786,
          57093,
          57784,
          57917,
          55043,
          55450,
          56965,
          57779,
          59793,
          60687,
          62943,
          65301,
          67656,
          23719,
          24779,
          24721,
          24896,
          24638,
          24922,
          24793,
          24959,
          24975,
          24888,
          24985,
          25129
         ],
         "y": [
          0.036,
          0.04,
          0.037,
          0.036,
          0.029,
          0.027,
          0.03,
          0.044,
          0.071,
          0.078,
          0.068,
          0.06,
          0.054,
          0.047,
          0.043,
          0.039,
          0.033,
          0.042,
          0.048,
          0.048,
          0.041,
          0.032,
          0.028,
          0.037,
          0.058,
          0.101,
          0.11,
          0.102,
          0.089,
          0.077,
          0.066,
          0.056,
          0.049,
          0.042,
          0.035,
          0.053,
          0.058,
          0.053,
          0.045,
          0.036,
          0.031,
          0.037,
          0.057,
          0.091,
          0.102,
          0.102,
          0.089,
          0.076,
          0.065,
          0.055,
          0.048,
          0.042,
          0.041,
          0.046,
          0.045,
          0.041,
          0.04,
          0.032,
          0.029,
          0.034,
          0.05,
          0.081,
          0.095,
          0.091,
          0.078,
          0.066,
          0.058,
          0.049,
          0.043,
          0.037,
          0.034,
          0.045,
          0.059,
          0.053,
          0.046,
          0.036,
          0.033,
          0.044,
          0.067,
          0.104,
          0.109,
          0.109,
          0.097,
          0.087,
          0.072,
          0.06,
          0.052,
          0.038,
          0.032,
          0.037,
          0.055,
          0.085,
          0.098,
          0.104,
          0.094,
          0.082,
          0.071,
          0.062,
          0.058,
          0.049,
          0.043,
          0.045,
          0.058,
          0.055,
          0.055,
          0.04,
          0.034,
          0.052,
          0.083,
          0.119,
          0.124,
          0.113,
          0.098,
          0.084,
          0.071,
          0.061,
          0.054,
          0.048,
          0.041,
          0.059,
          0.068,
          0.063,
          0.056,
          0.043,
          0.038,
          0.051,
          0.083,
          0.121,
          0.133,
          0.125,
          0.111,
          0.101,
          0.088,
          0.076,
          0.068,
          0.059,
          0.053,
          0.04,
          0.051,
          0.046,
          0.043,
          0.034,
          0.03,
          0.035,
          0.055,
          0.093,
          0.096,
          0.091,
          0.079,
          0.066,
          0.059,
          0.051,
          0.045,
          0.039,
          0.034,
          0.042,
          0.052,
          0.05,
          0.043,
          0.035,
          0.031,
          0.044,
          0.071,
          0.111,
          0.113,
          0.101,
          0.087,
          0.074,
          0.061,
          0.053,
          0.047,
          0.042,
          0.035,
          0.056,
          0.055,
          0.048,
          0.044,
          0.034,
          0.032,
          0.037,
          0.057,
          0.093,
          0.105,
          0.103,
          0.091,
          0.079,
          0.068,
          0.056,
          0.049,
          0.044,
          0.038,
          0.051,
          0.063,
          0.058,
          0.059,
          0.046,
          0.036,
          0.049,
          0.069,
          0.101,
          0.119,
          0.104,
          0.103,
          0.086,
          0.074,
          0.059,
          0.053,
          0.045,
          0.04,
          0.057,
          0.053,
          0.052,
          0.053,
          0.038,
          0.035,
          0.044,
          0.076,
          0.114,
          0.125,
          0.123,
          0.105,
          0.089,
          0.076,
          0.063,
          0.055,
          0.048,
          0.043,
          0.051,
          0.055,
          0.05,
          0.049,
          0.039,
          0.032,
          0.04,
          0.062,
          0.099,
          0.097,
          0.096,
          0.087,
          0.076,
          0.066,
          0.056,
          0.05,
          0.042,
          0.037,
          0.048,
          0.061,
          0.058,
          0.053,
          0.044,
          0.045,
          0.066,
          0.099,
          0.147,
          0.12,
          0.114,
          0.102,
          0.087,
          0.075,
          0.063,
          0.056,
          0.049,
          0.042,
          0.043,
          0.05,
          0.045,
          0.037,
          0.036,
          0.03,
          0.032,
          0.049,
          0.074,
          0.077,
          0.076,
          0.067,
          0.058,
          0.058,
          0.048,
          0.044,
          0.037,
          0.036,
          0.05,
          0.057,
          0.053,
          0.048,
          0.039,
          0.035,
          0.044,
          0.063,
          0.1,
          0.114,
          0.116,
          0.106,
          0.095,
          0.085,
          0.073,
          0.063,
          0.055,
          0.046,
          0.045,
          0.05,
          0.045,
          0.04,
          0.032,
          0.029,
          0.039,
          0.058,
          0.093,
          0.104,
          0.103,
          0.093,
          0.082,
          0.069,
          0.057,
          0.038,
          0.059,
          0.06,
          0.056,
          0.056,
          0.049,
          0.039,
          0.048,
          0.071,
          0.093,
          0.092,
          0.095,
          0.079,
          0.078,
          0.079,
          0.072,
          0.063,
          0.054,
          0.04,
          0.059,
          0.056,
          0.048,
          0.04,
          0.033,
          0.031,
          0.039,
          0.065,
          0.096,
          0.1,
          0.096,
          0.083,
          0.07,
          0.062,
          0.053,
          0.047,
          0.039,
          0.046,
          0.078,
          0.063,
          0.056,
          0.049,
          0.041,
          0.038,
          0.047,
          0.073,
          0.112,
          0.111,
          0.104,
          0.091,
          0.09,
          0.078,
          0.065,
          0.057,
          0.049,
          0.043,
          0.071,
          0.074,
          0.068,
          0.063,
          0.048,
          0.04,
          0.046,
          0.069,
          0.105,
          0.112,
          0.101,
          0.092,
          0.086,
          0.079,
          0.071,
          0.067,
          0.059,
          0.053,
          0.078,
          0.086,
          0.086,
          0.086,
          0.074,
          0.063,
          0.075,
          0.111,
          0.142,
          0.136,
          0.138,
          0.131,
          0.124,
          0.116,
          0.107,
          0.086,
          0.074,
          0.062,
          0.054,
          0.07,
          0.065,
          0.058,
          0.049,
          0.045,
          0.059,
          0.088,
          0.133,
          0.131,
          0.125,
          0.109,
          0.094,
          0.082,
          0.07,
          0.061,
          0.053,
          0.046,
          0.053,
          0.063,
          0.057,
          0.054,
          0.042,
          0.037,
          0.049,
          0.074,
          0.108,
          0.121,
          0.115,
          0.106,
          0.099,
          0.087,
          0.076,
          0.066,
          0.057,
          0.049,
          0.062,
          0.059,
          0.049,
          0.046,
          0.036,
          0.03,
          0.036,
          0.052,
          0.08,
          0.1,
          0.098,
          0.091,
          0.082,
          0.072,
          0.062,
          0.054,
          0.048,
          0.04,
          0.06,
          0.074,
          0.07,
          0.07,
          0.048,
          0.041,
          0.057,
          0.082,
          0.129,
          0.135,
          0.126,
          0.113,
          0.1,
          0.081,
          0.069,
          0.061,
          0.051,
          0.044,
          0.051,
          0.048,
          0.043,
          0.041,
          0.035,
          0.036,
          0.04,
          0.053,
          0.074,
          0.088,
          0.094,
          0.089,
          0.079,
          0.069,
          0.059,
          0.053,
          0.046,
          0.041,
          0.046,
          0.047,
          0.044,
          0.038,
          0.032,
          0.029,
          0.034,
          0.052,
          0.081,
          0.096,
          0.1,
          0.095,
          0.081,
          0.068,
          0.06,
          0.053,
          0.044,
          0.039,
          0.054,
          0.05,
          0.042,
          0.034,
          0.03,
          0.028,
          0.03,
          0.047,
          0.075,
          0.07,
          0.062,
          0.059,
          0.054,
          0.053,
          0.046,
          0.044,
          0.037,
          0.034,
          0.046,
          0.059,
          0.053,
          0.046,
          0.038,
          0.034,
          0.042,
          0.066,
          0.111,
          0.114,
          0.106,
          0.091,
          0.077,
          0.066,
          0.056,
          0.049,
          0.042,
          0.036,
          0.039,
          0.05,
          0.047,
          0.042,
          0.037,
          0.045,
          0.042,
          0.038,
          0.032,
          0.027,
          0.031,
          0.047,
          0.071,
          0.077,
          0.078,
          0.072,
          0.064,
          0.057,
          0.051,
          0.046,
          0.04,
          0.034,
          0.053,
          0.059,
          0.055,
          0.048,
          0.038,
          0.035,
          0.043,
          0.073,
          0.115,
          0.116,
          0.109,
          0.096,
          0.085,
          0.07,
          0.058,
          0.052,
          0.045,
          0.04,
          0.085,
          0.091,
          0.082,
          0.07,
          0.068,
          0.059,
          0.052,
          0.046,
          0.04,
          0.051,
          0.053,
          0.051,
          0.054,
          0.047,
          0.052,
          0.062,
          0.072,
          0.107,
          0.097,
          0.096,
          0.088,
          0.081,
          0.073,
          0.062,
          0.053,
          0.045,
          0.04,
          0.042,
          0.052,
          0.048,
          0.043,
          0.035,
          0.031,
          0.042,
          0.072,
          0.116,
          0.111,
          0.099,
          0.084,
          0.07,
          0.059,
          0.051,
          0.046,
          0.04,
          0.035,
          0.051,
          0.06,
          0.055,
          0.048,
          0.038,
          0.034,
          0.047,
          0.081,
          0.128,
          0.132,
          0.123,
          0.105,
          0.089,
          0.075,
          0.066,
          0.059,
          0.051,
          0.044,
          0.052,
          0.059,
          0.055,
          0.052,
          0.04,
          0.035,
          0.044,
          0.071,
          0.11,
          0.104,
          0.099,
          0.086,
          0.075,
          0.062,
          0.054,
          0.049,
          0.042,
          0.036,
          0.035,
          0.032,
          0.033,
          0.026,
          0.042,
          0.05,
          0.049,
          0.042,
          0.033,
          0.029,
          0.034,
          0.056,
          0.096,
          0.103,
          0.096,
          0.083,
          0.07,
          0.061,
          0.052,
          0.045,
          0.039,
          0.033,
          0.041,
          0.044,
          0.038,
          0.034,
          0.028,
          0.024,
          0.031,
          0.047,
          0.072,
          0.081,
          0.078,
          0.069,
          0.06,
          0.053,
          0.046,
          0.041,
          0.035,
          0.031,
          0.064,
          0.07,
          0.068,
          0.064,
          0.048,
          0.041,
          0.053,
          0.084,
          0.119,
          0.122,
          0.119,
          0.103,
          0.091,
          0.076,
          0.064,
          0.052,
          0.044,
          0.038,
          0.046,
          0.06,
          0.055,
          0.049,
          0.038,
          0.034,
          0.043,
          0.065,
          0.112,
          0.121,
          0.113,
          0.097,
          0.083,
          0.069,
          0.058,
          0.05,
          0.044,
          0.037,
          0.048,
          0.061,
          0.058,
          0.052,
          0.044,
          0.039,
          0.05,
          0.077,
          0.119,
          0.116,
          0.108,
          0.093,
          0.08,
          0.069,
          0.059,
          0.052,
          0.045,
          0.039,
          0.052,
          0.059,
          0.057,
          0.051,
          0.041,
          0.037,
          0.056,
          0.067,
          0.057,
          0.055,
          0.043,
          0.037,
          0.048,
          0.076,
          0.118,
          0.13,
          0.128,
          0.122,
          0.108,
          0.09,
          0.077,
          0.064,
          0.055,
          0.05,
          0.047,
          0.053,
          0.047,
          0.045,
          0.036,
          0.03,
          0.037,
          0.058,
          0.091,
          0.09,
          0.086,
          0.078,
          0.067,
          0.056,
          0.049,
          0.046,
          0.039,
          0.034,
          0.04,
          0.05,
          0.047,
          0.042,
          0.034,
          0.031,
          0.046,
          0.074,
          0.113,
          0.112,
          0.102,
          0.087,
          0.073,
          0.06,
          0.051,
          0.046,
          0.04,
          0.035,
          0.041,
          0.057,
          0.052,
          0.044,
          0.034,
          0.029,
          0.037,
          0.058,
          0.098,
          0.103,
          0.096,
          0.083,
          0.07,
          0.059,
          0.05,
          0.043,
          0.038,
          0.033,
          0.038,
          0.045,
          0.043,
          0.038,
          0.031,
          0.027,
          0.033,
          0.052,
          0.084,
          0.085,
          0.077,
          0.067,
          0.057,
          0.048,
          0.04,
          0.038,
          0.034,
          0.03,
          0.065,
          0.074,
          0.068,
          0.065,
          0.048,
          0.042,
          0.058,
          0.089,
          0.134,
          0.133,
          0.126,
          0.113,
          0.104,
          0.082,
          0.064,
          0.058,
          0.052,
          0.045,
          0.056,
          0.06,
          0.053,
          0.047,
          0.034,
          0.028,
          0.036,
          0.058,
          0.091,
          0.129,
          0.122,
          0.109,
          0.097,
          0.086,
          0.078,
          0.072,
          0.062,
          0.052,
          0.047,
          0.044,
          0.036,
          0.032,
          0.037,
          0.061,
          0.097,
          0.095,
          0.092,
          0.083,
          0.072,
          0.065,
          0.055,
          0.049,
          0.043,
          0.038,
          0.068,
          0.068,
          0.068,
          0.055,
          0.041,
          0.04,
          0.043,
          0.067,
          0.108,
          0.102,
          0.1,
          0.093,
          0.082,
          0.071,
          0.068,
          0.054,
          0.045,
          0.039,
          0.03,
          0.026,
          0.032,
          0.05,
          0.075,
          0.082,
          0.082,
          0.074,
          0.066,
          0.062,
          0.049,
          0.044,
          0.038,
          0.033,
          0.044,
          0.057,
          0.053,
          0.047,
          0.037,
          0.033,
          0.042,
          0.068,
          0.108,
          0.119,
          0.112,
          0.098,
          0.086,
          0.07,
          0.059,
          0.051,
          0.045,
          0.038,
          0.037,
          0.044,
          0.042,
          0.036,
          0.028,
          0.025,
          0.03,
          0.046,
          0.07,
          0.081,
          0.082,
          0.075,
          0.062,
          0.053,
          0.047,
          0.042,
          0.036,
          0.032,
          0.04,
          0.046,
          0.038,
          0.036,
          0.028,
          0.022,
          0.028,
          0.046,
          0.076,
          0.091,
          0.085,
          0.075,
          0.064,
          0.055,
          0.047,
          0.043,
          0.037,
          0.032,
          0.041,
          0.065,
          0.101,
          0.102,
          0.1,
          0.091,
          0.08,
          0.069,
          0.06,
          0.052,
          0.044,
          0.039
         ],
         "z": [
          26917,
          27648,
          28867,
          30939,
          33145,
          34748,
          36456,
          37469,
          39080,
          39688,
          40775,
          41588,
          42691,
          43598,
          44257,
          45705,
          47858,
          23903,
          24108,
          25370,
          26503,
          27483,
          28143,
          28338,
          29124,
          29509,
          29649,
          30733,
          30616,
          30955,
          31589,
          31746,
          32118,
          33240,
          33877,
          26433,
          27448,
          29127,
          30257,
          31894,
          33341,
          33950,
          34361,
          34857,
          35948,
          35906,
          35546,
          35755,
          36828,
          37790,
          38770,
          39317,
          40652,
          26350,
          27106,
          27179,
          28489,
          29666,
          29425,
          30034,
          30670,
          30880,
          30769,
          30838,
          31467,
          32678,
          34199,
          35763,
          35692,
          35630,
          37468,
          32798,
          33913,
          35280,
          37912,
          38287,
          39778,
          40975,
          42089,
          43111,
          43770,
          44185,
          44153,
          44364,
          44484,
          45978,
          46778,
          24620,
          26709,
          27445,
          27291,
          27601,
          27999,
          27861,
          29194,
          29469,
          29911,
          30811,
          29059,
          32057,
          32746,
          25404,
          26119,
          25627,
          29998,
          31937,
          32370,
          32833,
          32927,
          32563,
          32414,
          32830,
          33218,
          34046,
          34559,
          35668,
          36356,
          37707,
          38922,
          25954,
          25958,
          27616,
          28582,
          30265,
          31438,
          31729,
          31664,
          33564,
          34679,
          35028,
          35470,
          35556,
          35142,
          35716,
          35475,
          36520,
          37288,
          22782,
          23610,
          26836,
          28033,
          29212,
          30475,
          31079,
          31297,
          31840,
          32238,
          32866,
          33430,
          33780,
          35055,
          35941,
          36742,
          38122,
          39490,
          30839,
          31507,
          33235,
          34856,
          38211,
          39320,
          41300,
          40178,
          39808,
          40820,
          40979,
          41778,
          43214,
          43934,
          44985,
          45427,
          46415,
          48697,
          26720,
          26780,
          27339,
          28820,
          30196,
          31361,
          31779,
          32132,
          32912,
          33989,
          33289,
          33535,
          34054,
          34888,
          35620,
          35681,
          37443,
          38204,
          22139,
          23382,
          23890,
          25919,
          26143,
          27991,
          29214,
          29661,
          30846,
          31639,
          31936,
          32839,
          33426,
          33988,
          34549,
          34618,
          35633,
          36489,
          24693,
          28088,
          24927,
          26204,
          27247,
          27270,
          27371,
          28072,
          27947,
          28556,
          28641,
          29191,
          29422,
          32077,
          32106,
          33367,
          34590,
          35228,
          28610,
          28905,
          29692,
          30972,
          32643,
          33754,
          34710,
          35512,
          36512,
          36730,
          37808,
          38406,
          38146,
          39354,
          40964,
          41637,
          42975,
          44262,
          24706,
          26374,
          28129,
          30824,
          32112,
          30351,
          30467,
          30417,
          30493,
          30883,
          30832,
          31196,
          31425,
          31443,
          32929,
          33180,
          34017,
          35493,
          20860,
          21636,
          22843,
          24214,
          26108,
          27067,
          27186,
          28215,
          29039,
          28528,
          28100,
          28284,
          29060,
          29364,
          30141,
          30217,
          30667,
          31600,
          23909,
          25380,
          25771,
          26457,
          27407,
          28655,
          30176,
          30676,
          31227,
          30919,
          31964,
          32196,
          31989,
          33021,
          33367,
          33748,
          35395,
          36571,
          23345,
          23400,
          24512,
          26260,
          26692,
          27359,
          27821,
          29905,
          30232,
          29997,
          29733,
          30018,
          31088,
          31880,
          32273,
          33200,
          24048,
          22633,
          23208,
          24976,
          28835,
          31221,
          32780,
          34245,
          36137,
          36194,
          37164,
          35408,
          35764,
          37067,
          38755,
          39552,
          41206,
          42009,
          25735,
          25737,
          26188,
          27664,
          28999,
          29949,
          30835,
          32145,
          32092,
          32220,
          32590,
          33159,
          33292,
          34181,
          34912,
          34341,
          35146,
          36906,
          31378,
          30331,
          31990,
          34585,
          35951,
          36516,
          35608,
          36688,
          41653,
          39128,
          39119,
          40287,
          40587,
          41824,
          39651,
          38215,
          42886,
          45410,
          23461,
          24389,
          24761,
          25940,
          26413,
          26632,
          27305,
          28463,
          28118,
          27770,
          28940,
          29821,
          29632,
          30806,
          31846,
          33283,
          34226,
          34934,
          23189,
          24133,
          24916,
          26487,
          26882,
          28556,
          30891,
          29950,
          29098,
          32946,
          31929,
          34784,
          35353,
          35585,
          37523,
          37102,
          37041,
          40841,
          24973,
          25349,
          26442,
          27081,
          28325,
          28990,
          29328,
          30133,
          30751,
          30767,
          31149,
          31953,
          32141,
          33127,
          33813,
          34330,
          35749,
          37411,
          22852,
          23210,
          23299,
          24487,
          25795,
          27538,
          28315,
          27692,
          28651,
          29786,
          29287,
          29618,
          30831,
          31284,
          32515,
          32840,
          33819,
          34535,
          22259,
          22566,
          23261,
          24428,
          24946,
          25643,
          26722,
          26701,
          27228,
          26951,
          27108,
          27700,
          27963,
          29068,
          29774,
          29309,
          31061,
          31553,
          27900,
          28444,
          29546,
          31812,
          32591,
          33823,
          35901,
          36557,
          35937,
          35191,
          35320,
          37121,
          37075,
          38754,
          40170,
          40903,
          41571,
          42879,
          23964,
          24050,
          26333,
          25836,
          27760,
          28114,
          29338,
          29839,
          31045,
          31065,
          31570,
          31776,
          32151,
          32773,
          33499,
          33911,
          34473,
          35620,
          22623,
          23414,
          24291,
          25698,
          26767,
          28136,
          29110,
          28867,
          29679,
          28646,
          28395,
          29741,
          30576,
          31216,
          32223,
          33280,
          33246,
          33905,
          21192,
          21330,
          23591,
          24481,
          24478,
          25729,
          26768,
          27333,
          28135,
          28134,
          27687,
          28781,
          28856,
          29619,
          29526,
          31049,
          31804,
          33359,
          25917,
          26632,
          27702,
          28996,
          30872,
          32269,
          31682,
          32369,
          31876,
          32219,
          32373,
          32720,
          33393,
          34204,
          35531,
          36000,
          36597,
          38237,
          29432,
          30324,
          31523,
          33932,
          30287,
          31432,
          32069,
          33578,
          34541,
          36033,
          37585,
          38517,
          39145,
          39561,
          39677,
          40087,
          40253,
          41113,
          42217,
          42887,
          44297,
          45272,
          21665,
          21438,
          22817,
          24502,
          24975,
          26122,
          26818,
          27627,
          27281,
          27598,
          27900,
          28491,
          28875,
          29272,
          30101,
          30912,
          31512,
          32670,
          33999,
          31181,
          30322,
          32127,
          33566,
          34427,
          34507,
          36395,
          39206,
          20837,
          21403,
          22370,
          24014,
          24611,
          26033,
          27233,
          28039,
          28715,
          29119,
          29237,
          29605,
          29842,
          31479,
          32062,
          31774,
          32067,
          32979,
          26629,
          28561,
          29217,
          30503,
          31906,
          33744,
          34792,
          34923,
          34885,
          35939,
          36948,
          36998,
          37320,
          37931,
          39444,
          40913,
          41597,
          43043,
          26012,
          26628,
          27840,
          29013,
          30008,
          31330,
          31623,
          32579,
          32724,
          33014,
          33475,
          33841,
          34425,
          34811,
          35784,
          37092,
          37233,
          38265,
          28589,
          30638,
          30963,
          32605,
          34518,
          35098,
          37341,
          37805,
          38553,
          38505,
          39324,
          39439,
          38148,
          39007,
          40420,
          40663,
          41252,
          42308,
          38902,
          39120,
          41017,
          42722,
          29673,
          30747,
          31438,
          31810,
          32948,
          33973,
          34688,
          34821,
          34976,
          37186,
          38377,
          39729,
          38637,
          40092,
          39959,
          38870,
          39531,
          41359,
          26151,
          27242,
          29266,
          31163,
          32976,
          34409,
          35613,
          36454,
          37823,
          38638,
          38881,
          39523,
          40207,
          41111,
          42627,
          43388,
          44313,
          45655,
          24869,
          25162,
          25767,
          27363,
          27966,
          28870,
          29661,
          30311,
          30904,
          31177,
          31449,
          32167,
          33332,
          33987,
          35213,
          34642,
          39506,
          37077,
          25083,
          26099,
          26922,
          27948,
          29288,
          30505,
          31958,
          32161,
          32476,
          33079,
          33036,
          33803,
          34138,
          34970,
          35863,
          36232,
          36852,
          37721,
          24562,
          25602,
          27351,
          28720,
          29432,
          31057,
          31890,
          32619,
          32339,
          32995,
          33342,
          33764,
          34540,
          35315,
          36428,
          37204,
          38247,
          39196,
          28890,
          29505,
          30277,
          31163,
          32235,
          33530,
          27575,
          27036,
          28389,
          28918,
          30256,
          31251,
          31508,
          32591,
          33920,
          33990,
          34507,
          34132,
          34152,
          34731,
          35944,
          36249,
          36873,
          38128,
          28060,
          28944,
          29722,
          31029,
          32453,
          34594,
          35536,
          35820,
          35777,
          36148,
          36785,
          36945,
          37341,
          38802,
          35179,
          36377,
          36840,
          37946,
          26878,
          27745,
          29079,
          30977,
          32109,
          33814,
          35555,
          34837,
          34080,
          34070,
          34615,
          34921,
          36173,
          36727,
          42890,
          43614,
          45261,
          47359,
          25440,
          25004,
          26412,
          27768,
          29788,
          32641,
          31966,
          32107,
          32508,
          32486,
          32737,
          33330,
          33117,
          33901,
          43653,
          44588,
          46699,
          48718,
          29030,
          29213,
          31416,
          33367,
          35455,
          37363,
          37737,
          38200,
          38454,
          38669,
          39166,
          39908,
          40567,
          41603,
          40361,
          43614,
          43395,
          45475,
          31951,
          32637,
          33629,
          35137,
          37126,
          37815,
          38582,
          38860,
          38404,
          38512,
          39359,
          40249,
          40948,
          41919,
          38021,
          38714,
          40043,
          41155,
          28247,
          28090,
          29192,
          29490,
          30030,
          30828,
          33831,
          32499,
          32547,
          32739,
          34917,
          35894,
          37574,
          36931,
          36956,
          38010,
          39789,
          41043,
          23240,
          25078,
          25842,
          27157,
          27494,
          28370,
          27657,
          28144,
          28244,
          28871,
          29720,
          30421,
          31346,
          32359,
          33592,
          34894,
          27425,
          27509,
          28430,
          28618,
          30072,
          30922,
          33075,
          33167,
          33708,
          35625,
          36468,
          36491,
          37593,
          37220,
          40705,
          38014,
          39208,
          40110,
          30772,
          31598,
          31775,
          31997,
          33539,
          33411,
          33075,
          33684,
          34060,
          34270,
          34267,
          35374,
          36174,
          38187,
          26064,
          26947,
          28037,
          29346,
          29927,
          31197,
          32196,
          32938,
          33021,
          33726,
          33861,
          34847,
          34947,
          36038,
          37196,
          37849,
          39060,
          40085,
          33264,
          24454,
          25445,
          26967,
          27767,
          29317,
          30586,
          31927,
          32352,
          32946,
          30815,
          30787,
          32026,
          32543,
          33230,
          33996,
          35143,
          35867,
          23060,
          24107,
          25092,
          26453,
          28773,
          30092,
          30861,
          30522,
          30373,
          30447,
          30674,
          31658,
          32148,
          32801,
          34151,
          35582,
          37312,
          38543,
          28704,
          29124,
          31078,
          30603,
          30508,
          30819,
          31727,
          32248,
          33389,
          33578,
          34625,
          35465
         ]
        },
        {
         "customdata": [
          [
           2017
          ],
          [
           2018
          ],
          [
           2001
          ],
          [
           2002
          ],
          [
           2003
          ],
          [
           2004
          ],
          [
           2005
          ],
          [
           2006
          ],
          [
           2007
          ],
          [
           2008
          ],
          [
           2009
          ],
          [
           2010
          ],
          [
           2011
          ],
          [
           2012
          ],
          [
           2013
          ],
          [
           2014
          ],
          [
           2015
          ],
          [
           2016
          ],
          [
           2017
          ],
          [
           2018
          ],
          [
           2001
          ],
          [
           2002
          ],
          [
           2003
          ],
          [
           2004
          ],
          [
           2005
          ],
          [
           2006
          ],
          [
           2007
          ],
          [
           2008
          ],
          [
           2009
          ],
          [
           2010
          ],
          [
           2011
          ],
          [
           2012
          ],
          [
           2013
          ],
          [
           2014
          ],
          [
           2015
          ],
          [
           2016
          ],
          [
           2017
          ],
          [
           2018
          ],
          [
           2005
          ],
          [
           2006
          ],
          [
           2007
          ],
          [
           2008
          ],
          [
           2009
          ],
          [
           2010
          ],
          [
           2011
          ],
          [
           2012
          ],
          [
           2013
          ],
          [
           2014
          ],
          [
           2015
          ],
          [
           2016
          ],
          [
           2017
          ],
          [
           2018
          ],
          [
           2001
          ],
          [
           2002
          ],
          [
           2003
          ],
          [
           2004
          ],
          [
           2005
          ],
          [
           2006
          ],
          [
           2007
          ],
          [
           2008
          ],
          [
           2009
          ],
          [
           2010
          ],
          [
           2011
          ],
          [
           2012
          ],
          [
           2013
          ],
          [
           2014
          ],
          [
           2015
          ],
          [
           2016
          ],
          [
           2017
          ],
          [
           2018
          ],
          [
           2001
          ],
          [
           2002
          ],
          [
           2003
          ],
          [
           2004
          ],
          [
           2005
          ],
          [
           2006
          ],
          [
           2007
          ],
          [
           2008
          ],
          [
           2009
          ],
          [
           2010
          ],
          [
           2011
          ],
          [
           2012
          ],
          [
           2013
          ],
          [
           2014
          ],
          [
           2015
          ],
          [
           2016
          ],
          [
           2017
          ],
          [
           2018
          ],
          [
           2001
          ],
          [
           2002
          ],
          [
           2003
          ],
          [
           2004
          ],
          [
           2005
          ],
          [
           2006
          ],
          [
           2007
          ],
          [
           2008
          ],
          [
           2009
          ],
          [
           2010
          ],
          [
           2011
          ],
          [
           2012
          ],
          [
           2013
          ],
          [
           2014
          ],
          [
           2015
          ],
          [
           2016
          ],
          [
           2017
          ],
          [
           2018
          ],
          [
           2007
          ],
          [
           2008
          ],
          [
           2009
          ],
          [
           2010
          ],
          [
           2011
          ],
          [
           2012
          ],
          [
           2013
          ],
          [
           2014
          ],
          [
           2015
          ],
          [
           2016
          ],
          [
           2017
          ],
          [
           2018
          ]
         ],
         "hovertemplate": "class=2<br>totalpopulation=%{x}<br>unemployment_rate=%{y}<br>average_yearly_wage=%{z}<br>year=%{marker.color}<extra></extra>",
         "legendgroup": "2",
         "marker": {
          "color": [
           2017,
           2018,
           2001,
           2002,
           2003,
           2004,
           2005,
           2006,
           2007,
           2008,
           2009,
           2010,
           2011,
           2012,
           2013,
           2014,
           2015,
           2016,
           2017,
           2018,
           2001,
           2002,
           2003,
           2004,
           2005,
           2006,
           2007,
           2008,
           2009,
           2010,
           2011,
           2012,
           2013,
           2014,
           2015,
           2016,
           2017,
           2018,
           2005,
           2006,
           2007,
           2008,
           2009,
           2010,
           2011,
           2012,
           2013,
           2014,
           2015,
           2016,
           2017,
           2018,
           2001,
           2002,
           2003,
           2004,
           2005,
           2006,
           2007,
           2008,
           2009,
           2010,
           2011,
           2012,
           2013,
           2014,
           2015,
           2016,
           2017,
           2018,
           2001,
           2002,
           2003,
           2004,
           2005,
           2006,
           2007,
           2008,
           2009,
           2010,
           2011,
           2012,
           2013,
           2014,
           2015,
           2016,
           2017,
           2018,
           2001,
           2002,
           2003,
           2004,
           2005,
           2006,
           2007,
           2008,
           2009,
           2010,
           2011,
           2012,
           2013,
           2014,
           2015,
           2016,
           2017,
           2018,
           2007,
           2008,
           2009,
           2010,
           2011,
           2012,
           2013,
           2014,
           2015,
           2016,
           2017,
           2018
          ],
          "coloraxis": "coloraxis",
          "symbol": "diamond"
         },
         "mode": "markers",
         "name": "2",
         "scene": "scene",
         "showlegend": true,
         "type": "scatter3d",
         "x": [
          575211,
          583563,
          793898,
          809394,
          826279,
          840474,
          861150,
          879235,
          897597,
          904971,
          900518,
          864263,
          864601,
          869729,
          876075,
          890066,
          905574,
          923647,
          936811,
          952861,
          1026906,
          1055617,
          1079587,
          1108435,
          1131546,
          1164425,
          1192861,
          1200541,
          1196892,
          1229226,
          1238951,
          1256118,
          1276410,
          1301887,
          1325563,
          1352797,
          1379302,
          1408864,
          549442,
          585608,
          615741,
          623725,
          615124,
          618754,
          625310,
          638029,
          643367,
          653485,
          665845,
          680539,
          698468,
          713903,
          930034,
          955865,
          983165,
          1013937,
          1043437,
          1079524,
          1105603,
          1114979,
          1108882,
          1145956,
          1157342,
          1175941,
          1202978,
          1227995,
          1252396,
          1280387,
          1313880,
          1349597,
          1154464,
          1183197,
          1211448,
          1242270,
          1265900,
          1287987,
          1295033,
          1294654,
          1287344,
          1320134,
          1325758,
          1335415,
          1345652,
          1360238,
          1378417,
          1391741,
          1414144,
          1433417,
          929208,
          933994,
          939864,
          943640,
          947744,
          948102,
          944199,
          938461,
          931113,
          916542,
          918496,
          920381,
          926610,
          933258,
          944971,
          954569,
          962003,
          970532,
          581058,
          585733,
          584343,
          602095,
          604792,
          606888,
          613950,
          623174,
          633052,
          646989,
          661645,
          673028
         ],
         "y": [
          0.044,
          0.036,
          0.044,
          0.057,
          0.055,
          0.051,
          0.04,
          0.035,
          0.042,
          0.064,
          0.105,
          0.11,
          0.102,
          0.09,
          0.078,
          0.069,
          0.059,
          0.05,
          0.043,
          0.037,
          0.043,
          0.055,
          0.052,
          0.045,
          0.038,
          0.033,
          0.042,
          0.065,
          0.106,
          0.104,
          0.096,
          0.081,
          0.069,
          0.06,
          0.051,
          0.045,
          0.04,
          0.035,
          0.032,
          0.029,
          0.047,
          0.083,
          0.123,
          0.121,
          0.108,
          0.091,
          0.076,
          0.062,
          0.052,
          0.047,
          0.041,
          0.035,
          0.044,
          0.058,
          0.053,
          0.046,
          0.036,
          0.031,
          0.038,
          0.06,
          0.104,
          0.105,
          0.098,
          0.085,
          0.071,
          0.06,
          0.051,
          0.044,
          0.038,
          0.033,
          0.052,
          0.063,
          0.059,
          0.053,
          0.043,
          0.037,
          0.044,
          0.068,
          0.107,
          0.106,
          0.1,
          0.088,
          0.075,
          0.06,
          0.052,
          0.047,
          0.042,
          0.037,
          0.045,
          0.058,
          0.054,
          0.046,
          0.039,
          0.034,
          0.042,
          0.066,
          0.108,
          0.105,
          0.097,
          0.082,
          0.069,
          0.059,
          0.05,
          0.044,
          0.039,
          0.034,
          0.046,
          0.069,
          0.113,
          0.118,
          0.112,
          0.099,
          0.086,
          0.074,
          0.064,
          0.056,
          0.048,
          0.042
         ],
         "z": [
          48469,
          49685,
          33721,
          35279,
          37027,
          38635,
          40095,
          42232,
          43641,
          43724,
          44006,
          45084,
          45556,
          47027,
          47481,
          48811,
          49682,
          50569,
          51828,
          53569,
          32874,
          33936,
          35777,
          37448,
          38450,
          40397,
          41756,
          43298,
          44722,
          45133,
          46078,
          46893,
          47408,
          48388,
          49914,
          51197,
          52651,
          54564,
          35649,
          37065,
          37658,
          37866,
          37641,
          37602,
          38192,
          38628,
          38883,
          39616,
          40921,
          41884,
          43501,
          44827,
          32218,
          33650,
          34630,
          36446,
          37701,
          39180,
          40185,
          41046,
          41048,
          41487,
          42058,
          42857,
          43145,
          44422,
          46014,
          46990,
          48203,
          49952,
          35957,
          36550,
          37632,
          38873,
          40464,
          41938,
          43777,
          44464,
          45014,
          45833,
          46322,
          47769,
          48214,
          49845,
          51328,
          51834,
          53493,
          54787,
          31742,
          32160,
          33117,
          34311,
          35586,
          36960,
          38009,
          39285,
          39961,
          41102,
          42370,
          43960,
          43494,
          44758,
          46044,
          46938,
          47743,
          49283,
          34394,
          35195,
          35485,
          35676,
          36189,
          36954,
          37485,
          38504,
          39354,
          40245,
          41387,
          42378
         ]
        },
        {
         "customdata": [
          [
           2001
          ],
          [
           2002
          ],
          [
           2003
          ],
          [
           2004
          ],
          [
           2005
          ],
          [
           2006
          ],
          [
           2007
          ],
          [
           2008
          ],
          [
           2009
          ],
          [
           2010
          ],
          [
           2011
          ],
          [
           2012
          ],
          [
           2013
          ],
          [
           2014
          ],
          [
           2015
          ],
          [
           2016
          ],
          [
           2017
          ],
          [
           2018
          ],
          [
           2001
          ],
          [
           2002
          ],
          [
           2003
          ],
          [
           2004
          ],
          [
           2005
          ],
          [
           2006
          ],
          [
           2007
          ],
          [
           2008
          ],
          [
           2009
          ],
          [
           2010
          ],
          [
           2011
          ],
          [
           2012
          ],
          [
           2013
          ],
          [
           2014
          ],
          [
           2015
          ],
          [
           2016
          ],
          [
           2017
          ],
          [
           2018
          ]
         ],
         "hovertemplate": "class=1<br>totalpopulation=%{x}<br>unemployment_rate=%{y}<br>average_yearly_wage=%{z}<br>year=%{marker.color}<extra></extra>",
         "legendgroup": "1",
         "marker": {
          "color": [
           2001,
           2002,
           2003,
           2004,
           2005,
           2006,
           2007,
           2008,
           2009,
           2010,
           2011,
           2012,
           2013,
           2014,
           2015,
           2016,
           2017,
           2018,
           2001,
           2002,
           2003,
           2004,
           2005,
           2006,
           2007,
           2008,
           2009,
           2010,
           2011,
           2012,
           2013,
           2014,
           2015,
           2016,
           2017,
           2018
          ],
          "coloraxis": "coloraxis",
          "symbol": "square"
         },
         "mode": "markers",
         "name": "1",
         "scene": "scene",
         "showlegend": true,
         "type": "scatter3d",
         "x": [
          1649925,
          1669153,
          1698425,
          1723131,
          1740987,
          1753162,
          1765707,
          1758494,
          1744922,
          1748066,
          1753162,
          1771099,
          1784715,
          1803903,
          1827367,
          1854513,
          1873970,
          1897976,
          2285869,
          2312478,
          2345932,
          2379818,
          2422075,
          2437022,
          2462292,
          2477289,
          2472344,
          2496457,
          2516537,
          2551290,
          2582375,
          2613692,
          2653934,
          2700794,
          2743095,
          2779322
         ],
         "y": [
          0.047,
          0.06,
          0.055,
          0.047,
          0.037,
          0.031,
          0.036,
          0.056,
          0.091,
          0.098,
          0.094,
          0.082,
          0.071,
          0.061,
          0.052,
          0.045,
          0.04,
          0.034,
          0.045,
          0.043,
          0.037,
          0.031,
          0.024,
          0.021,
          0.027,
          0.044,
          0.091,
          0.117,
          0.096,
          0.079,
          0.076,
          0.068,
          0.061,
          0.055,
          0.046,
          0.036
         ],
         "z": [
          33966,
          34475,
          35911,
          37905,
          39378,
          41276,
          42087,
          42718,
          43159,
          43811,
          44469,
          45051,
          45598,
          47012,
          48767,
          49548,
          51259,
          52977,
          34524,
          35694,
          36889,
          38849,
          40599,
          42975,
          44228,
          45142,
          45231,
          45653,
          46438,
          47011,
          47458,
          48883,
          50527,
          51259,
          52961,
          54800
         ]
        }
       ],
       "layout": {
        "coloraxis": {
         "colorbar": {
          "title": {
           "text": "year"
          }
         },
         "colorscale": [
          [
           0,
           "#0d0887"
          ],
          [
           0.1111111111111111,
           "#46039f"
          ],
          [
           0.2222222222222222,
           "#7201a8"
          ],
          [
           0.3333333333333333,
           "#9c179e"
          ],
          [
           0.4444444444444444,
           "#bd3786"
          ],
          [
           0.5555555555555556,
           "#d8576b"
          ],
          [
           0.6666666666666666,
           "#ed7953"
          ],
          [
           0.7777777777777778,
           "#fb9f3a"
          ],
          [
           0.8888888888888888,
           "#fdca26"
          ],
          [
           1,
           "#f0f921"
          ]
         ]
        },
        "legend": {
         "title": {
          "text": "class"
         },
         "tracegroupgap": 0,
         "x": 0,
         "y": 1
        },
        "margin": {
         "t": 60
        },
        "scene": {
         "domain": {
          "x": [
           0,
           1
          ],
          "y": [
           0,
           1
          ]
         },
         "xaxis": {
          "title": {
           "text": "totalpopulation"
          }
         },
         "yaxis": {
          "title": {
           "text": "unemployment_rate"
          }
         },
         "zaxis": {
          "title": {
           "text": "average_yearly_wage"
          }
         }
        },
        "template": {
         "data": {
          "bar": [
           {
            "error_x": {
             "color": "#2a3f5f"
            },
            "error_y": {
             "color": "#2a3f5f"
            },
            "marker": {
             "line": {
              "color": "#E5ECF6",
              "width": 0.5
             },
             "pattern": {
              "fillmode": "overlay",
              "size": 10,
              "solidity": 0.2
             }
            },
            "type": "bar"
           }
          ],
          "barpolar": [
           {
            "marker": {
             "line": {
              "color": "#E5ECF6",
              "width": 0.5
             },
             "pattern": {
              "fillmode": "overlay",
              "size": 10,
              "solidity": 0.2
             }
            },
            "type": "barpolar"
           }
          ],
          "carpet": [
           {
            "aaxis": {
             "endlinecolor": "#2a3f5f",
             "gridcolor": "white",
             "linecolor": "white",
             "minorgridcolor": "white",
             "startlinecolor": "#2a3f5f"
            },
            "baxis": {
             "endlinecolor": "#2a3f5f",
             "gridcolor": "white",
             "linecolor": "white",
             "minorgridcolor": "white",
             "startlinecolor": "#2a3f5f"
            },
            "type": "carpet"
           }
          ],
          "choropleth": [
           {
            "colorbar": {
             "outlinewidth": 0,
             "ticks": ""
            },
            "type": "choropleth"
           }
          ],
          "contour": [
           {
            "colorbar": {
             "outlinewidth": 0,
             "ticks": ""
            },
            "colorscale": [
             [
              0,
              "#0d0887"
             ],
             [
              0.1111111111111111,
              "#46039f"
             ],
             [
              0.2222222222222222,
              "#7201a8"
             ],
             [
              0.3333333333333333,
              "#9c179e"
             ],
             [
              0.4444444444444444,
              "#bd3786"
             ],
             [
              0.5555555555555556,
              "#d8576b"
             ],
             [
              0.6666666666666666,
              "#ed7953"
             ],
             [
              0.7777777777777778,
              "#fb9f3a"
             ],
             [
              0.8888888888888888,
              "#fdca26"
             ],
             [
              1,
              "#f0f921"
             ]
            ],
            "type": "contour"
           }
          ],
          "contourcarpet": [
           {
            "colorbar": {
             "outlinewidth": 0,
             "ticks": ""
            },
            "type": "contourcarpet"
           }
          ],
          "heatmap": [
           {
            "colorbar": {
             "outlinewidth": 0,
             "ticks": ""
            },
            "colorscale": [
             [
              0,
              "#0d0887"
             ],
             [
              0.1111111111111111,
              "#46039f"
             ],
             [
              0.2222222222222222,
              "#7201a8"
             ],
             [
              0.3333333333333333,
              "#9c179e"
             ],
             [
              0.4444444444444444,
              "#bd3786"
             ],
             [
              0.5555555555555556,
              "#d8576b"
             ],
             [
              0.6666666666666666,
              "#ed7953"
             ],
             [
              0.7777777777777778,
              "#fb9f3a"
             ],
             [
              0.8888888888888888,
              "#fdca26"
             ],
             [
              1,
              "#f0f921"
             ]
            ],
            "type": "heatmap"
           }
          ],
          "heatmapgl": [
           {
            "colorbar": {
             "outlinewidth": 0,
             "ticks": ""
            },
            "colorscale": [
             [
              0,
              "#0d0887"
             ],
             [
              0.1111111111111111,
              "#46039f"
             ],
             [
              0.2222222222222222,
              "#7201a8"
             ],
             [
              0.3333333333333333,
              "#9c179e"
             ],
             [
              0.4444444444444444,
              "#bd3786"
             ],
             [
              0.5555555555555556,
              "#d8576b"
             ],
             [
              0.6666666666666666,
              "#ed7953"
             ],
             [
              0.7777777777777778,
              "#fb9f3a"
             ],
             [
              0.8888888888888888,
              "#fdca26"
             ],
             [
              1,
              "#f0f921"
             ]
            ],
            "type": "heatmapgl"
           }
          ],
          "histogram": [
           {
            "marker": {
             "pattern": {
              "fillmode": "overlay",
              "size": 10,
              "solidity": 0.2
             }
            },
            "type": "histogram"
           }
          ],
          "histogram2d": [
           {
            "colorbar": {
             "outlinewidth": 0,
             "ticks": ""
            },
            "colorscale": [
             [
              0,
              "#0d0887"
             ],
             [
              0.1111111111111111,
              "#46039f"
             ],
             [
              0.2222222222222222,
              "#7201a8"
             ],
             [
              0.3333333333333333,
              "#9c179e"
             ],
             [
              0.4444444444444444,
              "#bd3786"
             ],
             [
              0.5555555555555556,
              "#d8576b"
             ],
             [
              0.6666666666666666,
              "#ed7953"
             ],
             [
              0.7777777777777778,
              "#fb9f3a"
             ],
             [
              0.8888888888888888,
              "#fdca26"
             ],
             [
              1,
              "#f0f921"
             ]
            ],
            "type": "histogram2d"
           }
          ],
          "histogram2dcontour": [
           {
            "colorbar": {
             "outlinewidth": 0,
             "ticks": ""
            },
            "colorscale": [
             [
              0,
              "#0d0887"
             ],
             [
              0.1111111111111111,
              "#46039f"
             ],
             [
              0.2222222222222222,
              "#7201a8"
             ],
             [
              0.3333333333333333,
              "#9c179e"
             ],
             [
              0.4444444444444444,
              "#bd3786"
             ],
             [
              0.5555555555555556,
              "#d8576b"
             ],
             [
              0.6666666666666666,
              "#ed7953"
             ],
             [
              0.7777777777777778,
              "#fb9f3a"
             ],
             [
              0.8888888888888888,
              "#fdca26"
             ],
             [
              1,
              "#f0f921"
             ]
            ],
            "type": "histogram2dcontour"
           }
          ],
          "mesh3d": [
           {
            "colorbar": {
             "outlinewidth": 0,
             "ticks": ""
            },
            "type": "mesh3d"
           }
          ],
          "parcoords": [
           {
            "line": {
             "colorbar": {
              "outlinewidth": 0,
              "ticks": ""
             }
            },
            "type": "parcoords"
           }
          ],
          "pie": [
           {
            "automargin": true,
            "type": "pie"
           }
          ],
          "scatter": [
           {
            "marker": {
             "colorbar": {
              "outlinewidth": 0,
              "ticks": ""
             }
            },
            "type": "scatter"
           }
          ],
          "scatter3d": [
           {
            "line": {
             "colorbar": {
              "outlinewidth": 0,
              "ticks": ""
             }
            },
            "marker": {
             "colorbar": {
              "outlinewidth": 0,
              "ticks": ""
             }
            },
            "type": "scatter3d"
           }
          ],
          "scattercarpet": [
           {
            "marker": {
             "colorbar": {
              "outlinewidth": 0,
              "ticks": ""
             }
            },
            "type": "scattercarpet"
           }
          ],
          "scattergeo": [
           {
            "marker": {
             "colorbar": {
              "outlinewidth": 0,
              "ticks": ""
             }
            },
            "type": "scattergeo"
           }
          ],
          "scattergl": [
           {
            "marker": {
             "colorbar": {
              "outlinewidth": 0,
              "ticks": ""
             }
            },
            "type": "scattergl"
           }
          ],
          "scattermapbox": [
           {
            "marker": {
             "colorbar": {
              "outlinewidth": 0,
              "ticks": ""
             }
            },
            "type": "scattermapbox"
           }
          ],
          "scatterpolar": [
           {
            "marker": {
             "colorbar": {
              "outlinewidth": 0,
              "ticks": ""
             }
            },
            "type": "scatterpolar"
           }
          ],
          "scatterpolargl": [
           {
            "marker": {
             "colorbar": {
              "outlinewidth": 0,
              "ticks": ""
             }
            },
            "type": "scatterpolargl"
           }
          ],
          "scatterternary": [
           {
            "marker": {
             "colorbar": {
              "outlinewidth": 0,
              "ticks": ""
             }
            },
            "type": "scatterternary"
           }
          ],
          "surface": [
           {
            "colorbar": {
             "outlinewidth": 0,
             "ticks": ""
            },
            "colorscale": [
             [
              0,
              "#0d0887"
             ],
             [
              0.1111111111111111,
              "#46039f"
             ],
             [
              0.2222222222222222,
              "#7201a8"
             ],
             [
              0.3333333333333333,
              "#9c179e"
             ],
             [
              0.4444444444444444,
              "#bd3786"
             ],
             [
              0.5555555555555556,
              "#d8576b"
             ],
             [
              0.6666666666666666,
              "#ed7953"
             ],
             [
              0.7777777777777778,
              "#fb9f3a"
             ],
             [
              0.8888888888888888,
              "#fdca26"
             ],
             [
              1,
              "#f0f921"
             ]
            ],
            "type": "surface"
           }
          ],
          "table": [
           {
            "cells": {
             "fill": {
              "color": "#EBF0F8"
             },
             "line": {
              "color": "white"
             }
            },
            "header": {
             "fill": {
              "color": "#C8D4E3"
             },
             "line": {
              "color": "white"
             }
            },
            "type": "table"
           }
          ]
         },
         "layout": {
          "annotationdefaults": {
           "arrowcolor": "#2a3f5f",
           "arrowhead": 0,
           "arrowwidth": 1
          },
          "autotypenumbers": "strict",
          "coloraxis": {
           "colorbar": {
            "outlinewidth": 0,
            "ticks": ""
           }
          },
          "colorscale": {
           "diverging": [
            [
             0,
             "#8e0152"
            ],
            [
             0.1,
             "#c51b7d"
            ],
            [
             0.2,
             "#de77ae"
            ],
            [
             0.3,
             "#f1b6da"
            ],
            [
             0.4,
             "#fde0ef"
            ],
            [
             0.5,
             "#f7f7f7"
            ],
            [
             0.6,
             "#e6f5d0"
            ],
            [
             0.7,
             "#b8e186"
            ],
            [
             0.8,
             "#7fbc41"
            ],
            [
             0.9,
             "#4d9221"
            ],
            [
             1,
             "#276419"
            ]
           ],
           "sequential": [
            [
             0,
             "#0d0887"
            ],
            [
             0.1111111111111111,
             "#46039f"
            ],
            [
             0.2222222222222222,
             "#7201a8"
            ],
            [
             0.3333333333333333,
             "#9c179e"
            ],
            [
             0.4444444444444444,
             "#bd3786"
            ],
            [
             0.5555555555555556,
             "#d8576b"
            ],
            [
             0.6666666666666666,
             "#ed7953"
            ],
            [
             0.7777777777777778,
             "#fb9f3a"
            ],
            [
             0.8888888888888888,
             "#fdca26"
            ],
            [
             1,
             "#f0f921"
            ]
           ],
           "sequentialminus": [
            [
             0,
             "#0d0887"
            ],
            [
             0.1111111111111111,
             "#46039f"
            ],
            [
             0.2222222222222222,
             "#7201a8"
            ],
            [
             0.3333333333333333,
             "#9c179e"
            ],
            [
             0.4444444444444444,
             "#bd3786"
            ],
            [
             0.5555555555555556,
             "#d8576b"
            ],
            [
             0.6666666666666666,
             "#ed7953"
            ],
            [
             0.7777777777777778,
             "#fb9f3a"
            ],
            [
             0.8888888888888888,
             "#fdca26"
            ],
            [
             1,
             "#f0f921"
            ]
           ]
          },
          "colorway": [
           "#636efa",
           "#EF553B",
           "#00cc96",
           "#ab63fa",
           "#FFA15A",
           "#19d3f3",
           "#FF6692",
           "#B6E880",
           "#FF97FF",
           "#FECB52"
          ],
          "font": {
           "color": "#2a3f5f"
          },
          "geo": {
           "bgcolor": "white",
           "lakecolor": "white",
           "landcolor": "#E5ECF6",
           "showlakes": true,
           "showland": true,
           "subunitcolor": "white"
          },
          "hoverlabel": {
           "align": "left"
          },
          "hovermode": "closest",
          "mapbox": {
           "style": "light"
          },
          "paper_bgcolor": "white",
          "plot_bgcolor": "#E5ECF6",
          "polar": {
           "angularaxis": {
            "gridcolor": "white",
            "linecolor": "white",
            "ticks": ""
           },
           "bgcolor": "#E5ECF6",
           "radialaxis": {
            "gridcolor": "white",
            "linecolor": "white",
            "ticks": ""
           }
          },
          "scene": {
           "xaxis": {
            "backgroundcolor": "#E5ECF6",
            "gridcolor": "white",
            "gridwidth": 2,
            "linecolor": "white",
            "showbackground": true,
            "ticks": "",
            "zerolinecolor": "white"
           },
           "yaxis": {
            "backgroundcolor": "#E5ECF6",
            "gridcolor": "white",
            "gridwidth": 2,
            "linecolor": "white",
            "showbackground": true,
            "ticks": "",
            "zerolinecolor": "white"
           },
           "zaxis": {
            "backgroundcolor": "#E5ECF6",
            "gridcolor": "white",
            "gridwidth": 2,
            "linecolor": "white",
            "showbackground": true,
            "ticks": "",
            "zerolinecolor": "white"
           }
          },
          "shapedefaults": {
           "line": {
            "color": "#2a3f5f"
           }
          },
          "ternary": {
           "aaxis": {
            "gridcolor": "white",
            "linecolor": "white",
            "ticks": ""
           },
           "baxis": {
            "gridcolor": "white",
            "linecolor": "white",
            "ticks": ""
           },
           "bgcolor": "#E5ECF6",
           "caxis": {
            "gridcolor": "white",
            "linecolor": "white",
            "ticks": ""
           }
          },
          "title": {
           "x": 0.05
          },
          "xaxis": {
           "automargin": true,
           "gridcolor": "white",
           "linecolor": "white",
           "ticks": "",
           "title": {
            "standoff": 15
           },
           "zerolinecolor": "white",
           "zerolinewidth": 2
          },
          "yaxis": {
           "automargin": true,
           "gridcolor": "white",
           "linecolor": "white",
           "ticks": "",
           "title": {
            "standoff": 15
           },
           "zerolinecolor": "white",
           "zerolinewidth": 2
          }
         }
        },
        "width": 1000
       }
      },
      "text/html": [
       "<div>                            <div id=\"a627b017-092e-4acf-a3b0-93b4b682074b\" class=\"plotly-graph-div\" style=\"height:525px; width:1000px;\"></div>            <script type=\"text/javascript\">                require([\"plotly\"], function(Plotly) {                    window.PLOTLYENV=window.PLOTLYENV || {};                                    if (document.getElementById(\"a627b017-092e-4acf-a3b0-93b4b682074b\")) {                    Plotly.newPlot(                        \"a627b017-092e-4acf-a3b0-93b4b682074b\",                        [{\"customdata\":[[2001],[2002],[2003],[2004],[2005],[2006],[2007],[2008],[2009],[2010],[2012],[2013],[2014],[2015],[2016],[2017],[2018],[2001],[2002],[2003],[2004],[2005],[2006],[2007],[2008],[2009],[2010],[2011],[2012],[2013],[2014],[2015],[2016],[2017],[2018],[2001],[2002],[2003],[2004],[2005],[2006],[2007],[2008],[2009],[2010],[2011],[2012],[2013],[2014],[2015],[2016],[2017],[2018],[2001],[2002],[2003],[2004],[2005],[2006],[2007],[2008],[2009],[2010],[2011],[2012],[2013],[2014],[2015],[2016],[2017],[2018],[2001],[2002],[2003],[2004],[2005],[2006],[2007],[2008],[2009],[2010],[2011],[2012],[2013],[2014],[2015],[2016],[2005],[2006],[2007],[2008],[2009],[2010],[2011],[2012],[2013],[2014],[2015],[2016],[2017],[2018],[2001],[2002],[2003],[2004],[2005],[2006],[2007],[2008],[2009],[2010],[2011],[2012],[2013],[2014],[2015],[2016],[2017],[2018],[2001],[2002],[2003],[2004],[2005],[2006],[2007],[2008],[2009],[2010],[2011],[2012],[2013],[2014],[2015],[2016],[2017],[2018],[2001],[2002],[2003],[2004],[2005],[2006],[2007],[2008],[2009],[2010],[2011],[2012],[2013],[2014],[2015],[2016],[2017],[2018],[2001],[2002],[2003],[2004],[2005],[2006],[2007],[2008],[2009],[2010],[2011],[2012],[2013],[2014],[2015],[2016],[2017],[2018],[2001],[2002],[2003],[2004],[2005],[2006],[2007],[2008],[2009],[2010],[2011],[2012],[2013],[2014],[2015],[2016],[2017],[2018],[2001],[2002],[2003],[2004],[2005],[2006],[2007],[2008],[2009],[2010],[2011],[2012],[2013],[2014],[2015],[2016],[2017],[2018],[2001],[2002],[2003],[2004],[2005],[2006],[2007],[2008],[2009],[2010],[2011],[2012],[2013],[2014],[2015],[2016],[2017],[2018],[2001],[2002],[2003],[2004],[2005],[2006],[2007],[2008],[2009],[2010],[2011],[2012],[2013],[2014],[2015],[2016],[2017],[2018],[2001],[2002],[2003],[2004],[2005],[2006],[2007],[2008],[2009],[2010],[2011],[2012],[2013],[2014],[2015],[2016],[2017],[2018],[2001],[2002],[2003],[2004],[2005],[2006],[2007],[2008],[2009],[2010],[2011],[2012],[2013],[2014],[2015],[2016],[2017],[2018],[2001],[2002],[2003],[2004],[2005],[2006],[2007],[2008],[2009],[2010],[2011],[2012],[2013],[2014],[2015],[2016],[2017],[2018],[2001],[2002],[2003],[2004],[2005],[2006],[2007],[2008],[2009],[2010],[2011],[2012],[2013],[2014],[2015],[2018],[2001],[2002],[2003],[2004],[2005],[2006],[2007],[2008],[2009],[2010],[2011],[2012],[2013],[2014],[2015],[2016],[2017],[2018],[2001],[2002],[2003],[2004],[2005],[2006],[2007],[2008],[2009],[2010],[2011],[2012],[2013],[2014],[2015],[2016],[2017],[2018],[2001],[2002],[2003],[2004],[2005],[2006],[2007],[2008],[2009],[2010],[2011],[2012],[2013],[2014],[2015],[2016],[2017],[2018],[2001],[2002],[2003],[2004],[2005],[2006],[2007],[2008],[2009],[2010],[2011],[2012],[2013],[2014],[2015],[2016],[2017],[2018],[2001],[2002],[2003],[2004],[2005],[2006],[2007],[2008],[2009],[2010],[2011],[2012],[2013],[2014],[2015],[2016],[2017],[2018],[2001],[2002],[2003],[2004],[2005],[2006],[2007],[2008],[2009],[2010],[2011],[2012],[2013],[2014],[2015],[2016],[2017],[2018],[2001],[2002],[2003],[2004],[2005],[2006],[2007],[2008],[2009],[2010],[2011],[2012],[2013],[2014],[2015],[2016],[2017],[2018],[2001],[2002],[2003],[2004],[2005],[2006],[2007],[2008],[2009],[2010],[2011],[2012],[2013],[2014],[2015],[2016],[2017],[2018],[2001],[2002],[2003],[2004],[2005],[2006],[2007],[2008],[2009],[2010],[2011],[2012],[2013],[2014],[2015],[2016],[2017],[2018],[2001],[2002],[2003],[2004],[2005],[2006],[2007],[2008],[2009],[2010],[2011],[2012],[2013],[2014],[2015],[2016],[2017],[2018],[2001],[2002],[2003],[2004],[2005],[2006],[2007],[2008],[2009],[2010],[2011],[2012],[2013],[2014],[2015],[2016],[2017],[2018],[2001],[2002],[2003],[2004],[2005],[2006],[2007],[2008],[2009],[2010],[2011],[2012],[2013],[2014],[2015],[2016],[2017],[2018],[2001],[2002],[2003],[2004],[2005],[2006],[2007],[2008],[2009],[2010],[2011],[2012],[2013],[2014],[2015],[2016],[2017],[2018],[2001],[2002],[2003],[2004],[2001],[2002],[2003],[2004],[2005],[2006],[2007],[2008],[2009],[2010],[2011],[2012],[2013],[2014],[2015],[2016],[2017],[2018],[2001],[2002],[2003],[2004],[2005],[2006],[2007],[2008],[2009],[2010],[2011],[2012],[2013],[2014],[2015],[2016],[2017],[2018],[2010],[2011],[2012],[2013],[2014],[2015],[2016],[2017],[2018],[2001],[2002],[2003],[2004],[2005],[2006],[2007],[2008],[2009],[2010],[2011],[2012],[2013],[2014],[2015],[2016],[2017],[2018],[2001],[2002],[2003],[2004],[2005],[2006],[2007],[2008],[2009],[2010],[2011],[2012],[2013],[2014],[2015],[2016],[2017],[2018],[2001],[2002],[2003],[2004],[2005],[2006],[2007],[2008],[2009],[2010],[2011],[2012],[2013],[2014],[2015],[2016],[2017],[2018],[2001],[2002],[2003],[2004],[2005],[2006],[2007],[2008],[2009],[2010],[2011],[2012],[2013],[2014],[2015],[2016],[2017],[2018],[2015],[2016],[2017],[2018],[2001],[2002],[2003],[2004],[2005],[2006],[2007],[2008],[2009],[2010],[2011],[2012],[2013],[2014],[2015],[2016],[2017],[2018],[2001],[2002],[2003],[2004],[2005],[2006],[2007],[2008],[2009],[2010],[2011],[2012],[2013],[2014],[2015],[2016],[2017],[2018],[2001],[2002],[2003],[2004],[2005],[2006],[2007],[2008],[2009],[2010],[2011],[2012],[2013],[2014],[2015],[2016],[2017],[2018],[2001],[2002],[2003],[2004],[2005],[2006],[2007],[2008],[2009],[2010],[2011],[2012],[2013],[2014],[2015],[2016],[2017],[2018],[2001],[2002],[2003],[2004],[2005],[2006],[2007],[2008],[2009],[2010],[2011],[2012],[2013],[2014],[2015],[2016],[2017],[2018],[2001],[2002],[2003],[2004],[2005],[2006],[2001],[2002],[2003],[2004],[2005],[2006],[2007],[2008],[2009],[2010],[2011],[2012],[2013],[2014],[2015],[2016],[2017],[2018],[2001],[2002],[2003],[2004],[2005],[2006],[2007],[2008],[2009],[2010],[2011],[2012],[2013],[2014],[2015],[2016],[2017],[2018],[2001],[2002],[2003],[2004],[2005],[2006],[2007],[2008],[2009],[2010],[2011],[2012],[2013],[2014],[2015],[2016],[2017],[2018],[2001],[2002],[2003],[2004],[2005],[2006],[2007],[2008],[2009],[2010],[2011],[2012],[2013],[2014],[2015],[2016],[2017],[2018],[2001],[2002],[2003],[2004],[2005],[2006],[2007],[2008],[2009],[2010],[2011],[2012],[2013],[2014],[2015],[2016],[2017],[2018],[2001],[2002],[2003],[2004],[2005],[2006],[2007],[2008],[2009],[2010],[2011],[2012],[2013],[2014],[2015],[2016],[2017],[2018],[2001],[2002],[2003],[2004],[2005],[2006],[2007],[2008],[2009],[2010],[2011],[2012],[2013],[2014],[2015],[2016],[2017],[2018],[2003],[2004],[2005],[2006],[2007],[2008],[2009],[2010],[2011],[2012],[2013],[2014],[2015],[2016],[2017],[2018],[2001],[2002],[2003],[2004],[2005],[2006],[2007],[2008],[2009],[2010],[2011],[2012],[2013],[2014],[2015],[2016],[2017],[2018],[2005],[2006],[2007],[2008],[2009],[2010],[2011],[2012],[2013],[2014],[2015],[2016],[2017],[2018],[2001],[2002],[2003],[2004],[2005],[2006],[2007],[2008],[2009],[2010],[2011],[2012],[2013],[2014],[2015],[2016],[2017],[2018],[2001],[2002],[2003],[2004],[2005],[2006],[2007],[2008],[2009],[2010],[2011],[2012],[2013],[2014],[2015],[2016],[2017],[2018],[2001],[2002],[2003],[2004],[2005],[2006],[2007],[2008],[2009],[2010],[2011],[2012],[2013],[2014],[2015],[2016],[2017],[2018],[2007],[2008],[2009],[2010],[2011],[2012],[2013],[2014],[2015],[2016],[2017],[2018]],\"hovertemplate\":\"class=0<br>totalpopulation=%{x}<br>unemployment_rate=%{y}<br>average_yearly_wage=%{z}<br>year=%{marker.color}<extra></extra>\",\"legendgroup\":\"0\",\"marker\":{\"color\":[2001,2002,2003,2004,2005,2006,2007,2008,2009,2010,2012,2013,2014,2015,2016,2017,2018,2001,2002,2003,2004,2005,2006,2007,2008,2009,2010,2011,2012,2013,2014,2015,2016,2017,2018,2001,2002,2003,2004,2005,2006,2007,2008,2009,2010,2011,2012,2013,2014,2015,2016,2017,2018,2001,2002,2003,2004,2005,2006,2007,2008,2009,2010,2011,2012,2013,2014,2015,2016,2017,2018,2001,2002,2003,2004,2005,2006,2007,2008,2009,2010,2011,2012,2013,2014,2015,2016,2005,2006,2007,2008,2009,2010,2011,2012,2013,2014,2015,2016,2017,2018,2001,2002,2003,2004,2005,2006,2007,2008,2009,2010,2011,2012,2013,2014,2015,2016,2017,2018,2001,2002,2003,2004,2005,2006,2007,2008,2009,2010,2011,2012,2013,2014,2015,2016,2017,2018,2001,2002,2003,2004,2005,2006,2007,2008,2009,2010,2011,2012,2013,2014,2015,2016,2017,2018,2001,2002,2003,2004,2005,2006,2007,2008,2009,2010,2011,2012,2013,2014,2015,2016,2017,2018,2001,2002,2003,2004,2005,2006,2007,2008,2009,2010,2011,2012,2013,2014,2015,2016,2017,2018,2001,2002,2003,2004,2005,2006,2007,2008,2009,2010,2011,2012,2013,2014,2015,2016,2017,2018,2001,2002,2003,2004,2005,2006,2007,2008,2009,2010,2011,2012,2013,2014,2015,2016,2017,2018,2001,2002,2003,2004,2005,2006,2007,2008,2009,2010,2011,2012,2013,2014,2015,2016,2017,2018,2001,2002,2003,2004,2005,2006,2007,2008,2009,2010,2011,2012,2013,2014,2015,2016,2017,2018,2001,2002,2003,2004,2005,2006,2007,2008,2009,2010,2011,2012,2013,2014,2015,2016,2017,2018,2001,2002,2003,2004,2005,2006,2007,2008,2009,2010,2011,2012,2013,2014,2015,2016,2017,2018,2001,2002,2003,2004,2005,2006,2007,2008,2009,2010,2011,2012,2013,2014,2015,2018,2001,2002,2003,2004,2005,2006,2007,2008,2009,2010,2011,2012,2013,2014,2015,2016,2017,2018,2001,2002,2003,2004,2005,2006,2007,2008,2009,2010,2011,2012,2013,2014,2015,2016,2017,2018,2001,2002,2003,2004,2005,2006,2007,2008,2009,2010,2011,2012,2013,2014,2015,2016,2017,2018,2001,2002,2003,2004,2005,2006,2007,2008,2009,2010,2011,2012,2013,2014,2015,2016,2017,2018,2001,2002,2003,2004,2005,2006,2007,2008,2009,2010,2011,2012,2013,2014,2015,2016,2017,2018,2001,2002,2003,2004,2005,2006,2007,2008,2009,2010,2011,2012,2013,2014,2015,2016,2017,2018,2001,2002,2003,2004,2005,2006,2007,2008,2009,2010,2011,2012,2013,2014,2015,2016,2017,2018,2001,2002,2003,2004,2005,2006,2007,2008,2009,2010,2011,2012,2013,2014,2015,2016,2017,2018,2001,2002,2003,2004,2005,2006,2007,2008,2009,2010,2011,2012,2013,2014,2015,2016,2017,2018,2001,2002,2003,2004,2005,2006,2007,2008,2009,2010,2011,2012,2013,2014,2015,2016,2017,2018,2001,2002,2003,2004,2005,2006,2007,2008,2009,2010,2011,2012,2013,2014,2015,2016,2017,2018,2001,2002,2003,2004,2005,2006,2007,2008,2009,2010,2011,2012,2013,2014,2015,2016,2017,2018,2001,2002,2003,2004,2005,2006,2007,2008,2009,2010,2011,2012,2013,2014,2015,2016,2017,2018,2001,2002,2003,2004,2001,2002,2003,2004,2005,2006,2007,2008,2009,2010,2011,2012,2013,2014,2015,2016,2017,2018,2001,2002,2003,2004,2005,2006,2007,2008,2009,2010,2011,2012,2013,2014,2015,2016,2017,2018,2010,2011,2012,2013,2014,2015,2016,2017,2018,2001,2002,2003,2004,2005,2006,2007,2008,2009,2010,2011,2012,2013,2014,2015,2016,2017,2018,2001,2002,2003,2004,2005,2006,2007,2008,2009,2010,2011,2012,2013,2014,2015,2016,2017,2018,2001,2002,2003,2004,2005,2006,2007,2008,2009,2010,2011,2012,2013,2014,2015,2016,2017,2018,2001,2002,2003,2004,2005,2006,2007,2008,2009,2010,2011,2012,2013,2014,2015,2016,2017,2018,2015,2016,2017,2018,2001,2002,2003,2004,2005,2006,2007,2008,2009,2010,2011,2012,2013,2014,2015,2016,2017,2018,2001,2002,2003,2004,2005,2006,2007,2008,2009,2010,2011,2012,2013,2014,2015,2016,2017,2018,2001,2002,2003,2004,2005,2006,2007,2008,2009,2010,2011,2012,2013,2014,2015,2016,2017,2018,2001,2002,2003,2004,2005,2006,2007,2008,2009,2010,2011,2012,2013,2014,2015,2016,2017,2018,2001,2002,2003,2004,2005,2006,2007,2008,2009,2010,2011,2012,2013,2014,2015,2016,2017,2018,2001,2002,2003,2004,2005,2006,2001,2002,2003,2004,2005,2006,2007,2008,2009,2010,2011,2012,2013,2014,2015,2016,2017,2018,2001,2002,2003,2004,2005,2006,2007,2008,2009,2010,2011,2012,2013,2014,2015,2016,2017,2018,2001,2002,2003,2004,2005,2006,2007,2008,2009,2010,2011,2012,2013,2014,2015,2016,2017,2018,2001,2002,2003,2004,2005,2006,2007,2008,2009,2010,2011,2012,2013,2014,2015,2016,2017,2018,2001,2002,2003,2004,2005,2006,2007,2008,2009,2010,2011,2012,2013,2014,2015,2016,2017,2018,2001,2002,2003,2004,2005,2006,2007,2008,2009,2010,2011,2012,2013,2014,2015,2016,2017,2018,2001,2002,2003,2004,2005,2006,2007,2008,2009,2010,2011,2012,2013,2014,2015,2016,2017,2018,2003,2004,2005,2006,2007,2008,2009,2010,2011,2012,2013,2014,2015,2016,2017,2018,2001,2002,2003,2004,2005,2006,2007,2008,2009,2010,2011,2012,2013,2014,2015,2016,2017,2018,2005,2006,2007,2008,2009,2010,2011,2012,2013,2014,2015,2016,2017,2018,2001,2002,2003,2004,2005,2006,2007,2008,2009,2010,2011,2012,2013,2014,2015,2016,2017,2018,2001,2002,2003,2004,2005,2006,2007,2008,2009,2010,2011,2012,2013,2014,2015,2016,2017,2018,2001,2002,2003,2004,2005,2006,2007,2008,2009,2010,2011,2012,2013,2014,2015,2016,2017,2018,2007,2008,2009,2010,2011,2012,2013,2014,2015,2016,2017,2018],\"coloraxis\":\"coloraxis\",\"symbol\":\"circle\"},\"mode\":\"markers\",\"name\":\"0\",\"scene\":\"scene\",\"showlegend\":true,\"type\":\"scatter3d\",\"x\":[222935,228607,231296,236174,240764,243779,247561,252388,256232,247336,246770,248002,250730,254893,257062,260003,263291,22562,22992,23383,23963,23953,25004,25623,25890,25899,27115,26927,26938,26881,26991,27017,26965,27191,27652,150287,152186,154827,158437,161721,165515,167631,169307,169562,168852,169278,169392,169866,170781,173310,176016,178820,181199,26080,26517,26972,27740,28118,28551,29055,29059,29085,28520,28662,27239,27217,27323,27310,27440,27642,28057,485178,494102,507810,521422,531970,543050,552109,556213,555657,543376,545184,545625,548424,552427,561714,568919,13945,14113,14477,14310,14601,14625,14685,14641,14621,14592,14549,14580,15001,15093,144571,148521,151994,156985,154030,160315,164584,165781,165455,159978,160463,163357,163679,164467,167141,170450,172720,177987,120471,123008,125804,129110,132635,136749,140124,142043,142609,141236,140956,140761,140519,140798,141501,143054,143801,145721,142838,149901,156011,163461,169623,176901,184644,185168,185208,190865,191143,192071,192843,197403,201277,205321,208549,212034,264475,277457,292466,306186,317788,326658,333858,332854,333032,321520,323785,329849,333663,336783,343802,350202,357470,367347,57066,58372,58890,60453,61466,63538,65373,66121,66409,67531,67528,67729,67489,67826,68163,68566,68943,69721,32736,32798,33713,34105,32606,33164,33983,34487,34792,34862,34708,34408,34367,34426,34777,35141,35621,35520,14059,14459,14688,14928,15377,15677,15808,15963,16221,16422,16385,16298,16263,16356,16468,16773,16726,16489,296709,299485,303310,307226,303623,309647,311775,313480,312980,297619,299261,299511,301120,303907,306944,309986,313381,318560,53061,56785,61541,69683,78617,89075,93568,95512,94901,95696,96241,97160,97843,99121,101353,103095,105157,107511,11197,10161,10480,10649,10845,11916,12249,12331,12414,11549,11527,11530,11562,11794,11840,11916,12161,12009,45284,45911,46491,46857,47713,48195,49398,50611,50046,46389,48200,47506,47588,48096,48315,48486,48263,47828,14699,15023,15517,15900,16221,16703,17106,17256,17393,16939,16983,16946,16880,16853,16839,17424,10612,10664,10729,10733,10729,10796,11055,11323,11311,12884,12812,12671,12658,12852,12853,13047,13087,13002,14952,15202,15615,16171,16479,16509,16815,16923,16798,15863,15789,15907,16106,16543,16346,16628,16297,16499,13731,13925,14025,14303,14315,14517,14705,14779,14783,14799,14744,14836,14507,14351,14630,14665,14663,14621,26921,27437,27400,27787,27333,27186,27520,27909,28333,27731,27653,27762,27682,27712,27645,27637,27426,27296,36302,36154,36511,37394,38376,38678,39651,41216,41320,39140,38908,38132,37808,37895,38096,38370,39057,39586,132762,136484,140670,145207,150784,157006,162193,164907,165048,172778,173078,173104,173808,174955,176819,179503,181882,185604,88212,89038,90393,92057,93456,96672,98727,100207,99713,98786,98712,98955,99092,99818,100748,101531,102138,102525,18714,18708,18940,19012,19157,19502,19464,19757,19857,19927,19901,19984,20022,20025,19902,20003,20210,20133,115716,118149,121174,126829,130043,135262,139757,141667,141634,138028,138694,139446,139586,140955,143326,146410,148962,151825,47495,47707,48991,48870,49691,50246,50416,52639,52637,49746,49964,49847,50166,50231,50458,50345,50418,50435,13043,13261,13552,14064,14233,14353,14494,14553,14677,14761,14666,14478,14554,14597,14519,14498,14611,14733,7057,7205,7353,7535,7971,8060,8215,8287,8183,8870,8752,8663,8618,8696,8664,8621,8479,8501,220323,231072,240716,251878,263017,276783,286499,288379,291993,297047,298265,299677,303317,309736,316569,323985,331724,342917,454918,475073,495088,521253,244208,248039,255500,263896,271111,272497,272896,274892,274803,275487,276278,277670,278377,281292,284443,287671,287899,292332,35118,36013,36664,37486,37985,38981,40045,40817,40674,40801,40767,40339,40304,40473,40448,40553,41015,41054,8365,8370,8519,8483,8668,8698,8736,8719,8915,18862,18932,19139,19498,19696,19814,19944,20152,20333,19224,19298,19227,19395,19303,19200,19238,19377,19473,270771,277362,286884,295242,304364,308325,315890,317699,318404,322833,325905,330302,333880,339545,349334,357591,368782,377826,264277,271096,281966,293317,304926,315074,325023,329418,330440,331303,331745,332989,335008,337455,341205,345749,349267,353898,128873,131051,134491,137637,141059,142645,143737,143868,143856,146318,146689,147203,148077,148585,150062,150870,153022,155556,74206,76047,76889,73940,59409,61094,63062,65016,65759,68188,69569,71915,72588,73314,73684,73745,74661,75321,76536,77841,80456,82748,173450,176971,181102,185778,188939,192672,196540,197597,196237,180822,181679,187280,188349,190666,191898,192925,195488,198152,36147,36551,37236,38004,37765,38666,39030,40003,39703,39996,39870,39805,39762,39828,40052,40806,41140,41120,179534,193355,210438,225816,235156,255903,266123,273709,272788,268685,273867,280866,288361,295553,308327,322862,337614,352496,352380,361468,375318,389776,406898,424355,434425,438668,439786,464697,466533,468562,473566,479340,487588,495868,505709,515077,496112,502385,511929,528389,541840,565049,70820,71329,71971,73226,73764,74416,74799,74989,74608,74364,74052,73158,72605,72523,72756,72972,73176,72981,121370,124956,128889,133721,136443,141428,142144,144136,144508,151372,154901,155390,157317,159785,162925,167009,170835,174887,334023,339684,348761,358307,367867,379386,387461,393608,389320,379448,381319,383664,385292,387140,392090,399538,407260,417442,377960,387626,394900,403361,411744,420667,425698,426413,423759,422718,424587,428104,431074,437086,442903,449124,454757,463560,128604,133953,139849,149336,157278,165291,173935,181180,183572,190039,192852,196071,201541,207443,213566,220257,229715,238742,198253,203360,211898,226216,240039,259315,271961,276585,272864,277789,279696,280355,281151,282821,287749,292826,297634,302432,56932,61348,63001,66416,74052,82599,89771,93034,95326,93420,96615,100198,105104,111125,115657,118577,120700,124935,37198,37713,38174,38799,39608,40927,40230,41551,43215,43796,43873,44168,44452,44349,44690,44879,19521,19800,20646,20941,21310,21471,22516,23199,23164,22570,22500,22898,23018,22932,22824,22478,22295,22283,15046,15028,15722,15974,15576,15535,15473,15510,15483,15647,15918,15887,15947,15867,452050,459737,470770,484261,494649,503844,508014,510750,507105,494593,495400,497145,498978,503851,510494,517411,523405,531062,23807,24217,24938,25505,26867,28393,29417,30717,31791,30776,30877,30771,30869,31285,31283,31599,31909,31943,42542,45521,47066,50543,53525,55786,57093,57784,57917,55043,55450,56965,57779,59793,60687,62943,65301,67656,23719,24779,24721,24896,24638,24922,24793,24959,24975,24888,24985,25129],\"y\":[0.036,0.04,0.037,0.036,0.029,0.027,0.03,0.044,0.071,0.078,0.068,0.06,0.054,0.047,0.043,0.039,0.033,0.042,0.048,0.048,0.041,0.032,0.028,0.037,0.058,0.101,0.11,0.102,0.089,0.077,0.066,0.056,0.049,0.042,0.035,0.053,0.058,0.053,0.045,0.036,0.031,0.037,0.057,0.091,0.102,0.102,0.089,0.076,0.065,0.055,0.048,0.042,0.041,0.046,0.045,0.041,0.04,0.032,0.029,0.034,0.05,0.081,0.095,0.091,0.078,0.066,0.058,0.049,0.043,0.037,0.034,0.045,0.059,0.053,0.046,0.036,0.033,0.044,0.067,0.104,0.109,0.109,0.097,0.087,0.072,0.06,0.052,0.038,0.032,0.037,0.055,0.085,0.098,0.104,0.094,0.082,0.071,0.062,0.058,0.049,0.043,0.045,0.058,0.055,0.055,0.04,0.034,0.052,0.083,0.119,0.124,0.113,0.098,0.084,0.071,0.061,0.054,0.048,0.041,0.059,0.068,0.063,0.056,0.043,0.038,0.051,0.083,0.121,0.133,0.125,0.111,0.101,0.088,0.076,0.068,0.059,0.053,0.04,0.051,0.046,0.043,0.034,0.03,0.035,0.055,0.093,0.096,0.091,0.079,0.066,0.059,0.051,0.045,0.039,0.034,0.042,0.052,0.05,0.043,0.035,0.031,0.044,0.071,0.111,0.113,0.101,0.087,0.074,0.061,0.053,0.047,0.042,0.035,0.056,0.055,0.048,0.044,0.034,0.032,0.037,0.057,0.093,0.105,0.103,0.091,0.079,0.068,0.056,0.049,0.044,0.038,0.051,0.063,0.058,0.059,0.046,0.036,0.049,0.069,0.101,0.119,0.104,0.103,0.086,0.074,0.059,0.053,0.045,0.04,0.057,0.053,0.052,0.053,0.038,0.035,0.044,0.076,0.114,0.125,0.123,0.105,0.089,0.076,0.063,0.055,0.048,0.043,0.051,0.055,0.05,0.049,0.039,0.032,0.04,0.062,0.099,0.097,0.096,0.087,0.076,0.066,0.056,0.05,0.042,0.037,0.048,0.061,0.058,0.053,0.044,0.045,0.066,0.099,0.147,0.12,0.114,0.102,0.087,0.075,0.063,0.056,0.049,0.042,0.043,0.05,0.045,0.037,0.036,0.03,0.032,0.049,0.074,0.077,0.076,0.067,0.058,0.058,0.048,0.044,0.037,0.036,0.05,0.057,0.053,0.048,0.039,0.035,0.044,0.063,0.1,0.114,0.116,0.106,0.095,0.085,0.073,0.063,0.055,0.046,0.045,0.05,0.045,0.04,0.032,0.029,0.039,0.058,0.093,0.104,0.103,0.093,0.082,0.069,0.057,0.038,0.059,0.06,0.056,0.056,0.049,0.039,0.048,0.071,0.093,0.092,0.095,0.079,0.078,0.079,0.072,0.063,0.054,0.04,0.059,0.056,0.048,0.04,0.033,0.031,0.039,0.065,0.096,0.1,0.096,0.083,0.07,0.062,0.053,0.047,0.039,0.046,0.078,0.063,0.056,0.049,0.041,0.038,0.047,0.073,0.112,0.111,0.104,0.091,0.09,0.078,0.065,0.057,0.049,0.043,0.071,0.074,0.068,0.063,0.048,0.04,0.046,0.069,0.105,0.112,0.101,0.092,0.086,0.079,0.071,0.067,0.059,0.053,0.078,0.086,0.086,0.086,0.074,0.063,0.075,0.111,0.142,0.136,0.138,0.131,0.124,0.116,0.107,0.086,0.074,0.062,0.054,0.07,0.065,0.058,0.049,0.045,0.059,0.088,0.133,0.131,0.125,0.109,0.094,0.082,0.07,0.061,0.053,0.046,0.053,0.063,0.057,0.054,0.042,0.037,0.049,0.074,0.108,0.121,0.115,0.106,0.099,0.087,0.076,0.066,0.057,0.049,0.062,0.059,0.049,0.046,0.036,0.03,0.036,0.052,0.08,0.1,0.098,0.091,0.082,0.072,0.062,0.054,0.048,0.04,0.06,0.074,0.07,0.07,0.048,0.041,0.057,0.082,0.129,0.135,0.126,0.113,0.1,0.081,0.069,0.061,0.051,0.044,0.051,0.048,0.043,0.041,0.035,0.036,0.04,0.053,0.074,0.088,0.094,0.089,0.079,0.069,0.059,0.053,0.046,0.041,0.046,0.047,0.044,0.038,0.032,0.029,0.034,0.052,0.081,0.096,0.1,0.095,0.081,0.068,0.06,0.053,0.044,0.039,0.054,0.05,0.042,0.034,0.03,0.028,0.03,0.047,0.075,0.07,0.062,0.059,0.054,0.053,0.046,0.044,0.037,0.034,0.046,0.059,0.053,0.046,0.038,0.034,0.042,0.066,0.111,0.114,0.106,0.091,0.077,0.066,0.056,0.049,0.042,0.036,0.039,0.05,0.047,0.042,0.037,0.045,0.042,0.038,0.032,0.027,0.031,0.047,0.071,0.077,0.078,0.072,0.064,0.057,0.051,0.046,0.04,0.034,0.053,0.059,0.055,0.048,0.038,0.035,0.043,0.073,0.115,0.116,0.109,0.096,0.085,0.07,0.058,0.052,0.045,0.04,0.085,0.091,0.082,0.07,0.068,0.059,0.052,0.046,0.04,0.051,0.053,0.051,0.054,0.047,0.052,0.062,0.072,0.107,0.097,0.096,0.088,0.081,0.073,0.062,0.053,0.045,0.04,0.042,0.052,0.048,0.043,0.035,0.031,0.042,0.072,0.116,0.111,0.099,0.084,0.07,0.059,0.051,0.046,0.04,0.035,0.051,0.06,0.055,0.048,0.038,0.034,0.047,0.081,0.128,0.132,0.123,0.105,0.089,0.075,0.066,0.059,0.051,0.044,0.052,0.059,0.055,0.052,0.04,0.035,0.044,0.071,0.11,0.104,0.099,0.086,0.075,0.062,0.054,0.049,0.042,0.036,0.035,0.032,0.033,0.026,0.042,0.05,0.049,0.042,0.033,0.029,0.034,0.056,0.096,0.103,0.096,0.083,0.07,0.061,0.052,0.045,0.039,0.033,0.041,0.044,0.038,0.034,0.028,0.024,0.031,0.047,0.072,0.081,0.078,0.069,0.06,0.053,0.046,0.041,0.035,0.031,0.064,0.07,0.068,0.064,0.048,0.041,0.053,0.084,0.119,0.122,0.119,0.103,0.091,0.076,0.064,0.052,0.044,0.038,0.046,0.06,0.055,0.049,0.038,0.034,0.043,0.065,0.112,0.121,0.113,0.097,0.083,0.069,0.058,0.05,0.044,0.037,0.048,0.061,0.058,0.052,0.044,0.039,0.05,0.077,0.119,0.116,0.108,0.093,0.08,0.069,0.059,0.052,0.045,0.039,0.052,0.059,0.057,0.051,0.041,0.037,0.056,0.067,0.057,0.055,0.043,0.037,0.048,0.076,0.118,0.13,0.128,0.122,0.108,0.09,0.077,0.064,0.055,0.05,0.047,0.053,0.047,0.045,0.036,0.03,0.037,0.058,0.091,0.09,0.086,0.078,0.067,0.056,0.049,0.046,0.039,0.034,0.04,0.05,0.047,0.042,0.034,0.031,0.046,0.074,0.113,0.112,0.102,0.087,0.073,0.06,0.051,0.046,0.04,0.035,0.041,0.057,0.052,0.044,0.034,0.029,0.037,0.058,0.098,0.103,0.096,0.083,0.07,0.059,0.05,0.043,0.038,0.033,0.038,0.045,0.043,0.038,0.031,0.027,0.033,0.052,0.084,0.085,0.077,0.067,0.057,0.048,0.04,0.038,0.034,0.03,0.065,0.074,0.068,0.065,0.048,0.042,0.058,0.089,0.134,0.133,0.126,0.113,0.104,0.082,0.064,0.058,0.052,0.045,0.056,0.06,0.053,0.047,0.034,0.028,0.036,0.058,0.091,0.129,0.122,0.109,0.097,0.086,0.078,0.072,0.062,0.052,0.047,0.044,0.036,0.032,0.037,0.061,0.097,0.095,0.092,0.083,0.072,0.065,0.055,0.049,0.043,0.038,0.068,0.068,0.068,0.055,0.041,0.04,0.043,0.067,0.108,0.102,0.1,0.093,0.082,0.071,0.068,0.054,0.045,0.039,0.03,0.026,0.032,0.05,0.075,0.082,0.082,0.074,0.066,0.062,0.049,0.044,0.038,0.033,0.044,0.057,0.053,0.047,0.037,0.033,0.042,0.068,0.108,0.119,0.112,0.098,0.086,0.07,0.059,0.051,0.045,0.038,0.037,0.044,0.042,0.036,0.028,0.025,0.03,0.046,0.07,0.081,0.082,0.075,0.062,0.053,0.047,0.042,0.036,0.032,0.04,0.046,0.038,0.036,0.028,0.022,0.028,0.046,0.076,0.091,0.085,0.075,0.064,0.055,0.047,0.043,0.037,0.032,0.041,0.065,0.101,0.102,0.1,0.091,0.08,0.069,0.06,0.052,0.044,0.039],\"z\":[26917,27648,28867,30939,33145,34748,36456,37469,39080,39688,40775,41588,42691,43598,44257,45705,47858,23903,24108,25370,26503,27483,28143,28338,29124,29509,29649,30733,30616,30955,31589,31746,32118,33240,33877,26433,27448,29127,30257,31894,33341,33950,34361,34857,35948,35906,35546,35755,36828,37790,38770,39317,40652,26350,27106,27179,28489,29666,29425,30034,30670,30880,30769,30838,31467,32678,34199,35763,35692,35630,37468,32798,33913,35280,37912,38287,39778,40975,42089,43111,43770,44185,44153,44364,44484,45978,46778,24620,26709,27445,27291,27601,27999,27861,29194,29469,29911,30811,29059,32057,32746,25404,26119,25627,29998,31937,32370,32833,32927,32563,32414,32830,33218,34046,34559,35668,36356,37707,38922,25954,25958,27616,28582,30265,31438,31729,31664,33564,34679,35028,35470,35556,35142,35716,35475,36520,37288,22782,23610,26836,28033,29212,30475,31079,31297,31840,32238,32866,33430,33780,35055,35941,36742,38122,39490,30839,31507,33235,34856,38211,39320,41300,40178,39808,40820,40979,41778,43214,43934,44985,45427,46415,48697,26720,26780,27339,28820,30196,31361,31779,32132,32912,33989,33289,33535,34054,34888,35620,35681,37443,38204,22139,23382,23890,25919,26143,27991,29214,29661,30846,31639,31936,32839,33426,33988,34549,34618,35633,36489,24693,28088,24927,26204,27247,27270,27371,28072,27947,28556,28641,29191,29422,32077,32106,33367,34590,35228,28610,28905,29692,30972,32643,33754,34710,35512,36512,36730,37808,38406,38146,39354,40964,41637,42975,44262,24706,26374,28129,30824,32112,30351,30467,30417,30493,30883,30832,31196,31425,31443,32929,33180,34017,35493,20860,21636,22843,24214,26108,27067,27186,28215,29039,28528,28100,28284,29060,29364,30141,30217,30667,31600,23909,25380,25771,26457,27407,28655,30176,30676,31227,30919,31964,32196,31989,33021,33367,33748,35395,36571,23345,23400,24512,26260,26692,27359,27821,29905,30232,29997,29733,30018,31088,31880,32273,33200,24048,22633,23208,24976,28835,31221,32780,34245,36137,36194,37164,35408,35764,37067,38755,39552,41206,42009,25735,25737,26188,27664,28999,29949,30835,32145,32092,32220,32590,33159,33292,34181,34912,34341,35146,36906,31378,30331,31990,34585,35951,36516,35608,36688,41653,39128,39119,40287,40587,41824,39651,38215,42886,45410,23461,24389,24761,25940,26413,26632,27305,28463,28118,27770,28940,29821,29632,30806,31846,33283,34226,34934,23189,24133,24916,26487,26882,28556,30891,29950,29098,32946,31929,34784,35353,35585,37523,37102,37041,40841,24973,25349,26442,27081,28325,28990,29328,30133,30751,30767,31149,31953,32141,33127,33813,34330,35749,37411,22852,23210,23299,24487,25795,27538,28315,27692,28651,29786,29287,29618,30831,31284,32515,32840,33819,34535,22259,22566,23261,24428,24946,25643,26722,26701,27228,26951,27108,27700,27963,29068,29774,29309,31061,31553,27900,28444,29546,31812,32591,33823,35901,36557,35937,35191,35320,37121,37075,38754,40170,40903,41571,42879,23964,24050,26333,25836,27760,28114,29338,29839,31045,31065,31570,31776,32151,32773,33499,33911,34473,35620,22623,23414,24291,25698,26767,28136,29110,28867,29679,28646,28395,29741,30576,31216,32223,33280,33246,33905,21192,21330,23591,24481,24478,25729,26768,27333,28135,28134,27687,28781,28856,29619,29526,31049,31804,33359,25917,26632,27702,28996,30872,32269,31682,32369,31876,32219,32373,32720,33393,34204,35531,36000,36597,38237,29432,30324,31523,33932,30287,31432,32069,33578,34541,36033,37585,38517,39145,39561,39677,40087,40253,41113,42217,42887,44297,45272,21665,21438,22817,24502,24975,26122,26818,27627,27281,27598,27900,28491,28875,29272,30101,30912,31512,32670,33999,31181,30322,32127,33566,34427,34507,36395,39206,20837,21403,22370,24014,24611,26033,27233,28039,28715,29119,29237,29605,29842,31479,32062,31774,32067,32979,26629,28561,29217,30503,31906,33744,34792,34923,34885,35939,36948,36998,37320,37931,39444,40913,41597,43043,26012,26628,27840,29013,30008,31330,31623,32579,32724,33014,33475,33841,34425,34811,35784,37092,37233,38265,28589,30638,30963,32605,34518,35098,37341,37805,38553,38505,39324,39439,38148,39007,40420,40663,41252,42308,38902,39120,41017,42722,29673,30747,31438,31810,32948,33973,34688,34821,34976,37186,38377,39729,38637,40092,39959,38870,39531,41359,26151,27242,29266,31163,32976,34409,35613,36454,37823,38638,38881,39523,40207,41111,42627,43388,44313,45655,24869,25162,25767,27363,27966,28870,29661,30311,30904,31177,31449,32167,33332,33987,35213,34642,39506,37077,25083,26099,26922,27948,29288,30505,31958,32161,32476,33079,33036,33803,34138,34970,35863,36232,36852,37721,24562,25602,27351,28720,29432,31057,31890,32619,32339,32995,33342,33764,34540,35315,36428,37204,38247,39196,28890,29505,30277,31163,32235,33530,27575,27036,28389,28918,30256,31251,31508,32591,33920,33990,34507,34132,34152,34731,35944,36249,36873,38128,28060,28944,29722,31029,32453,34594,35536,35820,35777,36148,36785,36945,37341,38802,35179,36377,36840,37946,26878,27745,29079,30977,32109,33814,35555,34837,34080,34070,34615,34921,36173,36727,42890,43614,45261,47359,25440,25004,26412,27768,29788,32641,31966,32107,32508,32486,32737,33330,33117,33901,43653,44588,46699,48718,29030,29213,31416,33367,35455,37363,37737,38200,38454,38669,39166,39908,40567,41603,40361,43614,43395,45475,31951,32637,33629,35137,37126,37815,38582,38860,38404,38512,39359,40249,40948,41919,38021,38714,40043,41155,28247,28090,29192,29490,30030,30828,33831,32499,32547,32739,34917,35894,37574,36931,36956,38010,39789,41043,23240,25078,25842,27157,27494,28370,27657,28144,28244,28871,29720,30421,31346,32359,33592,34894,27425,27509,28430,28618,30072,30922,33075,33167,33708,35625,36468,36491,37593,37220,40705,38014,39208,40110,30772,31598,31775,31997,33539,33411,33075,33684,34060,34270,34267,35374,36174,38187,26064,26947,28037,29346,29927,31197,32196,32938,33021,33726,33861,34847,34947,36038,37196,37849,39060,40085,33264,24454,25445,26967,27767,29317,30586,31927,32352,32946,30815,30787,32026,32543,33230,33996,35143,35867,23060,24107,25092,26453,28773,30092,30861,30522,30373,30447,30674,31658,32148,32801,34151,35582,37312,38543,28704,29124,31078,30603,30508,30819,31727,32248,33389,33578,34625,35465]},{\"customdata\":[[2017],[2018],[2001],[2002],[2003],[2004],[2005],[2006],[2007],[2008],[2009],[2010],[2011],[2012],[2013],[2014],[2015],[2016],[2017],[2018],[2001],[2002],[2003],[2004],[2005],[2006],[2007],[2008],[2009],[2010],[2011],[2012],[2013],[2014],[2015],[2016],[2017],[2018],[2005],[2006],[2007],[2008],[2009],[2010],[2011],[2012],[2013],[2014],[2015],[2016],[2017],[2018],[2001],[2002],[2003],[2004],[2005],[2006],[2007],[2008],[2009],[2010],[2011],[2012],[2013],[2014],[2015],[2016],[2017],[2018],[2001],[2002],[2003],[2004],[2005],[2006],[2007],[2008],[2009],[2010],[2011],[2012],[2013],[2014],[2015],[2016],[2017],[2018],[2001],[2002],[2003],[2004],[2005],[2006],[2007],[2008],[2009],[2010],[2011],[2012],[2013],[2014],[2015],[2016],[2017],[2018],[2007],[2008],[2009],[2010],[2011],[2012],[2013],[2014],[2015],[2016],[2017],[2018]],\"hovertemplate\":\"class=2<br>totalpopulation=%{x}<br>unemployment_rate=%{y}<br>average_yearly_wage=%{z}<br>year=%{marker.color}<extra></extra>\",\"legendgroup\":\"2\",\"marker\":{\"color\":[2017,2018,2001,2002,2003,2004,2005,2006,2007,2008,2009,2010,2011,2012,2013,2014,2015,2016,2017,2018,2001,2002,2003,2004,2005,2006,2007,2008,2009,2010,2011,2012,2013,2014,2015,2016,2017,2018,2005,2006,2007,2008,2009,2010,2011,2012,2013,2014,2015,2016,2017,2018,2001,2002,2003,2004,2005,2006,2007,2008,2009,2010,2011,2012,2013,2014,2015,2016,2017,2018,2001,2002,2003,2004,2005,2006,2007,2008,2009,2010,2011,2012,2013,2014,2015,2016,2017,2018,2001,2002,2003,2004,2005,2006,2007,2008,2009,2010,2011,2012,2013,2014,2015,2016,2017,2018,2007,2008,2009,2010,2011,2012,2013,2014,2015,2016,2017,2018],\"coloraxis\":\"coloraxis\",\"symbol\":\"diamond\"},\"mode\":\"markers\",\"name\":\"2\",\"scene\":\"scene\",\"showlegend\":true,\"type\":\"scatter3d\",\"x\":[575211,583563,793898,809394,826279,840474,861150,879235,897597,904971,900518,864263,864601,869729,876075,890066,905574,923647,936811,952861,1026906,1055617,1079587,1108435,1131546,1164425,1192861,1200541,1196892,1229226,1238951,1256118,1276410,1301887,1325563,1352797,1379302,1408864,549442,585608,615741,623725,615124,618754,625310,638029,643367,653485,665845,680539,698468,713903,930034,955865,983165,1013937,1043437,1079524,1105603,1114979,1108882,1145956,1157342,1175941,1202978,1227995,1252396,1280387,1313880,1349597,1154464,1183197,1211448,1242270,1265900,1287987,1295033,1294654,1287344,1320134,1325758,1335415,1345652,1360238,1378417,1391741,1414144,1433417,929208,933994,939864,943640,947744,948102,944199,938461,931113,916542,918496,920381,926610,933258,944971,954569,962003,970532,581058,585733,584343,602095,604792,606888,613950,623174,633052,646989,661645,673028],\"y\":[0.044,0.036,0.044,0.057,0.055,0.051,0.04,0.035,0.042,0.064,0.105,0.11,0.102,0.09,0.078,0.069,0.059,0.05,0.043,0.037,0.043,0.055,0.052,0.045,0.038,0.033,0.042,0.065,0.106,0.104,0.096,0.081,0.069,0.06,0.051,0.045,0.04,0.035,0.032,0.029,0.047,0.083,0.123,0.121,0.108,0.091,0.076,0.062,0.052,0.047,0.041,0.035,0.044,0.058,0.053,0.046,0.036,0.031,0.038,0.06,0.104,0.105,0.098,0.085,0.071,0.06,0.051,0.044,0.038,0.033,0.052,0.063,0.059,0.053,0.043,0.037,0.044,0.068,0.107,0.106,0.1,0.088,0.075,0.06,0.052,0.047,0.042,0.037,0.045,0.058,0.054,0.046,0.039,0.034,0.042,0.066,0.108,0.105,0.097,0.082,0.069,0.059,0.05,0.044,0.039,0.034,0.046,0.069,0.113,0.118,0.112,0.099,0.086,0.074,0.064,0.056,0.048,0.042],\"z\":[48469,49685,33721,35279,37027,38635,40095,42232,43641,43724,44006,45084,45556,47027,47481,48811,49682,50569,51828,53569,32874,33936,35777,37448,38450,40397,41756,43298,44722,45133,46078,46893,47408,48388,49914,51197,52651,54564,35649,37065,37658,37866,37641,37602,38192,38628,38883,39616,40921,41884,43501,44827,32218,33650,34630,36446,37701,39180,40185,41046,41048,41487,42058,42857,43145,44422,46014,46990,48203,49952,35957,36550,37632,38873,40464,41938,43777,44464,45014,45833,46322,47769,48214,49845,51328,51834,53493,54787,31742,32160,33117,34311,35586,36960,38009,39285,39961,41102,42370,43960,43494,44758,46044,46938,47743,49283,34394,35195,35485,35676,36189,36954,37485,38504,39354,40245,41387,42378]},{\"customdata\":[[2001],[2002],[2003],[2004],[2005],[2006],[2007],[2008],[2009],[2010],[2011],[2012],[2013],[2014],[2015],[2016],[2017],[2018],[2001],[2002],[2003],[2004],[2005],[2006],[2007],[2008],[2009],[2010],[2011],[2012],[2013],[2014],[2015],[2016],[2017],[2018]],\"hovertemplate\":\"class=1<br>totalpopulation=%{x}<br>unemployment_rate=%{y}<br>average_yearly_wage=%{z}<br>year=%{marker.color}<extra></extra>\",\"legendgroup\":\"1\",\"marker\":{\"color\":[2001,2002,2003,2004,2005,2006,2007,2008,2009,2010,2011,2012,2013,2014,2015,2016,2017,2018,2001,2002,2003,2004,2005,2006,2007,2008,2009,2010,2011,2012,2013,2014,2015,2016,2017,2018],\"coloraxis\":\"coloraxis\",\"symbol\":\"square\"},\"mode\":\"markers\",\"name\":\"1\",\"scene\":\"scene\",\"showlegend\":true,\"type\":\"scatter3d\",\"x\":[1649925,1669153,1698425,1723131,1740987,1753162,1765707,1758494,1744922,1748066,1753162,1771099,1784715,1803903,1827367,1854513,1873970,1897976,2285869,2312478,2345932,2379818,2422075,2437022,2462292,2477289,2472344,2496457,2516537,2551290,2582375,2613692,2653934,2700794,2743095,2779322],\"y\":[0.047,0.06,0.055,0.047,0.037,0.031,0.036,0.056,0.091,0.098,0.094,0.082,0.071,0.061,0.052,0.045,0.04,0.034,0.045,0.043,0.037,0.031,0.024,0.021,0.027,0.044,0.091,0.117,0.096,0.079,0.076,0.068,0.061,0.055,0.046,0.036],\"z\":[33966,34475,35911,37905,39378,41276,42087,42718,43159,43811,44469,45051,45598,47012,48767,49548,51259,52977,34524,35694,36889,38849,40599,42975,44228,45142,45231,45653,46438,47011,47458,48883,50527,51259,52961,54800]}],                        {\"coloraxis\":{\"colorbar\":{\"title\":{\"text\":\"year\"}},\"colorscale\":[[0.0,\"#0d0887\"],[0.1111111111111111,\"#46039f\"],[0.2222222222222222,\"#7201a8\"],[0.3333333333333333,\"#9c179e\"],[0.4444444444444444,\"#bd3786\"],[0.5555555555555556,\"#d8576b\"],[0.6666666666666666,\"#ed7953\"],[0.7777777777777778,\"#fb9f3a\"],[0.8888888888888888,\"#fdca26\"],[1.0,\"#f0f921\"]]},\"legend\":{\"title\":{\"text\":\"class\"},\"tracegroupgap\":0,\"x\":0,\"y\":1},\"margin\":{\"t\":60},\"scene\":{\"domain\":{\"x\":[0.0,1.0],\"y\":[0.0,1.0]},\"xaxis\":{\"title\":{\"text\":\"totalpopulation\"}},\"yaxis\":{\"title\":{\"text\":\"unemployment_rate\"}},\"zaxis\":{\"title\":{\"text\":\"average_yearly_wage\"}}},\"template\":{\"data\":{\"bar\":[{\"error_x\":{\"color\":\"#2a3f5f\"},\"error_y\":{\"color\":\"#2a3f5f\"},\"marker\":{\"line\":{\"color\":\"#E5ECF6\",\"width\":0.5},\"pattern\":{\"fillmode\":\"overlay\",\"size\":10,\"solidity\":0.2}},\"type\":\"bar\"}],\"barpolar\":[{\"marker\":{\"line\":{\"color\":\"#E5ECF6\",\"width\":0.5},\"pattern\":{\"fillmode\":\"overlay\",\"size\":10,\"solidity\":0.2}},\"type\":\"barpolar\"}],\"carpet\":[{\"aaxis\":{\"endlinecolor\":\"#2a3f5f\",\"gridcolor\":\"white\",\"linecolor\":\"white\",\"minorgridcolor\":\"white\",\"startlinecolor\":\"#2a3f5f\"},\"baxis\":{\"endlinecolor\":\"#2a3f5f\",\"gridcolor\":\"white\",\"linecolor\":\"white\",\"minorgridcolor\":\"white\",\"startlinecolor\":\"#2a3f5f\"},\"type\":\"carpet\"}],\"choropleth\":[{\"colorbar\":{\"outlinewidth\":0,\"ticks\":\"\"},\"type\":\"choropleth\"}],\"contour\":[{\"colorbar\":{\"outlinewidth\":0,\"ticks\":\"\"},\"colorscale\":[[0.0,\"#0d0887\"],[0.1111111111111111,\"#46039f\"],[0.2222222222222222,\"#7201a8\"],[0.3333333333333333,\"#9c179e\"],[0.4444444444444444,\"#bd3786\"],[0.5555555555555556,\"#d8576b\"],[0.6666666666666666,\"#ed7953\"],[0.7777777777777778,\"#fb9f3a\"],[0.8888888888888888,\"#fdca26\"],[1.0,\"#f0f921\"]],\"type\":\"contour\"}],\"contourcarpet\":[{\"colorbar\":{\"outlinewidth\":0,\"ticks\":\"\"},\"type\":\"contourcarpet\"}],\"heatmap\":[{\"colorbar\":{\"outlinewidth\":0,\"ticks\":\"\"},\"colorscale\":[[0.0,\"#0d0887\"],[0.1111111111111111,\"#46039f\"],[0.2222222222222222,\"#7201a8\"],[0.3333333333333333,\"#9c179e\"],[0.4444444444444444,\"#bd3786\"],[0.5555555555555556,\"#d8576b\"],[0.6666666666666666,\"#ed7953\"],[0.7777777777777778,\"#fb9f3a\"],[0.8888888888888888,\"#fdca26\"],[1.0,\"#f0f921\"]],\"type\":\"heatmap\"}],\"heatmapgl\":[{\"colorbar\":{\"outlinewidth\":0,\"ticks\":\"\"},\"colorscale\":[[0.0,\"#0d0887\"],[0.1111111111111111,\"#46039f\"],[0.2222222222222222,\"#7201a8\"],[0.3333333333333333,\"#9c179e\"],[0.4444444444444444,\"#bd3786\"],[0.5555555555555556,\"#d8576b\"],[0.6666666666666666,\"#ed7953\"],[0.7777777777777778,\"#fb9f3a\"],[0.8888888888888888,\"#fdca26\"],[1.0,\"#f0f921\"]],\"type\":\"heatmapgl\"}],\"histogram\":[{\"marker\":{\"pattern\":{\"fillmode\":\"overlay\",\"size\":10,\"solidity\":0.2}},\"type\":\"histogram\"}],\"histogram2d\":[{\"colorbar\":{\"outlinewidth\":0,\"ticks\":\"\"},\"colorscale\":[[0.0,\"#0d0887\"],[0.1111111111111111,\"#46039f\"],[0.2222222222222222,\"#7201a8\"],[0.3333333333333333,\"#9c179e\"],[0.4444444444444444,\"#bd3786\"],[0.5555555555555556,\"#d8576b\"],[0.6666666666666666,\"#ed7953\"],[0.7777777777777778,\"#fb9f3a\"],[0.8888888888888888,\"#fdca26\"],[1.0,\"#f0f921\"]],\"type\":\"histogram2d\"}],\"histogram2dcontour\":[{\"colorbar\":{\"outlinewidth\":0,\"ticks\":\"\"},\"colorscale\":[[0.0,\"#0d0887\"],[0.1111111111111111,\"#46039f\"],[0.2222222222222222,\"#7201a8\"],[0.3333333333333333,\"#9c179e\"],[0.4444444444444444,\"#bd3786\"],[0.5555555555555556,\"#d8576b\"],[0.6666666666666666,\"#ed7953\"],[0.7777777777777778,\"#fb9f3a\"],[0.8888888888888888,\"#fdca26\"],[1.0,\"#f0f921\"]],\"type\":\"histogram2dcontour\"}],\"mesh3d\":[{\"colorbar\":{\"outlinewidth\":0,\"ticks\":\"\"},\"type\":\"mesh3d\"}],\"parcoords\":[{\"line\":{\"colorbar\":{\"outlinewidth\":0,\"ticks\":\"\"}},\"type\":\"parcoords\"}],\"pie\":[{\"automargin\":true,\"type\":\"pie\"}],\"scatter\":[{\"marker\":{\"colorbar\":{\"outlinewidth\":0,\"ticks\":\"\"}},\"type\":\"scatter\"}],\"scatter3d\":[{\"line\":{\"colorbar\":{\"outlinewidth\":0,\"ticks\":\"\"}},\"marker\":{\"colorbar\":{\"outlinewidth\":0,\"ticks\":\"\"}},\"type\":\"scatter3d\"}],\"scattercarpet\":[{\"marker\":{\"colorbar\":{\"outlinewidth\":0,\"ticks\":\"\"}},\"type\":\"scattercarpet\"}],\"scattergeo\":[{\"marker\":{\"colorbar\":{\"outlinewidth\":0,\"ticks\":\"\"}},\"type\":\"scattergeo\"}],\"scattergl\":[{\"marker\":{\"colorbar\":{\"outlinewidth\":0,\"ticks\":\"\"}},\"type\":\"scattergl\"}],\"scattermapbox\":[{\"marker\":{\"colorbar\":{\"outlinewidth\":0,\"ticks\":\"\"}},\"type\":\"scattermapbox\"}],\"scatterpolar\":[{\"marker\":{\"colorbar\":{\"outlinewidth\":0,\"ticks\":\"\"}},\"type\":\"scatterpolar\"}],\"scatterpolargl\":[{\"marker\":{\"colorbar\":{\"outlinewidth\":0,\"ticks\":\"\"}},\"type\":\"scatterpolargl\"}],\"scatterternary\":[{\"marker\":{\"colorbar\":{\"outlinewidth\":0,\"ticks\":\"\"}},\"type\":\"scatterternary\"}],\"surface\":[{\"colorbar\":{\"outlinewidth\":0,\"ticks\":\"\"},\"colorscale\":[[0.0,\"#0d0887\"],[0.1111111111111111,\"#46039f\"],[0.2222222222222222,\"#7201a8\"],[0.3333333333333333,\"#9c179e\"],[0.4444444444444444,\"#bd3786\"],[0.5555555555555556,\"#d8576b\"],[0.6666666666666666,\"#ed7953\"],[0.7777777777777778,\"#fb9f3a\"],[0.8888888888888888,\"#fdca26\"],[1.0,\"#f0f921\"]],\"type\":\"surface\"}],\"table\":[{\"cells\":{\"fill\":{\"color\":\"#EBF0F8\"},\"line\":{\"color\":\"white\"}},\"header\":{\"fill\":{\"color\":\"#C8D4E3\"},\"line\":{\"color\":\"white\"}},\"type\":\"table\"}]},\"layout\":{\"annotationdefaults\":{\"arrowcolor\":\"#2a3f5f\",\"arrowhead\":0,\"arrowwidth\":1},\"autotypenumbers\":\"strict\",\"coloraxis\":{\"colorbar\":{\"outlinewidth\":0,\"ticks\":\"\"}},\"colorscale\":{\"diverging\":[[0,\"#8e0152\"],[0.1,\"#c51b7d\"],[0.2,\"#de77ae\"],[0.3,\"#f1b6da\"],[0.4,\"#fde0ef\"],[0.5,\"#f7f7f7\"],[0.6,\"#e6f5d0\"],[0.7,\"#b8e186\"],[0.8,\"#7fbc41\"],[0.9,\"#4d9221\"],[1,\"#276419\"]],\"sequential\":[[0.0,\"#0d0887\"],[0.1111111111111111,\"#46039f\"],[0.2222222222222222,\"#7201a8\"],[0.3333333333333333,\"#9c179e\"],[0.4444444444444444,\"#bd3786\"],[0.5555555555555556,\"#d8576b\"],[0.6666666666666666,\"#ed7953\"],[0.7777777777777778,\"#fb9f3a\"],[0.8888888888888888,\"#fdca26\"],[1.0,\"#f0f921\"]],\"sequentialminus\":[[0.0,\"#0d0887\"],[0.1111111111111111,\"#46039f\"],[0.2222222222222222,\"#7201a8\"],[0.3333333333333333,\"#9c179e\"],[0.4444444444444444,\"#bd3786\"],[0.5555555555555556,\"#d8576b\"],[0.6666666666666666,\"#ed7953\"],[0.7777777777777778,\"#fb9f3a\"],[0.8888888888888888,\"#fdca26\"],[1.0,\"#f0f921\"]]},\"colorway\":[\"#636efa\",\"#EF553B\",\"#00cc96\",\"#ab63fa\",\"#FFA15A\",\"#19d3f3\",\"#FF6692\",\"#B6E880\",\"#FF97FF\",\"#FECB52\"],\"font\":{\"color\":\"#2a3f5f\"},\"geo\":{\"bgcolor\":\"white\",\"lakecolor\":\"white\",\"landcolor\":\"#E5ECF6\",\"showlakes\":true,\"showland\":true,\"subunitcolor\":\"white\"},\"hoverlabel\":{\"align\":\"left\"},\"hovermode\":\"closest\",\"mapbox\":{\"style\":\"light\"},\"paper_bgcolor\":\"white\",\"plot_bgcolor\":\"#E5ECF6\",\"polar\":{\"angularaxis\":{\"gridcolor\":\"white\",\"linecolor\":\"white\",\"ticks\":\"\"},\"bgcolor\":\"#E5ECF6\",\"radialaxis\":{\"gridcolor\":\"white\",\"linecolor\":\"white\",\"ticks\":\"\"}},\"scene\":{\"xaxis\":{\"backgroundcolor\":\"#E5ECF6\",\"gridcolor\":\"white\",\"gridwidth\":2,\"linecolor\":\"white\",\"showbackground\":true,\"ticks\":\"\",\"zerolinecolor\":\"white\"},\"yaxis\":{\"backgroundcolor\":\"#E5ECF6\",\"gridcolor\":\"white\",\"gridwidth\":2,\"linecolor\":\"white\",\"showbackground\":true,\"ticks\":\"\",\"zerolinecolor\":\"white\"},\"zaxis\":{\"backgroundcolor\":\"#E5ECF6\",\"gridcolor\":\"white\",\"gridwidth\":2,\"linecolor\":\"white\",\"showbackground\":true,\"ticks\":\"\",\"zerolinecolor\":\"white\"}},\"shapedefaults\":{\"line\":{\"color\":\"#2a3f5f\"}},\"ternary\":{\"aaxis\":{\"gridcolor\":\"white\",\"linecolor\":\"white\",\"ticks\":\"\"},\"baxis\":{\"gridcolor\":\"white\",\"linecolor\":\"white\",\"ticks\":\"\"},\"bgcolor\":\"#E5ECF6\",\"caxis\":{\"gridcolor\":\"white\",\"linecolor\":\"white\",\"ticks\":\"\"}},\"title\":{\"x\":0.05},\"xaxis\":{\"automargin\":true,\"gridcolor\":\"white\",\"linecolor\":\"white\",\"ticks\":\"\",\"title\":{\"standoff\":15},\"zerolinecolor\":\"white\",\"zerolinewidth\":2},\"yaxis\":{\"automargin\":true,\"gridcolor\":\"white\",\"linecolor\":\"white\",\"ticks\":\"\",\"title\":{\"standoff\":15},\"zerolinecolor\":\"white\",\"zerolinewidth\":2}}},\"width\":1000},                        {\"responsive\": true}                    ).then(function(){\n",
       "                            \n",
       "var gd = document.getElementById('a627b017-092e-4acf-a3b0-93b4b682074b');\n",
       "var x = new MutationObserver(function (mutations, observer) {{\n",
       "        var display = window.getComputedStyle(gd).display;\n",
       "        if (!display || display === 'none') {{\n",
       "            console.log([gd, 'removed!']);\n",
       "            Plotly.purge(gd);\n",
       "            observer.disconnect();\n",
       "        }}\n",
       "}});\n",
       "\n",
       "// Listen for the removal of the full notebook cells\n",
       "var notebookContainer = gd.closest('#notebook-container');\n",
       "if (notebookContainer) {{\n",
       "    x.observe(notebookContainer, {childList: true});\n",
       "}}\n",
       "\n",
       "// Listen for the clearing of the current output cell\n",
       "var outputEl = gd.closest('.output');\n",
       "if (outputEl) {{\n",
       "    x.observe(outputEl, {childList: true});\n",
       "}}\n",
       "\n",
       "                        })                };                });            </script>        </div>"
      ]
     },
     "metadata": {},
     "output_type": "display_data"
    }
   ],
   "source": [
    "# Plot the 3D-scatter with SPECIFIC columns.\n",
    "fig = px.scatter_3d(\n",
    "    MK_df,\n",
    "    x=\"totalpopulation\",\n",
    "    y=\"unemployment_rate\",\n",
    "    z=\"average_yearly_wage\",\n",
    "    color=\"year\",\n",
    "    symbol=\"class\",\n",
    "    width=1000,\n",
    "    hover_data=[\"year\"],\n",
    ")\n",
    "fig.update_layout(legend=dict(x=0, y=1))\n",
    "fig.show()"
   ]
  },
  {
   "cell_type": "markdown",
   "id": "2a5763c1",
   "metadata": {},
   "source": [
    "# Plotting w/PCA"
   ]
  },
  {
   "cell_type": "code",
   "execution_count": 105,
   "id": "7b6bf19b",
   "metadata": {},
   "outputs": [],
   "source": [
    "MPCA_df = M_df.drop(columns=[\"county\"])"
   ]
  },
  {
   "cell_type": "code",
   "execution_count": 106,
   "id": "50b77158",
   "metadata": {},
   "outputs": [],
   "source": [
    "data_scaler = StandardScaler()\n",
    "M_df_scaled = data_scaler.fit_transform(MPCA_df)"
   ]
  },
  {
   "cell_type": "code",
   "execution_count": 107,
   "id": "6c4c6e94",
   "metadata": {},
   "outputs": [
    {
     "name": "stdout",
     "output_type": "stream",
     "text": [
      "(1164, 20)\n"
     ]
    },
    {
     "data": {
      "text/plain": [
       "array([[-1.67256751, -0.144184  , -1.12583598, ..., -0.09475649,\n",
       "        -1.04711748, -1.6930587 ],\n",
       "       [-1.47894557, -0.13160735, -1.00899289, ..., -0.09643002,\n",
       "        -0.89100044, -1.6930587 ],\n",
       "       [-1.28532364, -0.12564497, -0.81414785, ..., -0.09240309,\n",
       "        -1.00808822, -1.6930587 ],\n",
       "       ...,\n",
       "       [ 1.23176155, -0.58331806, -0.0611413 , ..., -0.56898847,\n",
       "        -0.42264933,  1.72644182],\n",
       "       [ 1.42538349, -0.58310298,  0.10621125, ..., -0.56880107,\n",
       "        -0.73488341,  1.72644182],\n",
       "       [ 1.61900543, -0.58278369,  0.24047691, ..., -0.56891438,\n",
       "        -0.9300297 ,  1.72644182]])"
      ]
     },
     "execution_count": 107,
     "metadata": {},
     "output_type": "execute_result"
    }
   ],
   "source": [
    "print(M_df_scaled.shape)\n",
    "M_df_scaled"
   ]
  },
  {
   "cell_type": "code",
   "execution_count": 108,
   "id": "eba218ff",
   "metadata": {},
   "outputs": [
    {
     "data": {
      "text/plain": [
       "(1164, 3)"
      ]
     },
     "execution_count": 108,
     "metadata": {},
     "output_type": "execute_result"
    }
   ],
   "source": [
    "pca = PCA(n_components=3)\n",
    "MPCA_df = pca.fit_transform(M_df_scaled)\n",
    "MPCA_df.shape"
   ]
  },
  {
   "cell_type": "code",
   "execution_count": 109,
   "id": "c83ae0cc",
   "metadata": {},
   "outputs": [
    {
     "data": {
      "text/html": [
       "<div>\n",
       "<style scoped>\n",
       "    .dataframe tbody tr th:only-of-type {\n",
       "        vertical-align: middle;\n",
       "    }\n",
       "\n",
       "    .dataframe tbody tr th {\n",
       "        vertical-align: top;\n",
       "    }\n",
       "\n",
       "    .dataframe thead th {\n",
       "        text-align: right;\n",
       "    }\n",
       "</style>\n",
       "<table border=\"1\" class=\"dataframe\">\n",
       "  <thead>\n",
       "    <tr style=\"text-align: right;\">\n",
       "      <th></th>\n",
       "      <th>PCA1</th>\n",
       "      <th>PCA2</th>\n",
       "      <th>PCA3</th>\n",
       "    </tr>\n",
       "  </thead>\n",
       "  <tbody>\n",
       "    <tr>\n",
       "      <th>0</th>\n",
       "      <td>-0.032388</td>\n",
       "      <td>-1.663915</td>\n",
       "      <td>2.654308</td>\n",
       "    </tr>\n",
       "    <tr>\n",
       "      <th>1</th>\n",
       "      <td>-0.088817</td>\n",
       "      <td>-1.432951</td>\n",
       "      <td>2.137915</td>\n",
       "    </tr>\n",
       "    <tr>\n",
       "      <th>2</th>\n",
       "      <td>-0.117376</td>\n",
       "      <td>-1.045433</td>\n",
       "      <td>1.983977</td>\n",
       "    </tr>\n",
       "    <tr>\n",
       "      <th>3</th>\n",
       "      <td>-0.021897</td>\n",
       "      <td>-0.494666</td>\n",
       "      <td>1.527263</td>\n",
       "    </tr>\n",
       "    <tr>\n",
       "      <th>4</th>\n",
       "      <td>0.251113</td>\n",
       "      <td>0.130683</td>\n",
       "      <td>1.653135</td>\n",
       "    </tr>\n",
       "    <tr>\n",
       "      <th>5</th>\n",
       "      <td>0.652651</td>\n",
       "      <td>0.678304</td>\n",
       "      <td>1.993899</td>\n",
       "    </tr>\n",
       "    <tr>\n",
       "      <th>6</th>\n",
       "      <td>0.601290</td>\n",
       "      <td>0.916407</td>\n",
       "      <td>1.580023</td>\n",
       "    </tr>\n",
       "    <tr>\n",
       "      <th>7</th>\n",
       "      <td>0.419190</td>\n",
       "      <td>0.603320</td>\n",
       "      <td>0.988740</td>\n",
       "    </tr>\n",
       "    <tr>\n",
       "      <th>8</th>\n",
       "      <td>0.455326</td>\n",
       "      <td>-0.010978</td>\n",
       "      <td>0.138135</td>\n",
       "    </tr>\n",
       "    <tr>\n",
       "      <th>9</th>\n",
       "      <td>0.175349</td>\n",
       "      <td>-0.092794</td>\n",
       "      <td>-0.308218</td>\n",
       "    </tr>\n",
       "  </tbody>\n",
       "</table>\n",
       "</div>"
      ],
      "text/plain": [
       "       PCA1      PCA2      PCA3\n",
       "0 -0.032388 -1.663915  2.654308\n",
       "1 -0.088817 -1.432951  2.137915\n",
       "2 -0.117376 -1.045433  1.983977\n",
       "3 -0.021897 -0.494666  1.527263\n",
       "4  0.251113  0.130683  1.653135\n",
       "5  0.652651  0.678304  1.993899\n",
       "6  0.601290  0.916407  1.580023\n",
       "7  0.419190  0.603320  0.988740\n",
       "8  0.455326 -0.010978  0.138135\n",
       "9  0.175349 -0.092794 -0.308218"
      ]
     },
     "execution_count": 109,
     "metadata": {},
     "output_type": "execute_result"
    }
   ],
   "source": [
    "MPCA_df = pd.DataFrame(MPCA_df, columns=[\"PCA1\", \"PCA2\", \"PCA3\"])\n",
    "MPCA_df.head(10)"
   ]
  },
  {
   "cell_type": "code",
   "execution_count": 110,
   "id": "58efa77d",
   "metadata": {},
   "outputs": [
    {
     "data": {
      "text/plain": [
       "(1164, 3)"
      ]
     },
     "execution_count": 110,
     "metadata": {},
     "output_type": "execute_result"
    }
   ],
   "source": [
    "MPCA_df.shape"
   ]
  },
  {
   "cell_type": "markdown",
   "id": "f698cdc4",
   "metadata": {},
   "source": [
    "#### ELBOW CURVE W/PCA"
   ]
  },
  {
   "cell_type": "code",
   "execution_count": 111,
   "id": "da42d8da",
   "metadata": {},
   "outputs": [],
   "source": [
    "inertia = []\n",
    "k = list(range(1, 11))"
   ]
  },
  {
   "cell_type": "code",
   "execution_count": 112,
   "id": "43252c5f",
   "metadata": {},
   "outputs": [],
   "source": [
    "for i in k:\n",
    "    km = KMeans(n_clusters=i, random_state=0)\n",
    "    km.fit(MPCA_df)\n",
    "    inertia.append(km.inertia_)"
   ]
  },
  {
   "cell_type": "code",
   "execution_count": 113,
   "id": "599ee4d0",
   "metadata": {},
   "outputs": [
    {
     "data": {},
     "metadata": {},
     "output_type": "display_data"
    },
    {
     "data": {
      "application/vnd.holoviews_exec.v0+json": "",
      "text/html": [
       "<div id='2326'>\n",
       "\n",
       "\n",
       "\n",
       "\n",
       "\n",
       "  <div class=\"bk-root\" id=\"92d9478e-a5f2-4d33-9fc4-b39851532b5e\" data-root-id=\"2326\"></div>\n",
       "</div>\n",
       "<script type=\"application/javascript\">(function(root) {\n",
       "  function embed_document(root) {\n",
       "    var docs_json = {\"25ee6784-0e9a-4030-b26a-884a2b529380\":{\"defs\":[{\"extends\":null,\"module\":null,\"name\":\"ReactiveHTML1\",\"overrides\":[],\"properties\":[]},{\"extends\":null,\"module\":null,\"name\":\"FlexBox1\",\"overrides\":[],\"properties\":[{\"default\":\"flex-start\",\"kind\":null,\"name\":\"align_content\"},{\"default\":\"flex-start\",\"kind\":null,\"name\":\"align_items\"},{\"default\":\"row\",\"kind\":null,\"name\":\"flex_direction\"},{\"default\":\"wrap\",\"kind\":null,\"name\":\"flex_wrap\"},{\"default\":\"flex-start\",\"kind\":null,\"name\":\"justify_content\"}]},{\"extends\":null,\"module\":null,\"name\":\"TemplateActions1\",\"overrides\":[],\"properties\":[{\"default\":0,\"kind\":null,\"name\":\"open_modal\"},{\"default\":0,\"kind\":null,\"name\":\"close_modal\"}]},{\"extends\":null,\"module\":null,\"name\":\"MaterialTemplateActions1\",\"overrides\":[],\"properties\":[{\"default\":0,\"kind\":null,\"name\":\"open_modal\"},{\"default\":0,\"kind\":null,\"name\":\"close_modal\"}]}],\"roots\":{\"references\":[{\"attributes\":{\"overlay\":{\"id\":\"2353\"}},\"id\":\"2351\",\"type\":\"BoxZoomTool\"},{\"attributes\":{\"axis_label\":\"inertia\",\"formatter\":{\"id\":\"2377\"},\"major_label_policy\":{\"id\":\"2378\"},\"ticker\":{\"id\":\"2345\"}},\"id\":\"2344\",\"type\":\"LinearAxis\"},{\"attributes\":{\"line_color\":\"#30a2da\",\"line_width\":2,\"x\":{\"field\":\"k\"},\"y\":{\"field\":\"inertia\"}},\"id\":\"2364\",\"type\":\"Line\"},{\"attributes\":{},\"id\":\"2350\",\"type\":\"WheelZoomTool\"},{\"attributes\":{},\"id\":\"2362\",\"type\":\"Selection\"},{\"attributes\":{},\"id\":\"2349\",\"type\":\"PanTool\"},{\"attributes\":{\"line_color\":\"#30a2da\",\"line_width\":2,\"x\":{\"field\":\"k\"},\"y\":{\"field\":\"inertia\"}},\"id\":\"2369\",\"type\":\"Line\"},{\"attributes\":{},\"id\":\"2348\",\"type\":\"SaveTool\"},{\"attributes\":{\"data\":{\"inertia\":{\"__ndarray__\":\"F+pTXwLZ0UCb1DUiByzBQMaE6gMF0LlA99/f0zY2s0AxUeA+lAGvQOuTJMQ4AapAo7YuCbECp0DihFepUXCkQLIcE1FxI6JAL+QcGiB4oEA=\",\"dtype\":\"float64\",\"order\":\"little\",\"shape\":[10]},\"k\":[1,2,3,4,5,6,7,8,9,10]},\"selected\":{\"id\":\"2362\"},\"selection_policy\":{\"id\":\"2385\"}},\"id\":\"2361\",\"type\":\"ColumnDataSource\"},{\"attributes\":{},\"id\":\"2378\",\"type\":\"AllLabels\"},{\"attributes\":{},\"id\":\"2372\",\"type\":\"BasicTickFormatter\"},{\"attributes\":{\"margin\":[5,5,5,5],\"name\":\"HSpacer03951\",\"sizing_mode\":\"stretch_width\"},\"id\":\"2327\",\"type\":\"Spacer\"},{\"attributes\":{\"active_multi\":null,\"tools\":[{\"id\":\"2330\"},{\"id\":\"2348\"},{\"id\":\"2349\"},{\"id\":\"2350\"},{\"id\":\"2351\"},{\"id\":\"2352\"}]},\"id\":\"2354\",\"type\":\"Toolbar\"},{\"attributes\":{\"axis_label\":\"k\",\"formatter\":{\"id\":\"2372\"},\"major_label_policy\":{\"id\":\"2373\"},\"ticker\":{\"id\":\"2370\"}},\"id\":\"2340\",\"type\":\"LinearAxis\"},{\"attributes\":{\"source\":{\"id\":\"2361\"}},\"id\":\"2368\",\"type\":\"CDSView\"},{\"attributes\":{},\"id\":\"2345\",\"type\":\"BasicTicker\"},{\"attributes\":{\"axis\":{\"id\":\"2344\"},\"dimension\":1,\"grid_line_color\":null,\"ticker\":null},\"id\":\"2347\",\"type\":\"Grid\"},{\"attributes\":{\"bottom_units\":\"screen\",\"fill_alpha\":0.5,\"fill_color\":\"lightgrey\",\"left_units\":\"screen\",\"level\":\"overlay\",\"line_alpha\":1.0,\"line_color\":\"black\",\"line_dash\":[4,4],\"line_width\":2,\"right_units\":\"screen\",\"syncable\":false,\"top_units\":\"screen\"},\"id\":\"2353\",\"type\":\"BoxAnnotation\"},{\"attributes\":{\"line_alpha\":0.2,\"line_color\":\"#30a2da\",\"line_width\":2,\"x\":{\"field\":\"k\"},\"y\":{\"field\":\"inertia\"}},\"id\":\"2366\",\"type\":\"Line\"},{\"attributes\":{\"margin\":[5,5,5,5],\"name\":\"HSpacer03952\",\"sizing_mode\":\"stretch_width\"},\"id\":\"2397\",\"type\":\"Spacer\"},{\"attributes\":{\"line_alpha\":0.1,\"line_color\":\"#30a2da\",\"line_width\":2,\"x\":{\"field\":\"k\"},\"y\":{\"field\":\"inertia\"}},\"id\":\"2365\",\"type\":\"Line\"},{\"attributes\":{\"below\":[{\"id\":\"2340\"}],\"center\":[{\"id\":\"2343\"},{\"id\":\"2347\"}],\"height\":300,\"left\":[{\"id\":\"2344\"}],\"margin\":[5,5,5,5],\"min_border_bottom\":10,\"min_border_left\":10,\"min_border_right\":10,\"min_border_top\":10,\"renderers\":[{\"id\":\"2367\"}],\"sizing_mode\":\"fixed\",\"title\":{\"id\":\"2332\"},\"toolbar\":{\"id\":\"2354\"},\"width\":700,\"x_range\":{\"id\":\"2328\"},\"x_scale\":{\"id\":\"2336\"},\"y_range\":{\"id\":\"2329\"},\"y_scale\":{\"id\":\"2338\"}},\"id\":\"2331\",\"subtype\":\"Figure\",\"type\":\"Plot\"},{\"attributes\":{\"callback\":null,\"renderers\":[{\"id\":\"2367\"}],\"tags\":[\"hv_created\"],\"tooltips\":[[\"k\",\"@{k}\"],[\"inertia\",\"@{inertia}\"]]},\"id\":\"2330\",\"type\":\"HoverTool\"},{\"attributes\":{\"data_source\":{\"id\":\"2361\"},\"glyph\":{\"id\":\"2364\"},\"hover_glyph\":null,\"muted_glyph\":{\"id\":\"2366\"},\"nonselection_glyph\":{\"id\":\"2365\"},\"selection_glyph\":{\"id\":\"2369\"},\"view\":{\"id\":\"2368\"}},\"id\":\"2367\",\"type\":\"GlyphRenderer\"},{\"attributes\":{},\"id\":\"2385\",\"type\":\"UnionRenderers\"},{\"attributes\":{\"children\":[{\"id\":\"2327\"},{\"id\":\"2331\"},{\"id\":\"2397\"}],\"margin\":[0,0,0,0],\"name\":\"Row03947\",\"tags\":[\"embedded\"]},\"id\":\"2326\",\"type\":\"Row\"},{\"attributes\":{\"end\":19892.834505258732,\"reset_end\":19892.834505258732,\"reset_start\":491.26526231315574,\"start\":491.26526231315574,\"tags\":[[[\"inertia\",\"inertia\",null]]]},\"id\":\"2329\",\"type\":\"Range1d\"},{\"attributes\":{},\"id\":\"2373\",\"type\":\"AllLabels\"},{\"attributes\":{\"axis\":{\"id\":\"2340\"},\"grid_line_color\":null,\"ticker\":null},\"id\":\"2343\",\"type\":\"Grid\"},{\"attributes\":{\"end\":10.0,\"reset_end\":10.0,\"reset_start\":1.0,\"start\":1.0,\"tags\":[[[\"k\",\"k\",null]]]},\"id\":\"2328\",\"type\":\"Range1d\"},{\"attributes\":{\"ticks\":[1,2,3,4,5,6,7,8,9,10]},\"id\":\"2370\",\"type\":\"FixedTicker\"},{\"attributes\":{\"text\":\"PCA Elbow Curve\",\"text_color\":\"black\",\"text_font_size\":\"12pt\"},\"id\":\"2332\",\"type\":\"Title\"},{\"attributes\":{},\"id\":\"2338\",\"type\":\"LinearScale\"},{\"attributes\":{},\"id\":\"2352\",\"type\":\"ResetTool\"},{\"attributes\":{},\"id\":\"2377\",\"type\":\"BasicTickFormatter\"},{\"attributes\":{},\"id\":\"2336\",\"type\":\"LinearScale\"}],\"root_ids\":[\"2326\"]},\"title\":\"Bokeh Application\",\"version\":\"2.3.2\"}};\n",
       "    var render_items = [{\"docid\":\"25ee6784-0e9a-4030-b26a-884a2b529380\",\"root_ids\":[\"2326\"],\"roots\":{\"2326\":\"92d9478e-a5f2-4d33-9fc4-b39851532b5e\"}}];\n",
       "    root.Bokeh.embed.embed_items_notebook(docs_json, render_items);\n",
       "  }\n",
       "  if (root.Bokeh !== undefined && root.Bokeh.Panel !== undefined) {\n",
       "    embed_document(root);\n",
       "  } else {\n",
       "    var attempts = 0;\n",
       "    var timer = setInterval(function(root) {\n",
       "      if (root.Bokeh !== undefined && root.Bokeh.Panel !== undefined) {\n",
       "        clearInterval(timer);\n",
       "        embed_document(root);\n",
       "      } else if (document.readyState == \"complete\") {\n",
       "        attempts++;\n",
       "        if (attempts > 200) {\n",
       "          clearInterval(timer);\n",
       "          console.log(\"Bokeh: ERROR: Unable to run BokehJS code because BokehJS library is missing\");\n",
       "        }\n",
       "      }\n",
       "    }, 25, root)\n",
       "  }\n",
       "})(window);</script>"
      ],
      "text/plain": [
       ":Curve   [k]   (inertia)"
      ]
     },
     "execution_count": 113,
     "metadata": {
      "application/vnd.holoviews_exec.v0+json": {
       "id": "2326"
      }
     },
     "output_type": "execute_result"
    }
   ],
   "source": [
    "M_elbow = {\"k\": k, \"inertia\": inertia}\n",
    "M_elbow_df = pd.DataFrame(M_elbow)\n",
    "M_elbow_df.hvplot.line(x=\"k\", y=\"inertia\", title=\"PCA Elbow Curve\", xticks=k)"
   ]
  },
  {
   "cell_type": "code",
   "execution_count": 114,
   "id": "3f3f79d9",
   "metadata": {},
   "outputs": [
    {
     "data": {
      "text/plain": [
       "(1164, 3)"
      ]
     },
     "execution_count": 114,
     "metadata": {},
     "output_type": "execute_result"
    }
   ],
   "source": [
    "MPCA_df.shape"
   ]
  },
  {
   "cell_type": "markdown",
   "id": "c1b7b564",
   "metadata": {},
   "source": [
    "### 3D Plotting w/PCA"
   ]
  },
  {
   "cell_type": "code",
   "execution_count": 118,
   "id": "e6454251",
   "metadata": {},
   "outputs": [
    {
     "data": {
      "text/html": [
       "<div>\n",
       "<style scoped>\n",
       "    .dataframe tbody tr th:only-of-type {\n",
       "        vertical-align: middle;\n",
       "    }\n",
       "\n",
       "    .dataframe tbody tr th {\n",
       "        vertical-align: top;\n",
       "    }\n",
       "\n",
       "    .dataframe thead th {\n",
       "        text-align: right;\n",
       "    }\n",
       "</style>\n",
       "<table border=\"1\" class=\"dataframe\">\n",
       "  <thead>\n",
       "    <tr style=\"text-align: right;\">\n",
       "      <th></th>\n",
       "      <th>predictions</th>\n",
       "    </tr>\n",
       "  </thead>\n",
       "  <tbody>\n",
       "    <tr>\n",
       "      <th>0</th>\n",
       "      <td>3</td>\n",
       "    </tr>\n",
       "    <tr>\n",
       "      <th>1</th>\n",
       "      <td>3</td>\n",
       "    </tr>\n",
       "    <tr>\n",
       "      <th>2</th>\n",
       "      <td>3</td>\n",
       "    </tr>\n",
       "    <tr>\n",
       "      <th>3</th>\n",
       "      <td>3</td>\n",
       "    </tr>\n",
       "    <tr>\n",
       "      <th>4</th>\n",
       "      <td>0</td>\n",
       "    </tr>\n",
       "    <tr>\n",
       "      <th>...</th>\n",
       "      <td>...</td>\n",
       "    </tr>\n",
       "    <tr>\n",
       "      <th>1159</th>\n",
       "      <td>3</td>\n",
       "    </tr>\n",
       "    <tr>\n",
       "      <th>1160</th>\n",
       "      <td>3</td>\n",
       "    </tr>\n",
       "    <tr>\n",
       "      <th>1161</th>\n",
       "      <td>3</td>\n",
       "    </tr>\n",
       "    <tr>\n",
       "      <th>1162</th>\n",
       "      <td>3</td>\n",
       "    </tr>\n",
       "    <tr>\n",
       "      <th>1163</th>\n",
       "      <td>3</td>\n",
       "    </tr>\n",
       "  </tbody>\n",
       "</table>\n",
       "<p>1164 rows × 1 columns</p>\n",
       "</div>"
      ],
      "text/plain": [
       "      predictions\n",
       "0               3\n",
       "1               3\n",
       "2               3\n",
       "3               3\n",
       "4               0\n",
       "...           ...\n",
       "1159            3\n",
       "1160            3\n",
       "1161            3\n",
       "1162            3\n",
       "1163            3\n",
       "\n",
       "[1164 rows x 1 columns]"
      ]
     },
     "execution_count": 118,
     "metadata": {},
     "output_type": "execute_result"
    }
   ],
   "source": [
    "# Initialize the K-Means model.\n",
    "model = KMeans(n_clusters=4, random_state=0)\n",
    "\n",
    "\n",
    "# Fit the model\n",
    "model.fit(MPCA_df)\n",
    "\n",
    "# Predict clusters\n",
    "predictions = model.predict(MPCA_df)\n",
    "predictions_df = pd.DataFrame(predictions, columns=[\"predictions\"])\n",
    "\n",
    "predictions_df"
   ]
  },
  {
   "cell_type": "code",
   "execution_count": 123,
   "id": "0a19bf19",
   "metadata": {},
   "outputs": [
    {
     "data": {
      "text/html": [
       "<div>\n",
       "<style scoped>\n",
       "    .dataframe tbody tr th:only-of-type {\n",
       "        vertical-align: middle;\n",
       "    }\n",
       "\n",
       "    .dataframe tbody tr th {\n",
       "        vertical-align: top;\n",
       "    }\n",
       "\n",
       "    .dataframe thead th {\n",
       "        text-align: right;\n",
       "    }\n",
       "</style>\n",
       "<table border=\"1\" class=\"dataframe\">\n",
       "  <thead>\n",
       "    <tr style=\"text-align: right;\">\n",
       "      <th></th>\n",
       "      <th>county</th>\n",
       "      <th>year</th>\n",
       "      <th>totalpopulation</th>\n",
       "      <th>average_yearly_wage</th>\n",
       "      <th>lowtiermedianhomevalue</th>\n",
       "      <th>hightiermedianhomevalue</th>\n",
       "      <th>singlefamilymedianhomevalue</th>\n",
       "      <th>value_inches</th>\n",
       "      <th>murder</th>\n",
       "      <th>rape</th>\n",
       "      <th>...</th>\n",
       "      <th>index_per_100k</th>\n",
       "      <th>employment</th>\n",
       "      <th>unemployment</th>\n",
       "      <th>labor_force</th>\n",
       "      <th>unemployment_rate</th>\n",
       "      <th>county_code</th>\n",
       "      <th>PCA1</th>\n",
       "      <th>PCA2</th>\n",
       "      <th>PCA3</th>\n",
       "      <th>class</th>\n",
       "    </tr>\n",
       "  </thead>\n",
       "  <tbody>\n",
       "    <tr>\n",
       "      <th>0</th>\n",
       "      <td>Alachua</td>\n",
       "      <td>2001</td>\n",
       "      <td>222935</td>\n",
       "      <td>26917</td>\n",
       "      <td>72233.0</td>\n",
       "      <td>198921.0</td>\n",
       "      <td>121316.0</td>\n",
       "      <td>45.63</td>\n",
       "      <td>8.0</td>\n",
       "      <td>176.0</td>\n",
       "      <td>...</td>\n",
       "      <td>6083.0</td>\n",
       "      <td>114284.0</td>\n",
       "      <td>4263</td>\n",
       "      <td>118547</td>\n",
       "      <td>0.036</td>\n",
       "      <td>0</td>\n",
       "      <td>-0.032388</td>\n",
       "      <td>-1.663915</td>\n",
       "      <td>2.654308</td>\n",
       "      <td>3</td>\n",
       "    </tr>\n",
       "    <tr>\n",
       "      <th>1</th>\n",
       "      <td>Alachua</td>\n",
       "      <td>2002</td>\n",
       "      <td>228607</td>\n",
       "      <td>27648</td>\n",
       "      <td>76757.0</td>\n",
       "      <td>210486.0</td>\n",
       "      <td>129499.0</td>\n",
       "      <td>58.40</td>\n",
       "      <td>7.0</td>\n",
       "      <td>189.0</td>\n",
       "      <td>...</td>\n",
       "      <td>5637.0</td>\n",
       "      <td>113387.0</td>\n",
       "      <td>4776</td>\n",
       "      <td>118163</td>\n",
       "      <td>0.040</td>\n",
       "      <td>0</td>\n",
       "      <td>-0.088817</td>\n",
       "      <td>-1.432951</td>\n",
       "      <td>2.137915</td>\n",
       "      <td>3</td>\n",
       "    </tr>\n",
       "    <tr>\n",
       "      <th>2</th>\n",
       "      <td>Alachua</td>\n",
       "      <td>2003</td>\n",
       "      <td>231296</td>\n",
       "      <td>28867</td>\n",
       "      <td>83740.0</td>\n",
       "      <td>228059.0</td>\n",
       "      <td>141447.0</td>\n",
       "      <td>53.70</td>\n",
       "      <td>7.0</td>\n",
       "      <td>160.0</td>\n",
       "      <td>...</td>\n",
       "      <td>5225.0</td>\n",
       "      <td>114641.0</td>\n",
       "      <td>4446</td>\n",
       "      <td>119087</td>\n",
       "      <td>0.037</td>\n",
       "      <td>0</td>\n",
       "      <td>-0.117376</td>\n",
       "      <td>-1.045433</td>\n",
       "      <td>1.983977</td>\n",
       "      <td>3</td>\n",
       "    </tr>\n",
       "    <tr>\n",
       "      <th>3</th>\n",
       "      <td>Alachua</td>\n",
       "      <td>2004</td>\n",
       "      <td>236174</td>\n",
       "      <td>30939</td>\n",
       "      <td>95977.0</td>\n",
       "      <td>260733.0</td>\n",
       "      <td>162329.0</td>\n",
       "      <td>64.46</td>\n",
       "      <td>8.0</td>\n",
       "      <td>194.0</td>\n",
       "      <td>...</td>\n",
       "      <td>4733.0</td>\n",
       "      <td>115973.0</td>\n",
       "      <td>4283</td>\n",
       "      <td>120256</td>\n",
       "      <td>0.036</td>\n",
       "      <td>0</td>\n",
       "      <td>-0.021897</td>\n",
       "      <td>-0.494666</td>\n",
       "      <td>1.527263</td>\n",
       "      <td>3</td>\n",
       "    </tr>\n",
       "    <tr>\n",
       "      <th>4</th>\n",
       "      <td>Alachua</td>\n",
       "      <td>2005</td>\n",
       "      <td>240764</td>\n",
       "      <td>33145</td>\n",
       "      <td>111818.0</td>\n",
       "      <td>301074.0</td>\n",
       "      <td>187998.0</td>\n",
       "      <td>54.20</td>\n",
       "      <td>7.0</td>\n",
       "      <td>233.0</td>\n",
       "      <td>...</td>\n",
       "      <td>4852.0</td>\n",
       "      <td>119924.0</td>\n",
       "      <td>3626</td>\n",
       "      <td>123550</td>\n",
       "      <td>0.029</td>\n",
       "      <td>0</td>\n",
       "      <td>0.251113</td>\n",
       "      <td>0.130683</td>\n",
       "      <td>1.653135</td>\n",
       "      <td>0</td>\n",
       "    </tr>\n",
       "    <tr>\n",
       "      <th>5</th>\n",
       "      <td>Alachua</td>\n",
       "      <td>2006</td>\n",
       "      <td>243779</td>\n",
       "      <td>34748</td>\n",
       "      <td>130667.0</td>\n",
       "      <td>345131.0</td>\n",
       "      <td>217399.0</td>\n",
       "      <td>37.30</td>\n",
       "      <td>13.0</td>\n",
       "      <td>239.0</td>\n",
       "      <td>...</td>\n",
       "      <td>5454.0</td>\n",
       "      <td>122471.0</td>\n",
       "      <td>3372</td>\n",
       "      <td>125843</td>\n",
       "      <td>0.027</td>\n",
       "      <td>0</td>\n",
       "      <td>0.652651</td>\n",
       "      <td>0.678304</td>\n",
       "      <td>1.993899</td>\n",
       "      <td>0</td>\n",
       "    </tr>\n",
       "    <tr>\n",
       "      <th>6</th>\n",
       "      <td>Alachua</td>\n",
       "      <td>2007</td>\n",
       "      <td>247561</td>\n",
       "      <td>36456</td>\n",
       "      <td>135485.0</td>\n",
       "      <td>354738.0</td>\n",
       "      <td>224103.0</td>\n",
       "      <td>44.10</td>\n",
       "      <td>7.0</td>\n",
       "      <td>197.0</td>\n",
       "      <td>...</td>\n",
       "      <td>5229.0</td>\n",
       "      <td>125102.0</td>\n",
       "      <td>3908</td>\n",
       "      <td>129010</td>\n",
       "      <td>0.030</td>\n",
       "      <td>0</td>\n",
       "      <td>0.601290</td>\n",
       "      <td>0.916407</td>\n",
       "      <td>1.580023</td>\n",
       "      <td>0</td>\n",
       "    </tr>\n",
       "    <tr>\n",
       "      <th>7</th>\n",
       "      <td>Alachua</td>\n",
       "      <td>2008</td>\n",
       "      <td>252388</td>\n",
       "      <td>37469</td>\n",
       "      <td>125463.0</td>\n",
       "      <td>325363.0</td>\n",
       "      <td>206437.0</td>\n",
       "      <td>45.17</td>\n",
       "      <td>4.0</td>\n",
       "      <td>173.0</td>\n",
       "      <td>...</td>\n",
       "      <td>4950.0</td>\n",
       "      <td>125425.0</td>\n",
       "      <td>5821</td>\n",
       "      <td>131246</td>\n",
       "      <td>0.044</td>\n",
       "      <td>0</td>\n",
       "      <td>0.419190</td>\n",
       "      <td>0.603320</td>\n",
       "      <td>0.988740</td>\n",
       "      <td>0</td>\n",
       "    </tr>\n",
       "    <tr>\n",
       "      <th>8</th>\n",
       "      <td>Alachua</td>\n",
       "      <td>2009</td>\n",
       "      <td>256232</td>\n",
       "      <td>39080</td>\n",
       "      <td>110449.0</td>\n",
       "      <td>288381.0</td>\n",
       "      <td>183571.0</td>\n",
       "      <td>53.10</td>\n",
       "      <td>5.0</td>\n",
       "      <td>191.0</td>\n",
       "      <td>...</td>\n",
       "      <td>4988.0</td>\n",
       "      <td>120579.0</td>\n",
       "      <td>9236</td>\n",
       "      <td>129815</td>\n",
       "      <td>0.071</td>\n",
       "      <td>0</td>\n",
       "      <td>0.455326</td>\n",
       "      <td>-0.010978</td>\n",
       "      <td>0.138135</td>\n",
       "      <td>0</td>\n",
       "    </tr>\n",
       "    <tr>\n",
       "      <th>9</th>\n",
       "      <td>Alachua</td>\n",
       "      <td>2010</td>\n",
       "      <td>247336</td>\n",
       "      <td>39688</td>\n",
       "      <td>102223.0</td>\n",
       "      <td>269990.0</td>\n",
       "      <td>172110.0</td>\n",
       "      <td>45.00</td>\n",
       "      <td>12.0</td>\n",
       "      <td>154.0</td>\n",
       "      <td>...</td>\n",
       "      <td>4198.0</td>\n",
       "      <td>117504.0</td>\n",
       "      <td>9880</td>\n",
       "      <td>127384</td>\n",
       "      <td>0.078</td>\n",
       "      <td>0</td>\n",
       "      <td>0.175349</td>\n",
       "      <td>-0.092794</td>\n",
       "      <td>-0.308218</td>\n",
       "      <td>0</td>\n",
       "    </tr>\n",
       "  </tbody>\n",
       "</table>\n",
       "<p>10 rows × 25 columns</p>\n",
       "</div>"
      ],
      "text/plain": [
       "    county  year  totalpopulation  average_yearly_wage  \\\n",
       "0  Alachua  2001           222935                26917   \n",
       "1  Alachua  2002           228607                27648   \n",
       "2  Alachua  2003           231296                28867   \n",
       "3  Alachua  2004           236174                30939   \n",
       "4  Alachua  2005           240764                33145   \n",
       "5  Alachua  2006           243779                34748   \n",
       "6  Alachua  2007           247561                36456   \n",
       "7  Alachua  2008           252388                37469   \n",
       "8  Alachua  2009           256232                39080   \n",
       "9  Alachua  2010           247336                39688   \n",
       "\n",
       "   lowtiermedianhomevalue  hightiermedianhomevalue  \\\n",
       "0                 72233.0                 198921.0   \n",
       "1                 76757.0                 210486.0   \n",
       "2                 83740.0                 228059.0   \n",
       "3                 95977.0                 260733.0   \n",
       "4                111818.0                 301074.0   \n",
       "5                130667.0                 345131.0   \n",
       "6                135485.0                 354738.0   \n",
       "7                125463.0                 325363.0   \n",
       "8                110449.0                 288381.0   \n",
       "9                102223.0                 269990.0   \n",
       "\n",
       "   singlefamilymedianhomevalue  value_inches  murder   rape  ...  \\\n",
       "0                     121316.0         45.63     8.0  176.0  ...   \n",
       "1                     129499.0         58.40     7.0  189.0  ...   \n",
       "2                     141447.0         53.70     7.0  160.0  ...   \n",
       "3                     162329.0         64.46     8.0  194.0  ...   \n",
       "4                     187998.0         54.20     7.0  233.0  ...   \n",
       "5                     217399.0         37.30    13.0  239.0  ...   \n",
       "6                     224103.0         44.10     7.0  197.0  ...   \n",
       "7                     206437.0         45.17     4.0  173.0  ...   \n",
       "8                     183571.0         53.10     5.0  191.0  ...   \n",
       "9                     172110.0         45.00    12.0  154.0  ...   \n",
       "\n",
       "   index_per_100k  employment  unemployment  labor_force  unemployment_rate  \\\n",
       "0          6083.0    114284.0          4263       118547              0.036   \n",
       "1          5637.0    113387.0          4776       118163              0.040   \n",
       "2          5225.0    114641.0          4446       119087              0.037   \n",
       "3          4733.0    115973.0          4283       120256              0.036   \n",
       "4          4852.0    119924.0          3626       123550              0.029   \n",
       "5          5454.0    122471.0          3372       125843              0.027   \n",
       "6          5229.0    125102.0          3908       129010              0.030   \n",
       "7          4950.0    125425.0          5821       131246              0.044   \n",
       "8          4988.0    120579.0          9236       129815              0.071   \n",
       "9          4198.0    117504.0          9880       127384              0.078   \n",
       "\n",
       "   county_code      PCA1      PCA2      PCA3  class  \n",
       "0            0 -0.032388 -1.663915  2.654308      3  \n",
       "1            0 -0.088817 -1.432951  2.137915      3  \n",
       "2            0 -0.117376 -1.045433  1.983977      3  \n",
       "3            0 -0.021897 -0.494666  1.527263      3  \n",
       "4            0  0.251113  0.130683  1.653135      0  \n",
       "5            0  0.652651  0.678304  1.993899      0  \n",
       "6            0  0.601290  0.916407  1.580023      0  \n",
       "7            0  0.419190  0.603320  0.988740      0  \n",
       "8            0  0.455326 -0.010978  0.138135      0  \n",
       "9            0  0.175349 -0.092794 -0.308218      0  \n",
       "\n",
       "[10 rows x 25 columns]"
      ]
     },
     "execution_count": 123,
     "metadata": {},
     "output_type": "execute_result"
    }
   ],
   "source": [
    "clustered_df = M_df.merge(MPCA_df, left_index=True, right_index=True)\n",
    "\n",
    "#  Add a new column, \"Class\" to the clustered_df DataFrame that holds the predictions.\n",
    "clustered_df[\"class\"] = predictions_df\n",
    "\n",
    "# Print the shape of the clustered_df\n",
    "clustered_df.head(10)"
   ]
  },
  {
   "cell_type": "code",
   "execution_count": 127,
   "id": "b9882b2c",
   "metadata": {},
   "outputs": [
    {
     "data": {
      "application/vnd.plotly.v1+json": {
       "config": {
        "plotlyServerURL": "https://plot.ly"
       },
       "data": [
        {
         "customdata": [
          [
           2001
          ],
          [
           2002
          ],
          [
           2003
          ],
          [
           2004
          ],
          [
           2012
          ],
          [
           2018
          ],
          [
           2001
          ],
          [
           2002
          ],
          [
           2003
          ],
          [
           2004
          ],
          [
           2005
          ],
          [
           2006
          ],
          [
           2007
          ],
          [
           2008
          ],
          [
           2009
          ],
          [
           2010
          ],
          [
           2011
          ],
          [
           2012
          ],
          [
           2013
          ],
          [
           2014
          ],
          [
           2015
          ],
          [
           2016
          ],
          [
           2017
          ],
          [
           2018
          ],
          [
           2005
          ],
          [
           2006
          ],
          [
           2007
          ],
          [
           2008
          ],
          [
           2014
          ],
          [
           2015
          ],
          [
           2016
          ],
          [
           2017
          ],
          [
           2018
          ],
          [
           2001
          ],
          [
           2002
          ],
          [
           2003
          ],
          [
           2004
          ],
          [
           2005
          ],
          [
           2006
          ],
          [
           2007
          ],
          [
           2008
          ],
          [
           2009
          ],
          [
           2010
          ],
          [
           2011
          ],
          [
           2012
          ],
          [
           2013
          ],
          [
           2014
          ],
          [
           2001
          ],
          [
           2002
          ],
          [
           2003
          ],
          [
           2008
          ],
          [
           2009
          ],
          [
           2010
          ],
          [
           2011
          ],
          [
           2012
          ],
          [
           2013
          ],
          [
           2014
          ],
          [
           2015
          ],
          [
           2016
          ],
          [
           2017
          ],
          [
           2018
          ],
          [
           2005
          ],
          [
           2009
          ],
          [
           2010
          ],
          [
           2011
          ],
          [
           2012
          ],
          [
           2013
          ],
          [
           2014
          ],
          [
           2015
          ],
          [
           2001
          ],
          [
           2002
          ],
          [
           2003
          ],
          [
           2004
          ],
          [
           2007
          ],
          [
           2008
          ],
          [
           2009
          ],
          [
           2010
          ],
          [
           2011
          ],
          [
           2012
          ],
          [
           2013
          ],
          [
           2014
          ],
          [
           2015
          ],
          [
           2016
          ],
          [
           2017
          ],
          [
           2018
          ],
          [
           2001
          ],
          [
           2006
          ],
          [
           2007
          ],
          [
           2008
          ],
          [
           2009
          ],
          [
           2010
          ],
          [
           2014
          ],
          [
           2015
          ],
          [
           2016
          ],
          [
           2017
          ],
          [
           2018
          ],
          [
           2001
          ],
          [
           2002
          ],
          [
           2003
          ],
          [
           2004
          ],
          [
           2005
          ],
          [
           2006
          ],
          [
           2007
          ],
          [
           2008
          ],
          [
           2009
          ],
          [
           2010
          ],
          [
           2011
          ],
          [
           2012
          ],
          [
           2013
          ],
          [
           2014
          ],
          [
           2015
          ],
          [
           2016
          ],
          [
           2017
          ],
          [
           2018
          ],
          [
           2001
          ],
          [
           2002
          ],
          [
           2003
          ],
          [
           2004
          ],
          [
           2005
          ],
          [
           2006
          ],
          [
           2007
          ],
          [
           2008
          ],
          [
           2009
          ],
          [
           2010
          ],
          [
           2011
          ],
          [
           2012
          ],
          [
           2013
          ],
          [
           2014
          ],
          [
           2015
          ],
          [
           2016
          ],
          [
           2017
          ],
          [
           2018
          ],
          [
           2001
          ],
          [
           2002
          ],
          [
           2003
          ],
          [
           2004
          ],
          [
           2005
          ],
          [
           2006
          ],
          [
           2007
          ],
          [
           2006
          ],
          [
           2007
          ],
          [
           2008
          ],
          [
           2009
          ],
          [
           2010
          ],
          [
           2013
          ],
          [
           2014
          ],
          [
           2015
          ],
          [
           2016
          ],
          [
           2017
          ],
          [
           2018
          ],
          [
           2001
          ],
          [
           2004
          ],
          [
           2005
          ],
          [
           2006
          ],
          [
           2012
          ],
          [
           2013
          ],
          [
           2014
          ],
          [
           2015
          ],
          [
           2016
          ],
          [
           2002
          ],
          [
           2003
          ],
          [
           2004
          ],
          [
           2001
          ],
          [
           2002
          ],
          [
           2003
          ],
          [
           2004
          ],
          [
           2005
          ],
          [
           2006
          ],
          [
           2007
          ],
          [
           2008
          ],
          [
           2009
          ],
          [
           2010
          ],
          [
           2011
          ],
          [
           2012
          ],
          [
           2013
          ],
          [
           2014
          ],
          [
           2015
          ],
          [
           2016
          ],
          [
           2017
          ],
          [
           2018
          ],
          [
           2001
          ],
          [
           2002
          ],
          [
           2003
          ],
          [
           2004
          ],
          [
           2005
          ],
          [
           2006
          ],
          [
           2007
          ],
          [
           2008
          ],
          [
           2009
          ],
          [
           2010
          ],
          [
           2011
          ],
          [
           2012
          ],
          [
           2013
          ],
          [
           2014
          ],
          [
           2015
          ],
          [
           2016
          ],
          [
           2017
          ],
          [
           2018
          ],
          [
           2001
          ],
          [
           2002
          ],
          [
           2003
          ],
          [
           2004
          ],
          [
           2005
          ],
          [
           2006
          ],
          [
           2007
          ],
          [
           2008
          ],
          [
           2009
          ],
          [
           2010
          ],
          [
           2011
          ],
          [
           2012
          ],
          [
           2013
          ],
          [
           2014
          ],
          [
           2015
          ],
          [
           2001
          ],
          [
           2002
          ],
          [
           2003
          ],
          [
           2004
          ],
          [
           2005
          ],
          [
           2006
          ],
          [
           2010
          ],
          [
           2011
          ],
          [
           2012
          ],
          [
           2013
          ],
          [
           2014
          ],
          [
           2015
          ],
          [
           2018
          ],
          [
           2001
          ],
          [
           2002
          ],
          [
           2003
          ],
          [
           2004
          ],
          [
           2005
          ],
          [
           2006
          ],
          [
           2007
          ],
          [
           2008
          ],
          [
           2009
          ],
          [
           2010
          ],
          [
           2011
          ],
          [
           2012
          ],
          [
           2013
          ],
          [
           2014
          ],
          [
           2015
          ],
          [
           2016
          ],
          [
           2017
          ],
          [
           2018
          ],
          [
           2001
          ],
          [
           2002
          ],
          [
           2003
          ],
          [
           2004
          ],
          [
           2005
          ],
          [
           2006
          ],
          [
           2007
          ],
          [
           2008
          ],
          [
           2009
          ],
          [
           2010
          ],
          [
           2011
          ],
          [
           2012
          ],
          [
           2013
          ],
          [
           2014
          ],
          [
           2015
          ],
          [
           2016
          ],
          [
           2017
          ],
          [
           2018
          ],
          [
           2001
          ],
          [
           2002
          ],
          [
           2003
          ],
          [
           2004
          ],
          [
           2005
          ],
          [
           2006
          ],
          [
           2007
          ],
          [
           2008
          ],
          [
           2011
          ],
          [
           2012
          ],
          [
           2013
          ],
          [
           2014
          ],
          [
           2015
          ],
          [
           2016
          ],
          [
           2017
          ],
          [
           2018
          ],
          [
           2002
          ],
          [
           2003
          ],
          [
           2004
          ],
          [
           2005
          ],
          [
           2006
          ],
          [
           2007
          ],
          [
           2008
          ],
          [
           2009
          ],
          [
           2010
          ],
          [
           2011
          ],
          [
           2012
          ],
          [
           2013
          ],
          [
           2014
          ],
          [
           2015
          ],
          [
           2016
          ],
          [
           2017
          ],
          [
           2018
          ],
          [
           2018
          ],
          [
           2001
          ],
          [
           2002
          ],
          [
           2003
          ],
          [
           2004
          ],
          [
           2005
          ],
          [
           2006
          ],
          [
           2007
          ],
          [
           2008
          ],
          [
           2009
          ],
          [
           2010
          ],
          [
           2011
          ],
          [
           2012
          ],
          [
           2013
          ],
          [
           2014
          ],
          [
           2015
          ],
          [
           2016
          ],
          [
           2017
          ],
          [
           2018
          ],
          [
           2004
          ],
          [
           2005
          ],
          [
           2006
          ],
          [
           2007
          ],
          [
           2008
          ],
          [
           2014
          ],
          [
           2015
          ],
          [
           2016
          ],
          [
           2017
          ],
          [
           2018
          ],
          [
           2001
          ],
          [
           2002
          ],
          [
           2003
          ],
          [
           2004
          ],
          [
           2005
          ],
          [
           2006
          ],
          [
           2007
          ],
          [
           2008
          ],
          [
           2009
          ],
          [
           2010
          ],
          [
           2011
          ],
          [
           2012
          ],
          [
           2013
          ],
          [
           2014
          ],
          [
           2015
          ],
          [
           2016
          ],
          [
           2017
          ],
          [
           2018
          ],
          [
           2001
          ],
          [
           2002
          ],
          [
           2003
          ],
          [
           2004
          ],
          [
           2005
          ],
          [
           2006
          ],
          [
           2007
          ],
          [
           2008
          ],
          [
           2009
          ],
          [
           2010
          ],
          [
           2011
          ],
          [
           2012
          ],
          [
           2013
          ],
          [
           2014
          ],
          [
           2015
          ],
          [
           2016
          ],
          [
           2017
          ],
          [
           2018
          ],
          [
           2001
          ],
          [
           2002
          ],
          [
           2003
          ],
          [
           2004
          ],
          [
           2005
          ],
          [
           2006
          ],
          [
           2007
          ],
          [
           2008
          ],
          [
           2009
          ],
          [
           2010
          ],
          [
           2011
          ],
          [
           2016
          ],
          [
           2017
          ],
          [
           2018
          ],
          [
           2004
          ],
          [
           2005
          ],
          [
           2006
          ],
          [
           2015
          ],
          [
           2002
          ],
          [
           2003
          ],
          [
           2004
          ],
          [
           2005
          ],
          [
           2006
          ],
          [
           2007
          ],
          [
           2008
          ],
          [
           2009
          ],
          [
           2010
          ],
          [
           2011
          ],
          [
           2012
          ],
          [
           2013
          ],
          [
           2014
          ],
          [
           2015
          ],
          [
           2016
          ],
          [
           2017
          ],
          [
           2018
          ],
          [
           2001
          ],
          [
           2002
          ],
          [
           2003
          ],
          [
           2004
          ],
          [
           2005
          ],
          [
           2006
          ],
          [
           2007
          ],
          [
           2008
          ],
          [
           2009
          ],
          [
           2010
          ],
          [
           2011
          ],
          [
           2012
          ],
          [
           2013
          ],
          [
           2014
          ],
          [
           2015
          ],
          [
           2016
          ],
          [
           2017
          ],
          [
           2018
          ],
          [
           2001
          ],
          [
           2002
          ],
          [
           2003
          ],
          [
           2004
          ],
          [
           2005
          ],
          [
           2006
          ],
          [
           2007
          ],
          [
           2005
          ],
          [
           2006
          ],
          [
           2007
          ],
          [
           2008
          ],
          [
           2009
          ],
          [
           2012
          ],
          [
           2013
          ],
          [
           2014
          ],
          [
           2015
          ],
          [
           2016
          ],
          [
           2017
          ],
          [
           2018
          ],
          [
           2003
          ],
          [
           2004
          ],
          [
           2003
          ],
          [
           2004
          ],
          [
           2001
          ],
          [
           2002
          ],
          [
           2003
          ],
          [
           2001
          ],
          [
           2002
          ],
          [
           2003
          ],
          [
           2006
          ],
          [
           2007
          ],
          [
           2008
          ],
          [
           2009
          ],
          [
           2010
          ],
          [
           2011
          ],
          [
           2012
          ],
          [
           2013
          ],
          [
           2015
          ],
          [
           2016
          ],
          [
           2017
          ],
          [
           2003
          ],
          [
           2004
          ],
          [
           2005
          ],
          [
           2006
          ],
          [
           2007
          ],
          [
           2001
          ],
          [
           2002
          ],
          [
           2003
          ],
          [
           2004
          ],
          [
           2007
          ],
          [
           2008
          ],
          [
           2009
          ],
          [
           2010
          ],
          [
           2015
          ],
          [
           2016
          ],
          [
           2017
          ],
          [
           2018
          ],
          [
           2005
          ],
          [
           2006
          ],
          [
           2007
          ],
          [
           2008
          ],
          [
           2009
          ],
          [
           2010
          ],
          [
           2011
          ],
          [
           2012
          ],
          [
           2013
          ],
          [
           2014
          ],
          [
           2015
          ],
          [
           2016
          ],
          [
           2017
          ],
          [
           2018
          ],
          [
           2001
          ],
          [
           2002
          ],
          [
           2001
          ],
          [
           2002
          ],
          [
           2003
          ],
          [
           2009
          ],
          [
           2010
          ],
          [
           2011
          ],
          [
           2012
          ],
          [
           2013
          ],
          [
           2001
          ],
          [
           2017
          ],
          [
           2015
          ],
          [
           2016
          ],
          [
           2005
          ],
          [
           2006
          ],
          [
           2013
          ],
          [
           2014
          ],
          [
           2015
          ],
          [
           2011
          ],
          [
           2012
          ],
          [
           2013
          ],
          [
           2014
          ],
          [
           2015
          ],
          [
           2016
          ],
          [
           2017
          ],
          [
           2018
          ],
          [
           2001
          ],
          [
           2002
          ],
          [
           2003
          ],
          [
           2004
          ],
          [
           2005
          ],
          [
           2006
          ],
          [
           2007
          ],
          [
           2008
          ],
          [
           2009
          ],
          [
           2010
          ],
          [
           2011
          ],
          [
           2012
          ],
          [
           2013
          ],
          [
           2014
          ],
          [
           2015
          ],
          [
           2016
          ],
          [
           2017
          ],
          [
           2018
          ],
          [
           2001
          ],
          [
           2002
          ],
          [
           2003
          ],
          [
           2004
          ],
          [
           2005
          ],
          [
           2006
          ],
          [
           2007
          ],
          [
           2008
          ],
          [
           2009
          ],
          [
           2010
          ],
          [
           2011
          ],
          [
           2012
          ],
          [
           2013
          ],
          [
           2014
          ],
          [
           2015
          ],
          [
           2016
          ],
          [
           2017
          ],
          [
           2018
          ],
          [
           2001
          ],
          [
           2008
          ],
          [
           2009
          ],
          [
           2010
          ],
          [
           2011
          ],
          [
           2017
          ],
          [
           2018
          ],
          [
           2001
          ],
          [
           2002
          ],
          [
           2003
          ],
          [
           2004
          ],
          [
           2005
          ],
          [
           2006
          ],
          [
           2007
          ],
          [
           2008
          ],
          [
           2009
          ],
          [
           2010
          ],
          [
           2011
          ],
          [
           2012
          ],
          [
           2013
          ],
          [
           2014
          ],
          [
           2015
          ],
          [
           2016
          ],
          [
           2017
          ],
          [
           2018
          ],
          [
           2001
          ],
          [
           2002
          ],
          [
           2003
          ],
          [
           2004
          ]
         ],
         "hovertemplate": "<b>%{hovertext}</b><br><br>class=%{marker.color}<br>PCA1=%{x}<br>PCA2=%{y}<br>PCA3=%{z}<br>year=%{customdata[0]}<extra></extra>",
         "hovertext": [
          "Alachua",
          "Alachua",
          "Alachua",
          "Alachua",
          "Alachua",
          "Alachua",
          "Baker",
          "Baker",
          "Baker",
          "Baker",
          "Baker",
          "Baker",
          "Baker",
          "Baker",
          "Baker",
          "Baker",
          "Baker",
          "Baker",
          "Baker",
          "Baker",
          "Baker",
          "Baker",
          "Baker",
          "Baker",
          "Bay",
          "Bay",
          "Bay",
          "Bay",
          "Bay",
          "Bay",
          "Bay",
          "Bay",
          "Bay",
          "Bradford",
          "Bradford",
          "Bradford",
          "Bradford",
          "Bradford",
          "Bradford",
          "Bradford",
          "Bradford",
          "Bradford",
          "Bradford",
          "Bradford",
          "Bradford",
          "Bradford",
          "Bradford",
          "Brevard",
          "Brevard",
          "Brevard",
          "Broward",
          "Broward",
          "Broward",
          "Broward",
          "Broward",
          "Broward",
          "Broward",
          "Broward",
          "Broward",
          "Broward",
          "Broward",
          "Calhoun",
          "Calhoun",
          "Calhoun",
          "Calhoun",
          "Calhoun",
          "Calhoun",
          "Calhoun",
          "Calhoun",
          "Charlotte",
          "Charlotte",
          "Charlotte",
          "Charlotte",
          "Charlotte",
          "Charlotte",
          "Charlotte",
          "Charlotte",
          "Charlotte",
          "Charlotte",
          "Charlotte",
          "Charlotte",
          "Charlotte",
          "Charlotte",
          "Charlotte",
          "Charlotte",
          "Citrus",
          "Citrus",
          "Citrus",
          "Citrus",
          "Citrus",
          "Citrus",
          "Clay",
          "Clay",
          "Clay",
          "Clay",
          "Clay",
          "Collier",
          "Collier",
          "Collier",
          "Collier",
          "Collier",
          "Collier",
          "Collier",
          "Collier",
          "Collier",
          "Collier",
          "Collier",
          "Collier",
          "Collier",
          "Collier",
          "Collier",
          "Collier",
          "Collier",
          "Collier",
          "Columbia",
          "Columbia",
          "Columbia",
          "Columbia",
          "Columbia",
          "Columbia",
          "Columbia",
          "Columbia",
          "Columbia",
          "Columbia",
          "Columbia",
          "Columbia",
          "Columbia",
          "Columbia",
          "Columbia",
          "Columbia",
          "Columbia",
          "Columbia",
          "DeSoto",
          "DeSoto",
          "DeSoto",
          "DeSoto",
          "DeSoto",
          "DeSoto",
          "DeSoto",
          "Dixie",
          "Dixie",
          "Dixie",
          "Dixie",
          "Dixie",
          "Dixie",
          "Dixie",
          "Dixie",
          "Dixie",
          "Dixie",
          "Dixie",
          "Duval",
          "Duval",
          "Duval",
          "Duval",
          "Duval",
          "Duval",
          "Duval",
          "Duval",
          "Duval",
          "Escambia",
          "Escambia",
          "Escambia",
          "Flagler",
          "Flagler",
          "Flagler",
          "Flagler",
          "Flagler",
          "Flagler",
          "Flagler",
          "Flagler",
          "Flagler",
          "Flagler",
          "Flagler",
          "Flagler",
          "Flagler",
          "Flagler",
          "Flagler",
          "Flagler",
          "Flagler",
          "Flagler",
          "Franklin",
          "Franklin",
          "Franklin",
          "Franklin",
          "Franklin",
          "Franklin",
          "Franklin",
          "Franklin",
          "Franklin",
          "Franklin",
          "Franklin",
          "Franklin",
          "Franklin",
          "Franklin",
          "Franklin",
          "Franklin",
          "Franklin",
          "Franklin",
          "Gadsden",
          "Gadsden",
          "Gadsden",
          "Gadsden",
          "Gadsden",
          "Gadsden",
          "Gadsden",
          "Gadsden",
          "Gadsden",
          "Gadsden",
          "Gadsden",
          "Gadsden",
          "Gadsden",
          "Gadsden",
          "Gadsden",
          "Gilchrist",
          "Gilchrist",
          "Gilchrist",
          "Gilchrist",
          "Gilchrist",
          "Gilchrist",
          "Gilchrist",
          "Gilchrist",
          "Gilchrist",
          "Gilchrist",
          "Gilchrist",
          "Gilchrist",
          "Gilchrist",
          "Glades",
          "Glades",
          "Glades",
          "Glades",
          "Glades",
          "Glades",
          "Glades",
          "Glades",
          "Glades",
          "Glades",
          "Glades",
          "Glades",
          "Glades",
          "Glades",
          "Glades",
          "Glades",
          "Glades",
          "Glades",
          "Gulf",
          "Gulf",
          "Gulf",
          "Gulf",
          "Gulf",
          "Gulf",
          "Gulf",
          "Gulf",
          "Gulf",
          "Gulf",
          "Gulf",
          "Gulf",
          "Gulf",
          "Gulf",
          "Gulf",
          "Gulf",
          "Gulf",
          "Gulf",
          "Hamilton",
          "Hamilton",
          "Hamilton",
          "Hamilton",
          "Hamilton",
          "Hamilton",
          "Hamilton",
          "Hamilton",
          "Hamilton",
          "Hamilton",
          "Hamilton",
          "Hamilton",
          "Hamilton",
          "Hamilton",
          "Hamilton",
          "Hamilton",
          "Hardee",
          "Hardee",
          "Hardee",
          "Hardee",
          "Hardee",
          "Hardee",
          "Hardee",
          "Hardee",
          "Hardee",
          "Hardee",
          "Hardee",
          "Hardee",
          "Hardee",
          "Hardee",
          "Hardee",
          "Hardee",
          "Hardee",
          "Hendry",
          "Hernando",
          "Hernando",
          "Hernando",
          "Hernando",
          "Hernando",
          "Hernando",
          "Hernando",
          "Hernando",
          "Hernando",
          "Hernando",
          "Hernando",
          "Hernando",
          "Hernando",
          "Hernando",
          "Hernando",
          "Hernando",
          "Hernando",
          "Hernando",
          "Highlands",
          "Highlands",
          "Highlands",
          "Highlands",
          "Highlands",
          "Highlands",
          "Highlands",
          "Highlands",
          "Highlands",
          "Highlands",
          "Hillsborough",
          "Hillsborough",
          "Hillsborough",
          "Hillsborough",
          "Hillsborough",
          "Hillsborough",
          "Hillsborough",
          "Hillsborough",
          "Hillsborough",
          "Hillsborough",
          "Hillsborough",
          "Hillsborough",
          "Hillsborough",
          "Hillsborough",
          "Hillsborough",
          "Hillsborough",
          "Hillsborough",
          "Hillsborough",
          "Holmes",
          "Holmes",
          "Holmes",
          "Holmes",
          "Holmes",
          "Holmes",
          "Holmes",
          "Holmes",
          "Holmes",
          "Holmes",
          "Holmes",
          "Holmes",
          "Holmes",
          "Holmes",
          "Holmes",
          "Holmes",
          "Holmes",
          "Holmes",
          "Indian River",
          "Indian River",
          "Indian River",
          "Indian River",
          "Indian River",
          "Indian River",
          "Indian River",
          "Indian River",
          "Indian River",
          "Indian River",
          "Indian River",
          "Indian River",
          "Indian River",
          "Indian River",
          "Jefferson",
          "Jefferson",
          "Jefferson",
          "Jefferson",
          "Lafayette",
          "Lafayette",
          "Lafayette",
          "Lafayette",
          "Lafayette",
          "Lafayette",
          "Lafayette",
          "Lafayette",
          "Lafayette",
          "Lafayette",
          "Lafayette",
          "Lafayette",
          "Lafayette",
          "Lafayette",
          "Lafayette",
          "Lafayette",
          "Lafayette",
          "Lake",
          "Lake",
          "Lake",
          "Lake",
          "Lake",
          "Lake",
          "Lake",
          "Lake",
          "Lake",
          "Lake",
          "Lake",
          "Lake",
          "Lake",
          "Lake",
          "Lake",
          "Lake",
          "Lake",
          "Lake",
          "Lee",
          "Lee",
          "Lee",
          "Lee",
          "Lee",
          "Lee",
          "Lee",
          "Leon",
          "Leon",
          "Leon",
          "Leon",
          "Leon",
          "Leon",
          "Leon",
          "Leon",
          "Leon",
          "Leon",
          "Leon",
          "Leon",
          "Levy",
          "Levy",
          "Madison",
          "Madison",
          "Manatee",
          "Manatee",
          "Manatee",
          "Marion",
          "Marion",
          "Marion",
          "Marion",
          "Marion",
          "Marion",
          "Marion",
          "Marion",
          "Marion",
          "Marion",
          "Marion",
          "Martin",
          "Martin",
          "Martin",
          "Miami-Dade",
          "Miami-Dade",
          "Miami-Dade",
          "Miami-Dade",
          "Miami-Dade",
          "Nassau",
          "Nassau",
          "Nassau",
          "Nassau",
          "Okaloosa",
          "Okaloosa",
          "Okaloosa",
          "Okaloosa",
          "Okaloosa",
          "Okaloosa",
          "Okaloosa",
          "Okaloosa",
          "Okeechobee",
          "Okeechobee",
          "Okeechobee",
          "Okeechobee",
          "Okeechobee",
          "Okeechobee",
          "Okeechobee",
          "Okeechobee",
          "Okeechobee",
          "Okeechobee",
          "Okeechobee",
          "Okeechobee",
          "Okeechobee",
          "Okeechobee",
          "Orange",
          "Orange",
          "Osceola",
          "Osceola",
          "Osceola",
          "Osceola",
          "Osceola",
          "Osceola",
          "Osceola",
          "Osceola",
          "Palm Beach",
          "Palm Beach",
          "Pasco",
          "Pasco",
          "Pinellas",
          "Pinellas",
          "Pinellas",
          "Pinellas",
          "Pinellas",
          "Polk",
          "Polk",
          "Polk",
          "Polk",
          "Polk",
          "Polk",
          "Polk",
          "Polk",
          "Putnam",
          "Putnam",
          "Putnam",
          "Putnam",
          "Putnam",
          "Putnam",
          "Putnam",
          "Putnam",
          "Putnam",
          "Putnam",
          "Putnam",
          "Putnam",
          "Putnam",
          "Putnam",
          "Putnam",
          "Putnam",
          "Putnam",
          "Putnam",
          "Santa Rosa",
          "Santa Rosa",
          "Santa Rosa",
          "Santa Rosa",
          "Santa Rosa",
          "Santa Rosa",
          "Santa Rosa",
          "Santa Rosa",
          "Santa Rosa",
          "Santa Rosa",
          "Santa Rosa",
          "Santa Rosa",
          "Santa Rosa",
          "Santa Rosa",
          "Santa Rosa",
          "Santa Rosa",
          "Santa Rosa",
          "Santa Rosa",
          "Sarasota",
          "Sarasota",
          "Sarasota",
          "Sarasota",
          "Sarasota",
          "Sarasota",
          "Sarasota",
          "Seminole",
          "Seminole",
          "Seminole",
          "Seminole",
          "Seminole",
          "Seminole",
          "Seminole",
          "Seminole",
          "Seminole",
          "Seminole",
          "Seminole",
          "Seminole",
          "St. Johns",
          "St. Johns",
          "St. Johns",
          "St. Johns",
          "St. Johns",
          "St. Johns",
          "St. Lucie",
          "St. Lucie",
          "St. Lucie",
          "St. Lucie"
         ],
         "legendgroup": "3",
         "marker": {
          "color": [
           3,
           3,
           3,
           3,
           3,
           3,
           3,
           3,
           3,
           3,
           3,
           3,
           3,
           3,
           3,
           3,
           3,
           3,
           3,
           3,
           3,
           3,
           3,
           3,
           3,
           3,
           3,
           3,
           3,
           3,
           3,
           3,
           3,
           3,
           3,
           3,
           3,
           3,
           3,
           3,
           3,
           3,
           3,
           3,
           3,
           3,
           3,
           3,
           3,
           3,
           3,
           3,
           3,
           3,
           3,
           3,
           3,
           3,
           3,
           3,
           3,
           3,
           3,
           3,
           3,
           3,
           3,
           3,
           3,
           3,
           3,
           3,
           3,
           3,
           3,
           3,
           3,
           3,
           3,
           3,
           3,
           3,
           3,
           3,
           3,
           3,
           3,
           3,
           3,
           3,
           3,
           3,
           3,
           3,
           3,
           3,
           3,
           3,
           3,
           3,
           3,
           3,
           3,
           3,
           3,
           3,
           3,
           3,
           3,
           3,
           3,
           3,
           3,
           3,
           3,
           3,
           3,
           3,
           3,
           3,
           3,
           3,
           3,
           3,
           3,
           3,
           3,
           3,
           3,
           3,
           3,
           3,
           3,
           3,
           3,
           3,
           3,
           3,
           3,
           3,
           3,
           3,
           3,
           3,
           3,
           3,
           3,
           3,
           3,
           3,
           3,
           3,
           3,
           3,
           3,
           3,
           3,
           3,
           3,
           3,
           3,
           3,
           3,
           3,
           3,
           3,
           3,
           3,
           3,
           3,
           3,
           3,
           3,
           3,
           3,
           3,
           3,
           3,
           3,
           3,
           3,
           3,
           3,
           3,
           3,
           3,
           3,
           3,
           3,
           3,
           3,
           3,
           3,
           3,
           3,
           3,
           3,
           3,
           3,
           3,
           3,
           3,
           3,
           3,
           3,
           3,
           3,
           3,
           3,
           3,
           3,
           3,
           3,
           3,
           3,
           3,
           3,
           3,
           3,
           3,
           3,
           3,
           3,
           3,
           3,
           3,
           3,
           3,
           3,
           3,
           3,
           3,
           3,
           3,
           3,
           3,
           3,
           3,
           3,
           3,
           3,
           3,
           3,
           3,
           3,
           3,
           3,
           3,
           3,
           3,
           3,
           3,
           3,
           3,
           3,
           3,
           3,
           3,
           3,
           3,
           3,
           3,
           3,
           3,
           3,
           3,
           3,
           3,
           3,
           3,
           3,
           3,
           3,
           3,
           3,
           3,
           3,
           3,
           3,
           3,
           3,
           3,
           3,
           3,
           3,
           3,
           3,
           3,
           3,
           3,
           3,
           3,
           3,
           3,
           3,
           3,
           3,
           3,
           3,
           3,
           3,
           3,
           3,
           3,
           3,
           3,
           3,
           3,
           3,
           3,
           3,
           3,
           3,
           3,
           3,
           3,
           3,
           3,
           3,
           3,
           3,
           3,
           3,
           3,
           3,
           3,
           3,
           3,
           3,
           3,
           3,
           3,
           3,
           3,
           3,
           3,
           3,
           3,
           3,
           3,
           3,
           3,
           3,
           3,
           3,
           3,
           3,
           3,
           3,
           3,
           3,
           3,
           3,
           3,
           3,
           3,
           3,
           3,
           3,
           3,
           3,
           3,
           3,
           3,
           3,
           3,
           3,
           3,
           3,
           3,
           3,
           3,
           3,
           3,
           3,
           3,
           3,
           3,
           3,
           3,
           3,
           3,
           3,
           3,
           3,
           3,
           3,
           3,
           3,
           3,
           3,
           3,
           3,
           3,
           3,
           3,
           3,
           3,
           3,
           3,
           3,
           3,
           3,
           3,
           3,
           3,
           3,
           3,
           3,
           3,
           3,
           3,
           3,
           3,
           3,
           3,
           3,
           3,
           3,
           3,
           3,
           3,
           3,
           3,
           3,
           3,
           3,
           3,
           3,
           3,
           3,
           3,
           3,
           3,
           3,
           3,
           3,
           3,
           3,
           3,
           3,
           3,
           3,
           3,
           3,
           3,
           3,
           3,
           3,
           3,
           3,
           3,
           3,
           3,
           3,
           3,
           3,
           3,
           3,
           3,
           3,
           3,
           3,
           3,
           3,
           3,
           3,
           3,
           3,
           3,
           3,
           3,
           3,
           3,
           3,
           3,
           3,
           3,
           3,
           3,
           3,
           3,
           3,
           3,
           3,
           3,
           3,
           3,
           3,
           3,
           3,
           3,
           3,
           3,
           3,
           3,
           3,
           3,
           3,
           3,
           3,
           3,
           3,
           3,
           3,
           3,
           3,
           3,
           3,
           3,
           3,
           3,
           3,
           3,
           3,
           3,
           3,
           3,
           3,
           3,
           3,
           3,
           3,
           3,
           3,
           3,
           3,
           3,
           3,
           3,
           3,
           3,
           3,
           3,
           3,
           3,
           3,
           3,
           3,
           3,
           3,
           3,
           3,
           3,
           3,
           3,
           3,
           3,
           3,
           3,
           3,
           3,
           3,
           3,
           3,
           3,
           3,
           3,
           3,
           3,
           3,
           3,
           3,
           3,
           3,
           3,
           3,
           3,
           3,
           3,
           3,
           3,
           3,
           3,
           3,
           3
          ],
          "coloraxis": "coloraxis",
          "symbol": "circle"
         },
         "mode": "markers",
         "name": "3",
         "scene": "scene",
         "showlegend": true,
         "type": "scatter3d",
         "x": [
          -0.03238764423498087,
          -0.08881695194197019,
          -0.117375670244245,
          -0.02189728444461561,
          -0.15309343624687158,
          -2.315992981687923,
          -2.162499869259644,
          -1.9644465245402405,
          -1.9141523768797746,
          -1.9754477507687171,
          -2.131251690971803,
          -2.1656643532305955,
          -2.254012256828934,
          -2.2682336587772323,
          -2.2728097317135685,
          -2.165098896735035,
          -2.1098492178370916,
          -2.0109937056733567,
          -1.9397856858209248,
          -1.8580542220693745,
          -1.807982091707828,
          -0.7104996926973508,
          -0.5396479947798882,
          -0.425248638227942,
          -0.32720669057762314,
          -0.3938719057681196,
          -0.48015852980413515,
          -0.5148266367364119,
          -2.1452357385198835,
          -2.1815751524708853,
          -2.2338505368308406,
          -2.129952397213852,
          -2.057144428413827,
          -1.9691867608138705,
          -2.049989747616262,
          -2.1442129857855035,
          -2.133330918030341,
          -2.1364909047548153,
          -2.12264616792165,
          -2.0965579329460655,
          -2.025796955408134,
          -1.9277619543715196,
          -1.929722315103246,
          -1.8373655275157645,
          1.3227079301365339,
          1.5126736123640647,
          1.5684090576644705,
          1.6596491838058034,
          1.662398455162142,
          1.6359460312731857,
          -2.553573892488795,
          -2.480955891129522,
          -2.4224291157670015,
          -2.4959009111011468,
          -2.591977877076167,
          -2.6033384135310818,
          -2.6175676673597086,
          -2.5712728018671074,
          -2.571765744248696,
          -2.489410106339362,
          -2.4504049071964564,
          -1.0538323419366817,
          -0.9524432506563114,
          -1.1829294193040194,
          -1.2787623011043292,
          -1.30807584116364,
          -1.3773766705859856,
          -1.2921777298516717,
          -1.3098080135939931,
          -1.7543587761761674,
          -1.6827021402884617,
          -1.6373006249103574,
          -1.4440455626192297,
          -1.2581582712146395,
          -1.3327838026379017,
          -1.2932183281755176,
          -1.4135237480235705,
          -1.471241614545304,
          -1.4537942613026957,
          -1.5159580360173028,
          -1.5442545871850175,
          -1.5163324470792239,
          -1.4066052159295805,
          -1.3760363154583979,
          -1.2859352647295361,
          -1.152780264719636,
          -0.6497340211778229,
          -0.8088116503009041,
          -0.9081940435107683,
          -0.9566026250920684,
          -0.9861575874760516,
          -1.6833284307818297,
          -1.675393342481525,
          -1.6556785511908532,
          -1.7027422453138428,
          -1.58976429539919,
          -1.4159468088470482,
          -1.5648063154297331,
          -1.627504316272209,
          -1.6134666646723295,
          -1.6393863377247948,
          -1.5305953540944215,
          -1.5453112956718178,
          -1.4390203424605028,
          -1.4787285884488024,
          -1.3624710840198426,
          -1.3506682039075943,
          -2.194112943549579,
          -2.1126268546729987,
          -1.9737933299369776,
          -2.0012814888314137,
          -1.7877690768035848,
          -1.7182079112172335,
          -1.5991215550517837,
          -1.8711005448453164,
          -2.0047299179491667,
          -2.0079520915071676,
          -1.950570767614044,
          -1.839100626624176,
          -1.881357332594984,
          -1.8093004788897924,
          -1.7193112122030332,
          -1.7388813182886766,
          -2.3037209048573106,
          -2.1041724468538434,
          -2.2126547500429234,
          -2.2425588863630783,
          -2.1564370300944398,
          -2.0809469138121424,
          -2.071208283793742,
          -1.9553271678439261,
          -2.1529074204481877,
          -2.2916373778206016,
          -2.2050655364619143,
          -2.1171433477249084,
          -2.133415603428267,
          -2.075237346054697,
          -2.048059121713251,
          -2.078659769619296,
          0.04666776522365117,
          0.1525963001990953,
          -0.01803129043780718,
          0.02207465900198883,
          0.27793522524904396,
          0.6087435327942426,
          0.6546068105448869,
          0.6871450531968298,
          0.5520124311289764,
          0.6820072082056066,
          0.512985847791759,
          0.31416853732316025,
          -1.8878460836253157,
          -1.8257889908253453,
          -1.6755387117111475,
          -1.4107932049034544,
          -1.4715038290888578,
          -1.5275036135429059,
          -1.5921358520140148,
          -1.4644378938836438,
          -1.7607844860739923,
          -1.770713694240751,
          -1.764958766012055,
          -1.9617128176677765,
          -1.9573694251549276,
          -1.871812999224832,
          -1.6919862493666007,
          -1.6562260612749153,
          -1.6938861364589088,
          -1.7311531650750596,
          -1.9870676195125834,
          -1.8685512306550742,
          -2.0023758439549164,
          -1.9645142863104115,
          -2.0518955386884317,
          -2.022717027785821,
          -1.9872290155769226,
          -2.069398371903045,
          -1.845013773577733,
          -1.8410903737116762,
          -2.3189795109409754,
          -2.19628759735321,
          -2.0406865450260665,
          -2.024404363210927,
          -2.099032727728921,
          -2.0501777187422974,
          -2.1591803351627674,
          -2.3092400669294455,
          -2.2383257465948994,
          -2.261419179449908,
          -2.2279265144979012,
          -2.08363742927492,
          -2.2369621032069196,
          -1.949826320069597,
          -2.3351400724096294,
          -2.359733221449433,
          -2.3468635604334964,
          -2.248035169122359,
          -1.9958512378859394,
          -1.8285311111933054,
          -2.0148617065596572,
          -1.9752339965879224,
          -2.0024462961034866,
          -2.1231506870338714,
          -2.1223414070843236,
          -2.093573488971335,
          -1.942597358089119,
          -1.9733711297150016,
          -1.842374176560513,
          -1.829452049746147,
          -2.3016376309738145,
          -2.252546821622852,
          -2.164763199142857,
          -1.9813815299707824,
          -2.046841676339138,
          -2.0073361369134752,
          -1.9157813762907294,
          -1.7958613130883434,
          -1.809894340193407,
          -1.7436083849937953,
          -2.223204198323597,
          -2.097985317879458,
          -2.0894738587812043,
          -2.0383834791636235,
          -2.07141448044857,
          -1.9769629121438448,
          -1.940906815516439,
          -2.032655143023446,
          -1.9514458378704043,
          -1.8418497597492736,
          -1.8644585427580183,
          -1.9975755275734342,
          -1.7345737922420954,
          -1.731535730268119,
          -2.184991996376675,
          -2.1592458880693717,
          -2.1569066697410486,
          -2.0626916210715605,
          -1.9878904733857428,
          -1.9587226060452025,
          -1.8252919467317557,
          -1.9904098454468313,
          -2.124822699531978,
          -2.129025348520614,
          -2.0888133197908574,
          -2.0898283657875254,
          -2.112845445527505,
          -2.0021289085631664,
          -1.9807721926026742,
          -1.8901046784759294,
          -1.9798054075829943,
          -1.9095621336214146,
          -1.882125192345268,
          -1.8463026914430551,
          -1.6463795886042503,
          -1.5844079449092856,
          -1.4437117611526147,
          -1.6147075638115485,
          -1.8187964830296313,
          -1.7360386091664375,
          -1.7680626701329765,
          -1.750933301186876,
          -1.7129596219473326,
          -1.7032847976811096,
          -1.6402827128014066,
          -1.5512976662787794,
          -1.2706130035416032,
          -1.200941327821819,
          -1.117984739546371,
          -1.102930491158891,
          -0.9788923010483895,
          -0.8087955400838334,
          -1.0935362925364143,
          -1.1329887589136798,
          -1.2338737901986336,
          -1.3464991231717922,
          -1.3558795164916526,
          -1.2888744664787644,
          -1.2816778464217606,
          -1.8730188568802235,
          -1.7113579883100956,
          -1.7930580433221848,
          -1.7445985877404795,
          -1.5962562927546669,
          -1.3807099111791354,
          -1.3410897882561714,
          -1.5129243787309947,
          -1.6028763771376826,
          -1.680310392365899,
          -1.7034496389675178,
          -1.7814625286974008,
          -1.6580185490527801,
          -1.6512834703781685,
          -1.6409617435717176,
          -1.5308198449155308,
          -1.4356661221344962,
          -2.66665716527532,
          -2.4616155726602633,
          -2.3785996403797123,
          -2.3044610143534197,
          -2.267871827188723,
          -2.3253824986133247,
          -2.424132895973164,
          -2.453166216746078,
          -2.42882300898852,
          -2.4521740643201415,
          -2.4131936321375123,
          -2.3280303726719533,
          -2.3252351860800036,
          -2.264093383672459,
          -2.1411760377323037,
          -2.1831279675713695,
          -1.3075245135744682,
          -1.1750627038369865,
          -1.0539453365749676,
          -0.948828494479308,
          -1.0371631733290245,
          -1.0884584731192763,
          -1.1450128596083797,
          -1.1278322588603031,
          -2.2351223394028343,
          -2.1902235076054875,
          -2.1180448947478765,
          -2.0658007950828803,
          -1.9518508602673892,
          -1.9517157855747627,
          -2.0371419050339634,
          -1.9340894003623905,
          -2.0435111892625004,
          -2.1212425026441375,
          -2.0973043610638307,
          -2.0748000482702382,
          -1.9607283500737136,
          -1.9370641306969874,
          -1.7728270654159637,
          -1.7869575373958606,
          -2.2811542577160755,
          -2.2913019652345703,
          -2.34127479510846,
          -2.2685431352801078,
          -2.108912083486644,
          -1.960093464797637,
          -1.951754157185238,
          -2.165766149521321,
          -2.2583962987083916,
          -2.258485086111452,
          -2.2187117570504107,
          -2.0635633574228605,
          -1.9678158077947803,
          -1.8873027869965289,
          -1.8456460258193466,
          -1.7436540638105784,
          -2.7911614771983855,
          -2.776415041129219,
          -2.540157188405339,
          -2.393763413527182,
          -2.4835037714226624,
          -2.3469705522157627,
          -2.3214690481349187,
          -2.4376968771730714,
          -2.425240812567177,
          -2.4639787805483206,
          -2.476095232166603,
          -2.4175391041011243,
          -2.3367176106120455,
          -2.271885804927296,
          -2.1958907205546185,
          -2.1594242073482848,
          -0.6665123754032215,
          -0.7623424191378476,
          -0.7144226289251054,
          -0.4286156242741644,
          -0.16117258747414515,
          -0.37822902405090103,
          -0.4735557129655726,
          0.4270316791579281,
          0.4271085347791998,
          0.2902723388505364,
          0.4804315811282147,
          -1.9745852807983624,
          -2.0133485557135957,
          -1.915301599926473,
          -1.8510805143393274,
          -1.7290731827290133,
          -1.630140699126266,
          -1.7334660720193018,
          -1.7122806873294127,
          -1.8752860662485555,
          -1.9107695785848184,
          -1.9255886598033922,
          -2.072847420145863,
          -2.290754971059017,
          -2.2371577044560884,
          -1.8286052879774337,
          -1.7862014214300277,
          -1.664496697440368,
          -2.515326701479572,
          -2.4959167006058047,
          -2.4372026649433107,
          -2.393047282399205,
          -2.4083574828415872,
          -2.357367653825009,
          -2.1639287542818173,
          -2.093658515723636,
          -2.0107701308505113,
          -2.0189451760383923,
          -2.172599725256233,
          -2.146528549102467,
          -2.0675426025668524,
          -1.970636671116243,
          -1.9650911621246818,
          -2.0215698764088157,
          -2.102246497617987,
          -2.1208160649657026,
          -2.1604193945325054,
          -2.097695849075658,
          -1.9542887487382428,
          -1.950297712908788,
          -1.9054414081951485,
          -2.059265045202751,
          0.37494816009596654,
          -0.45399227777609164,
          -0.3897417618455441,
          -0.37786513513336767,
          -0.2444661141332791,
          -0.086592099051786,
          0.13558413956717694,
          -0.05095021369390895,
          -0.21022534346914792,
          -0.2211196626918191,
          -0.3009981213866676,
          -0.41607927972606995,
          -0.4243071374835152,
          -1.2182743514764114,
          -0.9661483453782423,
          -1.2507867712645,
          -1.2152653229203008,
          -1.1963973740417422,
          -1.1663175378519197,
          -1.0798142183295887,
          -1.6902545662032724,
          -1.574433646951749,
          -1.3816241666675195,
          -1.3193118943350661,
          -1.4731289483932963,
          -1.560981775491199,
          -1.595823738588277,
          -1.579417900456109,
          -1.4678980461724025,
          -1.5164382156924792,
          -1.470558906620602,
          -0.5166982551584902,
          -0.4135250024658192,
          -0.33758287735719683,
          0.05120058936668728,
          -0.09918663731743815,
          -0.15316945886703084,
          -0.19089173295523904,
          -0.12942452841821656,
          0.4553253130147548,
          0.3042137689057202,
          0.3437193260868675,
          0.29928733536715757,
          1.576024376222388,
          1.5486947708446912,
          1.4727599284374233,
          1.2465951605069243,
          1.8912861786249093,
          1.6477659911704146,
          1.5075011663246063,
          1.4696666239060443,
          -1.1384141753303714,
          -1.2270251297760857,
          -1.4362624008262628,
          -1.3199459945428573,
          -1.1956340310810394,
          -1.1210959772424045,
          -0.9500509472807158,
          -0.9660404645659469,
          -1.1397167783088806,
          -1.166726900702804,
          -1.3025461758196086,
          -1.4022548634825571,
          -1.5554792617146171,
          -1.5801377397792205,
          -1.6121488936935269,
          -1.476795065324416,
          -0.18964811096720824,
          -0.07600792447740333,
          0.1552183357540166,
          0.30117321704593353,
          0.12302663202953817,
          0.1919056965808949,
          -0.04913419349636105,
          -0.16662506425061144,
          0.1842053915831895,
          -1.1320757297923358,
          -0.2135825992079755,
          -0.17292165090864328,
          0.01888309728835405,
          -0.17356711546950274,
          -1.7278375070195433,
          -1.7048299175524222,
          -1.6551247908263333,
          -2.1433463595929783,
          -2.0067800001111316,
          -1.9515295309414142,
          -1.8925402194144803,
          -1.8059960141895721,
          -1.92637984696952,
          -2.0475173829909283,
          -2.0260545021621197,
          -2.0336227649761356,
          -2.045205091521357,
          -2.0177259744445695,
          -1.8215007174504638,
          -1.8485157386053994,
          -1.7841861467861282,
          -2.0862550531075588,
          -1.978678730944547,
          -1.943852131169316,
          -1.9865762652277201,
          -1.9493956788882663,
          -1.9819019965703244,
          -1.7869872145512977,
          -1.8209570461069349,
          -1.9183483376734412,
          -2.0007099558041728,
          -2.0013769138782576,
          -2.070290668913029,
          -1.6939659965664966,
          -1.7054652645311708,
          -1.6221307024913625,
          -1.599964362582636,
          -2.0018693388730013,
          -1.975025844071389,
          -2.011521570084783,
          -2.128981921059998,
          -2.194349970115521,
          -2.2073572341504755,
          -2.226399102147699,
          -2.222450170760402,
          -2.1771497826423967,
          -2.1652871665322317,
          -2.173102948211511,
          -2.071161435610615,
          -1.9975703015075528,
          -1.9235846795133376,
          1.3433062137059901,
          1.3160023360886244,
          1.17087298016772,
          0.938382711365256,
          1.0163311759401448,
          -1.843915231292561,
          -1.9922017729035575,
          -1.840925606790624,
          -1.7125741912353925,
          -1.650740821094507,
          -1.730205462682581,
          -1.7778136471935124,
          -1.87278649763421,
          -1.8849601007230492,
          -1.938732624602733,
          -1.9265871614026229,
          -1.8371887434493834,
          -1.7835960295452942,
          -1.7591115141199594,
          -2.1206173801860473,
          -2.2044136620859724,
          -2.3115037766790465,
          -2.2576286129759544,
          -2.263929106306276,
          -2.2341843412586595,
          -2.1044553507643715,
          -2.0772740423486846,
          -2.0074898806592896,
          -2.0003768846864562
         ],
         "y": [
          -1.6639149873338352,
          -1.4329514753094779,
          -1.0454326455816436,
          -0.49466647722502544,
          -0.09581483904664245,
          -1.7625864657609251,
          -0.9071702337053097,
          -0.32991433493264816,
          0.19998664243316056,
          0.11016571734183842,
          -0.4095315258456858,
          -1.124310699983281,
          -1.3067685600267316,
          -1.2632390501429687,
          -1.1176285907865833,
          -0.8649100420349367,
          -0.5081336116983928,
          -0.16059808976731296,
          0.26705229834101857,
          0.6485441290228653,
          1.0108507039794266,
          -1.5007809916725856,
          -1.4417912538640305,
          -1.0993192841580075,
          -0.15615717123054484,
          -0.45116314244192773,
          -0.4050464137323355,
          -0.11327939618228443,
          -2.0705500983094436,
          -1.8378239070329683,
          -1.5899294622332885,
          -1.276525153820314,
          -0.6866697680743985,
          -0.8714926712195489,
          -1.4057867383090876,
          -1.5793710275540411,
          -1.626953940864604,
          -1.4133782330876064,
          -1.0238699591947207,
          -0.6646443736464351,
          -0.3050843817706754,
          -0.08935612132663358,
          0.1236707403850526,
          0.40244191967675624,
          -1.6794774562075891,
          -1.524265948828912,
          -1.0202429945091789,
          -1.001653159453856,
          -1.2857752870478842,
          -1.0618597010395914,
          -1.5135087058664185,
          -1.199604892095355,
          -1.1731807543901946,
          -1.5413911686251711,
          -1.8870867759596903,
          -2.022604161509152,
          -2.0818213078702255,
          -1.884850867924157,
          -1.5983992997439482,
          -1.3739157481562103,
          -1.0621727109232844,
          -0.07072998322392272,
          0.1647122303807572,
          -0.6127079844298925,
          -0.8080311710007856,
          -0.8966629022479141,
          -0.6023874247511739,
          -0.10034871716721384,
          0.3845427392368125,
          -1.4068348183443056,
          -1.113324263498501,
          -0.7178391697903239,
          0.050126319931908664,
          -0.11832856359910503,
          -0.7912544088043256,
          -1.071661802783048,
          -1.173263012836757,
          -1.0871598608690964,
          -0.8709893809868738,
          -0.677314250829762,
          -0.27948546851768946,
          -0.010155931569910414,
          0.41137735241904266,
          0.8137398589880669,
          -1.0005465911187597,
          -0.06883897016929305,
          0.18675459143170975,
          -0.015476607583698478,
          -0.2745131018378478,
          -0.1813815770735024,
          0.19369354012384504,
          -2.3836863839354248,
          -2.235187634031671,
          -2.034058648373958,
          -1.7723816340850003,
          -1.2988029410308617,
          -1.0194636187955806,
          -1.4899436404042765,
          -1.6074172258982702,
          -1.7454289245572214,
          -1.562904531304665,
          -1.282914635536625,
          -0.8903822118356481,
          -0.5233832239732891,
          -0.16421958050349617,
          0.1410161604002078,
          0.43339351875997495,
          -2.169844524932047,
          -2.119772113131237,
          -1.9443529464965217,
          -1.447890372624126,
          -0.9462506649858327,
          -0.2559803329737203,
          -0.4270011263473077,
          -1.784576947637297,
          -1.5981484899355407,
          -1.5396256896601968,
          -1.2158961352427522,
          -0.9749903515685934,
          -0.5634613383269925,
          -0.4006781101715307,
          -0.11242969122130173,
          0.22396641078046736,
          -2.7175152245395737,
          -2.527125264395413,
          -2.445336761468464,
          -2.1063896419255923,
          -1.6168109212797444,
          -1.338718328710224,
          -1.429098379503668,
          -2.0868795536818174,
          -2.5094232742832174,
          -2.1787559648694854,
          -1.8947885202302202,
          -1.5051466625917016,
          -1.1634516724013364,
          -0.8570293034177967,
          -0.5665020432688224,
          -0.28542491632670286,
          -1.8242406202989436,
          -1.8240886587023586,
          -1.5422350502741446,
          -1.2304239654354816,
          -0.6420516091707165,
          -0.6457144245749806,
          -1.2295438846766171,
          -1.2535309044126193,
          -1.4300040800374987,
          -1.4209741973803247,
          -1.149417915217468,
          -0.15001805001799043,
          -0.6270902677306482,
          -0.42720567699219625,
          0.03634484526794985,
          -0.13513072006785315,
          -0.14555413263638722,
          -0.26859519556237216,
          -0.16485293797259407,
          0.33009714272891416,
          -0.881686516997766,
          -0.43231765938082733,
          0.2764048658002279,
          -2.1231737706162797,
          -1.8979159723172585,
          -1.5833240279572431,
          -1.1684545392978907,
          -0.7553053369429926,
          -0.7871931717690346,
          -1.2929081929502053,
          -1.677483254723693,
          -2.0266103333078997,
          -1.952809937327226,
          -1.8332686635717723,
          -1.5518641209907236,
          -1.2499463612620283,
          -0.9333078904544228,
          -0.5483139960154764,
          -0.39348780482804696,
          -0.11488138755711293,
          -1.7974196837361656,
          -0.9344899137007355,
          -0.38325510637460025,
          0.17055641678982095,
          0.10085545643670543,
          -0.4281188828953366,
          -0.9266019719181953,
          -1.0447841315866506,
          -1.209956859180048,
          -1.0588900305009312,
          -0.651715821369885,
          -0.30463349273222573,
          0.22024753418718293,
          0.9753638014589477,
          -2.0891618599488133,
          -1.981214036851123,
          -1.7013088852470557,
          -1.330194061784669,
          -0.6947510967641565,
          -0.7460497192053385,
          -1.0014706769166366,
          -1.1489505330872956,
          -1.175548954494328,
          -0.9742334421179354,
          -0.7635459356827307,
          -0.5070251250587289,
          -0.2820718352265139,
          0.03441382247902709,
          0.27616790159128624,
          0.643387492122032,
          -1.2608708311874053,
          -0.909850478338459,
          -0.509493166548125,
          0.19626651734189235,
          -0.09599592354261226,
          -0.2326986380346856,
          -0.10880097409236925,
          0.16650009310518446,
          0.5679148101085705,
          0.8952191416396791,
          -2.431273987205904,
          -2.3481547574051764,
          -2.055259735827679,
          -1.6277017204230482,
          -1.0415333471809944,
          -0.7612918128029289,
          -1.6914457714026159,
          -1.5633758170337744,
          -1.4422862758978725,
          -1.2042698984051476,
          -0.9444610597800182,
          -0.6124444989535759,
          -0.35539312865422096,
          -0.07666914799951673,
          -2.50971731056532,
          -2.3543097259477763,
          -2.1265572411524296,
          -1.799140458125276,
          -1.2396474078364452,
          -0.8267181011717769,
          -0.9763425796299906,
          -1.3292157044325112,
          -1.837066493596979,
          -1.9840715210711564,
          -1.8442473191507807,
          -1.1311835351575377,
          -0.7425374965016218,
          -0.49081065889103426,
          -0.2002260527383877,
          0.013225220686595,
          -2.449308650844139,
          -2.341743468232173,
          -2.073247753156666,
          -1.7026760758607695,
          -1.189831289270825,
          -0.5080688160540614,
          -0.6333627248009214,
          -1.361502657562116,
          -1.8907059093061207,
          -1.844399244977548,
          -1.9923956943079353,
          -1.7890051945032046,
          -1.5487333324293053,
          -0.5266573260284222,
          -0.29309202655684524,
          0.22037581123028147,
          -1.555134815127601,
          -1.5449445279964178,
          -1.236095800702236,
          -0.6884565382043292,
          0.2260208544659105,
          -0.3453465717856221,
          -1.2101761821575363,
          -1.427585127605263,
          -1.5959220932297253,
          -1.4067181134184825,
          -1.045929658309874,
          -0.6807538844065745,
          -0.3133326791053431,
          -2.118039615928384,
          -2.180448936289929,
          -1.8726597375977398,
          -1.5274790988335885,
          -0.8151886125333297,
          -0.010265727859204175,
          -0.03897000472249505,
          -0.6603425889005377,
          -1.202471166509388,
          -1.430979568184619,
          -1.5657386609379396,
          -1.5134765684765688,
          -1.4582702411044672,
          -1.122046281875855,
          -0.7671430308732111,
          -0.5006355259035886,
          -0.13063022143643005,
          -2.12547733855877,
          -1.47736300422806,
          -1.0521434272527463,
          -0.7034258442681673,
          -0.7619754739377463,
          -1.1773770823138106,
          -1.5718567898199132,
          -1.8097398710280188,
          -1.8347318043344785,
          -1.6893333426040005,
          -1.498265090332506,
          -1.1956530097859897,
          -0.8470096231794153,
          -0.6366007296240184,
          -0.36252213756341617,
          -0.030572620927211008,
          -0.7048895668406078,
          -0.5974728551287279,
          -0.1836564803600562,
          -0.03375717399574991,
          -0.3009455666948611,
          -0.4790226144444161,
          -0.27695481669479816,
          0.25088702803469176,
          -2.0562449768429207,
          -1.9454377922696304,
          -1.6660117326863433,
          -1.4456983225998377,
          -0.9695083892149979,
          -1.06423952944722,
          -1.3928173667629775,
          -1.6984152622955995,
          -1.7112020558006111,
          -1.5685424702201904,
          -1.3230662396327908,
          -1.0314656190569107,
          -0.7597638046139122,
          -0.4984050039070701,
          -0.3057617800165417,
          -0.0650467499302865,
          -1.9580639596595792,
          -1.685013474171901,
          -1.3268110729728597,
          -0.9054033695047577,
          -0.3624497859997676,
          0.03870549548234491,
          -0.010385513527301805,
          -1.3961019089702442,
          -1.3837328313495771,
          -1.1641309070517758,
          -0.7628723668128783,
          -0.4763324999397031,
          -0.0570333863855009,
          0.34115987346086013,
          0.6740949242839044,
          0.86747605485718,
          -1.8646302570065758,
          -1.7149247931149003,
          -1.5459367184037967,
          -1.2631887766074505,
          -0.7146560389439404,
          -0.35852208572815686,
          -0.38240742882747364,
          -0.7078824085253895,
          -1.2680615380183637,
          -1.19072720217758,
          -0.869907003561151,
          -0.6865773318131266,
          -0.3992296147326009,
          -0.11608787161128399,
          0.18333935321342185,
          0.45581731557246324,
          -0.861887846453241,
          -0.7233400371534328,
          -0.4199731598554446,
          0.015904637094594644,
          -0.23460364134312373,
          -0.47562853779244063,
          -0.6729228627908284,
          -1.4347750955547502,
          -1.2362644377234002,
          -0.7889047375454249,
          -0.2897862821497595,
          -2.0430192986079474,
          -1.9112384858607758,
          -1.6311851233393575,
          -1.145085723771673,
          -0.6624051536870461,
          -0.042737508703182124,
          -0.16583497966331248,
          -0.881492633824508,
          -1.539230677236727,
          -1.6618783974574143,
          -1.6294187899206394,
          -1.3356203499606412,
          -0.8265167911539502,
          -0.497769817213792,
          -0.4236774538908039,
          -0.18135612643429222,
          -0.0193898057774826,
          -1.492863637569724,
          -1.4246500703622313,
          -1.1118950334533617,
          -0.8942774268866406,
          -0.5534025479667515,
          -0.28833964623452457,
          -0.11974809005626673,
          0.24130738836225818,
          -2.708994630007909,
          -2.5964364366830393,
          -2.218500222837502,
          -1.8921109117876227,
          -1.4788891762083745,
          -1.1957962759328786,
          -1.2919803784793593,
          -1.5576312139917934,
          -1.972525133879286,
          -1.9383607648548533,
          -1.580732670336986,
          -1.2828154940982623,
          -1.0116754731599327,
          -0.6983169253139239,
          -0.42043341855365224,
          -0.021662917266243347,
          -0.5805323663439717,
          -1.711236512584828,
          -1.6934303921298977,
          -1.4177426468990366,
          -1.0495968376392502,
          -0.3756119073382238,
          -0.21847234161233023,
          -1.0809316257694714,
          -1.3308628565371896,
          -1.4740315730848863,
          -1.3032808192474037,
          -0.9392390513191858,
          -0.6153215340550522,
          -0.20843036789438982,
          0.14717285196599575,
          -0.04848780986451638,
          0.21308649848516428,
          -0.626715654914026,
          -0.4799899884695251,
          -0.12379155129570397,
          -0.5252367774669483,
          -0.11910921310471545,
          0.6139536816838377,
          0.252756075266327,
          -0.48903219127816006,
          -0.7355849322950506,
          -0.8244736442600146,
          -0.6265065287066339,
          -0.2765526935953104,
          0.2438438324796436,
          0.6522496556266885,
          -0.7789971358447715,
          -0.6424491908027415,
          -0.3175001949290918,
          -0.5428009641424314,
          -0.9863220927841795,
          -1.0868880878564713,
          -0.7014855205689465,
          -0.05488907134611631,
          -1.2759983391879115,
          -1.1021487891619117,
          -0.6639939478189966,
          -0.2561279136461897,
          -1.8111097846344797,
          -1.6950477183329857,
          -1.4281524538873145,
          -0.9545016969566276,
          -1.1049277240381525,
          -1.3946657821870512,
          -1.558599367747236,
          -1.3397052490522445,
          -2.4736616727966023,
          -2.445286954517881,
          -2.037134413513615,
          -1.870044225121817,
          -1.4641348564819148,
          -0.8630369768503534,
          -0.7888434376322933,
          -1.3704759931321087,
          -1.8673489138189998,
          -2.0899271279383256,
          -2.021879607926973,
          -1.8674579497806127,
          -1.4599367316091434,
          -1.0322043644651118,
          -0.1158156606376106,
          0.12196975092331458,
          -1.2517549069867853,
          -1.0379116157748522,
          -0.5512784101785261,
          -1.0854995311466935,
          -1.2094723124957412,
          -1.1629227351241112,
          -0.8455000153319846,
          -0.34750729800413843,
          -0.6878260497929871,
          0.26237091607003865,
          -0.5557248902822796,
          -0.3630736808435103,
          -0.26155396420015137,
          0.0259363913965616,
          -0.16761545613066547,
          -0.0045424431697888975,
          0.3808281640260581,
          -1.6829106917803633,
          -1.2704267981325061,
          -0.6562694759956951,
          -0.16237600075160658,
          -0.2785398410639784,
          -0.7097489059890937,
          -1.3000000759133918,
          -1.3667532431483074,
          -0.8696817189163135,
          -0.5563981778229911,
          -0.12090688745659672,
          0.10643639943302696,
          0.46955683489412264,
          0.7071047105848801,
          -2.1900285037739136,
          -2.1747368311682043,
          -2.0088962124251637,
          -1.5744764473323398,
          -1.0196552718606362,
          -0.5884158294332288,
          -0.7029555848308615,
          -1.1817174914159492,
          -1.66942652724114,
          -1.5096547267732046,
          -1.4441458507879181,
          -1.2893289163665937,
          -0.5372726570055285,
          -0.3686119579273396,
          -0.11730886756605316,
          0.12033668001476651,
          -0.2271216948320384,
          0.01760469315437907,
          0.10120542470731758,
          -0.2893207928798556,
          -0.6738324692413592,
          -0.8394165292092757,
          -0.9194999041684517,
          -0.7981383762687339,
          -0.5153004165822433,
          -0.2885403861974592,
          0.09053283195255973,
          0.4055935725478193,
          0.6156989694478916,
          1.0444750266783975,
          -1.0088104973796153,
          -1.1152382712834716,
          -1.274578827404873,
          -1.0377922601771643,
          -0.6191611658687529,
          -1.0241712486613768,
          -1.2697948767622718,
          0.2622096907224416,
          0.76871267293353,
          0.7888659593927517,
          0.4067018552465913,
          -0.18609158198938447,
          -0.3749790342025538,
          -0.5896138141646197,
          -0.4746802179955212,
          -0.05203260130194237,
          0.2523574001299226,
          0.5961838055889966,
          0.9397876183736046,
          -0.22417944322169023,
          -0.7218868974508883,
          -1.1614694714389773,
          -1.332700875306843,
          -1.3594486191440303,
          -1.2559641719207946,
          -0.37935131484825746,
          -0.15794042695444682,
          0.1177331710859177,
          0.39022309098418984
         ],
         "z": [
          2.6543079225500414,
          2.1379148207154017,
          1.9839774820953213,
          1.5272627097999043,
          -0.9392432595400044,
          1.6775198800269306,
          0.9528163615856531,
          1.1472037148181702,
          1.225357928394029,
          0.7989008486073943,
          0.011042230477880102,
          -0.6974366788099802,
          -0.8700685059955545,
          -1.1639034070556318,
          -1.2928251841461478,
          -0.9967369374020776,
          -1.150873057989121,
          -0.7818355737364386,
          -0.8330745829032109,
          -1.048130398578855,
          -1.0786607696427264,
          2.400629933173903,
          2.109406389632786,
          1.81501012501778,
          -0.10641900596819548,
          -0.31121250973803644,
          -0.4575907411802255,
          -0.7211432449479741,
          1.6411148787793233,
          1.1723768590119454,
          1.0068225124825825,
          0.7971458302161195,
          0.7982597100042306,
          0.33811567301570056,
          -0.4008903116039194,
          -0.6277625781343069,
          -0.7346116175031636,
          -1.0281293586594646,
          -0.9783660237233792,
          -1.2490485634461534,
          -1.2377127024551575,
          -1.0817950796090063,
          -1.3759838228891423,
          -1.5364742732826648,
          1.5499676391777282,
          1.1398662935444013,
          1.0828140862711404,
          -1.4505759731660932,
          -1.7655692788301316,
          -1.6778833827093482,
          0.5168346911327331,
          0.5979918037118886,
          0.47147677308754227,
          -0.21791468147690304,
          -0.9630862144029043,
          -1.0374903886507127,
          -1.1589775770250197,
          -1.4003051333169707,
          -1.6939628896157088,
          -1.5244215996520973,
          -1.4840120916146418,
          1.2587156535225954,
          0.1941964867737617,
          -0.6172417664367498,
          -0.9641544926035726,
          -0.9450803321037936,
          -1.0329998194530279,
          -1.0747728976658582,
          -1.0325752305000917,
          0.9029813091820772,
          0.7420978504113186,
          0.7164570261975347,
          0.8364380868749993,
          0.0313734410379179,
          -0.8935285802150339,
          -1.2363457149363728,
          -1.4092096025891991,
          -1.5995481839197443,
          -1.4714419745633278,
          -1.6596169934754301,
          -1.4991371165697633,
          -1.514309751300854,
          -1.4781419044291162,
          -1.734640702315534,
          2.280626685877779,
          1.1660464423056425,
          -0.20803492170638022,
          -0.27495948250188174,
          -0.5445015182282208,
          -0.8399897346908214,
          -0.7003533201321168,
          1.9319877185389316,
          1.687415687855555,
          1.5796249063353205,
          1.1437403997429034,
          1.1107575311416724,
          0.6335257884104702,
          -0.3029605517581452,
          -0.6909484993144395,
          -0.6807967129635847,
          -0.9625205627646843,
          -0.7483839405101161,
          -1.0011797046727466,
          -0.7188150954885629,
          -0.7865050281240417,
          -1.01046435819379,
          -1.2168494571954767,
          1.7776809790858452,
          1.4720031212773488,
          1.5490928307237457,
          1.0735641901913686,
          1.4198027101385264,
          1.4741305844125303,
          1.2923682181251837,
          -0.7480321494405068,
          -0.8831446501314508,
          -1.1460701098569106,
          -1.1518324540230427,
          -0.970770373190586,
          -1.1094962348946382,
          -1.1044261290475141,
          -1.1919090445043743,
          -1.286906229226791,
          1.6234009128463784,
          1.3427713216844037,
          1.4209086110066116,
          0.8940112010157001,
          0.9744388570247247,
          1.276290507885765,
          1.0417600553925639,
          0.6349774394422067,
          -0.3721397974943791,
          -1.1943042035399953,
          -0.9629272730231363,
          -1.2213079048515723,
          -1.1395173582181606,
          -1.2737751901077023,
          -1.429507993238211,
          -1.9308261431824996,
          1.8191469987524747,
          1.5374298859693163,
          1.2191767372311715,
          0.952491082147498,
          1.0896881227981299,
          0.41340639666856344,
          -0.6862684185709692,
          -0.5075382137931077,
          -0.46140429405865585,
          -0.6567779039099558,
          -0.7741337064340832,
          -1.2062056583876581,
          1.6944047361447079,
          1.3062387467017311,
          1.216781017270795,
          -0.7097967164744647,
          -0.4259418558291325,
          -0.6833160847640021,
          -0.7979954843853181,
          -0.7350574298363641,
          2.9675461193236607,
          2.4691689846109215,
          2.092267100902856,
          1.400757092098171,
          1.3434955995061153,
          1.2562615951089697,
          1.2030201990937932,
          1.4325551427994754,
          1.0081186013580796,
          0.2373794250085899,
          -0.6699395833996622,
          -0.6600296962261039,
          -0.9709897407979045,
          -1.1229219058575146,
          -1.4279723730592215,
          -1.477858982136447,
          -1.264838674988015,
          -1.5942288978993115,
          -1.4230803157145462,
          -1.8829585025761812,
          1.77172967917688,
          0.9838012617860621,
          1.2245372133055161,
          1.2504238132056706,
          0.8264714250207617,
          0.24670971820467646,
          -0.606331997949901,
          -1.030227879510306,
          -0.8628537712519889,
          -1.1944536225182196,
          -1.2484183468458707,
          -1.263232285801308,
          -1.3952281781515206,
          -1.4993381586134926,
          1.4518073490951209,
          1.3983978163794208,
          1.3356595012475754,
          1.1008814098975903,
          0.9296838765826935,
          -0.06672460334240497,
          -0.8637733000873477,
          -0.9400310194560424,
          -1.1976754440094657,
          -1.2168061405844943,
          -1.430534989161065,
          -1.6624136531379217,
          -1.6583527127563573,
          -1.9238925461538134,
          -1.8531018662435523,
          -1.8236400868922156,
          1.2380050183097608,
          1.0482576845645124,
          0.9768304177192774,
          1.2914104337106616,
          -0.8332858233886483,
          -0.745074979849251,
          -0.8007006876452073,
          -0.7505617457029429,
          -0.909013223186106,
          -0.8122651172633205,
          0.6855007592866313,
          1.0144373822630264,
          0.6295361623891244,
          0.3437474890193025,
          0.04262648065163093,
          0.2993401749056066,
          -1.630837031176949,
          -1.818795213161355,
          -1.8319556899800713,
          -1.923620585478281,
          -1.5176845003666333,
          -1.5164572329984929,
          -1.7192493241955522,
          -2.2593003351959204,
          1.5359219235772636,
          1.1948886017470624,
          1.1420198127310022,
          1.0821373774533805,
          1.0947992040796641,
          1.3372257577281303,
          1.2897827243468016,
          0.4076819157552087,
          -0.3609117892962545,
          -0.5768568955197734,
          -0.6033296859702988,
          -1.0028017898919603,
          -1.2680355674552481,
          -1.287521574743076,
          -1.4614492635105365,
          -1.4139246030133041,
          1.6163590950928837,
          1.3904150871625698,
          1.192422473308517,
          1.0182648953160252,
          1.145452952635787,
          1.2645400760302632,
          0.9098662837051571,
          -0.013101292836764894,
          -0.6330311784796699,
          -0.9691674777901669,
          -1.0257189310887806,
          -1.2193093311025336,
          -1.3800005871365257,
          -1.6420047753429898,
          -1.499883317200312,
          -1.6304790624123184,
          2.0430314928620157,
          1.54945467488074,
          1.3531706503060847,
          1.2964141790216983,
          1.4656153401596277,
          0.5848169685440593,
          -0.6003893280753018,
          -0.7972721441135542,
          -1.0050447795861346,
          -1.2322930154811138,
          -1.1177865157981361,
          -1.305126155772793,
          -1.0873823998259322,
          1.7984946770586656,
          1.586870296138288,
          1.4590594054556485,
          1.2747597055307618,
          1.330428251479304,
          1.611430317189075,
          1.2459413379216973,
          0.4740546226476436,
          -0.13780909946807549,
          -0.7743717875694437,
          -0.6327931590619224,
          -0.9504411464467694,
          -0.9969837567773234,
          -1.0948144866880445,
          -1.169461449616683,
          -1.0798044882595845,
          -1.075526130720001,
          1.0034431209411734,
          0.7042638583128283,
          0.7944374084434902,
          0.9668847458443436,
          0.5800521057650271,
          0.13276647750825546,
          -0.800357059206032,
          -0.7349092411481115,
          -0.7974566431556974,
          -1.1347340252371483,
          -1.3655108037910186,
          -1.2015781210867715,
          -1.3783602624405762,
          -1.1100062936719333,
          -1.217468533919066,
          -1.5977945063111174,
          1.6853192967974506,
          1.3987315381320509,
          1.3715105997649146,
          -0.6371762065104096,
          -0.7991265387448319,
          -1.1165779790394084,
          -1.1774786765210752,
          -1.1739050147662395,
          1.4421819737136414,
          1.1500815753536568,
          1.1474036176719307,
          1.1332997470294055,
          0.8927660091145172,
          0.001486410108179,
          -0.5783891380332977,
          -0.43857667711914705,
          -0.732303929251079,
          -1.1188749218090845,
          -1.3823398133267184,
          -1.3172114305256708,
          -1.2277687502663766,
          -1.246925155161993,
          -1.192029734386321,
          -1.6182950174955815,
          1.8762674222722011,
          1.5871278056209688,
          1.0694917505976569,
          1.029365975898556,
          1.0067344890892205,
          1.298998213572902,
          1.0430355146820731,
          -0.4300363225741082,
          -0.5860254535469585,
          -1.0454003141365975,
          -1.2144752615488301,
          -0.9960478397817311,
          -0.778601082655111,
          -1.0139149332553816,
          -0.8105710248552866,
          -1.1463655153110766,
          1.151470361882153,
          0.9163680432942786,
          0.9745494152899126,
          1.0138115684106859,
          0.7749517157353935,
          0.9877521790404297,
          0.7610557319616008,
          0.037642230988785365,
          -0.47048310636903723,
          -0.9947840268113595,
          -0.9900162913979358,
          -1.250473314959259,
          -0.9051545589315785,
          -1.1568721047598283,
          -1.2205291698608718,
          -1.6790703883836395,
          2.0130109778136056,
          1.3455365177986038,
          1.4289051610733265,
          1.3984167997078996,
          -0.39761012348815505,
          -0.7009696614850924,
          -0.7895643327795638,
          2.4872517674429546,
          2.1182268585565747,
          1.787403499228175,
          -0.5684383683266506,
          2.227176392624545,
          1.9010831641066601,
          1.8072158980338822,
          1.4851595405840092,
          1.6787230131532371,
          1.8706821921864452,
          1.309664926497498,
          0.8426404020982656,
          -0.13465329295809825,
          -0.27937753768836415,
          -0.27606728067929337,
          -0.8303762225401087,
          -1.1667211307618897,
          -1.1495083832496555,
          -0.567865891994315,
          -0.5644390468241646,
          -0.6155032345788097,
          -1.183268995360027,
          -1.262256271573484,
          -1.5390479723624928,
          -1.7464201908746997,
          -1.7799187316456782,
          -1.8167586691986275,
          -1.7243775840243858,
          -2.2118434754181364,
          2.7464639222482576,
          2.42899071692673,
          1.600539386685669,
          1.3078323950718915,
          1.2605478419154161,
          1.3593609741029204,
          1.0576316594156123,
          0.38080509784525307,
          -0.39151787641953256,
          -0.378656660448393,
          -0.8986763967202723,
          -1.1171588534599897,
          -0.7215926262779175,
          -0.7681382149151994,
          -0.717563282495351,
          -1.5023811953047612,
          2.695463096427494,
          1.891317337626579,
          1.379217382333959,
          1.3123037786598972,
          1.0820387679045993,
          1.1744827576052155,
          0.08530177253897393,
          -0.8943725252481723,
          -1.150906241032738,
          -1.2652148318946312,
          -1.3545576138048234,
          -1.2830833789688008,
          -1.3419459339095074,
          1.679292386259289,
          1.6107711621592917,
          2.1871949629805028,
          1.8188327834507048,
          1.9294975811843549,
          1.4495319111287945,
          1.2377643681066197,
          1.5393626961055533,
          1.3461436707340173,
          1.6903073072799824,
          0.7381965548162159,
          0.0433565680052534,
          -0.3001512632166659,
          -0.4364192633503442,
          -0.4598301388248212,
          -0.42644378523801574,
          -0.5659262340331412,
          -0.5777529148916235,
          2.6176106037699887,
          1.9905487204049221,
          2.0017951473980644,
          -0.10775151958374454,
          -0.5140324456994809,
          -0.717757932399256,
          -0.6285650560714159,
          -0.6228944447871315,
          -1.0520216918078222,
          -1.18416247073369,
          -1.0754869781332288,
          -1.2289274518470965,
          1.9654231404160334,
          1.4370478983280133,
          1.4111941108226924,
          1.241894252076972,
          -0.6637808417382437,
          -1.1158743956013966,
          -1.3372677548134588,
          -1.360460798775396,
          2.3676335685822996,
          1.9792131080263713,
          1.5588145740047572,
          1.4449107204679845,
          1.5256257124283068,
          1.8019534332982297,
          1.4648463996055987,
          0.8638332418145,
          -0.23584728618511328,
          -0.2999608006470445,
          -0.7024638621522821,
          -0.9350783084843405,
          -1.0480204986466148,
          -1.161608008760786,
          -1.594604083920132,
          -1.6266754392187672,
          2.0495018024446043,
          1.699575253963887,
          1.5103819633888527,
          -0.4792790748087419,
          -0.831808081562397,
          -0.749261860211837,
          -0.9943466962607194,
          -1.1067215703133877,
          1.4814310177758128,
          1.9161963875563022,
          1.5500161021111996,
          1.459685205655728,
          -1.35327570737363,
          -1.4918998340004719,
          1.527490897360738,
          1.1918542434920993,
          1.1293537615046174,
          1.451308971606092,
          1.3190081250429946,
          1.246718666570292,
          1.3727881916730091,
          1.2436961219706673,
          0.4070814671462654,
          -0.2187084348934948,
          -0.3399456337182899,
          -0.7800858032920744,
          -1.0739459404275582,
          -0.8771372639539314,
          -0.8358030392570105,
          -1.087918060128058,
          -1.397625038256459,
          1.5031707483689873,
          1.3501962094329492,
          0.9495356277842609,
          0.9754507870224188,
          0.8569217656818697,
          0.8205007225791263,
          0.7911461022471131,
          0.10087960315380029,
          -0.7887499293555977,
          -1.2037236044090673,
          -1.2041759542382073,
          -1.6946942914866603,
          -1.4075913818085437,
          -1.2122447884495693,
          -1.16253615610909,
          -1.6553850489153727,
          0.8591628277783467,
          0.8970858548999794,
          0.6117960307354218,
          -0.04519990412629549,
          -0.7953464209686792,
          -0.8466715964740166,
          -1.0128918925162742,
          -1.3278775682963582,
          -1.2266804527844308,
          -1.3881608808187216,
          -1.230015104515564,
          -1.2797206012938944,
          -1.4850220219619286,
          -1.6668232755172425,
          1.7793488961445643,
          -0.585559465400954,
          -0.8049610808528179,
          -0.866209004374756,
          -0.8366381289173929,
          1.1754427415178559,
          1.7484216551680563,
          1.1822543040918978,
          1.3974124859378598,
          1.1989469603705365,
          0.42264961804774576,
          -0.09909406514382113,
          -0.49673648131146164,
          -0.1661303330938539,
          -0.5390762968103006,
          -0.7830193718750245,
          -0.7690551738587776,
          -0.6572421325345467,
          -0.8462342108057808,
          0.6368452837421987,
          -0.16817081227586436,
          -1.2346511062357848,
          -0.9255588515785618,
          -0.9908892664279413,
          -1.1341430630249916,
          -1.3523228839021335,
          -1.3399270487288004,
          -1.353665520842287,
          -1.7475613237500183
         ]
        },
        {
         "customdata": [
          [
           2005
          ],
          [
           2006
          ],
          [
           2007
          ],
          [
           2008
          ],
          [
           2009
          ],
          [
           2010
          ],
          [
           2013
          ],
          [
           2014
          ],
          [
           2015
          ],
          [
           2016
          ],
          [
           2017
          ],
          [
           2001
          ],
          [
           2002
          ],
          [
           2003
          ],
          [
           2004
          ],
          [
           2009
          ],
          [
           2010
          ],
          [
           2011
          ],
          [
           2012
          ],
          [
           2013
          ],
          [
           2015
          ],
          [
           2016
          ],
          [
           2017
          ],
          [
           2018
          ],
          [
           2004
          ],
          [
           2005
          ],
          [
           2006
          ],
          [
           2007
          ],
          [
           2008
          ],
          [
           2009
          ],
          [
           2006
          ],
          [
           2007
          ],
          [
           2008
          ],
          [
           2016
          ],
          [
           2017
          ],
          [
           2018
          ],
          [
           2005
          ],
          [
           2006
          ],
          [
           2002
          ],
          [
           2003
          ],
          [
           2004
          ],
          [
           2005
          ],
          [
           2011
          ],
          [
           2012
          ],
          [
           2013
          ],
          [
           2014
          ],
          [
           2015
          ],
          [
           2016
          ],
          [
           2017
          ],
          [
           2018
          ],
          [
           2001
          ],
          [
           2002
          ],
          [
           2003
          ],
          [
           2004
          ],
          [
           2005
          ],
          [
           2006
          ],
          [
           2007
          ],
          [
           2008
          ],
          [
           2009
          ],
          [
           2010
          ],
          [
           2011
          ],
          [
           2012
          ],
          [
           2013
          ],
          [
           2011
          ],
          [
           2012
          ],
          [
           2002
          ],
          [
           2003
          ],
          [
           2007
          ],
          [
           2008
          ],
          [
           2009
          ],
          [
           2010
          ],
          [
           2011
          ],
          [
           2017
          ],
          [
           2018
          ],
          [
           2001
          ],
          [
           2005
          ],
          [
           2006
          ],
          [
           2007
          ],
          [
           2008
          ],
          [
           2009
          ],
          [
           2010
          ],
          [
           2011
          ],
          [
           2012
          ],
          [
           2013
          ],
          [
           2014
          ],
          [
           2015
          ],
          [
           2016
          ],
          [
           2017
          ],
          [
           2018
          ],
          [
           2016
          ],
          [
           2017
          ],
          [
           2018
          ],
          [
           2007
          ],
          [
           2008
          ],
          [
           2009
          ],
          [
           2009
          ],
          [
           2010
          ],
          [
           2001
          ],
          [
           2001
          ],
          [
           2002
          ],
          [
           2003
          ],
          [
           2009
          ],
          [
           2010
          ],
          [
           2011
          ],
          [
           2012
          ],
          [
           2013
          ],
          [
           2012
          ],
          [
           2013
          ],
          [
           2014
          ],
          [
           2015
          ],
          [
           2001
          ],
          [
           2002
          ],
          [
           2003
          ],
          [
           2004
          ],
          [
           2005
          ],
          [
           2006
          ],
          [
           2007
          ],
          [
           2008
          ],
          [
           2009
          ],
          [
           2010
          ],
          [
           2011
          ],
          [
           2012
          ],
          [
           2013
          ],
          [
           2014
          ],
          [
           2015
          ],
          [
           2016
          ],
          [
           2017
          ],
          [
           2018
          ],
          [
           2001
          ],
          [
           2002
          ],
          [
           2003
          ],
          [
           2007
          ],
          [
           2008
          ],
          [
           2009
          ],
          [
           2010
          ],
          [
           2011
          ],
          [
           2012
          ],
          [
           2013
          ],
          [
           2014
          ],
          [
           2016
          ],
          [
           2017
          ],
          [
           2018
          ],
          [
           2001
          ],
          [
           2008
          ],
          [
           2009
          ],
          [
           2010
          ],
          [
           2011
          ],
          [
           2012
          ],
          [
           2013
          ],
          [
           2014
          ],
          [
           2015
          ],
          [
           2016
          ],
          [
           2017
          ],
          [
           2018
          ],
          [
           2001
          ],
          [
           2002
          ],
          [
           2003
          ],
          [
           2004
          ],
          [
           2010
          ],
          [
           2011
          ],
          [
           2001
          ],
          [
           2002
          ],
          [
           2005
          ],
          [
           2006
          ],
          [
           2007
          ],
          [
           2008
          ],
          [
           2009
          ],
          [
           2010
          ],
          [
           2011
          ],
          [
           2012
          ],
          [
           2013
          ],
          [
           2014
          ],
          [
           2015
          ],
          [
           2016
          ],
          [
           2017
          ],
          [
           2018
          ],
          [
           2001
          ],
          [
           2002
          ],
          [
           2005
          ],
          [
           2006
          ],
          [
           2007
          ],
          [
           2008
          ],
          [
           2009
          ],
          [
           2010
          ],
          [
           2011
          ],
          [
           2012
          ],
          [
           2013
          ],
          [
           2014
          ],
          [
           2015
          ],
          [
           2016
          ],
          [
           2017
          ],
          [
           2018
          ],
          [
           2004
          ],
          [
           2005
          ],
          [
           2006
          ],
          [
           2007
          ],
          [
           2008
          ],
          [
           2009
          ],
          [
           2010
          ],
          [
           2011
          ],
          [
           2012
          ],
          [
           2013
          ],
          [
           2014
          ],
          [
           2015
          ],
          [
           2016
          ],
          [
           2017
          ],
          [
           2018
          ],
          [
           2004
          ],
          [
           2005
          ],
          [
           2014
          ],
          [
           2015
          ],
          [
           2016
          ],
          [
           2018
          ],
          [
           2001
          ],
          [
           2002
          ],
          [
           2008
          ],
          [
           2009
          ],
          [
           2010
          ],
          [
           2011
          ],
          [
           2012
          ],
          [
           2015
          ],
          [
           2016
          ],
          [
           2017
          ],
          [
           2018
          ],
          [
           2005
          ],
          [
           2006
          ],
          [
           2007
          ],
          [
           2008
          ],
          [
           2011
          ],
          [
           2012
          ],
          [
           2013
          ],
          [
           2014
          ],
          [
           2001
          ],
          [
           2002
          ],
          [
           2003
          ],
          [
           2004
          ],
          [
           2003
          ],
          [
           2004
          ],
          [
           2005
          ],
          [
           2006
          ],
          [
           2007
          ],
          [
           2008
          ],
          [
           2009
          ],
          [
           2010
          ],
          [
           2011
          ],
          [
           2012
          ],
          [
           2013
          ],
          [
           2014
          ],
          [
           2015
          ],
          [
           2016
          ],
          [
           2017
          ],
          [
           2018
          ],
          [
           2004
          ],
          [
           2005
          ],
          [
           2006
          ],
          [
           2007
          ],
          [
           2008
          ],
          [
           2014
          ],
          [
           2015
          ],
          [
           2016
          ],
          [
           2017
          ],
          [
           2018
          ],
          [
           2002
          ],
          [
           2003
          ],
          [
           2004
          ],
          [
           2005
          ],
          [
           2006
          ],
          [
           2007
          ],
          [
           2008
          ],
          [
           2009
          ],
          [
           2010
          ],
          [
           2011
          ],
          [
           2012
          ],
          [
           2013
          ],
          [
           2014
          ],
          [
           2015
          ],
          [
           2016
          ],
          [
           2018
          ],
          [
           2001
          ],
          [
           2002
          ],
          [
           2003
          ],
          [
           2004
          ],
          [
           2005
          ],
          [
           2006
          ],
          [
           2007
          ],
          [
           2008
          ],
          [
           2009
          ],
          [
           2010
          ],
          [
           2011
          ],
          [
           2012
          ],
          [
           2013
          ],
          [
           2014
          ],
          [
           2017
          ],
          [
           2018
          ],
          [
           2001
          ],
          [
           2002
          ],
          [
           2003
          ],
          [
           2004
          ],
          [
           2007
          ],
          [
           2008
          ],
          [
           2009
          ],
          [
           2010
          ],
          [
           2011
          ],
          [
           2012
          ],
          [
           2016
          ],
          [
           2017
          ],
          [
           2018
          ],
          [
           2001
          ],
          [
           2002
          ],
          [
           2003
          ],
          [
           2004
          ],
          [
           2005
          ],
          [
           2006
          ],
          [
           2007
          ],
          [
           2008
          ],
          [
           2009
          ],
          [
           2010
          ],
          [
           2002
          ],
          [
           2003
          ],
          [
           2004
          ],
          [
           2005
          ],
          [
           2006
          ],
          [
           2007
          ],
          [
           2012
          ],
          [
           2013
          ],
          [
           2014
          ],
          [
           2015
          ],
          [
           2016
          ],
          [
           2013
          ],
          [
           2014
          ],
          [
           2015
          ],
          [
           2016
          ],
          [
           2017
          ],
          [
           2018
          ],
          [
           2001
          ],
          [
           2002
          ],
          [
           2003
          ],
          [
           2004
          ],
          [
           2005
          ],
          [
           2006
          ],
          [
           2007
          ],
          [
           2008
          ],
          [
           2009
          ],
          [
           2010
          ],
          [
           2011
          ],
          [
           2012
          ]
         ],
         "hovertemplate": "<b>%{hovertext}</b><br><br>class=%{marker.color}<br>PCA1=%{x}<br>PCA2=%{y}<br>PCA3=%{z}<br>year=%{customdata[0]}<extra></extra>",
         "hovertext": [
          "Alachua",
          "Alachua",
          "Alachua",
          "Alachua",
          "Alachua",
          "Alachua",
          "Alachua",
          "Alachua",
          "Alachua",
          "Alachua",
          "Alachua",
          "Bay",
          "Bay",
          "Bay",
          "Bay",
          "Bay",
          "Bay",
          "Bay",
          "Bay",
          "Bay",
          "Bradford",
          "Bradford",
          "Bradford",
          "Bradford",
          "Brevard",
          "Brevard",
          "Brevard",
          "Brevard",
          "Brevard",
          "Brevard",
          "Calhoun",
          "Calhoun",
          "Calhoun",
          "Calhoun",
          "Calhoun",
          "Calhoun",
          "Charlotte",
          "Charlotte",
          "Citrus",
          "Citrus",
          "Citrus",
          "Citrus",
          "Citrus",
          "Citrus",
          "Citrus",
          "Citrus",
          "Citrus",
          "Citrus",
          "Citrus",
          "Citrus",
          "Clay",
          "Clay",
          "Clay",
          "Clay",
          "Clay",
          "Clay",
          "Clay",
          "Clay",
          "Clay",
          "Clay",
          "Clay",
          "Clay",
          "Clay",
          "Dixie",
          "Dixie",
          "Duval",
          "Duval",
          "Duval",
          "Duval",
          "Duval",
          "Duval",
          "Duval",
          "Duval",
          "Duval",
          "Escambia",
          "Escambia",
          "Escambia",
          "Escambia",
          "Escambia",
          "Escambia",
          "Escambia",
          "Escambia",
          "Escambia",
          "Escambia",
          "Escambia",
          "Escambia",
          "Escambia",
          "Escambia",
          "Escambia",
          "Gadsden",
          "Gadsden",
          "Gadsden",
          "Gilchrist",
          "Gilchrist",
          "Gilchrist",
          "Hamilton",
          "Hamilton",
          "Hardee",
          "Highlands",
          "Highlands",
          "Highlands",
          "Highlands",
          "Highlands",
          "Highlands",
          "Highlands",
          "Highlands",
          "Indian River",
          "Indian River",
          "Indian River",
          "Indian River",
          "Jackson",
          "Jackson",
          "Jackson",
          "Jackson",
          "Jackson",
          "Jackson",
          "Jackson",
          "Jackson",
          "Jackson",
          "Jackson",
          "Jackson",
          "Jackson",
          "Jackson",
          "Jackson",
          "Jackson",
          "Jackson",
          "Jackson",
          "Jackson",
          "Jefferson",
          "Jefferson",
          "Jefferson",
          "Jefferson",
          "Jefferson",
          "Jefferson",
          "Jefferson",
          "Jefferson",
          "Jefferson",
          "Jefferson",
          "Jefferson",
          "Jefferson",
          "Jefferson",
          "Jefferson",
          "Lafayette",
          "Lee",
          "Lee",
          "Lee",
          "Lee",
          "Lee",
          "Lee",
          "Lee",
          "Lee",
          "Lee",
          "Lee",
          "Lee",
          "Leon",
          "Leon",
          "Leon",
          "Leon",
          "Leon",
          "Leon",
          "Levy",
          "Levy",
          "Levy",
          "Levy",
          "Levy",
          "Levy",
          "Levy",
          "Levy",
          "Levy",
          "Levy",
          "Levy",
          "Levy",
          "Levy",
          "Levy",
          "Levy",
          "Levy",
          "Madison",
          "Madison",
          "Madison",
          "Madison",
          "Madison",
          "Madison",
          "Madison",
          "Madison",
          "Madison",
          "Madison",
          "Madison",
          "Madison",
          "Madison",
          "Madison",
          "Madison",
          "Madison",
          "Manatee",
          "Manatee",
          "Manatee",
          "Manatee",
          "Manatee",
          "Manatee",
          "Manatee",
          "Manatee",
          "Manatee",
          "Manatee",
          "Manatee",
          "Manatee",
          "Manatee",
          "Manatee",
          "Manatee",
          "Marion",
          "Marion",
          "Marion",
          "Marion",
          "Marion",
          "Martin",
          "Miami-Dade",
          "Miami-Dade",
          "Miami-Dade",
          "Miami-Dade",
          "Miami-Dade",
          "Miami-Dade",
          "Miami-Dade",
          "Monroe",
          "Monroe",
          "Monroe",
          "Monroe",
          "Nassau",
          "Nassau",
          "Nassau",
          "Nassau",
          "Okaloosa",
          "Okaloosa",
          "Okaloosa",
          "Okaloosa",
          "Okeechobee",
          "Okeechobee",
          "Okeechobee",
          "Okeechobee",
          "Orange",
          "Orange",
          "Orange",
          "Orange",
          "Orange",
          "Orange",
          "Orange",
          "Orange",
          "Orange",
          "Orange",
          "Orange",
          "Orange",
          "Orange",
          "Orange",
          "Orange",
          "Orange",
          "Osceola",
          "Osceola",
          "Osceola",
          "Osceola",
          "Osceola",
          "Osceola",
          "Osceola",
          "Osceola",
          "Osceola",
          "Osceola",
          "Palm Beach",
          "Palm Beach",
          "Palm Beach",
          "Palm Beach",
          "Palm Beach",
          "Palm Beach",
          "Palm Beach",
          "Palm Beach",
          "Palm Beach",
          "Palm Beach",
          "Palm Beach",
          "Palm Beach",
          "Palm Beach",
          "Palm Beach",
          "Palm Beach",
          "Palm Beach",
          "Pasco",
          "Pasco",
          "Pasco",
          "Pasco",
          "Pasco",
          "Pasco",
          "Pasco",
          "Pasco",
          "Pasco",
          "Pasco",
          "Pasco",
          "Pasco",
          "Pasco",
          "Pasco",
          "Pasco",
          "Pasco",
          "Pinellas",
          "Pinellas",
          "Pinellas",
          "Pinellas",
          "Pinellas",
          "Pinellas",
          "Pinellas",
          "Pinellas",
          "Pinellas",
          "Pinellas",
          "Pinellas",
          "Pinellas",
          "Pinellas",
          "Polk",
          "Polk",
          "Polk",
          "Polk",
          "Polk",
          "Polk",
          "Polk",
          "Polk",
          "Polk",
          "Polk",
          "Sarasota",
          "Sarasota",
          "Sarasota",
          "Sarasota",
          "Sarasota",
          "Sarasota",
          "Sarasota",
          "Sarasota",
          "Sarasota",
          "Sarasota",
          "Sarasota",
          "Seminole",
          "Seminole",
          "Seminole",
          "Seminole",
          "Seminole",
          "Seminole",
          "St. Johns",
          "St. Johns",
          "St. Johns",
          "St. Johns",
          "St. Johns",
          "St. Johns",
          "St. Johns",
          "St. Johns",
          "St. Johns",
          "St. Johns",
          "St. Johns",
          "St. Johns"
         ],
         "legendgroup": "0",
         "marker": {
          "color": [
           0,
           0,
           0,
           0,
           0,
           0,
           0,
           0,
           0,
           0,
           0,
           0,
           0,
           0,
           0,
           0,
           0,
           0,
           0,
           0,
           0,
           0,
           0,
           0,
           0,
           0,
           0,
           0,
           0,
           0,
           0,
           0,
           0,
           0,
           0,
           0,
           0,
           0,
           0,
           0,
           0,
           0,
           0,
           0,
           0,
           0,
           0,
           0,
           0,
           0,
           0,
           0,
           0,
           0,
           0,
           0,
           0,
           0,
           0,
           0,
           0,
           0,
           0,
           0,
           0,
           0,
           0,
           0,
           0,
           0,
           0,
           0,
           0,
           0,
           0,
           0,
           0,
           0,
           0,
           0,
           0,
           0,
           0,
           0,
           0,
           0,
           0,
           0,
           0,
           0,
           0,
           0,
           0,
           0,
           0,
           0,
           0,
           0,
           0,
           0,
           0,
           0,
           0,
           0,
           0,
           0,
           0,
           0,
           0,
           0,
           0,
           0,
           0,
           0,
           0,
           0,
           0,
           0,
           0,
           0,
           0,
           0,
           0,
           0,
           0,
           0,
           0,
           0,
           0,
           0,
           0,
           0,
           0,
           0,
           0,
           0,
           0,
           0,
           0,
           0,
           0,
           0,
           0,
           0,
           0,
           0,
           0,
           0,
           0,
           0,
           0,
           0,
           0,
           0,
           0,
           0,
           0,
           0,
           0,
           0,
           0,
           0,
           0,
           0,
           0,
           0,
           0,
           0,
           0,
           0,
           0,
           0,
           0,
           0,
           0,
           0,
           0,
           0,
           0,
           0,
           0,
           0,
           0,
           0,
           0,
           0,
           0,
           0,
           0,
           0,
           0,
           0,
           0,
           0,
           0,
           0,
           0,
           0,
           0,
           0,
           0,
           0,
           0,
           0,
           0,
           0,
           0,
           0,
           0,
           0,
           0,
           0,
           0,
           0,
           0,
           0,
           0,
           0,
           0,
           0,
           0,
           0,
           0,
           0,
           0,
           0,
           0,
           0,
           0,
           0,
           0,
           0,
           0,
           0,
           0,
           0,
           0,
           0,
           0,
           0,
           0,
           0,
           0,
           0,
           0,
           0,
           0,
           0,
           0,
           0,
           0,
           0,
           0,
           0,
           0,
           0,
           0,
           0,
           0,
           0,
           0,
           0,
           0,
           0,
           0,
           0,
           0,
           0,
           0,
           0,
           0,
           0,
           0,
           0,
           0,
           0,
           0,
           0,
           0,
           0,
           0,
           0,
           0,
           0,
           0,
           0,
           0,
           0,
           0,
           0,
           0,
           0,
           0,
           0,
           0,
           0,
           0,
           0,
           0,
           0,
           0,
           0,
           0,
           0,
           0,
           0,
           0,
           0,
           0,
           0,
           0,
           0,
           0,
           0,
           0,
           0,
           0,
           0,
           0,
           0,
           0,
           0,
           0,
           0,
           0,
           0,
           0,
           0,
           0,
           0,
           0,
           0,
           0,
           0,
           0,
           0,
           0,
           0,
           0,
           0,
           0,
           0,
           0,
           0,
           0,
           0
          ],
          "coloraxis": "coloraxis",
          "symbol": "diamond"
         },
         "mode": "markers",
         "name": "0",
         "scene": "scene",
         "showlegend": true,
         "type": "scatter3d",
         "x": [
          0.25111299978789986,
          0.6526506208449531,
          0.6012897575034952,
          0.4191897504992945,
          0.45532578727076484,
          0.17534896091954652,
          -0.09197593469093518,
          -0.01898581355904017,
          0.12614086216738954,
          0.30346763908052093,
          0.5808994369364531,
          -0.11331896725745413,
          -0.1197025833662471,
          -0.19378818902853284,
          -0.2957039216380096,
          -0.3393446442121029,
          -0.37746203125592864,
          -0.34839426406893254,
          -0.2713048108611585,
          -0.3259970344044851,
          1.376271831596994,
          1.7699107958456717,
          2.133833033211486,
          2.1643855101494682,
          1.4774499592384878,
          1.2958929450852261,
          1.6492938655321867,
          1.622317784568654,
          1.6518538802479303,
          1.5771134390235957,
          -0.777725731258246,
          -0.57420855363048,
          -0.7046684721328397,
          -1.2451532711136342,
          -1.0827455883705843,
          -1.0564080257191637,
          -1.2124272288247915,
          -1.2307171704625965,
          -0.9147421445062084,
          -0.660703282837145,
          -0.6246420859754793,
          -0.5598453147865186,
          -0.9192029573325785,
          -0.8451515061029392,
          -0.7614008504544066,
          -0.7383906454190907,
          -0.5679065116947027,
          -0.04889104363147567,
          0.0607077310504001,
          0.2057184667945483,
          1.1362364374172382,
          1.0564174883520732,
          0.576044043572535,
          0.2924551373842905,
          0.17466681919163554,
          0.15309873536839827,
          0.04024000947145415,
          0.25162867083689655,
          0.36034054517047753,
          0.5681226271373652,
          0.6871961471519743,
          0.6922467866194677,
          0.8092387871534934,
          0.5364173100660163,
          0.6012358882927379,
          0.31538354168377314,
          0.3197873912714423,
          -1.4862895512716043,
          -1.1677431162157592,
          -0.9618968811458077,
          -0.9927347344899637,
          -1.2714703650711028,
          -1.457652246773643,
          -1.322029958332766,
          -1.1453712610905935,
          -1.6049561530249108,
          -1.3732279245122698,
          -1.1626316475063163,
          -1.2277932168844239,
          -1.533657636153614,
          -1.583860763335864,
          -1.691762874414437,
          -1.6582119209025985,
          -1.6927233106914286,
          -1.7428743973003058,
          -1.7165667413855084,
          -1.581516233317646,
          -1.6815971972831243,
          -1.588904024405212,
          -1.7201724201983306,
          -1.5561001425086693,
          -1.5253429412451218,
          -1.7721424747893362,
          -1.6854618737231972,
          -1.6732720965357557,
          -0.7118789280765259,
          -0.7759054125675138,
          -1.0294767991364548,
          -0.48008273064404666,
          -0.5839702885833854,
          -0.7371129162006722,
          -1.009264022916603,
          -0.8942201016418637,
          -0.905032469594961,
          -0.7537333062818935,
          -0.6504497989806337,
          -0.1133105541761184,
          0.14123785822758758,
          0.07809916439071284,
          0.10304851749747457,
          -0.38904962776408275,
          -0.23286781946392685,
          -0.2802964588935742,
          0.013420045814610392,
          0.04312867317179629,
          1.2258723707520154,
          1.5759420745999202,
          1.3474456486748614,
          1.7812592040521182,
          2.1804937805961977,
          2.829539463682356,
          2.905231766087976,
          2.400161138230574,
          1.9028882777498477,
          1.5528279934990061,
          1.6202706280988388,
          1.5443720074525433,
          1.379772356590183,
          1.8738494773257734,
          1.9478675682763695,
          1.9512113212518059,
          0.39004953360436334,
          0.47265899110006726,
          0.6000725800429155,
          0.7191553297723294,
          0.7642812721764977,
          0.5640581835167693,
          0.6169702225195067,
          0.6075140815564597,
          0.4685860949523266,
          0.7060363386156642,
          0.9676921046054351,
          0.8026502165516249,
          0.5857849264586802,
          0.666550996852951,
          0.851073288599619,
          1.1305100752246438,
          1.635207792363992,
          1.5200119396855833,
          1.1518257785633501,
          0.9260521956232537,
          0.6791791110989798,
          0.6021008662973596,
          0.5524039832829319,
          0.7458652644127667,
          0.6796253252848428,
          0.7495079219465545,
          0.7786620165217604,
          0.11579199968170062,
          0.1343580632397141,
          -0.12684054896162306,
          0.14052550498736507,
          -0.9134464760942448,
          -0.7022008893195498,
          -0.48890965997385055,
          -0.1900081058238988,
          -0.32222016875499004,
          -0.5275033855517431,
          -0.6688525818389524,
          -0.8300002627485762,
          -0.84843817136069,
          -0.866945069700149,
          -0.9419053251633001,
          -0.7949119762747223,
          -0.7260449624132977,
          -0.587899565048382,
          0.8427684082544785,
          0.8544380887813191,
          -1.1994254249804146,
          -1.1325665978536867,
          -1.0019060082818303,
          -0.6253166637508475,
          -0.615605657128591,
          -0.8128351032561778,
          -1.1198029860439687,
          -1.2481616313979897,
          -1.3063000631051258,
          -1.2861612959620654,
          -1.2902746850576308,
          -1.141622759363509,
          -1.092366490136931,
          -0.9803753179714955,
          -0.8829726678321929,
          -0.5583081135099932,
          -0.27430248961511156,
          -0.30367011506414926,
          -0.4523032981333573,
          -0.5713358322278101,
          -0.5899861557535416,
          -0.57459371728972,
          -0.5704821635665012,
          -0.5604136616606372,
          -0.5045620223688576,
          -0.37641598589056685,
          -0.28806457519964074,
          -0.29281182978300896,
          -0.22222945719600334,
          -1.1759568281382997,
          -1.3379777098751817,
          -1.357327985820753,
          -1.2249967753755115,
          -1.2255990437403428,
          -0.23701024792460348,
          0.5843226258110883,
          0.323169487693144,
          -0.07312071810579072,
          0.039539697593101636,
          0.16713447242461216,
          0.22537313441335902,
          0.21751587141765752,
          0.4199342177594721,
          0.9373132678862587,
          0.9260663276178454,
          1.031231137564862,
          0.36635089716533376,
          0.43121253390606135,
          0.4261311367392124,
          0.5587194394077705,
          1.5433428053638893,
          1.902208968860985,
          2.0566111271814154,
          2.1551395965270363,
          1.2940584632447762,
          1.4095868821124704,
          1.1112788895486208,
          1.241464710641924,
          -1.2318908554156671,
          -1.125958072241614,
          -1.0861044079321307,
          -0.8758398712351668,
          -0.6735048600384431,
          -0.31963527976547745,
          -0.3300538883519394,
          -0.618756270394338,
          -0.8621607108293404,
          -0.8133624691430065,
          -0.896955883236325,
          -0.9507489212491047,
          -0.8797055017370708,
          -0.7524027670215583,
          -0.7904784280711603,
          -0.6424971237922975,
          0.210355188815486,
          0.4360311693162742,
          0.6889683516401554,
          0.8728098469061116,
          0.5635853502769672,
          -0.16281344641904177,
          0.08655834922427338,
          0.0791914795572219,
          0.16358344693116936,
          0.3019010086629006,
          0.17062842010585674,
          0.45324698784347356,
          0.7145418480449092,
          0.7111791643715109,
          0.6712452123832027,
          0.6217509175568494,
          0.4954225968403845,
          0.41196740915282193,
          0.3446833155197393,
          0.33582679096570367,
          0.33401324309202096,
          0.6944254640731715,
          0.9123514674998886,
          0.89010760005088,
          0.9759795301426191,
          -1.549921729636765,
          -0.3477343249398366,
          0.009506001766689934,
          -0.09266539716659986,
          -0.31584286272527057,
          -0.5416287461301044,
          -0.6049371604886,
          -0.6500255918932027,
          -0.6296640769235926,
          -0.6176380186324929,
          -0.5195348159156059,
          -0.5061528899224412,
          -0.2606415684418982,
          -0.2889724957650285,
          -0.21229813215333276,
          -0.01100271766722342,
          -0.07922633832546003,
          0.6308981114711614,
          0.4039996994966572,
          0.0939608951816684,
          0.02217251801591741,
          -0.08668184205959518,
          -0.05944866274474743,
          -0.21536950792208517,
          -0.15613341187544408,
          -0.10346216183274586,
          0.057550759742379595,
          -1.5202930916712778,
          -1.4395075298418079,
          -1.2639019954217492,
          -1.4013154545154252,
          -1.4930115814177038,
          -1.4710328610049903,
          -1.4616070993275287,
          -1.3026384732301564,
          -1.1674725282225606,
          -1.1307645249214102,
          -1.0955528098397211,
          -0.9537963259675629,
          -0.8618695446283727,
          1.2925631535339914,
          1.4216823503091596,
          1.7005045281944835,
          1.6710174968848241,
          1.5765638337812353,
          1.4730461182009775,
          0.8931148954143705,
          1.0455903785727079,
          1.0811528196980753,
          1.0449388119513798,
          1.0461660931983097,
          -1.6473180325935977,
          -1.6177820175826794,
          -1.4728480002933004,
          -1.328685457809869,
          -1.2289880116615448,
          -0.9476364575515518,
          -0.42905746718873733,
          -0.6632603542336327,
          -0.8603077658911397,
          -0.9512956056173903,
          -1.012931167204281,
          -1.0156804204421368,
          -0.8882992165031776,
          -0.7634163346205204,
          -0.6749385001692086,
          -0.5354383542216417,
          -0.505362600091031,
          -0.41381040621493054
         ],
         "y": [
          0.13068331687986728,
          0.678303596986981,
          0.9164072682484032,
          0.603319609342127,
          -0.010978076056421643,
          -0.09279417156028466,
          0.20788175577270535,
          0.4633656499536438,
          0.6974390116598902,
          1.0628341369953558,
          1.3561236536001586,
          1.689652189005951,
          1.5178924884507339,
          0.9970538449286674,
          0.17428380299663307,
          0.22552597299359223,
          0.5667685408581024,
          0.8968793581614448,
          1.1606722220029835,
          1.6533999713096625,
          -0.09785288614641696,
          0.9834669426409918,
          1.6990585037014045,
          1.1503750982959826,
          -0.6158738522236267,
          -0.09188348004399273,
          0.3458049140460425,
          0.889166200025035,
          1.479416397014599,
          2.018559934897315,
          0.9457433068043714,
          1.711600858979866,
          1.1421171269016517,
          0.860010967576255,
          1.3400548503124778,
          1.797068338557914,
          0.7917962103583503,
          0.6530269513372465,
          0.4555281672462861,
          1.1395019344591044,
          1.326876927455401,
          0.9403216677280735,
          0.5976951549979507,
          0.879848905528263,
          1.149705498294771,
          1.5976883133437212,
          2.072688522579729,
          0.8749787217220303,
          1.343314642855406,
          1.9997368949602226,
          6.817425133780835,
          5.99103341424077,
          4.225690852808299,
          2.5809214491831973,
          2.2085336685342827,
          2.0191745482193864,
          2.327345321529346,
          3.0687527465355977,
          3.897057788008321,
          4.790458954940744,
          5.441546217748348,
          5.572857258126787,
          5.844224576781516,
          -0.12239966803517138,
          -0.2359048069193492,
          0.21509213152862178,
          0.6142183399553254,
          0.8279435239290284,
          1.8937201422574024,
          2.6575905299645823,
          2.0737105575450654,
          1.0886303885398585,
          0.885131806244532,
          1.2620259027262424,
          2.477660644181923,
          1.2481809635598098,
          2.6638076942610236,
          3.722691083545126,
          3.5488834552459747,
          2.5648245640027976,
          1.464008630283552,
          1.1329439579822789,
          0.8511940468823201,
          0.9574971070122658,
          1.4404084767537637,
          1.6826912677430075,
          1.8970419684973925,
          2.233805346648068,
          2.593651190784141,
          1.1519185300409533,
          1.857694929401962,
          1.639598541099163,
          1.1936548766664272,
          1.5530349287077032,
          1.8844435112332254,
          0.8857984435389282,
          0.6125562761073806,
          1.1213717994236345,
          2.753548533295557,
          2.184954373334544,
          1.067548101240571,
          0.7491748374744173,
          1.2169315225526725,
          1.789461083784565,
          2.2602459690783117,
          2.790173257943967,
          0.9912029721969,
          1.990567681735167,
          1.8497250245944785,
          0.9258749597273058,
          0.42242537087985,
          0.7474818093896424,
          1.1747715349257823,
          1.5135788759076,
          1.9953595787323628,
          -0.7423794452923386,
          -0.4836690528189276,
          0.16892567881893938,
          0.795053248997558,
          2.0794198770806043,
          3.4130579700806414,
          2.489029157465923,
          0.8066863428154365,
          -0.5548323615371828,
          -0.7348472228683688,
          -0.6747828290164842,
          -0.22511136069607204,
          0.4006294928175481,
          2.0779938904242017,
          2.4350839331153216,
          2.7848800904965145,
          -0.251797835923821,
          0.3222154413626446,
          0.9667679166063238,
          1.043631765023308,
          0.5936586062853724,
          0.14707965940574075,
          -0.026832153178528127,
          -0.3222421188873614,
          -0.08702186730988178,
          0.04855593160864994,
          0.1652061577049725,
          1.1837803427891629,
          -0.2751085345798733,
          0.24431811240641632,
          0.9606150252694757,
          2.1908456165997823,
          3.331129022668504,
          2.8197287995355134,
          1.407538406043005,
          0.20281947058277083,
          0.09864411919162298,
          -0.031092669132007204,
          0.32440279989755766,
          2.051650635780697,
          2.6421939547581714,
          3.0662235255405292,
          3.3845431702635556,
          0.48237383950593615,
          0.4181411454623107,
          0.26869047783845024,
          0.6087286212497256,
          0.816439117795922,
          1.7606876524159267,
          3.1773849917111026,
          4.043438319173207,
          3.3083330900664194,
          2.279864981585846,
          1.279932010083666,
          1.1050723275202121,
          0.953038976757118,
          1.1215398905739309,
          1.4928724169930028,
          2.0909939175958527,
          2.630037338923111,
          3.068926380578039,
          10.05508892388208,
          10.425964423572195,
          0.559565741560339,
          1.0038169014758267,
          1.7824874919886282,
          2.4932806408436594,
          2.7542780620671974,
          2.222844006690435,
          1.2390110937869596,
          1.0355933587716906,
          0.9524899149703424,
          1.1630795517573214,
          1.6768679772887103,
          2.324126809575876,
          2.698306408576274,
          2.8660632348669335,
          0.5194443656958943,
          1.8313872800472317,
          2.7185873280445114,
          2.2987646694239685,
          1.6556150136683616,
          1.0127535549913724,
          0.8218317907640262,
          0.6121859136385246,
          0.7412052581312805,
          1.109519941233313,
          1.3819493098389872,
          1.6201457304700413,
          1.8375809103117595,
          2.223236398358829,
          2.658200830761385,
          1.3254188967972949,
          1.2519277117930845,
          0.8808003195191948,
          1.3625129421784543,
          1.6174523804957652,
          0.25873415558167995,
          2.3962629118843695,
          1.246236564517327,
          0.6324597671283683,
          1.0058023803188818,
          1.3688232543538854,
          1.7970017641182405,
          2.3033938984139297,
          0.2819391891641286,
          0.9449183291722398,
          0.6787440135020066,
          -0.20144855815119214,
          0.06319562830366128,
          0.47622677974275124,
          0.9730492958203597,
          1.3522419356943223,
          -0.2972514933620044,
          0.5189090026915215,
          0.49161591101602053,
          -0.1611819298737445,
          -0.07046862999704379,
          0.2904460592088644,
          0.8248799404439857,
          1.2494425980838975,
          0.9155986003831447,
          1.2332246082720029,
          1.7152260690529575,
          2.4176022469884386,
          3.510581651407184,
          4.672251987354484,
          4.698253327785838,
          3.6214575620447613,
          2.494979460196041,
          2.2143149143156857,
          1.9079318912619687,
          2.0124863756156475,
          2.4749452281582256,
          3.110309545567603,
          3.3033326536619825,
          3.666892231096467,
          0.2641847098803817,
          1.2900484704662716,
          2.184746897497709,
          1.6242448738906772,
          0.200993578080238,
          0.22895066262371663,
          0.8933244735925874,
          1.4784649463968347,
          1.984550259933639,
          2.447128079079036,
          -0.1304949691423459,
          0.7899248982353431,
          1.5628108493623456,
          1.273830285368925,
          0.6292148234372291,
          0.02783507208529506,
          -0.07476327103942088,
          -0.14840956333753957,
          0.015289781150085262,
          0.33134843275440656,
          0.6110537921266431,
          1.1803253084774872,
          1.3683406954757005,
          1.8817165150544255,
          2.305491653344297,
          0.9257704466161585,
          3.387711184310813,
          4.463354662615438,
          3.4944710382566653,
          2.2469617991201027,
          1.1326046730233195,
          0.9983833532670494,
          0.9349505385911074,
          1.1138387787221955,
          1.767427995525794,
          2.264784287237436,
          2.7822705785152446,
          3.3712359262415013,
          3.635771231336646,
          3.9664769643133577,
          0.03235200074431503,
          0.6390136589324501,
          2.8522186370834777,
          1.6961101413145752,
          0.4388322044517562,
          0.044767175389841624,
          0.5979287624243314,
          1.2851008254889194,
          1.5678610630386243,
          2.0452581139350774,
          2.5751510939532376,
          3.08612085677165,
          0.7729542585685547,
          1.4680287869422435,
          2.1772778355298152,
          1.3239078566379996,
          0.9834965380727084,
          1.0723427581323948,
          1.2889068587907524,
          1.8118728801110418,
          2.434178253657651,
          2.6606724618455235,
          2.7580352724012194,
          3.0864930835725812,
          3.5094474565066456,
          -0.358156536218034,
          0.6103384010097433,
          1.5111740922596466,
          1.2883243759850924,
          0.2814352031551732,
          -0.6963733600767694,
          -0.06203380442485328,
          0.274734871711656,
          0.6885730300541207,
          1.2758806465706127,
          1.7839351542363933,
          1.2694198147535583,
          1.5197444179268706,
          1.570592788469281,
          1.8320167634446902,
          2.5251694976740384,
          3.619715632380275,
          6.335340193009709,
          4.957039573164852,
          3.575343004436036,
          3.1693959399446308,
          2.7422635233047745,
          2.925233309282326,
          3.4399174328385373,
          4.12379651835507,
          4.786223312837213,
          5.129415381832206,
          5.65709931832875,
          6.267525817853412
         ],
         "z": [
          1.6531348945712894,
          1.9938992800849216,
          1.580022620029239,
          0.9887402698130094,
          0.1381345162988878,
          -0.3082179770525529,
          -1.1387583272146837,
          -1.1340743074237118,
          -1.0956700577323653,
          -1.4861352967602708,
          -1.615211277413093,
          1.9695311836942084,
          1.6852342868108396,
          0.8503705815638779,
          0.07402320995901156,
          -0.5588068803647139,
          -0.49509875335960085,
          -0.7152117756213289,
          -0.6177861782788917,
          -1.1064397278406515,
          0.7199759792686738,
          0.94388081256001,
          1.2780651148025968,
          0.7268986317997354,
          -1.7317146311595806,
          -1.832119913727587,
          -1.6055710137155463,
          -1.6792942449211743,
          -1.816668263996142,
          -1.7868961556493643,
          1.3806660047957213,
          1.7269338589750485,
          1.195632226082781,
          -1.106324855990091,
          -1.1509953513875617,
          -1.2469084922376192,
          1.12220153778906,
          0.6095147475001174,
          1.3130624494079945,
          1.6310725142733271,
          1.2848683025995304,
          0.7830139762329772,
          -0.8200526016370878,
          -0.8198713603172317,
          -0.8275287684552041,
          -1.2997302813620513,
          -1.2552624908990186,
          2.038046343910568,
          1.8279926237961452,
          1.527020240806043,
          2.1207985738922677,
          1.4082044350025167,
          0.3512287194494538,
          -0.591891636642935,
          -0.9693553692484576,
          -0.9267173631610428,
          -1.069402433222672,
          -1.0041748964138992,
          -0.81763843037796,
          -0.7460439137816425,
          -0.773404885175693,
          -1.1237773250324476,
          -1.090720624256474,
          1.5535654945071546,
          1.0637112552654773,
          -1.6896664546933737,
          -1.7447805263717657,
          1.0266110236557293,
          1.1452159241072086,
          1.824190447223476,
          1.1385172600842066,
          0.2548193888598805,
          -0.7475693833257621,
          -0.543518942549306,
          -1.0430975685172583,
          2.3515254380417083,
          2.1695701745018012,
          2.41737947517848,
          2.2906422919299865,
          1.2252165294831758,
          0.5183410539634046,
          0.3841304137750417,
          0.5890216037339931,
          0.22799956687726453,
          -0.09334860136000454,
          -0.1986105888147363,
          0.034175794589427544,
          -0.22531206740491178,
          -0.22084955647136886,
          1.3182016354343307,
          1.5314778845953092,
          1.380853756261545,
          -0.8628877339172563,
          -0.8597242413629885,
          -1.4236005938035552,
          1.7446071630982696,
          1.2462309229503497,
          -1.5297143343990436,
          1.7841045787933694,
          1.0019206844806952,
          0.062363568600624156,
          -1.1610815006437256,
          -1.0615532914118748,
          -1.3719864470509202,
          -1.238412618316181,
          -1.193886268644265,
          1.4168775496673982,
          1.7667752458547417,
          1.4497653739266185,
          0.6499151271642466,
          -0.818415826304804,
          -0.7131839459372801,
          -0.7947646706782014,
          -0.9245606936780756,
          -1.0493219180705338,
          2.278944000312386,
          1.8604220533526086,
          1.503708598175982,
          1.563711031498998,
          1.5015525930935303,
          1.9758016384963153,
          1.5125356213874064,
          0.031202798818302013,
          -1.0637114291529834,
          -1.4006679706640985,
          -1.3915889505300818,
          -1.3266181804906667,
          -1.2635773102084176,
          -1.3672237047364908,
          -1.5864808434006288,
          -1.5379571395123848,
          1.5661620403776557,
          1.4399005487301668,
          1.6243503091284506,
          1.469884924637641,
          0.7476999525419483,
          0.05815516230159609,
          -0.157657407381068,
          -0.1019170386843549,
          -0.756608410727662,
          -0.7193960678472718,
          -0.4907853670204307,
          -1.3350825763267133,
          2.353953572800097,
          2.1503382659780037,
          2.285859650870098,
          2.4874162515176037,
          2.7372036661763937,
          2.2739841641211305,
          1.2672599675175065,
          -0.013657541959475309,
          -0.24733450940252613,
          -0.3548968258586602,
          -0.5647456843609195,
          -0.5649923296340619,
          -0.8321909358976138,
          -0.9683388828046005,
          -1.0242196199115416,
          1.444933893962931,
          0.9681138831838438,
          -1.3404726436486756,
          -1.5028597361278342,
          1.5384568090938378,
          1.4084068864148713,
          1.5575468836638524,
          2.0584094340704695,
          1.263105606511653,
          0.3312710477181192,
          -0.4394840799194863,
          -0.671298007495392,
          -0.7942627101555596,
          -0.8648035414651284,
          -0.7368281763949414,
          -0.7630887987182929,
          -0.699696157257882,
          -0.8187368593143783,
          1.3697299940876944,
          1.3308919301263895,
          1.6084145249680057,
          1.499228856722525,
          1.5194937568377573,
          2.1472846587191805,
          1.726139092503863,
          1.0103450307657813,
          -0.11936210111293818,
          -0.40876103874113556,
          -0.8044746676880075,
          -1.0444571206677218,
          -0.8765710574472698,
          -0.9840975124955408,
          -0.8140695327029325,
          -0.5487456597024007,
          1.1978475211093687,
          1.3128855086245526,
          1.8150366564109044,
          1.2260366591066152,
          0.5836588637879474,
          -0.5408984344294839,
          -0.49556078833074063,
          -0.4671599360029592,
          -0.7450777039989861,
          -1.033211784483395,
          -0.9623365963198277,
          -0.9531541240767275,
          -1.0258433853501907,
          -1.3596996006745656,
          -1.5185252713683648,
          2.0245680215188746,
          1.3855809712879952,
          -0.5256177208907271,
          -0.8654308226637776,
          -0.5257777166332418,
          1.8573019205930468,
          2.0298455162707882,
          0.9972614861198841,
          -0.7067775049821752,
          -0.6909258300828571,
          -0.6941090886157243,
          -0.8316308035487487,
          -0.9120835286444432,
          1.440118914321944,
          1.7048021618761573,
          1.2801332305202109,
          0.5934588226957486,
          -1.1655492720433815,
          -1.1896709922452235,
          -1.2644757352434408,
          -1.5274310277459235,
          1.262593160904237,
          1.5291983478382691,
          1.2339270306046555,
          0.41447427854756275,
          -1.5049386273651566,
          -1.5229506007427696,
          -1.6075820690245997,
          -1.8082812898289584,
          1.8804325410909857,
          1.4348466530674204,
          1.3871544766442454,
          1.2025513044660456,
          1.3524451414728993,
          1.8682400803505794,
          1.331707269628961,
          0.5913149293767823,
          -0.6269799901709112,
          -0.4305721479223781,
          -0.46536477382325414,
          -0.7331685127482134,
          -0.843009778850758,
          -0.8493383358837341,
          -0.48563624856586796,
          -0.4984162091520033,
          1.624944382856951,
          1.5886527048011265,
          1.7123138810378544,
          1.3902314155532074,
          0.43236437958676016,
          -1.065296091746389,
          -1.4173486962379382,
          -1.5138534446056466,
          -1.7019125158462596,
          -1.8028397821005056,
          1.278315229007661,
          1.444568922187439,
          1.5767410052660311,
          1.2422088896748515,
          0.5006913694343289,
          -0.29879377798741225,
          -0.517408241521755,
          -0.7393216836156645,
          -0.7036303390836461,
          -0.5354618285189964,
          -0.7693500319845361,
          -1.251824465255102,
          -1.3601069312729905,
          -1.5795516785741213,
          -1.8176089212233149,
          1.2108254097467788,
          1.5775104276195977,
          2.0524214660353763,
          1.4039953272991346,
          0.6742915326163061,
          -0.34426901501706736,
          -0.3224176603557676,
          -0.5677461550701287,
          -0.7659389885357426,
          -0.7604781209899846,
          -0.8518306846223694,
          -0.5982873454653393,
          -0.7661158135662505,
          -1.2058993781910865,
          -1.3530608013334828,
          1.3414202820566874,
          1.0372582417727327,
          1.0061341685004506,
          -0.02180746974401815,
          -0.8072328687675429,
          -1.163708907320894,
          -1.4673116425353312,
          -1.3581012269674475,
          -0.8990859836934392,
          -1.1225403755070975,
          -1.2814124669473068,
          -1.1030126618824847,
          1.2119460925969316,
          1.2402632191139011,
          1.4899272601195388,
          -0.2024553445478958,
          -0.8923620696212371,
          -1.1300781533900985,
          -1.245899100149505,
          -1.1725817793001008,
          -1.0803275827176635,
          -0.9202166861177326,
          -1.0659604178986304,
          -1.222514794900422,
          -1.3598236368795866,
          1.5318089623910554,
          1.553390659720114,
          2.1282420313743917,
          1.5455807916072093,
          0.6395437710327567,
          -0.24115735352834694,
          -0.9631823400526253,
          -0.7361825056737525,
          -0.7063273697825989,
          -1.000702507405205,
          -1.1467630428188955,
          -0.8287176301866447,
          -1.2277372271175604,
          2.8322698608861248,
          2.520092821064885,
          2.3306089761052995,
          2.56784048954282,
          2.61868155424486,
          1.8268254485450934,
          0.753089236047542,
          0.740532626985892,
          0.6823750893957858,
          0.38349104762097075,
          0.27139571652093136,
          0.48327099624151165,
          0.5009756088025596,
          0.4012602974059395,
          0.08162384271820299,
          -0.14618577868445506
         ]
        },
        {
         "customdata": [
          [
           2010
          ],
          [
           2011
          ],
          [
           2012
          ],
          [
           2013
          ],
          [
           2014
          ],
          [
           2015
          ],
          [
           2016
          ],
          [
           2017
          ],
          [
           2018
          ],
          [
           2001
          ],
          [
           2002
          ],
          [
           2003
          ],
          [
           2004
          ],
          [
           2005
          ],
          [
           2006
          ],
          [
           2007
          ],
          [
           2008
          ],
          [
           2009
          ],
          [
           2010
          ],
          [
           2011
          ],
          [
           2012
          ],
          [
           2013
          ],
          [
           2014
          ],
          [
           2015
          ],
          [
           2016
          ],
          [
           2017
          ],
          [
           2018
          ],
          [
           2001
          ],
          [
           2002
          ],
          [
           2003
          ],
          [
           2004
          ],
          [
           2005
          ],
          [
           2001
          ],
          [
           2002
          ],
          [
           2003
          ],
          [
           2004
          ],
          [
           2005
          ],
          [
           2006
          ],
          [
           2007
          ],
          [
           2008
          ],
          [
           2009
          ],
          [
           2010
          ],
          [
           2011
          ],
          [
           2012
          ],
          [
           2013
          ],
          [
           2014
          ],
          [
           2015
          ],
          [
           2016
          ],
          [
           2017
          ],
          [
           2017
          ],
          [
           2018
          ],
          [
           2001
          ],
          [
           2002
          ],
          [
           2003
          ],
          [
           2004
          ],
          [
           2005
          ],
          [
           2006
          ],
          [
           2007
          ],
          [
           2008
          ],
          [
           2009
          ],
          [
           2010
          ],
          [
           2011
          ],
          [
           2012
          ],
          [
           2013
          ],
          [
           2014
          ],
          [
           2013
          ],
          [
           2014
          ],
          [
           2015
          ],
          [
           2016
          ],
          [
           2017
          ],
          [
           2018
          ],
          [
           2009
          ],
          [
           2010
          ],
          [
           2011
          ],
          [
           2012
          ],
          [
           2013
          ],
          [
           2014
          ],
          [
           2015
          ],
          [
           2016
          ],
          [
           2017
          ],
          [
           2018
          ],
          [
           2001
          ],
          [
           2002
          ],
          [
           2003
          ],
          [
           2004
          ],
          [
           2005
          ],
          [
           2006
          ]
         ],
         "hovertemplate": "<b>%{hovertext}</b><br><br>class=%{marker.color}<br>PCA1=%{x}<br>PCA2=%{y}<br>PCA3=%{z}<br>year=%{customdata[0]}<extra></extra>",
         "hovertext": [
          "Brevard",
          "Brevard",
          "Brevard",
          "Brevard",
          "Brevard",
          "Brevard",
          "Brevard",
          "Brevard",
          "Brevard",
          "Broward",
          "Broward",
          "Broward",
          "Broward",
          "Broward",
          "Broward",
          "Broward",
          "DeSoto",
          "DeSoto",
          "DeSoto",
          "DeSoto",
          "DeSoto",
          "DeSoto",
          "DeSoto",
          "DeSoto",
          "DeSoto",
          "DeSoto",
          "DeSoto",
          "Dixie",
          "Dixie",
          "Dixie",
          "Dixie",
          "Dixie",
          "Hendry",
          "Hendry",
          "Hendry",
          "Hendry",
          "Hendry",
          "Hendry",
          "Hendry",
          "Hendry",
          "Hendry",
          "Hendry",
          "Hendry",
          "Hendry",
          "Hendry",
          "Hendry",
          "Hendry",
          "Hendry",
          "Hendry",
          "Marion",
          "Marion",
          "Martin",
          "Martin",
          "Martin",
          "Martin",
          "Martin",
          "Martin",
          "Martin",
          "Martin",
          "Martin",
          "Martin",
          "Martin",
          "Martin",
          "Martin",
          "Martin",
          "Miami-Dade",
          "Miami-Dade",
          "Miami-Dade",
          "Miami-Dade",
          "Miami-Dade",
          "Miami-Dade",
          "Nassau",
          "Nassau",
          "Nassau",
          "Nassau",
          "Nassau",
          "Nassau",
          "Nassau",
          "Nassau",
          "Nassau",
          "Nassau",
          "Okaloosa",
          "Okaloosa",
          "Okaloosa",
          "Okaloosa",
          "Okaloosa",
          "Okaloosa"
         ],
         "legendgroup": "2",
         "marker": {
          "color": [
           2,
           2,
           2,
           2,
           2,
           2,
           2,
           2,
           2,
           2,
           2,
           2,
           2,
           2,
           2,
           2,
           2,
           2,
           2,
           2,
           2,
           2,
           2,
           2,
           2,
           2,
           2,
           2,
           2,
           2,
           2,
           2,
           2,
           2,
           2,
           2,
           2,
           2,
           2,
           2,
           2,
           2,
           2,
           2,
           2,
           2,
           2,
           2,
           2,
           2,
           2,
           2,
           2,
           2,
           2,
           2,
           2,
           2,
           2,
           2,
           2,
           2,
           2,
           2,
           2,
           2,
           2,
           2,
           2,
           2,
           2,
           2,
           2,
           2,
           2,
           2,
           2,
           2,
           2,
           2,
           2,
           2,
           2,
           2,
           2,
           2,
           2
          ],
          "coloraxis": "coloraxis",
          "symbol": "square"
         },
         "mode": "markers",
         "name": "2",
         "scene": "scene",
         "showlegend": true,
         "type": "scatter3d",
         "x": [
          8.950295893239243,
          8.889067786486612,
          8.589674775968772,
          9.177156295007213,
          9.457238384138355,
          9.839773140898918,
          10.299325977367019,
          10.26373367210891,
          9.909305788197267,
          9.53711321571418,
          9.210444040235652,
          8.821658093663844,
          8.879999985377012,
          8.91145330206238,
          9.069552133551817,
          8.797324317730983,
          5.223568050430219,
          5.254571414883855,
          5.138102317434825,
          5.253047177838209,
          5.365611659488513,
          5.756956938916324,
          6.6317187523358045,
          6.549901209052804,
          5.887111128400529,
          5.207327270852154,
          5.002874693261425,
          5.019443388083675,
          4.904735089605341,
          5.168125560266467,
          5.3365018474161685,
          5.245561648372304,
          8.109919888492824,
          8.029280322152582,
          7.198690038951887,
          6.85202547479305,
          7.014005241264644,
          6.912998711743278,
          6.827781091767286,
          6.213800159704955,
          5.625828622397849,
          5.065533718951336,
          4.753124072770106,
          4.701540699426189,
          4.577468324760482,
          4.849164700147938,
          4.6942466732600545,
          4.874849114583978,
          4.829470092086975,
          6.6301692401249275,
          6.8166733835633195,
          7.563763434175197,
          8.958635992527565,
          9.064167811793943,
          9.131557756867682,
          7.7275357725853615,
          7.284357581705784,
          7.483903502739962,
          7.164941037816841,
          7.14841743052833,
          7.446891651001921,
          7.523129576508355,
          8.102391380202473,
          7.034966814364476,
          7.2886055965362235,
          7.092093091004557,
          7.360225447865122,
          7.552844350743733,
          7.758822206766983,
          7.5237609631385105,
          8.09983777520596,
          4.852302234186163,
          5.016455949144604,
          4.9121701960108295,
          4.952636990866165,
          4.9864123892774,
          5.185131989800225,
          5.305752352263708,
          5.157364885566263,
          5.062845241497148,
          4.687633662147239,
          4.027529376597347,
          4.1423046879150345,
          4.188501183111204,
          4.020978810914628,
          3.920528719802491,
          3.737998891816602
         ],
         "y": [
          -2.7893016217419264,
          -2.3886943035617305,
          -1.7125492592993774,
          -1.06835917388758,
          0.0663623542667713,
          1.1051973347747133,
          0.8152958448465755,
          -0.5974947776014277,
          -1.857314558003996,
          -1.8228563696160704,
          -1.0280598986175753,
          -0.14724345749726342,
          0.288398730029573,
          0.7158147323108592,
          1.1809151820043267,
          1.8097776591745132,
          -2.706652920357133,
          -2.5419588637264803,
          -2.1676919280109135,
          -1.7500106106439837,
          -1.1342105887796599,
          -0.46286506631197377,
          -0.627340166491482,
          -1.1199942771075033,
          -1.7028385153986538,
          -1.6979195648088048,
          -1.9049113633381813,
          -0.9373900691978428,
          -0.5705858923958677,
          -0.23784865627232543,
          0.17797146274482256,
          0.6984084905943969,
          -2.849812455495896,
          -2.363723505359407,
          -1.473297880660428,
          -0.4154397321589025,
          0.6458063273999289,
          0.7192637020761635,
          -0.19139590180547109,
          -1.1659043379976777,
          -1.1292681489446907,
          -1.091393142436326,
          -0.7697023080995613,
          -0.17665993104755595,
          0.3508689252266759,
          0.7242336882371254,
          1.2763987255860434,
          1.7862440293973345,
          2.3344254247686753,
          -2.2345496476973805,
          -2.07152696073271,
          -0.051906297024385734,
          0.92161141584069,
          0.8408429851466839,
          -0.3643461895863633,
          -1.5389875340650208,
          -1.7440865323830852,
          -1.9679572171676658,
          -1.5772260386134365,
          -0.8548867527199145,
          -0.26508820048534676,
          0.13190138472038615,
          0.5427125343558195,
          1.3385198077015357,
          1.9101904673450079,
          -1.9278360864309725,
          -1.6766316239214054,
          -1.034871536353884,
          -0.11426263141015723,
          1.4094367561493102,
          2.451972164097088,
          -2.105549159666138,
          -1.9540091201768508,
          -1.4906166272362933,
          -0.9332670371463303,
          0.0024436793303413877,
          0.7712172806867913,
          0.5260181259318238,
          -0.35472520019141385,
          -1.3485996273236953,
          -1.2679406585543485,
          -0.5807688570633651,
          -0.14126917331247477,
          0.29518962490664835,
          0.8851285292158778,
          1.3913305714077129,
          1.997092461733998
         ],
         "z": [
          1.126697272818015,
          0.6702773018446494,
          0.47918908665359533,
          0.8295853409211313,
          0.9224529735479704,
          1.150755924294079,
          0.7223613706728862,
          -0.21200614285145747,
          -1.5643331334450974,
          -2.210709596822884,
          -2.1114965133289987,
          -2.0829940222901113,
          -1.986749046748568,
          -1.9362080596111841,
          -2.2685088771657105,
          -2.2578239394618658,
          2.219025512615898,
          1.6444893061214485,
          1.466609142418897,
          1.2100925251535906,
          1.2526052275144381,
          1.4352334591079339,
          1.1180108899945316,
          0.3642986290380188,
          -0.9918355884502575,
          -1.2600725829703163,
          -1.5985412927753422,
          -1.8413615786422248,
          -1.7386449260419767,
          -1.6459591129536624,
          -1.9819686014990492,
          -2.042550095200892,
          2.2186683812587065,
          1.9355614927615155,
          1.4976177013008516,
          1.5298592203158032,
          1.668141654763425,
          1.1086447540193642,
          -0.02247336200064903,
          -1.6048213006751246,
          -2.044271751830765,
          -2.485807221854624,
          -2.4890450898329144,
          -2.3828178066792303,
          -2.4527224414025786,
          -2.472231426659514,
          -2.580812602384116,
          -2.599111332236332,
          -2.9109800859779074,
          2.780914616673801,
          1.9852794779804857,
          1.9361879342694261,
          2.487018927026637,
          2.1370652334697753,
          1.0005037042478553,
          -0.5583726339314599,
          -1.0537547001330287,
          -1.3090522367685806,
          -1.1664844817660542,
          -1.0279859610998676,
          -1.1719717990928489,
          -1.0962591547968552,
          -1.260872470661858,
          -1.3432001053408575,
          -1.5998500326837057,
          1.869992583916017,
          1.6803730733605426,
          1.5376376503642175,
          1.4014518639367344,
          1.525454825306747,
          1.8433065301239913,
          1.92301216250322,
          1.4693730015187154,
          1.3962018144579842,
          1.368902892010619,
          1.680163936740386,
          1.7623017930915326,
          1.3411233727578749,
          0.41558119543012384,
          -0.6710698888152139,
          -1.0760969058186944,
          -1.2878035678416713,
          -1.3140255841673592,
          -1.271906813941551,
          -1.3965751053568702,
          -1.4858936046684588,
          -1.867647761299469
         ]
        },
        {
         "customdata": [
          [
           2010
          ],
          [
           2011
          ],
          [
           2012
          ],
          [
           2013
          ],
          [
           2014
          ],
          [
           2015
          ],
          [
           2016
          ],
          [
           2017
          ],
          [
           2018
          ]
         ],
         "hovertemplate": "<b>%{hovertext}</b><br><br>class=%{marker.color}<br>PCA1=%{x}<br>PCA2=%{y}<br>PCA3=%{z}<br>year=%{customdata[0]}<extra></extra>",
         "hovertext": [
          "Liberty",
          "Liberty",
          "Liberty",
          "Liberty",
          "Liberty",
          "Liberty",
          "Liberty",
          "Liberty",
          "Liberty"
         ],
         "legendgroup": "1",
         "marker": {
          "color": [
           1,
           1,
           1,
           1,
           1,
           1,
           1,
           1,
           1
          ],
          "coloraxis": "coloraxis",
          "symbol": "x"
         },
         "mode": "markers",
         "name": "1",
         "scene": "scene",
         "showlegend": true,
         "type": "scatter3d",
         "x": [
          17.323436684076512,
          17.277287752577024,
          16.241938262342106,
          16.247514923611494,
          15.895010077804244,
          15.523439352239965,
          15.050212407354016,
          14.83874458174685,
          14.46877185153395
         ],
         "y": [
          -3.2339081042645406,
          -3.1896527637680907,
          -2.5136147529417214,
          -1.8252717975209274,
          -0.906465188140071,
          -0.19561095764685554,
          0.5747929135084743,
          1.3032408021248374,
          2.0519608137401564
         ],
         "z": [
          -2.1765646110924646,
          -1.916847113788846,
          -2.0483888067009874,
          -2.0013557609948176,
          -1.8182566051160256,
          -2.0105494921499836,
          -2.0089297215221418,
          -2.1136461153954222,
          -2.0475078616392786
         ]
        }
       ],
       "layout": {
        "coloraxis": {
         "colorbar": {
          "title": {
           "text": "class"
          }
         },
         "colorscale": [
          [
           0,
           "#0d0887"
          ],
          [
           0.1111111111111111,
           "#46039f"
          ],
          [
           0.2222222222222222,
           "#7201a8"
          ],
          [
           0.3333333333333333,
           "#9c179e"
          ],
          [
           0.4444444444444444,
           "#bd3786"
          ],
          [
           0.5555555555555556,
           "#d8576b"
          ],
          [
           0.6666666666666666,
           "#ed7953"
          ],
          [
           0.7777777777777778,
           "#fb9f3a"
          ],
          [
           0.8888888888888888,
           "#fdca26"
          ],
          [
           1,
           "#f0f921"
          ]
         ]
        },
        "legend": {
         "title": {
          "text": "class"
         },
         "tracegroupgap": 0,
         "x": 0,
         "y": 1
        },
        "margin": {
         "t": 60
        },
        "scene": {
         "domain": {
          "x": [
           0,
           1
          ],
          "y": [
           0,
           1
          ]
         },
         "xaxis": {
          "title": {
           "text": "PCA1"
          }
         },
         "yaxis": {
          "title": {
           "text": "PCA2"
          }
         },
         "zaxis": {
          "title": {
           "text": "PCA3"
          }
         }
        },
        "template": {
         "data": {
          "bar": [
           {
            "error_x": {
             "color": "#2a3f5f"
            },
            "error_y": {
             "color": "#2a3f5f"
            },
            "marker": {
             "line": {
              "color": "#E5ECF6",
              "width": 0.5
             },
             "pattern": {
              "fillmode": "overlay",
              "size": 10,
              "solidity": 0.2
             }
            },
            "type": "bar"
           }
          ],
          "barpolar": [
           {
            "marker": {
             "line": {
              "color": "#E5ECF6",
              "width": 0.5
             },
             "pattern": {
              "fillmode": "overlay",
              "size": 10,
              "solidity": 0.2
             }
            },
            "type": "barpolar"
           }
          ],
          "carpet": [
           {
            "aaxis": {
             "endlinecolor": "#2a3f5f",
             "gridcolor": "white",
             "linecolor": "white",
             "minorgridcolor": "white",
             "startlinecolor": "#2a3f5f"
            },
            "baxis": {
             "endlinecolor": "#2a3f5f",
             "gridcolor": "white",
             "linecolor": "white",
             "minorgridcolor": "white",
             "startlinecolor": "#2a3f5f"
            },
            "type": "carpet"
           }
          ],
          "choropleth": [
           {
            "colorbar": {
             "outlinewidth": 0,
             "ticks": ""
            },
            "type": "choropleth"
           }
          ],
          "contour": [
           {
            "colorbar": {
             "outlinewidth": 0,
             "ticks": ""
            },
            "colorscale": [
             [
              0,
              "#0d0887"
             ],
             [
              0.1111111111111111,
              "#46039f"
             ],
             [
              0.2222222222222222,
              "#7201a8"
             ],
             [
              0.3333333333333333,
              "#9c179e"
             ],
             [
              0.4444444444444444,
              "#bd3786"
             ],
             [
              0.5555555555555556,
              "#d8576b"
             ],
             [
              0.6666666666666666,
              "#ed7953"
             ],
             [
              0.7777777777777778,
              "#fb9f3a"
             ],
             [
              0.8888888888888888,
              "#fdca26"
             ],
             [
              1,
              "#f0f921"
             ]
            ],
            "type": "contour"
           }
          ],
          "contourcarpet": [
           {
            "colorbar": {
             "outlinewidth": 0,
             "ticks": ""
            },
            "type": "contourcarpet"
           }
          ],
          "heatmap": [
           {
            "colorbar": {
             "outlinewidth": 0,
             "ticks": ""
            },
            "colorscale": [
             [
              0,
              "#0d0887"
             ],
             [
              0.1111111111111111,
              "#46039f"
             ],
             [
              0.2222222222222222,
              "#7201a8"
             ],
             [
              0.3333333333333333,
              "#9c179e"
             ],
             [
              0.4444444444444444,
              "#bd3786"
             ],
             [
              0.5555555555555556,
              "#d8576b"
             ],
             [
              0.6666666666666666,
              "#ed7953"
             ],
             [
              0.7777777777777778,
              "#fb9f3a"
             ],
             [
              0.8888888888888888,
              "#fdca26"
             ],
             [
              1,
              "#f0f921"
             ]
            ],
            "type": "heatmap"
           }
          ],
          "heatmapgl": [
           {
            "colorbar": {
             "outlinewidth": 0,
             "ticks": ""
            },
            "colorscale": [
             [
              0,
              "#0d0887"
             ],
             [
              0.1111111111111111,
              "#46039f"
             ],
             [
              0.2222222222222222,
              "#7201a8"
             ],
             [
              0.3333333333333333,
              "#9c179e"
             ],
             [
              0.4444444444444444,
              "#bd3786"
             ],
             [
              0.5555555555555556,
              "#d8576b"
             ],
             [
              0.6666666666666666,
              "#ed7953"
             ],
             [
              0.7777777777777778,
              "#fb9f3a"
             ],
             [
              0.8888888888888888,
              "#fdca26"
             ],
             [
              1,
              "#f0f921"
             ]
            ],
            "type": "heatmapgl"
           }
          ],
          "histogram": [
           {
            "marker": {
             "pattern": {
              "fillmode": "overlay",
              "size": 10,
              "solidity": 0.2
             }
            },
            "type": "histogram"
           }
          ],
          "histogram2d": [
           {
            "colorbar": {
             "outlinewidth": 0,
             "ticks": ""
            },
            "colorscale": [
             [
              0,
              "#0d0887"
             ],
             [
              0.1111111111111111,
              "#46039f"
             ],
             [
              0.2222222222222222,
              "#7201a8"
             ],
             [
              0.3333333333333333,
              "#9c179e"
             ],
             [
              0.4444444444444444,
              "#bd3786"
             ],
             [
              0.5555555555555556,
              "#d8576b"
             ],
             [
              0.6666666666666666,
              "#ed7953"
             ],
             [
              0.7777777777777778,
              "#fb9f3a"
             ],
             [
              0.8888888888888888,
              "#fdca26"
             ],
             [
              1,
              "#f0f921"
             ]
            ],
            "type": "histogram2d"
           }
          ],
          "histogram2dcontour": [
           {
            "colorbar": {
             "outlinewidth": 0,
             "ticks": ""
            },
            "colorscale": [
             [
              0,
              "#0d0887"
             ],
             [
              0.1111111111111111,
              "#46039f"
             ],
             [
              0.2222222222222222,
              "#7201a8"
             ],
             [
              0.3333333333333333,
              "#9c179e"
             ],
             [
              0.4444444444444444,
              "#bd3786"
             ],
             [
              0.5555555555555556,
              "#d8576b"
             ],
             [
              0.6666666666666666,
              "#ed7953"
             ],
             [
              0.7777777777777778,
              "#fb9f3a"
             ],
             [
              0.8888888888888888,
              "#fdca26"
             ],
             [
              1,
              "#f0f921"
             ]
            ],
            "type": "histogram2dcontour"
           }
          ],
          "mesh3d": [
           {
            "colorbar": {
             "outlinewidth": 0,
             "ticks": ""
            },
            "type": "mesh3d"
           }
          ],
          "parcoords": [
           {
            "line": {
             "colorbar": {
              "outlinewidth": 0,
              "ticks": ""
             }
            },
            "type": "parcoords"
           }
          ],
          "pie": [
           {
            "automargin": true,
            "type": "pie"
           }
          ],
          "scatter": [
           {
            "marker": {
             "colorbar": {
              "outlinewidth": 0,
              "ticks": ""
             }
            },
            "type": "scatter"
           }
          ],
          "scatter3d": [
           {
            "line": {
             "colorbar": {
              "outlinewidth": 0,
              "ticks": ""
             }
            },
            "marker": {
             "colorbar": {
              "outlinewidth": 0,
              "ticks": ""
             }
            },
            "type": "scatter3d"
           }
          ],
          "scattercarpet": [
           {
            "marker": {
             "colorbar": {
              "outlinewidth": 0,
              "ticks": ""
             }
            },
            "type": "scattercarpet"
           }
          ],
          "scattergeo": [
           {
            "marker": {
             "colorbar": {
              "outlinewidth": 0,
              "ticks": ""
             }
            },
            "type": "scattergeo"
           }
          ],
          "scattergl": [
           {
            "marker": {
             "colorbar": {
              "outlinewidth": 0,
              "ticks": ""
             }
            },
            "type": "scattergl"
           }
          ],
          "scattermapbox": [
           {
            "marker": {
             "colorbar": {
              "outlinewidth": 0,
              "ticks": ""
             }
            },
            "type": "scattermapbox"
           }
          ],
          "scatterpolar": [
           {
            "marker": {
             "colorbar": {
              "outlinewidth": 0,
              "ticks": ""
             }
            },
            "type": "scatterpolar"
           }
          ],
          "scatterpolargl": [
           {
            "marker": {
             "colorbar": {
              "outlinewidth": 0,
              "ticks": ""
             }
            },
            "type": "scatterpolargl"
           }
          ],
          "scatterternary": [
           {
            "marker": {
             "colorbar": {
              "outlinewidth": 0,
              "ticks": ""
             }
            },
            "type": "scatterternary"
           }
          ],
          "surface": [
           {
            "colorbar": {
             "outlinewidth": 0,
             "ticks": ""
            },
            "colorscale": [
             [
              0,
              "#0d0887"
             ],
             [
              0.1111111111111111,
              "#46039f"
             ],
             [
              0.2222222222222222,
              "#7201a8"
             ],
             [
              0.3333333333333333,
              "#9c179e"
             ],
             [
              0.4444444444444444,
              "#bd3786"
             ],
             [
              0.5555555555555556,
              "#d8576b"
             ],
             [
              0.6666666666666666,
              "#ed7953"
             ],
             [
              0.7777777777777778,
              "#fb9f3a"
             ],
             [
              0.8888888888888888,
              "#fdca26"
             ],
             [
              1,
              "#f0f921"
             ]
            ],
            "type": "surface"
           }
          ],
          "table": [
           {
            "cells": {
             "fill": {
              "color": "#EBF0F8"
             },
             "line": {
              "color": "white"
             }
            },
            "header": {
             "fill": {
              "color": "#C8D4E3"
             },
             "line": {
              "color": "white"
             }
            },
            "type": "table"
           }
          ]
         },
         "layout": {
          "annotationdefaults": {
           "arrowcolor": "#2a3f5f",
           "arrowhead": 0,
           "arrowwidth": 1
          },
          "autotypenumbers": "strict",
          "coloraxis": {
           "colorbar": {
            "outlinewidth": 0,
            "ticks": ""
           }
          },
          "colorscale": {
           "diverging": [
            [
             0,
             "#8e0152"
            ],
            [
             0.1,
             "#c51b7d"
            ],
            [
             0.2,
             "#de77ae"
            ],
            [
             0.3,
             "#f1b6da"
            ],
            [
             0.4,
             "#fde0ef"
            ],
            [
             0.5,
             "#f7f7f7"
            ],
            [
             0.6,
             "#e6f5d0"
            ],
            [
             0.7,
             "#b8e186"
            ],
            [
             0.8,
             "#7fbc41"
            ],
            [
             0.9,
             "#4d9221"
            ],
            [
             1,
             "#276419"
            ]
           ],
           "sequential": [
            [
             0,
             "#0d0887"
            ],
            [
             0.1111111111111111,
             "#46039f"
            ],
            [
             0.2222222222222222,
             "#7201a8"
            ],
            [
             0.3333333333333333,
             "#9c179e"
            ],
            [
             0.4444444444444444,
             "#bd3786"
            ],
            [
             0.5555555555555556,
             "#d8576b"
            ],
            [
             0.6666666666666666,
             "#ed7953"
            ],
            [
             0.7777777777777778,
             "#fb9f3a"
            ],
            [
             0.8888888888888888,
             "#fdca26"
            ],
            [
             1,
             "#f0f921"
            ]
           ],
           "sequentialminus": [
            [
             0,
             "#0d0887"
            ],
            [
             0.1111111111111111,
             "#46039f"
            ],
            [
             0.2222222222222222,
             "#7201a8"
            ],
            [
             0.3333333333333333,
             "#9c179e"
            ],
            [
             0.4444444444444444,
             "#bd3786"
            ],
            [
             0.5555555555555556,
             "#d8576b"
            ],
            [
             0.6666666666666666,
             "#ed7953"
            ],
            [
             0.7777777777777778,
             "#fb9f3a"
            ],
            [
             0.8888888888888888,
             "#fdca26"
            ],
            [
             1,
             "#f0f921"
            ]
           ]
          },
          "colorway": [
           "#636efa",
           "#EF553B",
           "#00cc96",
           "#ab63fa",
           "#FFA15A",
           "#19d3f3",
           "#FF6692",
           "#B6E880",
           "#FF97FF",
           "#FECB52"
          ],
          "font": {
           "color": "#2a3f5f"
          },
          "geo": {
           "bgcolor": "white",
           "lakecolor": "white",
           "landcolor": "#E5ECF6",
           "showlakes": true,
           "showland": true,
           "subunitcolor": "white"
          },
          "hoverlabel": {
           "align": "left"
          },
          "hovermode": "closest",
          "mapbox": {
           "style": "light"
          },
          "paper_bgcolor": "white",
          "plot_bgcolor": "#E5ECF6",
          "polar": {
           "angularaxis": {
            "gridcolor": "white",
            "linecolor": "white",
            "ticks": ""
           },
           "bgcolor": "#E5ECF6",
           "radialaxis": {
            "gridcolor": "white",
            "linecolor": "white",
            "ticks": ""
           }
          },
          "scene": {
           "xaxis": {
            "backgroundcolor": "#E5ECF6",
            "gridcolor": "white",
            "gridwidth": 2,
            "linecolor": "white",
            "showbackground": true,
            "ticks": "",
            "zerolinecolor": "white"
           },
           "yaxis": {
            "backgroundcolor": "#E5ECF6",
            "gridcolor": "white",
            "gridwidth": 2,
            "linecolor": "white",
            "showbackground": true,
            "ticks": "",
            "zerolinecolor": "white"
           },
           "zaxis": {
            "backgroundcolor": "#E5ECF6",
            "gridcolor": "white",
            "gridwidth": 2,
            "linecolor": "white",
            "showbackground": true,
            "ticks": "",
            "zerolinecolor": "white"
           }
          },
          "shapedefaults": {
           "line": {
            "color": "#2a3f5f"
           }
          },
          "ternary": {
           "aaxis": {
            "gridcolor": "white",
            "linecolor": "white",
            "ticks": ""
           },
           "baxis": {
            "gridcolor": "white",
            "linecolor": "white",
            "ticks": ""
           },
           "bgcolor": "#E5ECF6",
           "caxis": {
            "gridcolor": "white",
            "linecolor": "white",
            "ticks": ""
           }
          },
          "title": {
           "x": 0.05
          },
          "xaxis": {
           "automargin": true,
           "gridcolor": "white",
           "linecolor": "white",
           "ticks": "",
           "title": {
            "standoff": 15
           },
           "zerolinecolor": "white",
           "zerolinewidth": 2
          },
          "yaxis": {
           "automargin": true,
           "gridcolor": "white",
           "linecolor": "white",
           "ticks": "",
           "title": {
            "standoff": 15
           },
           "zerolinecolor": "white",
           "zerolinewidth": 2
          }
         }
        },
        "width": 900
       }
      },
      "text/html": [
       "<div>                            <div id=\"13fed881-7be3-44f5-a4f8-52c35e95997b\" class=\"plotly-graph-div\" style=\"height:525px; width:900px;\"></div>            <script type=\"text/javascript\">                require([\"plotly\"], function(Plotly) {                    window.PLOTLYENV=window.PLOTLYENV || {};                                    if (document.getElementById(\"13fed881-7be3-44f5-a4f8-52c35e95997b\")) {                    Plotly.newPlot(                        \"13fed881-7be3-44f5-a4f8-52c35e95997b\",                        [{\"customdata\":[[2001],[2002],[2003],[2004],[2012],[2018],[2001],[2002],[2003],[2004],[2005],[2006],[2007],[2008],[2009],[2010],[2011],[2012],[2013],[2014],[2015],[2016],[2017],[2018],[2005],[2006],[2007],[2008],[2014],[2015],[2016],[2017],[2018],[2001],[2002],[2003],[2004],[2005],[2006],[2007],[2008],[2009],[2010],[2011],[2012],[2013],[2014],[2001],[2002],[2003],[2008],[2009],[2010],[2011],[2012],[2013],[2014],[2015],[2016],[2017],[2018],[2005],[2009],[2010],[2011],[2012],[2013],[2014],[2015],[2001],[2002],[2003],[2004],[2007],[2008],[2009],[2010],[2011],[2012],[2013],[2014],[2015],[2016],[2017],[2018],[2001],[2006],[2007],[2008],[2009],[2010],[2014],[2015],[2016],[2017],[2018],[2001],[2002],[2003],[2004],[2005],[2006],[2007],[2008],[2009],[2010],[2011],[2012],[2013],[2014],[2015],[2016],[2017],[2018],[2001],[2002],[2003],[2004],[2005],[2006],[2007],[2008],[2009],[2010],[2011],[2012],[2013],[2014],[2015],[2016],[2017],[2018],[2001],[2002],[2003],[2004],[2005],[2006],[2007],[2006],[2007],[2008],[2009],[2010],[2013],[2014],[2015],[2016],[2017],[2018],[2001],[2004],[2005],[2006],[2012],[2013],[2014],[2015],[2016],[2002],[2003],[2004],[2001],[2002],[2003],[2004],[2005],[2006],[2007],[2008],[2009],[2010],[2011],[2012],[2013],[2014],[2015],[2016],[2017],[2018],[2001],[2002],[2003],[2004],[2005],[2006],[2007],[2008],[2009],[2010],[2011],[2012],[2013],[2014],[2015],[2016],[2017],[2018],[2001],[2002],[2003],[2004],[2005],[2006],[2007],[2008],[2009],[2010],[2011],[2012],[2013],[2014],[2015],[2001],[2002],[2003],[2004],[2005],[2006],[2010],[2011],[2012],[2013],[2014],[2015],[2018],[2001],[2002],[2003],[2004],[2005],[2006],[2007],[2008],[2009],[2010],[2011],[2012],[2013],[2014],[2015],[2016],[2017],[2018],[2001],[2002],[2003],[2004],[2005],[2006],[2007],[2008],[2009],[2010],[2011],[2012],[2013],[2014],[2015],[2016],[2017],[2018],[2001],[2002],[2003],[2004],[2005],[2006],[2007],[2008],[2011],[2012],[2013],[2014],[2015],[2016],[2017],[2018],[2002],[2003],[2004],[2005],[2006],[2007],[2008],[2009],[2010],[2011],[2012],[2013],[2014],[2015],[2016],[2017],[2018],[2018],[2001],[2002],[2003],[2004],[2005],[2006],[2007],[2008],[2009],[2010],[2011],[2012],[2013],[2014],[2015],[2016],[2017],[2018],[2004],[2005],[2006],[2007],[2008],[2014],[2015],[2016],[2017],[2018],[2001],[2002],[2003],[2004],[2005],[2006],[2007],[2008],[2009],[2010],[2011],[2012],[2013],[2014],[2015],[2016],[2017],[2018],[2001],[2002],[2003],[2004],[2005],[2006],[2007],[2008],[2009],[2010],[2011],[2012],[2013],[2014],[2015],[2016],[2017],[2018],[2001],[2002],[2003],[2004],[2005],[2006],[2007],[2008],[2009],[2010],[2011],[2016],[2017],[2018],[2004],[2005],[2006],[2015],[2002],[2003],[2004],[2005],[2006],[2007],[2008],[2009],[2010],[2011],[2012],[2013],[2014],[2015],[2016],[2017],[2018],[2001],[2002],[2003],[2004],[2005],[2006],[2007],[2008],[2009],[2010],[2011],[2012],[2013],[2014],[2015],[2016],[2017],[2018],[2001],[2002],[2003],[2004],[2005],[2006],[2007],[2005],[2006],[2007],[2008],[2009],[2012],[2013],[2014],[2015],[2016],[2017],[2018],[2003],[2004],[2003],[2004],[2001],[2002],[2003],[2001],[2002],[2003],[2006],[2007],[2008],[2009],[2010],[2011],[2012],[2013],[2015],[2016],[2017],[2003],[2004],[2005],[2006],[2007],[2001],[2002],[2003],[2004],[2007],[2008],[2009],[2010],[2015],[2016],[2017],[2018],[2005],[2006],[2007],[2008],[2009],[2010],[2011],[2012],[2013],[2014],[2015],[2016],[2017],[2018],[2001],[2002],[2001],[2002],[2003],[2009],[2010],[2011],[2012],[2013],[2001],[2017],[2015],[2016],[2005],[2006],[2013],[2014],[2015],[2011],[2012],[2013],[2014],[2015],[2016],[2017],[2018],[2001],[2002],[2003],[2004],[2005],[2006],[2007],[2008],[2009],[2010],[2011],[2012],[2013],[2014],[2015],[2016],[2017],[2018],[2001],[2002],[2003],[2004],[2005],[2006],[2007],[2008],[2009],[2010],[2011],[2012],[2013],[2014],[2015],[2016],[2017],[2018],[2001],[2008],[2009],[2010],[2011],[2017],[2018],[2001],[2002],[2003],[2004],[2005],[2006],[2007],[2008],[2009],[2010],[2011],[2012],[2013],[2014],[2015],[2016],[2017],[2018],[2001],[2002],[2003],[2004]],\"hovertemplate\":\"<b>%{hovertext}</b><br><br>class=%{marker.color}<br>PCA1=%{x}<br>PCA2=%{y}<br>PCA3=%{z}<br>year=%{customdata[0]}<extra></extra>\",\"hovertext\":[\"Alachua\",\"Alachua\",\"Alachua\",\"Alachua\",\"Alachua\",\"Alachua\",\"Baker\",\"Baker\",\"Baker\",\"Baker\",\"Baker\",\"Baker\",\"Baker\",\"Baker\",\"Baker\",\"Baker\",\"Baker\",\"Baker\",\"Baker\",\"Baker\",\"Baker\",\"Baker\",\"Baker\",\"Baker\",\"Bay\",\"Bay\",\"Bay\",\"Bay\",\"Bay\",\"Bay\",\"Bay\",\"Bay\",\"Bay\",\"Bradford\",\"Bradford\",\"Bradford\",\"Bradford\",\"Bradford\",\"Bradford\",\"Bradford\",\"Bradford\",\"Bradford\",\"Bradford\",\"Bradford\",\"Bradford\",\"Bradford\",\"Bradford\",\"Brevard\",\"Brevard\",\"Brevard\",\"Broward\",\"Broward\",\"Broward\",\"Broward\",\"Broward\",\"Broward\",\"Broward\",\"Broward\",\"Broward\",\"Broward\",\"Broward\",\"Calhoun\",\"Calhoun\",\"Calhoun\",\"Calhoun\",\"Calhoun\",\"Calhoun\",\"Calhoun\",\"Calhoun\",\"Charlotte\",\"Charlotte\",\"Charlotte\",\"Charlotte\",\"Charlotte\",\"Charlotte\",\"Charlotte\",\"Charlotte\",\"Charlotte\",\"Charlotte\",\"Charlotte\",\"Charlotte\",\"Charlotte\",\"Charlotte\",\"Charlotte\",\"Charlotte\",\"Citrus\",\"Citrus\",\"Citrus\",\"Citrus\",\"Citrus\",\"Citrus\",\"Clay\",\"Clay\",\"Clay\",\"Clay\",\"Clay\",\"Collier\",\"Collier\",\"Collier\",\"Collier\",\"Collier\",\"Collier\",\"Collier\",\"Collier\",\"Collier\",\"Collier\",\"Collier\",\"Collier\",\"Collier\",\"Collier\",\"Collier\",\"Collier\",\"Collier\",\"Collier\",\"Columbia\",\"Columbia\",\"Columbia\",\"Columbia\",\"Columbia\",\"Columbia\",\"Columbia\",\"Columbia\",\"Columbia\",\"Columbia\",\"Columbia\",\"Columbia\",\"Columbia\",\"Columbia\",\"Columbia\",\"Columbia\",\"Columbia\",\"Columbia\",\"DeSoto\",\"DeSoto\",\"DeSoto\",\"DeSoto\",\"DeSoto\",\"DeSoto\",\"DeSoto\",\"Dixie\",\"Dixie\",\"Dixie\",\"Dixie\",\"Dixie\",\"Dixie\",\"Dixie\",\"Dixie\",\"Dixie\",\"Dixie\",\"Dixie\",\"Duval\",\"Duval\",\"Duval\",\"Duval\",\"Duval\",\"Duval\",\"Duval\",\"Duval\",\"Duval\",\"Escambia\",\"Escambia\",\"Escambia\",\"Flagler\",\"Flagler\",\"Flagler\",\"Flagler\",\"Flagler\",\"Flagler\",\"Flagler\",\"Flagler\",\"Flagler\",\"Flagler\",\"Flagler\",\"Flagler\",\"Flagler\",\"Flagler\",\"Flagler\",\"Flagler\",\"Flagler\",\"Flagler\",\"Franklin\",\"Franklin\",\"Franklin\",\"Franklin\",\"Franklin\",\"Franklin\",\"Franklin\",\"Franklin\",\"Franklin\",\"Franklin\",\"Franklin\",\"Franklin\",\"Franklin\",\"Franklin\",\"Franklin\",\"Franklin\",\"Franklin\",\"Franklin\",\"Gadsden\",\"Gadsden\",\"Gadsden\",\"Gadsden\",\"Gadsden\",\"Gadsden\",\"Gadsden\",\"Gadsden\",\"Gadsden\",\"Gadsden\",\"Gadsden\",\"Gadsden\",\"Gadsden\",\"Gadsden\",\"Gadsden\",\"Gilchrist\",\"Gilchrist\",\"Gilchrist\",\"Gilchrist\",\"Gilchrist\",\"Gilchrist\",\"Gilchrist\",\"Gilchrist\",\"Gilchrist\",\"Gilchrist\",\"Gilchrist\",\"Gilchrist\",\"Gilchrist\",\"Glades\",\"Glades\",\"Glades\",\"Glades\",\"Glades\",\"Glades\",\"Glades\",\"Glades\",\"Glades\",\"Glades\",\"Glades\",\"Glades\",\"Glades\",\"Glades\",\"Glades\",\"Glades\",\"Glades\",\"Glades\",\"Gulf\",\"Gulf\",\"Gulf\",\"Gulf\",\"Gulf\",\"Gulf\",\"Gulf\",\"Gulf\",\"Gulf\",\"Gulf\",\"Gulf\",\"Gulf\",\"Gulf\",\"Gulf\",\"Gulf\",\"Gulf\",\"Gulf\",\"Gulf\",\"Hamilton\",\"Hamilton\",\"Hamilton\",\"Hamilton\",\"Hamilton\",\"Hamilton\",\"Hamilton\",\"Hamilton\",\"Hamilton\",\"Hamilton\",\"Hamilton\",\"Hamilton\",\"Hamilton\",\"Hamilton\",\"Hamilton\",\"Hamilton\",\"Hardee\",\"Hardee\",\"Hardee\",\"Hardee\",\"Hardee\",\"Hardee\",\"Hardee\",\"Hardee\",\"Hardee\",\"Hardee\",\"Hardee\",\"Hardee\",\"Hardee\",\"Hardee\",\"Hardee\",\"Hardee\",\"Hardee\",\"Hendry\",\"Hernando\",\"Hernando\",\"Hernando\",\"Hernando\",\"Hernando\",\"Hernando\",\"Hernando\",\"Hernando\",\"Hernando\",\"Hernando\",\"Hernando\",\"Hernando\",\"Hernando\",\"Hernando\",\"Hernando\",\"Hernando\",\"Hernando\",\"Hernando\",\"Highlands\",\"Highlands\",\"Highlands\",\"Highlands\",\"Highlands\",\"Highlands\",\"Highlands\",\"Highlands\",\"Highlands\",\"Highlands\",\"Hillsborough\",\"Hillsborough\",\"Hillsborough\",\"Hillsborough\",\"Hillsborough\",\"Hillsborough\",\"Hillsborough\",\"Hillsborough\",\"Hillsborough\",\"Hillsborough\",\"Hillsborough\",\"Hillsborough\",\"Hillsborough\",\"Hillsborough\",\"Hillsborough\",\"Hillsborough\",\"Hillsborough\",\"Hillsborough\",\"Holmes\",\"Holmes\",\"Holmes\",\"Holmes\",\"Holmes\",\"Holmes\",\"Holmes\",\"Holmes\",\"Holmes\",\"Holmes\",\"Holmes\",\"Holmes\",\"Holmes\",\"Holmes\",\"Holmes\",\"Holmes\",\"Holmes\",\"Holmes\",\"Indian River\",\"Indian River\",\"Indian River\",\"Indian River\",\"Indian River\",\"Indian River\",\"Indian River\",\"Indian River\",\"Indian River\",\"Indian River\",\"Indian River\",\"Indian River\",\"Indian River\",\"Indian River\",\"Jefferson\",\"Jefferson\",\"Jefferson\",\"Jefferson\",\"Lafayette\",\"Lafayette\",\"Lafayette\",\"Lafayette\",\"Lafayette\",\"Lafayette\",\"Lafayette\",\"Lafayette\",\"Lafayette\",\"Lafayette\",\"Lafayette\",\"Lafayette\",\"Lafayette\",\"Lafayette\",\"Lafayette\",\"Lafayette\",\"Lafayette\",\"Lake\",\"Lake\",\"Lake\",\"Lake\",\"Lake\",\"Lake\",\"Lake\",\"Lake\",\"Lake\",\"Lake\",\"Lake\",\"Lake\",\"Lake\",\"Lake\",\"Lake\",\"Lake\",\"Lake\",\"Lake\",\"Lee\",\"Lee\",\"Lee\",\"Lee\",\"Lee\",\"Lee\",\"Lee\",\"Leon\",\"Leon\",\"Leon\",\"Leon\",\"Leon\",\"Leon\",\"Leon\",\"Leon\",\"Leon\",\"Leon\",\"Leon\",\"Leon\",\"Levy\",\"Levy\",\"Madison\",\"Madison\",\"Manatee\",\"Manatee\",\"Manatee\",\"Marion\",\"Marion\",\"Marion\",\"Marion\",\"Marion\",\"Marion\",\"Marion\",\"Marion\",\"Marion\",\"Marion\",\"Marion\",\"Martin\",\"Martin\",\"Martin\",\"Miami-Dade\",\"Miami-Dade\",\"Miami-Dade\",\"Miami-Dade\",\"Miami-Dade\",\"Nassau\",\"Nassau\",\"Nassau\",\"Nassau\",\"Okaloosa\",\"Okaloosa\",\"Okaloosa\",\"Okaloosa\",\"Okaloosa\",\"Okaloosa\",\"Okaloosa\",\"Okaloosa\",\"Okeechobee\",\"Okeechobee\",\"Okeechobee\",\"Okeechobee\",\"Okeechobee\",\"Okeechobee\",\"Okeechobee\",\"Okeechobee\",\"Okeechobee\",\"Okeechobee\",\"Okeechobee\",\"Okeechobee\",\"Okeechobee\",\"Okeechobee\",\"Orange\",\"Orange\",\"Osceola\",\"Osceola\",\"Osceola\",\"Osceola\",\"Osceola\",\"Osceola\",\"Osceola\",\"Osceola\",\"Palm Beach\",\"Palm Beach\",\"Pasco\",\"Pasco\",\"Pinellas\",\"Pinellas\",\"Pinellas\",\"Pinellas\",\"Pinellas\",\"Polk\",\"Polk\",\"Polk\",\"Polk\",\"Polk\",\"Polk\",\"Polk\",\"Polk\",\"Putnam\",\"Putnam\",\"Putnam\",\"Putnam\",\"Putnam\",\"Putnam\",\"Putnam\",\"Putnam\",\"Putnam\",\"Putnam\",\"Putnam\",\"Putnam\",\"Putnam\",\"Putnam\",\"Putnam\",\"Putnam\",\"Putnam\",\"Putnam\",\"Santa Rosa\",\"Santa Rosa\",\"Santa Rosa\",\"Santa Rosa\",\"Santa Rosa\",\"Santa Rosa\",\"Santa Rosa\",\"Santa Rosa\",\"Santa Rosa\",\"Santa Rosa\",\"Santa Rosa\",\"Santa Rosa\",\"Santa Rosa\",\"Santa Rosa\",\"Santa Rosa\",\"Santa Rosa\",\"Santa Rosa\",\"Santa Rosa\",\"Sarasota\",\"Sarasota\",\"Sarasota\",\"Sarasota\",\"Sarasota\",\"Sarasota\",\"Sarasota\",\"Seminole\",\"Seminole\",\"Seminole\",\"Seminole\",\"Seminole\",\"Seminole\",\"Seminole\",\"Seminole\",\"Seminole\",\"Seminole\",\"Seminole\",\"Seminole\",\"St. Johns\",\"St. Johns\",\"St. Johns\",\"St. Johns\",\"St. Johns\",\"St. Johns\",\"St. Lucie\",\"St. Lucie\",\"St. Lucie\",\"St. Lucie\"],\"legendgroup\":\"3\",\"marker\":{\"color\":[3,3,3,3,3,3,3,3,3,3,3,3,3,3,3,3,3,3,3,3,3,3,3,3,3,3,3,3,3,3,3,3,3,3,3,3,3,3,3,3,3,3,3,3,3,3,3,3,3,3,3,3,3,3,3,3,3,3,3,3,3,3,3,3,3,3,3,3,3,3,3,3,3,3,3,3,3,3,3,3,3,3,3,3,3,3,3,3,3,3,3,3,3,3,3,3,3,3,3,3,3,3,3,3,3,3,3,3,3,3,3,3,3,3,3,3,3,3,3,3,3,3,3,3,3,3,3,3,3,3,3,3,3,3,3,3,3,3,3,3,3,3,3,3,3,3,3,3,3,3,3,3,3,3,3,3,3,3,3,3,3,3,3,3,3,3,3,3,3,3,3,3,3,3,3,3,3,3,3,3,3,3,3,3,3,3,3,3,3,3,3,3,3,3,3,3,3,3,3,3,3,3,3,3,3,3,3,3,3,3,3,3,3,3,3,3,3,3,3,3,3,3,3,3,3,3,3,3,3,3,3,3,3,3,3,3,3,3,3,3,3,3,3,3,3,3,3,3,3,3,3,3,3,3,3,3,3,3,3,3,3,3,3,3,3,3,3,3,3,3,3,3,3,3,3,3,3,3,3,3,3,3,3,3,3,3,3,3,3,3,3,3,3,3,3,3,3,3,3,3,3,3,3,3,3,3,3,3,3,3,3,3,3,3,3,3,3,3,3,3,3,3,3,3,3,3,3,3,3,3,3,3,3,3,3,3,3,3,3,3,3,3,3,3,3,3,3,3,3,3,3,3,3,3,3,3,3,3,3,3,3,3,3,3,3,3,3,3,3,3,3,3,3,3,3,3,3,3,3,3,3,3,3,3,3,3,3,3,3,3,3,3,3,3,3,3,3,3,3,3,3,3,3,3,3,3,3,3,3,3,3,3,3,3,3,3,3,3,3,3,3,3,3,3,3,3,3,3,3,3,3,3,3,3,3,3,3,3,3,3,3,3,3,3,3,3,3,3,3,3,3,3,3,3,3,3,3,3,3,3,3,3,3,3,3,3,3,3,3,3,3,3,3,3,3,3,3,3,3,3,3,3,3,3,3,3,3,3,3,3,3,3,3,3,3,3,3,3,3,3,3,3,3,3,3,3,3,3,3,3,3,3,3,3,3,3,3,3,3,3,3,3,3,3,3,3,3,3,3,3,3,3,3,3,3,3,3,3,3,3,3,3,3,3,3,3,3,3,3,3,3,3,3,3,3,3,3,3,3,3,3,3,3,3,3,3,3,3,3,3,3,3,3,3,3,3],\"coloraxis\":\"coloraxis\",\"symbol\":\"circle\"},\"mode\":\"markers\",\"name\":\"3\",\"scene\":\"scene\",\"showlegend\":true,\"type\":\"scatter3d\",\"x\":[-0.03238764423498087,-0.08881695194197019,-0.117375670244245,-0.02189728444461561,-0.15309343624687158,-2.315992981687923,-2.162499869259644,-1.9644465245402405,-1.9141523768797746,-1.9754477507687171,-2.131251690971803,-2.1656643532305955,-2.254012256828934,-2.2682336587772323,-2.2728097317135685,-2.165098896735035,-2.1098492178370916,-2.0109937056733567,-1.9397856858209248,-1.8580542220693745,-1.807982091707828,-0.7104996926973508,-0.5396479947798882,-0.425248638227942,-0.32720669057762314,-0.3938719057681196,-0.48015852980413515,-0.5148266367364119,-2.1452357385198835,-2.1815751524708853,-2.2338505368308406,-2.129952397213852,-2.057144428413827,-1.9691867608138705,-2.049989747616262,-2.1442129857855035,-2.133330918030341,-2.1364909047548153,-2.12264616792165,-2.0965579329460655,-2.025796955408134,-1.9277619543715196,-1.929722315103246,-1.8373655275157645,1.3227079301365339,1.5126736123640647,1.5684090576644705,1.6596491838058034,1.662398455162142,1.6359460312731857,-2.553573892488795,-2.480955891129522,-2.4224291157670015,-2.4959009111011468,-2.591977877076167,-2.6033384135310818,-2.6175676673597086,-2.5712728018671074,-2.571765744248696,-2.489410106339362,-2.4504049071964564,-1.0538323419366817,-0.9524432506563114,-1.1829294193040194,-1.2787623011043292,-1.30807584116364,-1.3773766705859856,-1.2921777298516717,-1.3098080135939931,-1.7543587761761674,-1.6827021402884617,-1.6373006249103574,-1.4440455626192297,-1.2581582712146395,-1.3327838026379017,-1.2932183281755176,-1.4135237480235705,-1.471241614545304,-1.4537942613026957,-1.5159580360173028,-1.5442545871850175,-1.5163324470792239,-1.4066052159295805,-1.3760363154583979,-1.2859352647295361,-1.152780264719636,-0.6497340211778229,-0.8088116503009041,-0.9081940435107683,-0.9566026250920684,-0.9861575874760516,-1.6833284307818297,-1.675393342481525,-1.6556785511908532,-1.7027422453138428,-1.58976429539919,-1.4159468088470482,-1.5648063154297331,-1.627504316272209,-1.6134666646723295,-1.6393863377247948,-1.5305953540944215,-1.5453112956718178,-1.4390203424605028,-1.4787285884488024,-1.3624710840198426,-1.3506682039075943,-2.194112943549579,-2.1126268546729987,-1.9737933299369776,-2.0012814888314137,-1.7877690768035848,-1.7182079112172335,-1.5991215550517837,-1.8711005448453164,-2.0047299179491667,-2.0079520915071676,-1.950570767614044,-1.839100626624176,-1.881357332594984,-1.8093004788897924,-1.7193112122030332,-1.7388813182886766,-2.3037209048573106,-2.1041724468538434,-2.2126547500429234,-2.2425588863630783,-2.1564370300944398,-2.0809469138121424,-2.071208283793742,-1.9553271678439261,-2.1529074204481877,-2.2916373778206016,-2.2050655364619143,-2.1171433477249084,-2.133415603428267,-2.075237346054697,-2.048059121713251,-2.078659769619296,0.04666776522365117,0.1525963001990953,-0.01803129043780718,0.02207465900198883,0.27793522524904396,0.6087435327942426,0.6546068105448869,0.6871450531968298,0.5520124311289764,0.6820072082056066,0.512985847791759,0.31416853732316025,-1.8878460836253157,-1.8257889908253453,-1.6755387117111475,-1.4107932049034544,-1.4715038290888578,-1.5275036135429059,-1.5921358520140148,-1.4644378938836438,-1.7607844860739923,-1.770713694240751,-1.764958766012055,-1.9617128176677765,-1.9573694251549276,-1.871812999224832,-1.6919862493666007,-1.6562260612749153,-1.6938861364589088,-1.7311531650750596,-1.9870676195125834,-1.8685512306550742,-2.0023758439549164,-1.9645142863104115,-2.0518955386884317,-2.022717027785821,-1.9872290155769226,-2.069398371903045,-1.845013773577733,-1.8410903737116762,-2.3189795109409754,-2.19628759735321,-2.0406865450260665,-2.024404363210927,-2.099032727728921,-2.0501777187422974,-2.1591803351627674,-2.3092400669294455,-2.2383257465948994,-2.261419179449908,-2.2279265144979012,-2.08363742927492,-2.2369621032069196,-1.949826320069597,-2.3351400724096294,-2.359733221449433,-2.3468635604334964,-2.248035169122359,-1.9958512378859394,-1.8285311111933054,-2.0148617065596572,-1.9752339965879224,-2.0024462961034866,-2.1231506870338714,-2.1223414070843236,-2.093573488971335,-1.942597358089119,-1.9733711297150016,-1.842374176560513,-1.829452049746147,-2.3016376309738145,-2.252546821622852,-2.164763199142857,-1.9813815299707824,-2.046841676339138,-2.0073361369134752,-1.9157813762907294,-1.7958613130883434,-1.809894340193407,-1.7436083849937953,-2.223204198323597,-2.097985317879458,-2.0894738587812043,-2.0383834791636235,-2.07141448044857,-1.9769629121438448,-1.940906815516439,-2.032655143023446,-1.9514458378704043,-1.8418497597492736,-1.8644585427580183,-1.9975755275734342,-1.7345737922420954,-1.731535730268119,-2.184991996376675,-2.1592458880693717,-2.1569066697410486,-2.0626916210715605,-1.9878904733857428,-1.9587226060452025,-1.8252919467317557,-1.9904098454468313,-2.124822699531978,-2.129025348520614,-2.0888133197908574,-2.0898283657875254,-2.112845445527505,-2.0021289085631664,-1.9807721926026742,-1.8901046784759294,-1.9798054075829943,-1.9095621336214146,-1.882125192345268,-1.8463026914430551,-1.6463795886042503,-1.5844079449092856,-1.4437117611526147,-1.6147075638115485,-1.8187964830296313,-1.7360386091664375,-1.7680626701329765,-1.750933301186876,-1.7129596219473326,-1.7032847976811096,-1.6402827128014066,-1.5512976662787794,-1.2706130035416032,-1.200941327821819,-1.117984739546371,-1.102930491158891,-0.9788923010483895,-0.8087955400838334,-1.0935362925364143,-1.1329887589136798,-1.2338737901986336,-1.3464991231717922,-1.3558795164916526,-1.2888744664787644,-1.2816778464217606,-1.8730188568802235,-1.7113579883100956,-1.7930580433221848,-1.7445985877404795,-1.5962562927546669,-1.3807099111791354,-1.3410897882561714,-1.5129243787309947,-1.6028763771376826,-1.680310392365899,-1.7034496389675178,-1.7814625286974008,-1.6580185490527801,-1.6512834703781685,-1.6409617435717176,-1.5308198449155308,-1.4356661221344962,-2.66665716527532,-2.4616155726602633,-2.3785996403797123,-2.3044610143534197,-2.267871827188723,-2.3253824986133247,-2.424132895973164,-2.453166216746078,-2.42882300898852,-2.4521740643201415,-2.4131936321375123,-2.3280303726719533,-2.3252351860800036,-2.264093383672459,-2.1411760377323037,-2.1831279675713695,-1.3075245135744682,-1.1750627038369865,-1.0539453365749676,-0.948828494479308,-1.0371631733290245,-1.0884584731192763,-1.1450128596083797,-1.1278322588603031,-2.2351223394028343,-2.1902235076054875,-2.1180448947478765,-2.0658007950828803,-1.9518508602673892,-1.9517157855747627,-2.0371419050339634,-1.9340894003623905,-2.0435111892625004,-2.1212425026441375,-2.0973043610638307,-2.0748000482702382,-1.9607283500737136,-1.9370641306969874,-1.7728270654159637,-1.7869575373958606,-2.2811542577160755,-2.2913019652345703,-2.34127479510846,-2.2685431352801078,-2.108912083486644,-1.960093464797637,-1.951754157185238,-2.165766149521321,-2.2583962987083916,-2.258485086111452,-2.2187117570504107,-2.0635633574228605,-1.9678158077947803,-1.8873027869965289,-1.8456460258193466,-1.7436540638105784,-2.7911614771983855,-2.776415041129219,-2.540157188405339,-2.393763413527182,-2.4835037714226624,-2.3469705522157627,-2.3214690481349187,-2.4376968771730714,-2.425240812567177,-2.4639787805483206,-2.476095232166603,-2.4175391041011243,-2.3367176106120455,-2.271885804927296,-2.1958907205546185,-2.1594242073482848,-0.6665123754032215,-0.7623424191378476,-0.7144226289251054,-0.4286156242741644,-0.16117258747414515,-0.37822902405090103,-0.4735557129655726,0.4270316791579281,0.4271085347791998,0.2902723388505364,0.4804315811282147,-1.9745852807983624,-2.0133485557135957,-1.915301599926473,-1.8510805143393274,-1.7290731827290133,-1.630140699126266,-1.7334660720193018,-1.7122806873294127,-1.8752860662485555,-1.9107695785848184,-1.9255886598033922,-2.072847420145863,-2.290754971059017,-2.2371577044560884,-1.8286052879774337,-1.7862014214300277,-1.664496697440368,-2.515326701479572,-2.4959167006058047,-2.4372026649433107,-2.393047282399205,-2.4083574828415872,-2.357367653825009,-2.1639287542818173,-2.093658515723636,-2.0107701308505113,-2.0189451760383923,-2.172599725256233,-2.146528549102467,-2.0675426025668524,-1.970636671116243,-1.9650911621246818,-2.0215698764088157,-2.102246497617987,-2.1208160649657026,-2.1604193945325054,-2.097695849075658,-1.9542887487382428,-1.950297712908788,-1.9054414081951485,-2.059265045202751,0.37494816009596654,-0.45399227777609164,-0.3897417618455441,-0.37786513513336767,-0.2444661141332791,-0.086592099051786,0.13558413956717694,-0.05095021369390895,-0.21022534346914792,-0.2211196626918191,-0.3009981213866676,-0.41607927972606995,-0.4243071374835152,-1.2182743514764114,-0.9661483453782423,-1.2507867712645,-1.2152653229203008,-1.1963973740417422,-1.1663175378519197,-1.0798142183295887,-1.6902545662032724,-1.574433646951749,-1.3816241666675195,-1.3193118943350661,-1.4731289483932963,-1.560981775491199,-1.595823738588277,-1.579417900456109,-1.4678980461724025,-1.5164382156924792,-1.470558906620602,-0.5166982551584902,-0.4135250024658192,-0.33758287735719683,0.05120058936668728,-0.09918663731743815,-0.15316945886703084,-0.19089173295523904,-0.12942452841821656,0.4553253130147548,0.3042137689057202,0.3437193260868675,0.29928733536715757,1.576024376222388,1.5486947708446912,1.4727599284374233,1.2465951605069243,1.8912861786249093,1.6477659911704146,1.5075011663246063,1.4696666239060443,-1.1384141753303714,-1.2270251297760857,-1.4362624008262628,-1.3199459945428573,-1.1956340310810394,-1.1210959772424045,-0.9500509472807158,-0.9660404645659469,-1.1397167783088806,-1.166726900702804,-1.3025461758196086,-1.4022548634825571,-1.5554792617146171,-1.5801377397792205,-1.6121488936935269,-1.476795065324416,-0.18964811096720824,-0.07600792447740333,0.1552183357540166,0.30117321704593353,0.12302663202953817,0.1919056965808949,-0.04913419349636105,-0.16662506425061144,0.1842053915831895,-1.1320757297923358,-0.2135825992079755,-0.17292165090864328,0.01888309728835405,-0.17356711546950274,-1.7278375070195433,-1.7048299175524222,-1.6551247908263333,-2.1433463595929783,-2.0067800001111316,-1.9515295309414142,-1.8925402194144803,-1.8059960141895721,-1.92637984696952,-2.0475173829909283,-2.0260545021621197,-2.0336227649761356,-2.045205091521357,-2.0177259744445695,-1.8215007174504638,-1.8485157386053994,-1.7841861467861282,-2.0862550531075588,-1.978678730944547,-1.943852131169316,-1.9865762652277201,-1.9493956788882663,-1.9819019965703244,-1.7869872145512977,-1.8209570461069349,-1.9183483376734412,-2.0007099558041728,-2.0013769138782576,-2.070290668913029,-1.6939659965664966,-1.7054652645311708,-1.6221307024913625,-1.599964362582636,-2.0018693388730013,-1.975025844071389,-2.011521570084783,-2.128981921059998,-2.194349970115521,-2.2073572341504755,-2.226399102147699,-2.222450170760402,-2.1771497826423967,-2.1652871665322317,-2.173102948211511,-2.071161435610615,-1.9975703015075528,-1.9235846795133376,1.3433062137059901,1.3160023360886244,1.17087298016772,0.938382711365256,1.0163311759401448,-1.843915231292561,-1.9922017729035575,-1.840925606790624,-1.7125741912353925,-1.650740821094507,-1.730205462682581,-1.7778136471935124,-1.87278649763421,-1.8849601007230492,-1.938732624602733,-1.9265871614026229,-1.8371887434493834,-1.7835960295452942,-1.7591115141199594,-2.1206173801860473,-2.2044136620859724,-2.3115037766790465,-2.2576286129759544,-2.263929106306276,-2.2341843412586595,-2.1044553507643715,-2.0772740423486846,-2.0074898806592896,-2.0003768846864562],\"y\":[-1.6639149873338352,-1.4329514753094779,-1.0454326455816436,-0.49466647722502544,-0.09581483904664245,-1.7625864657609251,-0.9071702337053097,-0.32991433493264816,0.19998664243316056,0.11016571734183842,-0.4095315258456858,-1.124310699983281,-1.3067685600267316,-1.2632390501429687,-1.1176285907865833,-0.8649100420349367,-0.5081336116983928,-0.16059808976731296,0.26705229834101857,0.6485441290228653,1.0108507039794266,-1.5007809916725856,-1.4417912538640305,-1.0993192841580075,-0.15615717123054484,-0.45116314244192773,-0.4050464137323355,-0.11327939618228443,-2.0705500983094436,-1.8378239070329683,-1.5899294622332885,-1.276525153820314,-0.6866697680743985,-0.8714926712195489,-1.4057867383090876,-1.5793710275540411,-1.626953940864604,-1.4133782330876064,-1.0238699591947207,-0.6646443736464351,-0.3050843817706754,-0.08935612132663358,0.1236707403850526,0.40244191967675624,-1.6794774562075891,-1.524265948828912,-1.0202429945091789,-1.001653159453856,-1.2857752870478842,-1.0618597010395914,-1.5135087058664185,-1.199604892095355,-1.1731807543901946,-1.5413911686251711,-1.8870867759596903,-2.022604161509152,-2.0818213078702255,-1.884850867924157,-1.5983992997439482,-1.3739157481562103,-1.0621727109232844,-0.07072998322392272,0.1647122303807572,-0.6127079844298925,-0.8080311710007856,-0.8966629022479141,-0.6023874247511739,-0.10034871716721384,0.3845427392368125,-1.4068348183443056,-1.113324263498501,-0.7178391697903239,0.050126319931908664,-0.11832856359910503,-0.7912544088043256,-1.071661802783048,-1.173263012836757,-1.0871598608690964,-0.8709893809868738,-0.677314250829762,-0.27948546851768946,-0.010155931569910414,0.41137735241904266,0.8137398589880669,-1.0005465911187597,-0.06883897016929305,0.18675459143170975,-0.015476607583698478,-0.2745131018378478,-0.1813815770735024,0.19369354012384504,-2.3836863839354248,-2.235187634031671,-2.034058648373958,-1.7723816340850003,-1.2988029410308617,-1.0194636187955806,-1.4899436404042765,-1.6074172258982702,-1.7454289245572214,-1.562904531304665,-1.282914635536625,-0.8903822118356481,-0.5233832239732891,-0.16421958050349617,0.1410161604002078,0.43339351875997495,-2.169844524932047,-2.119772113131237,-1.9443529464965217,-1.447890372624126,-0.9462506649858327,-0.2559803329737203,-0.4270011263473077,-1.784576947637297,-1.5981484899355407,-1.5396256896601968,-1.2158961352427522,-0.9749903515685934,-0.5634613383269925,-0.4006781101715307,-0.11242969122130173,0.22396641078046736,-2.7175152245395737,-2.527125264395413,-2.445336761468464,-2.1063896419255923,-1.6168109212797444,-1.338718328710224,-1.429098379503668,-2.0868795536818174,-2.5094232742832174,-2.1787559648694854,-1.8947885202302202,-1.5051466625917016,-1.1634516724013364,-0.8570293034177967,-0.5665020432688224,-0.28542491632670286,-1.8242406202989436,-1.8240886587023586,-1.5422350502741446,-1.2304239654354816,-0.6420516091707165,-0.6457144245749806,-1.2295438846766171,-1.2535309044126193,-1.4300040800374987,-1.4209741973803247,-1.149417915217468,-0.15001805001799043,-0.6270902677306482,-0.42720567699219625,0.03634484526794985,-0.13513072006785315,-0.14555413263638722,-0.26859519556237216,-0.16485293797259407,0.33009714272891416,-0.881686516997766,-0.43231765938082733,0.2764048658002279,-2.1231737706162797,-1.8979159723172585,-1.5833240279572431,-1.1684545392978907,-0.7553053369429926,-0.7871931717690346,-1.2929081929502053,-1.677483254723693,-2.0266103333078997,-1.952809937327226,-1.8332686635717723,-1.5518641209907236,-1.2499463612620283,-0.9333078904544228,-0.5483139960154764,-0.39348780482804696,-0.11488138755711293,-1.7974196837361656,-0.9344899137007355,-0.38325510637460025,0.17055641678982095,0.10085545643670543,-0.4281188828953366,-0.9266019719181953,-1.0447841315866506,-1.209956859180048,-1.0588900305009312,-0.651715821369885,-0.30463349273222573,0.22024753418718293,0.9753638014589477,-2.0891618599488133,-1.981214036851123,-1.7013088852470557,-1.330194061784669,-0.6947510967641565,-0.7460497192053385,-1.0014706769166366,-1.1489505330872956,-1.175548954494328,-0.9742334421179354,-0.7635459356827307,-0.5070251250587289,-0.2820718352265139,0.03441382247902709,0.27616790159128624,0.643387492122032,-1.2608708311874053,-0.909850478338459,-0.509493166548125,0.19626651734189235,-0.09599592354261226,-0.2326986380346856,-0.10880097409236925,0.16650009310518446,0.5679148101085705,0.8952191416396791,-2.431273987205904,-2.3481547574051764,-2.055259735827679,-1.6277017204230482,-1.0415333471809944,-0.7612918128029289,-1.6914457714026159,-1.5633758170337744,-1.4422862758978725,-1.2042698984051476,-0.9444610597800182,-0.6124444989535759,-0.35539312865422096,-0.07666914799951673,-2.50971731056532,-2.3543097259477763,-2.1265572411524296,-1.799140458125276,-1.2396474078364452,-0.8267181011717769,-0.9763425796299906,-1.3292157044325112,-1.837066493596979,-1.9840715210711564,-1.8442473191507807,-1.1311835351575377,-0.7425374965016218,-0.49081065889103426,-0.2002260527383877,0.013225220686595,-2.449308650844139,-2.341743468232173,-2.073247753156666,-1.7026760758607695,-1.189831289270825,-0.5080688160540614,-0.6333627248009214,-1.361502657562116,-1.8907059093061207,-1.844399244977548,-1.9923956943079353,-1.7890051945032046,-1.5487333324293053,-0.5266573260284222,-0.29309202655684524,0.22037581123028147,-1.555134815127601,-1.5449445279964178,-1.236095800702236,-0.6884565382043292,0.2260208544659105,-0.3453465717856221,-1.2101761821575363,-1.427585127605263,-1.5959220932297253,-1.4067181134184825,-1.045929658309874,-0.6807538844065745,-0.3133326791053431,-2.118039615928384,-2.180448936289929,-1.8726597375977398,-1.5274790988335885,-0.8151886125333297,-0.010265727859204175,-0.03897000472249505,-0.6603425889005377,-1.202471166509388,-1.430979568184619,-1.5657386609379396,-1.5134765684765688,-1.4582702411044672,-1.122046281875855,-0.7671430308732111,-0.5006355259035886,-0.13063022143643005,-2.12547733855877,-1.47736300422806,-1.0521434272527463,-0.7034258442681673,-0.7619754739377463,-1.1773770823138106,-1.5718567898199132,-1.8097398710280188,-1.8347318043344785,-1.6893333426040005,-1.498265090332506,-1.1956530097859897,-0.8470096231794153,-0.6366007296240184,-0.36252213756341617,-0.030572620927211008,-0.7048895668406078,-0.5974728551287279,-0.1836564803600562,-0.03375717399574991,-0.3009455666948611,-0.4790226144444161,-0.27695481669479816,0.25088702803469176,-2.0562449768429207,-1.9454377922696304,-1.6660117326863433,-1.4456983225998377,-0.9695083892149979,-1.06423952944722,-1.3928173667629775,-1.6984152622955995,-1.7112020558006111,-1.5685424702201904,-1.3230662396327908,-1.0314656190569107,-0.7597638046139122,-0.4984050039070701,-0.3057617800165417,-0.0650467499302865,-1.9580639596595792,-1.685013474171901,-1.3268110729728597,-0.9054033695047577,-0.3624497859997676,0.03870549548234491,-0.010385513527301805,-1.3961019089702442,-1.3837328313495771,-1.1641309070517758,-0.7628723668128783,-0.4763324999397031,-0.0570333863855009,0.34115987346086013,0.6740949242839044,0.86747605485718,-1.8646302570065758,-1.7149247931149003,-1.5459367184037967,-1.2631887766074505,-0.7146560389439404,-0.35852208572815686,-0.38240742882747364,-0.7078824085253895,-1.2680615380183637,-1.19072720217758,-0.869907003561151,-0.6865773318131266,-0.3992296147326009,-0.11608787161128399,0.18333935321342185,0.45581731557246324,-0.861887846453241,-0.7233400371534328,-0.4199731598554446,0.015904637094594644,-0.23460364134312373,-0.47562853779244063,-0.6729228627908284,-1.4347750955547502,-1.2362644377234002,-0.7889047375454249,-0.2897862821497595,-2.0430192986079474,-1.9112384858607758,-1.6311851233393575,-1.145085723771673,-0.6624051536870461,-0.042737508703182124,-0.16583497966331248,-0.881492633824508,-1.539230677236727,-1.6618783974574143,-1.6294187899206394,-1.3356203499606412,-0.8265167911539502,-0.497769817213792,-0.4236774538908039,-0.18135612643429222,-0.0193898057774826,-1.492863637569724,-1.4246500703622313,-1.1118950334533617,-0.8942774268866406,-0.5534025479667515,-0.28833964623452457,-0.11974809005626673,0.24130738836225818,-2.708994630007909,-2.5964364366830393,-2.218500222837502,-1.8921109117876227,-1.4788891762083745,-1.1957962759328786,-1.2919803784793593,-1.5576312139917934,-1.972525133879286,-1.9383607648548533,-1.580732670336986,-1.2828154940982623,-1.0116754731599327,-0.6983169253139239,-0.42043341855365224,-0.021662917266243347,-0.5805323663439717,-1.711236512584828,-1.6934303921298977,-1.4177426468990366,-1.0495968376392502,-0.3756119073382238,-0.21847234161233023,-1.0809316257694714,-1.3308628565371896,-1.4740315730848863,-1.3032808192474037,-0.9392390513191858,-0.6153215340550522,-0.20843036789438982,0.14717285196599575,-0.04848780986451638,0.21308649848516428,-0.626715654914026,-0.4799899884695251,-0.12379155129570397,-0.5252367774669483,-0.11910921310471545,0.6139536816838377,0.252756075266327,-0.48903219127816006,-0.7355849322950506,-0.8244736442600146,-0.6265065287066339,-0.2765526935953104,0.2438438324796436,0.6522496556266885,-0.7789971358447715,-0.6424491908027415,-0.3175001949290918,-0.5428009641424314,-0.9863220927841795,-1.0868880878564713,-0.7014855205689465,-0.05488907134611631,-1.2759983391879115,-1.1021487891619117,-0.6639939478189966,-0.2561279136461897,-1.8111097846344797,-1.6950477183329857,-1.4281524538873145,-0.9545016969566276,-1.1049277240381525,-1.3946657821870512,-1.558599367747236,-1.3397052490522445,-2.4736616727966023,-2.445286954517881,-2.037134413513615,-1.870044225121817,-1.4641348564819148,-0.8630369768503534,-0.7888434376322933,-1.3704759931321087,-1.8673489138189998,-2.0899271279383256,-2.021879607926973,-1.8674579497806127,-1.4599367316091434,-1.0322043644651118,-0.1158156606376106,0.12196975092331458,-1.2517549069867853,-1.0379116157748522,-0.5512784101785261,-1.0854995311466935,-1.2094723124957412,-1.1629227351241112,-0.8455000153319846,-0.34750729800413843,-0.6878260497929871,0.26237091607003865,-0.5557248902822796,-0.3630736808435103,-0.26155396420015137,0.0259363913965616,-0.16761545613066547,-0.0045424431697888975,0.3808281640260581,-1.6829106917803633,-1.2704267981325061,-0.6562694759956951,-0.16237600075160658,-0.2785398410639784,-0.7097489059890937,-1.3000000759133918,-1.3667532431483074,-0.8696817189163135,-0.5563981778229911,-0.12090688745659672,0.10643639943302696,0.46955683489412264,0.7071047105848801,-2.1900285037739136,-2.1747368311682043,-2.0088962124251637,-1.5744764473323398,-1.0196552718606362,-0.5884158294332288,-0.7029555848308615,-1.1817174914159492,-1.66942652724114,-1.5096547267732046,-1.4441458507879181,-1.2893289163665937,-0.5372726570055285,-0.3686119579273396,-0.11730886756605316,0.12033668001476651,-0.2271216948320384,0.01760469315437907,0.10120542470731758,-0.2893207928798556,-0.6738324692413592,-0.8394165292092757,-0.9194999041684517,-0.7981383762687339,-0.5153004165822433,-0.2885403861974592,0.09053283195255973,0.4055935725478193,0.6156989694478916,1.0444750266783975,-1.0088104973796153,-1.1152382712834716,-1.274578827404873,-1.0377922601771643,-0.6191611658687529,-1.0241712486613768,-1.2697948767622718,0.2622096907224416,0.76871267293353,0.7888659593927517,0.4067018552465913,-0.18609158198938447,-0.3749790342025538,-0.5896138141646197,-0.4746802179955212,-0.05203260130194237,0.2523574001299226,0.5961838055889966,0.9397876183736046,-0.22417944322169023,-0.7218868974508883,-1.1614694714389773,-1.332700875306843,-1.3594486191440303,-1.2559641719207946,-0.37935131484825746,-0.15794042695444682,0.1177331710859177,0.39022309098418984],\"z\":[2.6543079225500414,2.1379148207154017,1.9839774820953213,1.5272627097999043,-0.9392432595400044,1.6775198800269306,0.9528163615856531,1.1472037148181702,1.225357928394029,0.7989008486073943,0.011042230477880102,-0.6974366788099802,-0.8700685059955545,-1.1639034070556318,-1.2928251841461478,-0.9967369374020776,-1.150873057989121,-0.7818355737364386,-0.8330745829032109,-1.048130398578855,-1.0786607696427264,2.400629933173903,2.109406389632786,1.81501012501778,-0.10641900596819548,-0.31121250973803644,-0.4575907411802255,-0.7211432449479741,1.6411148787793233,1.1723768590119454,1.0068225124825825,0.7971458302161195,0.7982597100042306,0.33811567301570056,-0.4008903116039194,-0.6277625781343069,-0.7346116175031636,-1.0281293586594646,-0.9783660237233792,-1.2490485634461534,-1.2377127024551575,-1.0817950796090063,-1.3759838228891423,-1.5364742732826648,1.5499676391777282,1.1398662935444013,1.0828140862711404,-1.4505759731660932,-1.7655692788301316,-1.6778833827093482,0.5168346911327331,0.5979918037118886,0.47147677308754227,-0.21791468147690304,-0.9630862144029043,-1.0374903886507127,-1.1589775770250197,-1.4003051333169707,-1.6939628896157088,-1.5244215996520973,-1.4840120916146418,1.2587156535225954,0.1941964867737617,-0.6172417664367498,-0.9641544926035726,-0.9450803321037936,-1.0329998194530279,-1.0747728976658582,-1.0325752305000917,0.9029813091820772,0.7420978504113186,0.7164570261975347,0.8364380868749993,0.0313734410379179,-0.8935285802150339,-1.2363457149363728,-1.4092096025891991,-1.5995481839197443,-1.4714419745633278,-1.6596169934754301,-1.4991371165697633,-1.514309751300854,-1.4781419044291162,-1.734640702315534,2.280626685877779,1.1660464423056425,-0.20803492170638022,-0.27495948250188174,-0.5445015182282208,-0.8399897346908214,-0.7003533201321168,1.9319877185389316,1.687415687855555,1.5796249063353205,1.1437403997429034,1.1107575311416724,0.6335257884104702,-0.3029605517581452,-0.6909484993144395,-0.6807967129635847,-0.9625205627646843,-0.7483839405101161,-1.0011797046727466,-0.7188150954885629,-0.7865050281240417,-1.01046435819379,-1.2168494571954767,1.7776809790858452,1.4720031212773488,1.5490928307237457,1.0735641901913686,1.4198027101385264,1.4741305844125303,1.2923682181251837,-0.7480321494405068,-0.8831446501314508,-1.1460701098569106,-1.1518324540230427,-0.970770373190586,-1.1094962348946382,-1.1044261290475141,-1.1919090445043743,-1.286906229226791,1.6234009128463784,1.3427713216844037,1.4209086110066116,0.8940112010157001,0.9744388570247247,1.276290507885765,1.0417600553925639,0.6349774394422067,-0.3721397974943791,-1.1943042035399953,-0.9629272730231363,-1.2213079048515723,-1.1395173582181606,-1.2737751901077023,-1.429507993238211,-1.9308261431824996,1.8191469987524747,1.5374298859693163,1.2191767372311715,0.952491082147498,1.0896881227981299,0.41340639666856344,-0.6862684185709692,-0.5075382137931077,-0.46140429405865585,-0.6567779039099558,-0.7741337064340832,-1.2062056583876581,1.6944047361447079,1.3062387467017311,1.216781017270795,-0.7097967164744647,-0.4259418558291325,-0.6833160847640021,-0.7979954843853181,-0.7350574298363641,2.9675461193236607,2.4691689846109215,2.092267100902856,1.400757092098171,1.3434955995061153,1.2562615951089697,1.2030201990937932,1.4325551427994754,1.0081186013580796,0.2373794250085899,-0.6699395833996622,-0.6600296962261039,-0.9709897407979045,-1.1229219058575146,-1.4279723730592215,-1.477858982136447,-1.264838674988015,-1.5942288978993115,-1.4230803157145462,-1.8829585025761812,1.77172967917688,0.9838012617860621,1.2245372133055161,1.2504238132056706,0.8264714250207617,0.24670971820467646,-0.606331997949901,-1.030227879510306,-0.8628537712519889,-1.1944536225182196,-1.2484183468458707,-1.263232285801308,-1.3952281781515206,-1.4993381586134926,1.4518073490951209,1.3983978163794208,1.3356595012475754,1.1008814098975903,0.9296838765826935,-0.06672460334240497,-0.8637733000873477,-0.9400310194560424,-1.1976754440094657,-1.2168061405844943,-1.430534989161065,-1.6624136531379217,-1.6583527127563573,-1.9238925461538134,-1.8531018662435523,-1.8236400868922156,1.2380050183097608,1.0482576845645124,0.9768304177192774,1.2914104337106616,-0.8332858233886483,-0.745074979849251,-0.8007006876452073,-0.7505617457029429,-0.909013223186106,-0.8122651172633205,0.6855007592866313,1.0144373822630264,0.6295361623891244,0.3437474890193025,0.04262648065163093,0.2993401749056066,-1.630837031176949,-1.818795213161355,-1.8319556899800713,-1.923620585478281,-1.5176845003666333,-1.5164572329984929,-1.7192493241955522,-2.2593003351959204,1.5359219235772636,1.1948886017470624,1.1420198127310022,1.0821373774533805,1.0947992040796641,1.3372257577281303,1.2897827243468016,0.4076819157552087,-0.3609117892962545,-0.5768568955197734,-0.6033296859702988,-1.0028017898919603,-1.2680355674552481,-1.287521574743076,-1.4614492635105365,-1.4139246030133041,1.6163590950928837,1.3904150871625698,1.192422473308517,1.0182648953160252,1.145452952635787,1.2645400760302632,0.9098662837051571,-0.013101292836764894,-0.6330311784796699,-0.9691674777901669,-1.0257189310887806,-1.2193093311025336,-1.3800005871365257,-1.6420047753429898,-1.499883317200312,-1.6304790624123184,2.0430314928620157,1.54945467488074,1.3531706503060847,1.2964141790216983,1.4656153401596277,0.5848169685440593,-0.6003893280753018,-0.7972721441135542,-1.0050447795861346,-1.2322930154811138,-1.1177865157981361,-1.305126155772793,-1.0873823998259322,1.7984946770586656,1.586870296138288,1.4590594054556485,1.2747597055307618,1.330428251479304,1.611430317189075,1.2459413379216973,0.4740546226476436,-0.13780909946807549,-0.7743717875694437,-0.6327931590619224,-0.9504411464467694,-0.9969837567773234,-1.0948144866880445,-1.169461449616683,-1.0798044882595845,-1.075526130720001,1.0034431209411734,0.7042638583128283,0.7944374084434902,0.9668847458443436,0.5800521057650271,0.13276647750825546,-0.800357059206032,-0.7349092411481115,-0.7974566431556974,-1.1347340252371483,-1.3655108037910186,-1.2015781210867715,-1.3783602624405762,-1.1100062936719333,-1.217468533919066,-1.5977945063111174,1.6853192967974506,1.3987315381320509,1.3715105997649146,-0.6371762065104096,-0.7991265387448319,-1.1165779790394084,-1.1774786765210752,-1.1739050147662395,1.4421819737136414,1.1500815753536568,1.1474036176719307,1.1332997470294055,0.8927660091145172,0.001486410108179,-0.5783891380332977,-0.43857667711914705,-0.732303929251079,-1.1188749218090845,-1.3823398133267184,-1.3172114305256708,-1.2277687502663766,-1.246925155161993,-1.192029734386321,-1.6182950174955815,1.8762674222722011,1.5871278056209688,1.0694917505976569,1.029365975898556,1.0067344890892205,1.298998213572902,1.0430355146820731,-0.4300363225741082,-0.5860254535469585,-1.0454003141365975,-1.2144752615488301,-0.9960478397817311,-0.778601082655111,-1.0139149332553816,-0.8105710248552866,-1.1463655153110766,1.151470361882153,0.9163680432942786,0.9745494152899126,1.0138115684106859,0.7749517157353935,0.9877521790404297,0.7610557319616008,0.037642230988785365,-0.47048310636903723,-0.9947840268113595,-0.9900162913979358,-1.250473314959259,-0.9051545589315785,-1.1568721047598283,-1.2205291698608718,-1.6790703883836395,2.0130109778136056,1.3455365177986038,1.4289051610733265,1.3984167997078996,-0.39761012348815505,-0.7009696614850924,-0.7895643327795638,2.4872517674429546,2.1182268585565747,1.787403499228175,-0.5684383683266506,2.227176392624545,1.9010831641066601,1.8072158980338822,1.4851595405840092,1.6787230131532371,1.8706821921864452,1.309664926497498,0.8426404020982656,-0.13465329295809825,-0.27937753768836415,-0.27606728067929337,-0.8303762225401087,-1.1667211307618897,-1.1495083832496555,-0.567865891994315,-0.5644390468241646,-0.6155032345788097,-1.183268995360027,-1.262256271573484,-1.5390479723624928,-1.7464201908746997,-1.7799187316456782,-1.8167586691986275,-1.7243775840243858,-2.2118434754181364,2.7464639222482576,2.42899071692673,1.600539386685669,1.3078323950718915,1.2605478419154161,1.3593609741029204,1.0576316594156123,0.38080509784525307,-0.39151787641953256,-0.378656660448393,-0.8986763967202723,-1.1171588534599897,-0.7215926262779175,-0.7681382149151994,-0.717563282495351,-1.5023811953047612,2.695463096427494,1.891317337626579,1.379217382333959,1.3123037786598972,1.0820387679045993,1.1744827576052155,0.08530177253897393,-0.8943725252481723,-1.150906241032738,-1.2652148318946312,-1.3545576138048234,-1.2830833789688008,-1.3419459339095074,1.679292386259289,1.6107711621592917,2.1871949629805028,1.8188327834507048,1.9294975811843549,1.4495319111287945,1.2377643681066197,1.5393626961055533,1.3461436707340173,1.6903073072799824,0.7381965548162159,0.0433565680052534,-0.3001512632166659,-0.4364192633503442,-0.4598301388248212,-0.42644378523801574,-0.5659262340331412,-0.5777529148916235,2.6176106037699887,1.9905487204049221,2.0017951473980644,-0.10775151958374454,-0.5140324456994809,-0.717757932399256,-0.6285650560714159,-0.6228944447871315,-1.0520216918078222,-1.18416247073369,-1.0754869781332288,-1.2289274518470965,1.9654231404160334,1.4370478983280133,1.4111941108226924,1.241894252076972,-0.6637808417382437,-1.1158743956013966,-1.3372677548134588,-1.360460798775396,2.3676335685822996,1.9792131080263713,1.5588145740047572,1.4449107204679845,1.5256257124283068,1.8019534332982297,1.4648463996055987,0.8638332418145,-0.23584728618511328,-0.2999608006470445,-0.7024638621522821,-0.9350783084843405,-1.0480204986466148,-1.161608008760786,-1.594604083920132,-1.6266754392187672,2.0495018024446043,1.699575253963887,1.5103819633888527,-0.4792790748087419,-0.831808081562397,-0.749261860211837,-0.9943466962607194,-1.1067215703133877,1.4814310177758128,1.9161963875563022,1.5500161021111996,1.459685205655728,-1.35327570737363,-1.4918998340004719,1.527490897360738,1.1918542434920993,1.1293537615046174,1.451308971606092,1.3190081250429946,1.246718666570292,1.3727881916730091,1.2436961219706673,0.4070814671462654,-0.2187084348934948,-0.3399456337182899,-0.7800858032920744,-1.0739459404275582,-0.8771372639539314,-0.8358030392570105,-1.087918060128058,-1.397625038256459,1.5031707483689873,1.3501962094329492,0.9495356277842609,0.9754507870224188,0.8569217656818697,0.8205007225791263,0.7911461022471131,0.10087960315380029,-0.7887499293555977,-1.2037236044090673,-1.2041759542382073,-1.6946942914866603,-1.4075913818085437,-1.2122447884495693,-1.16253615610909,-1.6553850489153727,0.8591628277783467,0.8970858548999794,0.6117960307354218,-0.04519990412629549,-0.7953464209686792,-0.8466715964740166,-1.0128918925162742,-1.3278775682963582,-1.2266804527844308,-1.3881608808187216,-1.230015104515564,-1.2797206012938944,-1.4850220219619286,-1.6668232755172425,1.7793488961445643,-0.585559465400954,-0.8049610808528179,-0.866209004374756,-0.8366381289173929,1.1754427415178559,1.7484216551680563,1.1822543040918978,1.3974124859378598,1.1989469603705365,0.42264961804774576,-0.09909406514382113,-0.49673648131146164,-0.1661303330938539,-0.5390762968103006,-0.7830193718750245,-0.7690551738587776,-0.6572421325345467,-0.8462342108057808,0.6368452837421987,-0.16817081227586436,-1.2346511062357848,-0.9255588515785618,-0.9908892664279413,-1.1341430630249916,-1.3523228839021335,-1.3399270487288004,-1.353665520842287,-1.7475613237500183]},{\"customdata\":[[2005],[2006],[2007],[2008],[2009],[2010],[2013],[2014],[2015],[2016],[2017],[2001],[2002],[2003],[2004],[2009],[2010],[2011],[2012],[2013],[2015],[2016],[2017],[2018],[2004],[2005],[2006],[2007],[2008],[2009],[2006],[2007],[2008],[2016],[2017],[2018],[2005],[2006],[2002],[2003],[2004],[2005],[2011],[2012],[2013],[2014],[2015],[2016],[2017],[2018],[2001],[2002],[2003],[2004],[2005],[2006],[2007],[2008],[2009],[2010],[2011],[2012],[2013],[2011],[2012],[2002],[2003],[2007],[2008],[2009],[2010],[2011],[2017],[2018],[2001],[2005],[2006],[2007],[2008],[2009],[2010],[2011],[2012],[2013],[2014],[2015],[2016],[2017],[2018],[2016],[2017],[2018],[2007],[2008],[2009],[2009],[2010],[2001],[2001],[2002],[2003],[2009],[2010],[2011],[2012],[2013],[2012],[2013],[2014],[2015],[2001],[2002],[2003],[2004],[2005],[2006],[2007],[2008],[2009],[2010],[2011],[2012],[2013],[2014],[2015],[2016],[2017],[2018],[2001],[2002],[2003],[2007],[2008],[2009],[2010],[2011],[2012],[2013],[2014],[2016],[2017],[2018],[2001],[2008],[2009],[2010],[2011],[2012],[2013],[2014],[2015],[2016],[2017],[2018],[2001],[2002],[2003],[2004],[2010],[2011],[2001],[2002],[2005],[2006],[2007],[2008],[2009],[2010],[2011],[2012],[2013],[2014],[2015],[2016],[2017],[2018],[2001],[2002],[2005],[2006],[2007],[2008],[2009],[2010],[2011],[2012],[2013],[2014],[2015],[2016],[2017],[2018],[2004],[2005],[2006],[2007],[2008],[2009],[2010],[2011],[2012],[2013],[2014],[2015],[2016],[2017],[2018],[2004],[2005],[2014],[2015],[2016],[2018],[2001],[2002],[2008],[2009],[2010],[2011],[2012],[2015],[2016],[2017],[2018],[2005],[2006],[2007],[2008],[2011],[2012],[2013],[2014],[2001],[2002],[2003],[2004],[2003],[2004],[2005],[2006],[2007],[2008],[2009],[2010],[2011],[2012],[2013],[2014],[2015],[2016],[2017],[2018],[2004],[2005],[2006],[2007],[2008],[2014],[2015],[2016],[2017],[2018],[2002],[2003],[2004],[2005],[2006],[2007],[2008],[2009],[2010],[2011],[2012],[2013],[2014],[2015],[2016],[2018],[2001],[2002],[2003],[2004],[2005],[2006],[2007],[2008],[2009],[2010],[2011],[2012],[2013],[2014],[2017],[2018],[2001],[2002],[2003],[2004],[2007],[2008],[2009],[2010],[2011],[2012],[2016],[2017],[2018],[2001],[2002],[2003],[2004],[2005],[2006],[2007],[2008],[2009],[2010],[2002],[2003],[2004],[2005],[2006],[2007],[2012],[2013],[2014],[2015],[2016],[2013],[2014],[2015],[2016],[2017],[2018],[2001],[2002],[2003],[2004],[2005],[2006],[2007],[2008],[2009],[2010],[2011],[2012]],\"hovertemplate\":\"<b>%{hovertext}</b><br><br>class=%{marker.color}<br>PCA1=%{x}<br>PCA2=%{y}<br>PCA3=%{z}<br>year=%{customdata[0]}<extra></extra>\",\"hovertext\":[\"Alachua\",\"Alachua\",\"Alachua\",\"Alachua\",\"Alachua\",\"Alachua\",\"Alachua\",\"Alachua\",\"Alachua\",\"Alachua\",\"Alachua\",\"Bay\",\"Bay\",\"Bay\",\"Bay\",\"Bay\",\"Bay\",\"Bay\",\"Bay\",\"Bay\",\"Bradford\",\"Bradford\",\"Bradford\",\"Bradford\",\"Brevard\",\"Brevard\",\"Brevard\",\"Brevard\",\"Brevard\",\"Brevard\",\"Calhoun\",\"Calhoun\",\"Calhoun\",\"Calhoun\",\"Calhoun\",\"Calhoun\",\"Charlotte\",\"Charlotte\",\"Citrus\",\"Citrus\",\"Citrus\",\"Citrus\",\"Citrus\",\"Citrus\",\"Citrus\",\"Citrus\",\"Citrus\",\"Citrus\",\"Citrus\",\"Citrus\",\"Clay\",\"Clay\",\"Clay\",\"Clay\",\"Clay\",\"Clay\",\"Clay\",\"Clay\",\"Clay\",\"Clay\",\"Clay\",\"Clay\",\"Clay\",\"Dixie\",\"Dixie\",\"Duval\",\"Duval\",\"Duval\",\"Duval\",\"Duval\",\"Duval\",\"Duval\",\"Duval\",\"Duval\",\"Escambia\",\"Escambia\",\"Escambia\",\"Escambia\",\"Escambia\",\"Escambia\",\"Escambia\",\"Escambia\",\"Escambia\",\"Escambia\",\"Escambia\",\"Escambia\",\"Escambia\",\"Escambia\",\"Escambia\",\"Gadsden\",\"Gadsden\",\"Gadsden\",\"Gilchrist\",\"Gilchrist\",\"Gilchrist\",\"Hamilton\",\"Hamilton\",\"Hardee\",\"Highlands\",\"Highlands\",\"Highlands\",\"Highlands\",\"Highlands\",\"Highlands\",\"Highlands\",\"Highlands\",\"Indian River\",\"Indian River\",\"Indian River\",\"Indian River\",\"Jackson\",\"Jackson\",\"Jackson\",\"Jackson\",\"Jackson\",\"Jackson\",\"Jackson\",\"Jackson\",\"Jackson\",\"Jackson\",\"Jackson\",\"Jackson\",\"Jackson\",\"Jackson\",\"Jackson\",\"Jackson\",\"Jackson\",\"Jackson\",\"Jefferson\",\"Jefferson\",\"Jefferson\",\"Jefferson\",\"Jefferson\",\"Jefferson\",\"Jefferson\",\"Jefferson\",\"Jefferson\",\"Jefferson\",\"Jefferson\",\"Jefferson\",\"Jefferson\",\"Jefferson\",\"Lafayette\",\"Lee\",\"Lee\",\"Lee\",\"Lee\",\"Lee\",\"Lee\",\"Lee\",\"Lee\",\"Lee\",\"Lee\",\"Lee\",\"Leon\",\"Leon\",\"Leon\",\"Leon\",\"Leon\",\"Leon\",\"Levy\",\"Levy\",\"Levy\",\"Levy\",\"Levy\",\"Levy\",\"Levy\",\"Levy\",\"Levy\",\"Levy\",\"Levy\",\"Levy\",\"Levy\",\"Levy\",\"Levy\",\"Levy\",\"Madison\",\"Madison\",\"Madison\",\"Madison\",\"Madison\",\"Madison\",\"Madison\",\"Madison\",\"Madison\",\"Madison\",\"Madison\",\"Madison\",\"Madison\",\"Madison\",\"Madison\",\"Madison\",\"Manatee\",\"Manatee\",\"Manatee\",\"Manatee\",\"Manatee\",\"Manatee\",\"Manatee\",\"Manatee\",\"Manatee\",\"Manatee\",\"Manatee\",\"Manatee\",\"Manatee\",\"Manatee\",\"Manatee\",\"Marion\",\"Marion\",\"Marion\",\"Marion\",\"Marion\",\"Martin\",\"Miami-Dade\",\"Miami-Dade\",\"Miami-Dade\",\"Miami-Dade\",\"Miami-Dade\",\"Miami-Dade\",\"Miami-Dade\",\"Monroe\",\"Monroe\",\"Monroe\",\"Monroe\",\"Nassau\",\"Nassau\",\"Nassau\",\"Nassau\",\"Okaloosa\",\"Okaloosa\",\"Okaloosa\",\"Okaloosa\",\"Okeechobee\",\"Okeechobee\",\"Okeechobee\",\"Okeechobee\",\"Orange\",\"Orange\",\"Orange\",\"Orange\",\"Orange\",\"Orange\",\"Orange\",\"Orange\",\"Orange\",\"Orange\",\"Orange\",\"Orange\",\"Orange\",\"Orange\",\"Orange\",\"Orange\",\"Osceola\",\"Osceola\",\"Osceola\",\"Osceola\",\"Osceola\",\"Osceola\",\"Osceola\",\"Osceola\",\"Osceola\",\"Osceola\",\"Palm Beach\",\"Palm Beach\",\"Palm Beach\",\"Palm Beach\",\"Palm Beach\",\"Palm Beach\",\"Palm Beach\",\"Palm Beach\",\"Palm Beach\",\"Palm Beach\",\"Palm Beach\",\"Palm Beach\",\"Palm Beach\",\"Palm Beach\",\"Palm Beach\",\"Palm Beach\",\"Pasco\",\"Pasco\",\"Pasco\",\"Pasco\",\"Pasco\",\"Pasco\",\"Pasco\",\"Pasco\",\"Pasco\",\"Pasco\",\"Pasco\",\"Pasco\",\"Pasco\",\"Pasco\",\"Pasco\",\"Pasco\",\"Pinellas\",\"Pinellas\",\"Pinellas\",\"Pinellas\",\"Pinellas\",\"Pinellas\",\"Pinellas\",\"Pinellas\",\"Pinellas\",\"Pinellas\",\"Pinellas\",\"Pinellas\",\"Pinellas\",\"Polk\",\"Polk\",\"Polk\",\"Polk\",\"Polk\",\"Polk\",\"Polk\",\"Polk\",\"Polk\",\"Polk\",\"Sarasota\",\"Sarasota\",\"Sarasota\",\"Sarasota\",\"Sarasota\",\"Sarasota\",\"Sarasota\",\"Sarasota\",\"Sarasota\",\"Sarasota\",\"Sarasota\",\"Seminole\",\"Seminole\",\"Seminole\",\"Seminole\",\"Seminole\",\"Seminole\",\"St. Johns\",\"St. Johns\",\"St. Johns\",\"St. Johns\",\"St. Johns\",\"St. Johns\",\"St. Johns\",\"St. Johns\",\"St. Johns\",\"St. Johns\",\"St. Johns\",\"St. Johns\"],\"legendgroup\":\"0\",\"marker\":{\"color\":[0,0,0,0,0,0,0,0,0,0,0,0,0,0,0,0,0,0,0,0,0,0,0,0,0,0,0,0,0,0,0,0,0,0,0,0,0,0,0,0,0,0,0,0,0,0,0,0,0,0,0,0,0,0,0,0,0,0,0,0,0,0,0,0,0,0,0,0,0,0,0,0,0,0,0,0,0,0,0,0,0,0,0,0,0,0,0,0,0,0,0,0,0,0,0,0,0,0,0,0,0,0,0,0,0,0,0,0,0,0,0,0,0,0,0,0,0,0,0,0,0,0,0,0,0,0,0,0,0,0,0,0,0,0,0,0,0,0,0,0,0,0,0,0,0,0,0,0,0,0,0,0,0,0,0,0,0,0,0,0,0,0,0,0,0,0,0,0,0,0,0,0,0,0,0,0,0,0,0,0,0,0,0,0,0,0,0,0,0,0,0,0,0,0,0,0,0,0,0,0,0,0,0,0,0,0,0,0,0,0,0,0,0,0,0,0,0,0,0,0,0,0,0,0,0,0,0,0,0,0,0,0,0,0,0,0,0,0,0,0,0,0,0,0,0,0,0,0,0,0,0,0,0,0,0,0,0,0,0,0,0,0,0,0,0,0,0,0,0,0,0,0,0,0,0,0,0,0,0,0,0,0,0,0,0,0,0,0,0,0,0,0,0,0,0,0,0,0,0,0,0,0,0,0,0,0,0,0,0,0,0,0,0,0,0,0,0,0,0,0,0,0,0,0,0,0,0,0,0,0,0,0,0,0,0,0,0,0,0,0,0,0,0,0,0,0],\"coloraxis\":\"coloraxis\",\"symbol\":\"diamond\"},\"mode\":\"markers\",\"name\":\"0\",\"scene\":\"scene\",\"showlegend\":true,\"type\":\"scatter3d\",\"x\":[0.25111299978789986,0.6526506208449531,0.6012897575034952,0.4191897504992945,0.45532578727076484,0.17534896091954652,-0.09197593469093518,-0.01898581355904017,0.12614086216738954,0.30346763908052093,0.5808994369364531,-0.11331896725745413,-0.1197025833662471,-0.19378818902853284,-0.2957039216380096,-0.3393446442121029,-0.37746203125592864,-0.34839426406893254,-0.2713048108611585,-0.3259970344044851,1.376271831596994,1.7699107958456717,2.133833033211486,2.1643855101494682,1.4774499592384878,1.2958929450852261,1.6492938655321867,1.622317784568654,1.6518538802479303,1.5771134390235957,-0.777725731258246,-0.57420855363048,-0.7046684721328397,-1.2451532711136342,-1.0827455883705843,-1.0564080257191637,-1.2124272288247915,-1.2307171704625965,-0.9147421445062084,-0.660703282837145,-0.6246420859754793,-0.5598453147865186,-0.9192029573325785,-0.8451515061029392,-0.7614008504544066,-0.7383906454190907,-0.5679065116947027,-0.04889104363147567,0.0607077310504001,0.2057184667945483,1.1362364374172382,1.0564174883520732,0.576044043572535,0.2924551373842905,0.17466681919163554,0.15309873536839827,0.04024000947145415,0.25162867083689655,0.36034054517047753,0.5681226271373652,0.6871961471519743,0.6922467866194677,0.8092387871534934,0.5364173100660163,0.6012358882927379,0.31538354168377314,0.3197873912714423,-1.4862895512716043,-1.1677431162157592,-0.9618968811458077,-0.9927347344899637,-1.2714703650711028,-1.457652246773643,-1.322029958332766,-1.1453712610905935,-1.6049561530249108,-1.3732279245122698,-1.1626316475063163,-1.2277932168844239,-1.533657636153614,-1.583860763335864,-1.691762874414437,-1.6582119209025985,-1.6927233106914286,-1.7428743973003058,-1.7165667413855084,-1.581516233317646,-1.6815971972831243,-1.588904024405212,-1.7201724201983306,-1.5561001425086693,-1.5253429412451218,-1.7721424747893362,-1.6854618737231972,-1.6732720965357557,-0.7118789280765259,-0.7759054125675138,-1.0294767991364548,-0.48008273064404666,-0.5839702885833854,-0.7371129162006722,-1.009264022916603,-0.8942201016418637,-0.905032469594961,-0.7537333062818935,-0.6504497989806337,-0.1133105541761184,0.14123785822758758,0.07809916439071284,0.10304851749747457,-0.38904962776408275,-0.23286781946392685,-0.2802964588935742,0.013420045814610392,0.04312867317179629,1.2258723707520154,1.5759420745999202,1.3474456486748614,1.7812592040521182,2.1804937805961977,2.829539463682356,2.905231766087976,2.400161138230574,1.9028882777498477,1.5528279934990061,1.6202706280988388,1.5443720074525433,1.379772356590183,1.8738494773257734,1.9478675682763695,1.9512113212518059,0.39004953360436334,0.47265899110006726,0.6000725800429155,0.7191553297723294,0.7642812721764977,0.5640581835167693,0.6169702225195067,0.6075140815564597,0.4685860949523266,0.7060363386156642,0.9676921046054351,0.8026502165516249,0.5857849264586802,0.666550996852951,0.851073288599619,1.1305100752246438,1.635207792363992,1.5200119396855833,1.1518257785633501,0.9260521956232537,0.6791791110989798,0.6021008662973596,0.5524039832829319,0.7458652644127667,0.6796253252848428,0.7495079219465545,0.7786620165217604,0.11579199968170062,0.1343580632397141,-0.12684054896162306,0.14052550498736507,-0.9134464760942448,-0.7022008893195498,-0.48890965997385055,-0.1900081058238988,-0.32222016875499004,-0.5275033855517431,-0.6688525818389524,-0.8300002627485762,-0.84843817136069,-0.866945069700149,-0.9419053251633001,-0.7949119762747223,-0.7260449624132977,-0.587899565048382,0.8427684082544785,0.8544380887813191,-1.1994254249804146,-1.1325665978536867,-1.0019060082818303,-0.6253166637508475,-0.615605657128591,-0.8128351032561778,-1.1198029860439687,-1.2481616313979897,-1.3063000631051258,-1.2861612959620654,-1.2902746850576308,-1.141622759363509,-1.092366490136931,-0.9803753179714955,-0.8829726678321929,-0.5583081135099932,-0.27430248961511156,-0.30367011506414926,-0.4523032981333573,-0.5713358322278101,-0.5899861557535416,-0.57459371728972,-0.5704821635665012,-0.5604136616606372,-0.5045620223688576,-0.37641598589056685,-0.28806457519964074,-0.29281182978300896,-0.22222945719600334,-1.1759568281382997,-1.3379777098751817,-1.357327985820753,-1.2249967753755115,-1.2255990437403428,-0.23701024792460348,0.5843226258110883,0.323169487693144,-0.07312071810579072,0.039539697593101636,0.16713447242461216,0.22537313441335902,0.21751587141765752,0.4199342177594721,0.9373132678862587,0.9260663276178454,1.031231137564862,0.36635089716533376,0.43121253390606135,0.4261311367392124,0.5587194394077705,1.5433428053638893,1.902208968860985,2.0566111271814154,2.1551395965270363,1.2940584632447762,1.4095868821124704,1.1112788895486208,1.241464710641924,-1.2318908554156671,-1.125958072241614,-1.0861044079321307,-0.8758398712351668,-0.6735048600384431,-0.31963527976547745,-0.3300538883519394,-0.618756270394338,-0.8621607108293404,-0.8133624691430065,-0.896955883236325,-0.9507489212491047,-0.8797055017370708,-0.7524027670215583,-0.7904784280711603,-0.6424971237922975,0.210355188815486,0.4360311693162742,0.6889683516401554,0.8728098469061116,0.5635853502769672,-0.16281344641904177,0.08655834922427338,0.0791914795572219,0.16358344693116936,0.3019010086629006,0.17062842010585674,0.45324698784347356,0.7145418480449092,0.7111791643715109,0.6712452123832027,0.6217509175568494,0.4954225968403845,0.41196740915282193,0.3446833155197393,0.33582679096570367,0.33401324309202096,0.6944254640731715,0.9123514674998886,0.89010760005088,0.9759795301426191,-1.549921729636765,-0.3477343249398366,0.009506001766689934,-0.09266539716659986,-0.31584286272527057,-0.5416287461301044,-0.6049371604886,-0.6500255918932027,-0.6296640769235926,-0.6176380186324929,-0.5195348159156059,-0.5061528899224412,-0.2606415684418982,-0.2889724957650285,-0.21229813215333276,-0.01100271766722342,-0.07922633832546003,0.6308981114711614,0.4039996994966572,0.0939608951816684,0.02217251801591741,-0.08668184205959518,-0.05944866274474743,-0.21536950792208517,-0.15613341187544408,-0.10346216183274586,0.057550759742379595,-1.5202930916712778,-1.4395075298418079,-1.2639019954217492,-1.4013154545154252,-1.4930115814177038,-1.4710328610049903,-1.4616070993275287,-1.3026384732301564,-1.1674725282225606,-1.1307645249214102,-1.0955528098397211,-0.9537963259675629,-0.8618695446283727,1.2925631535339914,1.4216823503091596,1.7005045281944835,1.6710174968848241,1.5765638337812353,1.4730461182009775,0.8931148954143705,1.0455903785727079,1.0811528196980753,1.0449388119513798,1.0461660931983097,-1.6473180325935977,-1.6177820175826794,-1.4728480002933004,-1.328685457809869,-1.2289880116615448,-0.9476364575515518,-0.42905746718873733,-0.6632603542336327,-0.8603077658911397,-0.9512956056173903,-1.012931167204281,-1.0156804204421368,-0.8882992165031776,-0.7634163346205204,-0.6749385001692086,-0.5354383542216417,-0.505362600091031,-0.41381040621493054],\"y\":[0.13068331687986728,0.678303596986981,0.9164072682484032,0.603319609342127,-0.010978076056421643,-0.09279417156028466,0.20788175577270535,0.4633656499536438,0.6974390116598902,1.0628341369953558,1.3561236536001586,1.689652189005951,1.5178924884507339,0.9970538449286674,0.17428380299663307,0.22552597299359223,0.5667685408581024,0.8968793581614448,1.1606722220029835,1.6533999713096625,-0.09785288614641696,0.9834669426409918,1.6990585037014045,1.1503750982959826,-0.6158738522236267,-0.09188348004399273,0.3458049140460425,0.889166200025035,1.479416397014599,2.018559934897315,0.9457433068043714,1.711600858979866,1.1421171269016517,0.860010967576255,1.3400548503124778,1.797068338557914,0.7917962103583503,0.6530269513372465,0.4555281672462861,1.1395019344591044,1.326876927455401,0.9403216677280735,0.5976951549979507,0.879848905528263,1.149705498294771,1.5976883133437212,2.072688522579729,0.8749787217220303,1.343314642855406,1.9997368949602226,6.817425133780835,5.99103341424077,4.225690852808299,2.5809214491831973,2.2085336685342827,2.0191745482193864,2.327345321529346,3.0687527465355977,3.897057788008321,4.790458954940744,5.441546217748348,5.572857258126787,5.844224576781516,-0.12239966803517138,-0.2359048069193492,0.21509213152862178,0.6142183399553254,0.8279435239290284,1.8937201422574024,2.6575905299645823,2.0737105575450654,1.0886303885398585,0.885131806244532,1.2620259027262424,2.477660644181923,1.2481809635598098,2.6638076942610236,3.722691083545126,3.5488834552459747,2.5648245640027976,1.464008630283552,1.1329439579822789,0.8511940468823201,0.9574971070122658,1.4404084767537637,1.6826912677430075,1.8970419684973925,2.233805346648068,2.593651190784141,1.1519185300409533,1.857694929401962,1.639598541099163,1.1936548766664272,1.5530349287077032,1.8844435112332254,0.8857984435389282,0.6125562761073806,1.1213717994236345,2.753548533295557,2.184954373334544,1.067548101240571,0.7491748374744173,1.2169315225526725,1.789461083784565,2.2602459690783117,2.790173257943967,0.9912029721969,1.990567681735167,1.8497250245944785,0.9258749597273058,0.42242537087985,0.7474818093896424,1.1747715349257823,1.5135788759076,1.9953595787323628,-0.7423794452923386,-0.4836690528189276,0.16892567881893938,0.795053248997558,2.0794198770806043,3.4130579700806414,2.489029157465923,0.8066863428154365,-0.5548323615371828,-0.7348472228683688,-0.6747828290164842,-0.22511136069607204,0.4006294928175481,2.0779938904242017,2.4350839331153216,2.7848800904965145,-0.251797835923821,0.3222154413626446,0.9667679166063238,1.043631765023308,0.5936586062853724,0.14707965940574075,-0.026832153178528127,-0.3222421188873614,-0.08702186730988178,0.04855593160864994,0.1652061577049725,1.1837803427891629,-0.2751085345798733,0.24431811240641632,0.9606150252694757,2.1908456165997823,3.331129022668504,2.8197287995355134,1.407538406043005,0.20281947058277083,0.09864411919162298,-0.031092669132007204,0.32440279989755766,2.051650635780697,2.6421939547581714,3.0662235255405292,3.3845431702635556,0.48237383950593615,0.4181411454623107,0.26869047783845024,0.6087286212497256,0.816439117795922,1.7606876524159267,3.1773849917111026,4.043438319173207,3.3083330900664194,2.279864981585846,1.279932010083666,1.1050723275202121,0.953038976757118,1.1215398905739309,1.4928724169930028,2.0909939175958527,2.630037338923111,3.068926380578039,10.05508892388208,10.425964423572195,0.559565741560339,1.0038169014758267,1.7824874919886282,2.4932806408436594,2.7542780620671974,2.222844006690435,1.2390110937869596,1.0355933587716906,0.9524899149703424,1.1630795517573214,1.6768679772887103,2.324126809575876,2.698306408576274,2.8660632348669335,0.5194443656958943,1.8313872800472317,2.7185873280445114,2.2987646694239685,1.6556150136683616,1.0127535549913724,0.8218317907640262,0.6121859136385246,0.7412052581312805,1.109519941233313,1.3819493098389872,1.6201457304700413,1.8375809103117595,2.223236398358829,2.658200830761385,1.3254188967972949,1.2519277117930845,0.8808003195191948,1.3625129421784543,1.6174523804957652,0.25873415558167995,2.3962629118843695,1.246236564517327,0.6324597671283683,1.0058023803188818,1.3688232543538854,1.7970017641182405,2.3033938984139297,0.2819391891641286,0.9449183291722398,0.6787440135020066,-0.20144855815119214,0.06319562830366128,0.47622677974275124,0.9730492958203597,1.3522419356943223,-0.2972514933620044,0.5189090026915215,0.49161591101602053,-0.1611819298737445,-0.07046862999704379,0.2904460592088644,0.8248799404439857,1.2494425980838975,0.9155986003831447,1.2332246082720029,1.7152260690529575,2.4176022469884386,3.510581651407184,4.672251987354484,4.698253327785838,3.6214575620447613,2.494979460196041,2.2143149143156857,1.9079318912619687,2.0124863756156475,2.4749452281582256,3.110309545567603,3.3033326536619825,3.666892231096467,0.2641847098803817,1.2900484704662716,2.184746897497709,1.6242448738906772,0.200993578080238,0.22895066262371663,0.8933244735925874,1.4784649463968347,1.984550259933639,2.447128079079036,-0.1304949691423459,0.7899248982353431,1.5628108493623456,1.273830285368925,0.6292148234372291,0.02783507208529506,-0.07476327103942088,-0.14840956333753957,0.015289781150085262,0.33134843275440656,0.6110537921266431,1.1803253084774872,1.3683406954757005,1.8817165150544255,2.305491653344297,0.9257704466161585,3.387711184310813,4.463354662615438,3.4944710382566653,2.2469617991201027,1.1326046730233195,0.9983833532670494,0.9349505385911074,1.1138387787221955,1.767427995525794,2.264784287237436,2.7822705785152446,3.3712359262415013,3.635771231336646,3.9664769643133577,0.03235200074431503,0.6390136589324501,2.8522186370834777,1.6961101413145752,0.4388322044517562,0.044767175389841624,0.5979287624243314,1.2851008254889194,1.5678610630386243,2.0452581139350774,2.5751510939532376,3.08612085677165,0.7729542585685547,1.4680287869422435,2.1772778355298152,1.3239078566379996,0.9834965380727084,1.0723427581323948,1.2889068587907524,1.8118728801110418,2.434178253657651,2.6606724618455235,2.7580352724012194,3.0864930835725812,3.5094474565066456,-0.358156536218034,0.6103384010097433,1.5111740922596466,1.2883243759850924,0.2814352031551732,-0.6963733600767694,-0.06203380442485328,0.274734871711656,0.6885730300541207,1.2758806465706127,1.7839351542363933,1.2694198147535583,1.5197444179268706,1.570592788469281,1.8320167634446902,2.5251694976740384,3.619715632380275,6.335340193009709,4.957039573164852,3.575343004436036,3.1693959399446308,2.7422635233047745,2.925233309282326,3.4399174328385373,4.12379651835507,4.786223312837213,5.129415381832206,5.65709931832875,6.267525817853412],\"z\":[1.6531348945712894,1.9938992800849216,1.580022620029239,0.9887402698130094,0.1381345162988878,-0.3082179770525529,-1.1387583272146837,-1.1340743074237118,-1.0956700577323653,-1.4861352967602708,-1.615211277413093,1.9695311836942084,1.6852342868108396,0.8503705815638779,0.07402320995901156,-0.5588068803647139,-0.49509875335960085,-0.7152117756213289,-0.6177861782788917,-1.1064397278406515,0.7199759792686738,0.94388081256001,1.2780651148025968,0.7268986317997354,-1.7317146311595806,-1.832119913727587,-1.6055710137155463,-1.6792942449211743,-1.816668263996142,-1.7868961556493643,1.3806660047957213,1.7269338589750485,1.195632226082781,-1.106324855990091,-1.1509953513875617,-1.2469084922376192,1.12220153778906,0.6095147475001174,1.3130624494079945,1.6310725142733271,1.2848683025995304,0.7830139762329772,-0.8200526016370878,-0.8198713603172317,-0.8275287684552041,-1.2997302813620513,-1.2552624908990186,2.038046343910568,1.8279926237961452,1.527020240806043,2.1207985738922677,1.4082044350025167,0.3512287194494538,-0.591891636642935,-0.9693553692484576,-0.9267173631610428,-1.069402433222672,-1.0041748964138992,-0.81763843037796,-0.7460439137816425,-0.773404885175693,-1.1237773250324476,-1.090720624256474,1.5535654945071546,1.0637112552654773,-1.6896664546933737,-1.7447805263717657,1.0266110236557293,1.1452159241072086,1.824190447223476,1.1385172600842066,0.2548193888598805,-0.7475693833257621,-0.543518942549306,-1.0430975685172583,2.3515254380417083,2.1695701745018012,2.41737947517848,2.2906422919299865,1.2252165294831758,0.5183410539634046,0.3841304137750417,0.5890216037339931,0.22799956687726453,-0.09334860136000454,-0.1986105888147363,0.034175794589427544,-0.22531206740491178,-0.22084955647136886,1.3182016354343307,1.5314778845953092,1.380853756261545,-0.8628877339172563,-0.8597242413629885,-1.4236005938035552,1.7446071630982696,1.2462309229503497,-1.5297143343990436,1.7841045787933694,1.0019206844806952,0.062363568600624156,-1.1610815006437256,-1.0615532914118748,-1.3719864470509202,-1.238412618316181,-1.193886268644265,1.4168775496673982,1.7667752458547417,1.4497653739266185,0.6499151271642466,-0.818415826304804,-0.7131839459372801,-0.7947646706782014,-0.9245606936780756,-1.0493219180705338,2.278944000312386,1.8604220533526086,1.503708598175982,1.563711031498998,1.5015525930935303,1.9758016384963153,1.5125356213874064,0.031202798818302013,-1.0637114291529834,-1.4006679706640985,-1.3915889505300818,-1.3266181804906667,-1.2635773102084176,-1.3672237047364908,-1.5864808434006288,-1.5379571395123848,1.5661620403776557,1.4399005487301668,1.6243503091284506,1.469884924637641,0.7476999525419483,0.05815516230159609,-0.157657407381068,-0.1019170386843549,-0.756608410727662,-0.7193960678472718,-0.4907853670204307,-1.3350825763267133,2.353953572800097,2.1503382659780037,2.285859650870098,2.4874162515176037,2.7372036661763937,2.2739841641211305,1.2672599675175065,-0.013657541959475309,-0.24733450940252613,-0.3548968258586602,-0.5647456843609195,-0.5649923296340619,-0.8321909358976138,-0.9683388828046005,-1.0242196199115416,1.444933893962931,0.9681138831838438,-1.3404726436486756,-1.5028597361278342,1.5384568090938378,1.4084068864148713,1.5575468836638524,2.0584094340704695,1.263105606511653,0.3312710477181192,-0.4394840799194863,-0.671298007495392,-0.7942627101555596,-0.8648035414651284,-0.7368281763949414,-0.7630887987182929,-0.699696157257882,-0.8187368593143783,1.3697299940876944,1.3308919301263895,1.6084145249680057,1.499228856722525,1.5194937568377573,2.1472846587191805,1.726139092503863,1.0103450307657813,-0.11936210111293818,-0.40876103874113556,-0.8044746676880075,-1.0444571206677218,-0.8765710574472698,-0.9840975124955408,-0.8140695327029325,-0.5487456597024007,1.1978475211093687,1.3128855086245526,1.8150366564109044,1.2260366591066152,0.5836588637879474,-0.5408984344294839,-0.49556078833074063,-0.4671599360029592,-0.7450777039989861,-1.033211784483395,-0.9623365963198277,-0.9531541240767275,-1.0258433853501907,-1.3596996006745656,-1.5185252713683648,2.0245680215188746,1.3855809712879952,-0.5256177208907271,-0.8654308226637776,-0.5257777166332418,1.8573019205930468,2.0298455162707882,0.9972614861198841,-0.7067775049821752,-0.6909258300828571,-0.6941090886157243,-0.8316308035487487,-0.9120835286444432,1.440118914321944,1.7048021618761573,1.2801332305202109,0.5934588226957486,-1.1655492720433815,-1.1896709922452235,-1.2644757352434408,-1.5274310277459235,1.262593160904237,1.5291983478382691,1.2339270306046555,0.41447427854756275,-1.5049386273651566,-1.5229506007427696,-1.6075820690245997,-1.8082812898289584,1.8804325410909857,1.4348466530674204,1.3871544766442454,1.2025513044660456,1.3524451414728993,1.8682400803505794,1.331707269628961,0.5913149293767823,-0.6269799901709112,-0.4305721479223781,-0.46536477382325414,-0.7331685127482134,-0.843009778850758,-0.8493383358837341,-0.48563624856586796,-0.4984162091520033,1.624944382856951,1.5886527048011265,1.7123138810378544,1.3902314155532074,0.43236437958676016,-1.065296091746389,-1.4173486962379382,-1.5138534446056466,-1.7019125158462596,-1.8028397821005056,1.278315229007661,1.444568922187439,1.5767410052660311,1.2422088896748515,0.5006913694343289,-0.29879377798741225,-0.517408241521755,-0.7393216836156645,-0.7036303390836461,-0.5354618285189964,-0.7693500319845361,-1.251824465255102,-1.3601069312729905,-1.5795516785741213,-1.8176089212233149,1.2108254097467788,1.5775104276195977,2.0524214660353763,1.4039953272991346,0.6742915326163061,-0.34426901501706736,-0.3224176603557676,-0.5677461550701287,-0.7659389885357426,-0.7604781209899846,-0.8518306846223694,-0.5982873454653393,-0.7661158135662505,-1.2058993781910865,-1.3530608013334828,1.3414202820566874,1.0372582417727327,1.0061341685004506,-0.02180746974401815,-0.8072328687675429,-1.163708907320894,-1.4673116425353312,-1.3581012269674475,-0.8990859836934392,-1.1225403755070975,-1.2814124669473068,-1.1030126618824847,1.2119460925969316,1.2402632191139011,1.4899272601195388,-0.2024553445478958,-0.8923620696212371,-1.1300781533900985,-1.245899100149505,-1.1725817793001008,-1.0803275827176635,-0.9202166861177326,-1.0659604178986304,-1.222514794900422,-1.3598236368795866,1.5318089623910554,1.553390659720114,2.1282420313743917,1.5455807916072093,0.6395437710327567,-0.24115735352834694,-0.9631823400526253,-0.7361825056737525,-0.7063273697825989,-1.000702507405205,-1.1467630428188955,-0.8287176301866447,-1.2277372271175604,2.8322698608861248,2.520092821064885,2.3306089761052995,2.56784048954282,2.61868155424486,1.8268254485450934,0.753089236047542,0.740532626985892,0.6823750893957858,0.38349104762097075,0.27139571652093136,0.48327099624151165,0.5009756088025596,0.4012602974059395,0.08162384271820299,-0.14618577868445506]},{\"customdata\":[[2010],[2011],[2012],[2013],[2014],[2015],[2016],[2017],[2018],[2001],[2002],[2003],[2004],[2005],[2006],[2007],[2008],[2009],[2010],[2011],[2012],[2013],[2014],[2015],[2016],[2017],[2018],[2001],[2002],[2003],[2004],[2005],[2001],[2002],[2003],[2004],[2005],[2006],[2007],[2008],[2009],[2010],[2011],[2012],[2013],[2014],[2015],[2016],[2017],[2017],[2018],[2001],[2002],[2003],[2004],[2005],[2006],[2007],[2008],[2009],[2010],[2011],[2012],[2013],[2014],[2013],[2014],[2015],[2016],[2017],[2018],[2009],[2010],[2011],[2012],[2013],[2014],[2015],[2016],[2017],[2018],[2001],[2002],[2003],[2004],[2005],[2006]],\"hovertemplate\":\"<b>%{hovertext}</b><br><br>class=%{marker.color}<br>PCA1=%{x}<br>PCA2=%{y}<br>PCA3=%{z}<br>year=%{customdata[0]}<extra></extra>\",\"hovertext\":[\"Brevard\",\"Brevard\",\"Brevard\",\"Brevard\",\"Brevard\",\"Brevard\",\"Brevard\",\"Brevard\",\"Brevard\",\"Broward\",\"Broward\",\"Broward\",\"Broward\",\"Broward\",\"Broward\",\"Broward\",\"DeSoto\",\"DeSoto\",\"DeSoto\",\"DeSoto\",\"DeSoto\",\"DeSoto\",\"DeSoto\",\"DeSoto\",\"DeSoto\",\"DeSoto\",\"DeSoto\",\"Dixie\",\"Dixie\",\"Dixie\",\"Dixie\",\"Dixie\",\"Hendry\",\"Hendry\",\"Hendry\",\"Hendry\",\"Hendry\",\"Hendry\",\"Hendry\",\"Hendry\",\"Hendry\",\"Hendry\",\"Hendry\",\"Hendry\",\"Hendry\",\"Hendry\",\"Hendry\",\"Hendry\",\"Hendry\",\"Marion\",\"Marion\",\"Martin\",\"Martin\",\"Martin\",\"Martin\",\"Martin\",\"Martin\",\"Martin\",\"Martin\",\"Martin\",\"Martin\",\"Martin\",\"Martin\",\"Martin\",\"Martin\",\"Miami-Dade\",\"Miami-Dade\",\"Miami-Dade\",\"Miami-Dade\",\"Miami-Dade\",\"Miami-Dade\",\"Nassau\",\"Nassau\",\"Nassau\",\"Nassau\",\"Nassau\",\"Nassau\",\"Nassau\",\"Nassau\",\"Nassau\",\"Nassau\",\"Okaloosa\",\"Okaloosa\",\"Okaloosa\",\"Okaloosa\",\"Okaloosa\",\"Okaloosa\"],\"legendgroup\":\"2\",\"marker\":{\"color\":[2,2,2,2,2,2,2,2,2,2,2,2,2,2,2,2,2,2,2,2,2,2,2,2,2,2,2,2,2,2,2,2,2,2,2,2,2,2,2,2,2,2,2,2,2,2,2,2,2,2,2,2,2,2,2,2,2,2,2,2,2,2,2,2,2,2,2,2,2,2,2,2,2,2,2,2,2,2,2,2,2,2,2,2,2,2,2],\"coloraxis\":\"coloraxis\",\"symbol\":\"square\"},\"mode\":\"markers\",\"name\":\"2\",\"scene\":\"scene\",\"showlegend\":true,\"type\":\"scatter3d\",\"x\":[8.950295893239243,8.889067786486612,8.589674775968772,9.177156295007213,9.457238384138355,9.839773140898918,10.299325977367019,10.26373367210891,9.909305788197267,9.53711321571418,9.210444040235652,8.821658093663844,8.879999985377012,8.91145330206238,9.069552133551817,8.797324317730983,5.223568050430219,5.254571414883855,5.138102317434825,5.253047177838209,5.365611659488513,5.756956938916324,6.6317187523358045,6.549901209052804,5.887111128400529,5.207327270852154,5.002874693261425,5.019443388083675,4.904735089605341,5.168125560266467,5.3365018474161685,5.245561648372304,8.109919888492824,8.029280322152582,7.198690038951887,6.85202547479305,7.014005241264644,6.912998711743278,6.827781091767286,6.213800159704955,5.625828622397849,5.065533718951336,4.753124072770106,4.701540699426189,4.577468324760482,4.849164700147938,4.6942466732600545,4.874849114583978,4.829470092086975,6.6301692401249275,6.8166733835633195,7.563763434175197,8.958635992527565,9.064167811793943,9.131557756867682,7.7275357725853615,7.284357581705784,7.483903502739962,7.164941037816841,7.14841743052833,7.446891651001921,7.523129576508355,8.102391380202473,7.034966814364476,7.2886055965362235,7.092093091004557,7.360225447865122,7.552844350743733,7.758822206766983,7.5237609631385105,8.09983777520596,4.852302234186163,5.016455949144604,4.9121701960108295,4.952636990866165,4.9864123892774,5.185131989800225,5.305752352263708,5.157364885566263,5.062845241497148,4.687633662147239,4.027529376597347,4.1423046879150345,4.188501183111204,4.020978810914628,3.920528719802491,3.737998891816602],\"y\":[-2.7893016217419264,-2.3886943035617305,-1.7125492592993774,-1.06835917388758,0.0663623542667713,1.1051973347747133,0.8152958448465755,-0.5974947776014277,-1.857314558003996,-1.8228563696160704,-1.0280598986175753,-0.14724345749726342,0.288398730029573,0.7158147323108592,1.1809151820043267,1.8097776591745132,-2.706652920357133,-2.5419588637264803,-2.1676919280109135,-1.7500106106439837,-1.1342105887796599,-0.46286506631197377,-0.627340166491482,-1.1199942771075033,-1.7028385153986538,-1.6979195648088048,-1.9049113633381813,-0.9373900691978428,-0.5705858923958677,-0.23784865627232543,0.17797146274482256,0.6984084905943969,-2.849812455495896,-2.363723505359407,-1.473297880660428,-0.4154397321589025,0.6458063273999289,0.7192637020761635,-0.19139590180547109,-1.1659043379976777,-1.1292681489446907,-1.091393142436326,-0.7697023080995613,-0.17665993104755595,0.3508689252266759,0.7242336882371254,1.2763987255860434,1.7862440293973345,2.3344254247686753,-2.2345496476973805,-2.07152696073271,-0.051906297024385734,0.92161141584069,0.8408429851466839,-0.3643461895863633,-1.5389875340650208,-1.7440865323830852,-1.9679572171676658,-1.5772260386134365,-0.8548867527199145,-0.26508820048534676,0.13190138472038615,0.5427125343558195,1.3385198077015357,1.9101904673450079,-1.9278360864309725,-1.6766316239214054,-1.034871536353884,-0.11426263141015723,1.4094367561493102,2.451972164097088,-2.105549159666138,-1.9540091201768508,-1.4906166272362933,-0.9332670371463303,0.0024436793303413877,0.7712172806867913,0.5260181259318238,-0.35472520019141385,-1.3485996273236953,-1.2679406585543485,-0.5807688570633651,-0.14126917331247477,0.29518962490664835,0.8851285292158778,1.3913305714077129,1.997092461733998],\"z\":[1.126697272818015,0.6702773018446494,0.47918908665359533,0.8295853409211313,0.9224529735479704,1.150755924294079,0.7223613706728862,-0.21200614285145747,-1.5643331334450974,-2.210709596822884,-2.1114965133289987,-2.0829940222901113,-1.986749046748568,-1.9362080596111841,-2.2685088771657105,-2.2578239394618658,2.219025512615898,1.6444893061214485,1.466609142418897,1.2100925251535906,1.2526052275144381,1.4352334591079339,1.1180108899945316,0.3642986290380188,-0.9918355884502575,-1.2600725829703163,-1.5985412927753422,-1.8413615786422248,-1.7386449260419767,-1.6459591129536624,-1.9819686014990492,-2.042550095200892,2.2186683812587065,1.9355614927615155,1.4976177013008516,1.5298592203158032,1.668141654763425,1.1086447540193642,-0.02247336200064903,-1.6048213006751246,-2.044271751830765,-2.485807221854624,-2.4890450898329144,-2.3828178066792303,-2.4527224414025786,-2.472231426659514,-2.580812602384116,-2.599111332236332,-2.9109800859779074,2.780914616673801,1.9852794779804857,1.9361879342694261,2.487018927026637,2.1370652334697753,1.0005037042478553,-0.5583726339314599,-1.0537547001330287,-1.3090522367685806,-1.1664844817660542,-1.0279859610998676,-1.1719717990928489,-1.0962591547968552,-1.260872470661858,-1.3432001053408575,-1.5998500326837057,1.869992583916017,1.6803730733605426,1.5376376503642175,1.4014518639367344,1.525454825306747,1.8433065301239913,1.92301216250322,1.4693730015187154,1.3962018144579842,1.368902892010619,1.680163936740386,1.7623017930915326,1.3411233727578749,0.41558119543012384,-0.6710698888152139,-1.0760969058186944,-1.2878035678416713,-1.3140255841673592,-1.271906813941551,-1.3965751053568702,-1.4858936046684588,-1.867647761299469]},{\"customdata\":[[2010],[2011],[2012],[2013],[2014],[2015],[2016],[2017],[2018]],\"hovertemplate\":\"<b>%{hovertext}</b><br><br>class=%{marker.color}<br>PCA1=%{x}<br>PCA2=%{y}<br>PCA3=%{z}<br>year=%{customdata[0]}<extra></extra>\",\"hovertext\":[\"Liberty\",\"Liberty\",\"Liberty\",\"Liberty\",\"Liberty\",\"Liberty\",\"Liberty\",\"Liberty\",\"Liberty\"],\"legendgroup\":\"1\",\"marker\":{\"color\":[1,1,1,1,1,1,1,1,1],\"coloraxis\":\"coloraxis\",\"symbol\":\"x\"},\"mode\":\"markers\",\"name\":\"1\",\"scene\":\"scene\",\"showlegend\":true,\"type\":\"scatter3d\",\"x\":[17.323436684076512,17.277287752577024,16.241938262342106,16.247514923611494,15.895010077804244,15.523439352239965,15.050212407354016,14.83874458174685,14.46877185153395],\"y\":[-3.2339081042645406,-3.1896527637680907,-2.5136147529417214,-1.8252717975209274,-0.906465188140071,-0.19561095764685554,0.5747929135084743,1.3032408021248374,2.0519608137401564],\"z\":[-2.1765646110924646,-1.916847113788846,-2.0483888067009874,-2.0013557609948176,-1.8182566051160256,-2.0105494921499836,-2.0089297215221418,-2.1136461153954222,-2.0475078616392786]}],                        {\"coloraxis\":{\"colorbar\":{\"title\":{\"text\":\"class\"}},\"colorscale\":[[0.0,\"#0d0887\"],[0.1111111111111111,\"#46039f\"],[0.2222222222222222,\"#7201a8\"],[0.3333333333333333,\"#9c179e\"],[0.4444444444444444,\"#bd3786\"],[0.5555555555555556,\"#d8576b\"],[0.6666666666666666,\"#ed7953\"],[0.7777777777777778,\"#fb9f3a\"],[0.8888888888888888,\"#fdca26\"],[1.0,\"#f0f921\"]]},\"legend\":{\"title\":{\"text\":\"class\"},\"tracegroupgap\":0,\"x\":0,\"y\":1},\"margin\":{\"t\":60},\"scene\":{\"domain\":{\"x\":[0.0,1.0],\"y\":[0.0,1.0]},\"xaxis\":{\"title\":{\"text\":\"PCA1\"}},\"yaxis\":{\"title\":{\"text\":\"PCA2\"}},\"zaxis\":{\"title\":{\"text\":\"PCA3\"}}},\"template\":{\"data\":{\"bar\":[{\"error_x\":{\"color\":\"#2a3f5f\"},\"error_y\":{\"color\":\"#2a3f5f\"},\"marker\":{\"line\":{\"color\":\"#E5ECF6\",\"width\":0.5},\"pattern\":{\"fillmode\":\"overlay\",\"size\":10,\"solidity\":0.2}},\"type\":\"bar\"}],\"barpolar\":[{\"marker\":{\"line\":{\"color\":\"#E5ECF6\",\"width\":0.5},\"pattern\":{\"fillmode\":\"overlay\",\"size\":10,\"solidity\":0.2}},\"type\":\"barpolar\"}],\"carpet\":[{\"aaxis\":{\"endlinecolor\":\"#2a3f5f\",\"gridcolor\":\"white\",\"linecolor\":\"white\",\"minorgridcolor\":\"white\",\"startlinecolor\":\"#2a3f5f\"},\"baxis\":{\"endlinecolor\":\"#2a3f5f\",\"gridcolor\":\"white\",\"linecolor\":\"white\",\"minorgridcolor\":\"white\",\"startlinecolor\":\"#2a3f5f\"},\"type\":\"carpet\"}],\"choropleth\":[{\"colorbar\":{\"outlinewidth\":0,\"ticks\":\"\"},\"type\":\"choropleth\"}],\"contour\":[{\"colorbar\":{\"outlinewidth\":0,\"ticks\":\"\"},\"colorscale\":[[0.0,\"#0d0887\"],[0.1111111111111111,\"#46039f\"],[0.2222222222222222,\"#7201a8\"],[0.3333333333333333,\"#9c179e\"],[0.4444444444444444,\"#bd3786\"],[0.5555555555555556,\"#d8576b\"],[0.6666666666666666,\"#ed7953\"],[0.7777777777777778,\"#fb9f3a\"],[0.8888888888888888,\"#fdca26\"],[1.0,\"#f0f921\"]],\"type\":\"contour\"}],\"contourcarpet\":[{\"colorbar\":{\"outlinewidth\":0,\"ticks\":\"\"},\"type\":\"contourcarpet\"}],\"heatmap\":[{\"colorbar\":{\"outlinewidth\":0,\"ticks\":\"\"},\"colorscale\":[[0.0,\"#0d0887\"],[0.1111111111111111,\"#46039f\"],[0.2222222222222222,\"#7201a8\"],[0.3333333333333333,\"#9c179e\"],[0.4444444444444444,\"#bd3786\"],[0.5555555555555556,\"#d8576b\"],[0.6666666666666666,\"#ed7953\"],[0.7777777777777778,\"#fb9f3a\"],[0.8888888888888888,\"#fdca26\"],[1.0,\"#f0f921\"]],\"type\":\"heatmap\"}],\"heatmapgl\":[{\"colorbar\":{\"outlinewidth\":0,\"ticks\":\"\"},\"colorscale\":[[0.0,\"#0d0887\"],[0.1111111111111111,\"#46039f\"],[0.2222222222222222,\"#7201a8\"],[0.3333333333333333,\"#9c179e\"],[0.4444444444444444,\"#bd3786\"],[0.5555555555555556,\"#d8576b\"],[0.6666666666666666,\"#ed7953\"],[0.7777777777777778,\"#fb9f3a\"],[0.8888888888888888,\"#fdca26\"],[1.0,\"#f0f921\"]],\"type\":\"heatmapgl\"}],\"histogram\":[{\"marker\":{\"pattern\":{\"fillmode\":\"overlay\",\"size\":10,\"solidity\":0.2}},\"type\":\"histogram\"}],\"histogram2d\":[{\"colorbar\":{\"outlinewidth\":0,\"ticks\":\"\"},\"colorscale\":[[0.0,\"#0d0887\"],[0.1111111111111111,\"#46039f\"],[0.2222222222222222,\"#7201a8\"],[0.3333333333333333,\"#9c179e\"],[0.4444444444444444,\"#bd3786\"],[0.5555555555555556,\"#d8576b\"],[0.6666666666666666,\"#ed7953\"],[0.7777777777777778,\"#fb9f3a\"],[0.8888888888888888,\"#fdca26\"],[1.0,\"#f0f921\"]],\"type\":\"histogram2d\"}],\"histogram2dcontour\":[{\"colorbar\":{\"outlinewidth\":0,\"ticks\":\"\"},\"colorscale\":[[0.0,\"#0d0887\"],[0.1111111111111111,\"#46039f\"],[0.2222222222222222,\"#7201a8\"],[0.3333333333333333,\"#9c179e\"],[0.4444444444444444,\"#bd3786\"],[0.5555555555555556,\"#d8576b\"],[0.6666666666666666,\"#ed7953\"],[0.7777777777777778,\"#fb9f3a\"],[0.8888888888888888,\"#fdca26\"],[1.0,\"#f0f921\"]],\"type\":\"histogram2dcontour\"}],\"mesh3d\":[{\"colorbar\":{\"outlinewidth\":0,\"ticks\":\"\"},\"type\":\"mesh3d\"}],\"parcoords\":[{\"line\":{\"colorbar\":{\"outlinewidth\":0,\"ticks\":\"\"}},\"type\":\"parcoords\"}],\"pie\":[{\"automargin\":true,\"type\":\"pie\"}],\"scatter\":[{\"marker\":{\"colorbar\":{\"outlinewidth\":0,\"ticks\":\"\"}},\"type\":\"scatter\"}],\"scatter3d\":[{\"line\":{\"colorbar\":{\"outlinewidth\":0,\"ticks\":\"\"}},\"marker\":{\"colorbar\":{\"outlinewidth\":0,\"ticks\":\"\"}},\"type\":\"scatter3d\"}],\"scattercarpet\":[{\"marker\":{\"colorbar\":{\"outlinewidth\":0,\"ticks\":\"\"}},\"type\":\"scattercarpet\"}],\"scattergeo\":[{\"marker\":{\"colorbar\":{\"outlinewidth\":0,\"ticks\":\"\"}},\"type\":\"scattergeo\"}],\"scattergl\":[{\"marker\":{\"colorbar\":{\"outlinewidth\":0,\"ticks\":\"\"}},\"type\":\"scattergl\"}],\"scattermapbox\":[{\"marker\":{\"colorbar\":{\"outlinewidth\":0,\"ticks\":\"\"}},\"type\":\"scattermapbox\"}],\"scatterpolar\":[{\"marker\":{\"colorbar\":{\"outlinewidth\":0,\"ticks\":\"\"}},\"type\":\"scatterpolar\"}],\"scatterpolargl\":[{\"marker\":{\"colorbar\":{\"outlinewidth\":0,\"ticks\":\"\"}},\"type\":\"scatterpolargl\"}],\"scatterternary\":[{\"marker\":{\"colorbar\":{\"outlinewidth\":0,\"ticks\":\"\"}},\"type\":\"scatterternary\"}],\"surface\":[{\"colorbar\":{\"outlinewidth\":0,\"ticks\":\"\"},\"colorscale\":[[0.0,\"#0d0887\"],[0.1111111111111111,\"#46039f\"],[0.2222222222222222,\"#7201a8\"],[0.3333333333333333,\"#9c179e\"],[0.4444444444444444,\"#bd3786\"],[0.5555555555555556,\"#d8576b\"],[0.6666666666666666,\"#ed7953\"],[0.7777777777777778,\"#fb9f3a\"],[0.8888888888888888,\"#fdca26\"],[1.0,\"#f0f921\"]],\"type\":\"surface\"}],\"table\":[{\"cells\":{\"fill\":{\"color\":\"#EBF0F8\"},\"line\":{\"color\":\"white\"}},\"header\":{\"fill\":{\"color\":\"#C8D4E3\"},\"line\":{\"color\":\"white\"}},\"type\":\"table\"}]},\"layout\":{\"annotationdefaults\":{\"arrowcolor\":\"#2a3f5f\",\"arrowhead\":0,\"arrowwidth\":1},\"autotypenumbers\":\"strict\",\"coloraxis\":{\"colorbar\":{\"outlinewidth\":0,\"ticks\":\"\"}},\"colorscale\":{\"diverging\":[[0,\"#8e0152\"],[0.1,\"#c51b7d\"],[0.2,\"#de77ae\"],[0.3,\"#f1b6da\"],[0.4,\"#fde0ef\"],[0.5,\"#f7f7f7\"],[0.6,\"#e6f5d0\"],[0.7,\"#b8e186\"],[0.8,\"#7fbc41\"],[0.9,\"#4d9221\"],[1,\"#276419\"]],\"sequential\":[[0.0,\"#0d0887\"],[0.1111111111111111,\"#46039f\"],[0.2222222222222222,\"#7201a8\"],[0.3333333333333333,\"#9c179e\"],[0.4444444444444444,\"#bd3786\"],[0.5555555555555556,\"#d8576b\"],[0.6666666666666666,\"#ed7953\"],[0.7777777777777778,\"#fb9f3a\"],[0.8888888888888888,\"#fdca26\"],[1.0,\"#f0f921\"]],\"sequentialminus\":[[0.0,\"#0d0887\"],[0.1111111111111111,\"#46039f\"],[0.2222222222222222,\"#7201a8\"],[0.3333333333333333,\"#9c179e\"],[0.4444444444444444,\"#bd3786\"],[0.5555555555555556,\"#d8576b\"],[0.6666666666666666,\"#ed7953\"],[0.7777777777777778,\"#fb9f3a\"],[0.8888888888888888,\"#fdca26\"],[1.0,\"#f0f921\"]]},\"colorway\":[\"#636efa\",\"#EF553B\",\"#00cc96\",\"#ab63fa\",\"#FFA15A\",\"#19d3f3\",\"#FF6692\",\"#B6E880\",\"#FF97FF\",\"#FECB52\"],\"font\":{\"color\":\"#2a3f5f\"},\"geo\":{\"bgcolor\":\"white\",\"lakecolor\":\"white\",\"landcolor\":\"#E5ECF6\",\"showlakes\":true,\"showland\":true,\"subunitcolor\":\"white\"},\"hoverlabel\":{\"align\":\"left\"},\"hovermode\":\"closest\",\"mapbox\":{\"style\":\"light\"},\"paper_bgcolor\":\"white\",\"plot_bgcolor\":\"#E5ECF6\",\"polar\":{\"angularaxis\":{\"gridcolor\":\"white\",\"linecolor\":\"white\",\"ticks\":\"\"},\"bgcolor\":\"#E5ECF6\",\"radialaxis\":{\"gridcolor\":\"white\",\"linecolor\":\"white\",\"ticks\":\"\"}},\"scene\":{\"xaxis\":{\"backgroundcolor\":\"#E5ECF6\",\"gridcolor\":\"white\",\"gridwidth\":2,\"linecolor\":\"white\",\"showbackground\":true,\"ticks\":\"\",\"zerolinecolor\":\"white\"},\"yaxis\":{\"backgroundcolor\":\"#E5ECF6\",\"gridcolor\":\"white\",\"gridwidth\":2,\"linecolor\":\"white\",\"showbackground\":true,\"ticks\":\"\",\"zerolinecolor\":\"white\"},\"zaxis\":{\"backgroundcolor\":\"#E5ECF6\",\"gridcolor\":\"white\",\"gridwidth\":2,\"linecolor\":\"white\",\"showbackground\":true,\"ticks\":\"\",\"zerolinecolor\":\"white\"}},\"shapedefaults\":{\"line\":{\"color\":\"#2a3f5f\"}},\"ternary\":{\"aaxis\":{\"gridcolor\":\"white\",\"linecolor\":\"white\",\"ticks\":\"\"},\"baxis\":{\"gridcolor\":\"white\",\"linecolor\":\"white\",\"ticks\":\"\"},\"bgcolor\":\"#E5ECF6\",\"caxis\":{\"gridcolor\":\"white\",\"linecolor\":\"white\",\"ticks\":\"\"}},\"title\":{\"x\":0.05},\"xaxis\":{\"automargin\":true,\"gridcolor\":\"white\",\"linecolor\":\"white\",\"ticks\":\"\",\"title\":{\"standoff\":15},\"zerolinecolor\":\"white\",\"zerolinewidth\":2},\"yaxis\":{\"automargin\":true,\"gridcolor\":\"white\",\"linecolor\":\"white\",\"ticks\":\"\",\"title\":{\"standoff\":15},\"zerolinecolor\":\"white\",\"zerolinewidth\":2}}},\"width\":900},                        {\"responsive\": true}                    ).then(function(){\n",
       "                            \n",
       "var gd = document.getElementById('13fed881-7be3-44f5-a4f8-52c35e95997b');\n",
       "var x = new MutationObserver(function (mutations, observer) {{\n",
       "        var display = window.getComputedStyle(gd).display;\n",
       "        if (!display || display === 'none') {{\n",
       "            console.log([gd, 'removed!']);\n",
       "            Plotly.purge(gd);\n",
       "            observer.disconnect();\n",
       "        }}\n",
       "}});\n",
       "\n",
       "// Listen for the removal of the full notebook cells\n",
       "var notebookContainer = gd.closest('#notebook-container');\n",
       "if (notebookContainer) {{\n",
       "    x.observe(notebookContainer, {childList: true});\n",
       "}}\n",
       "\n",
       "// Listen for the clearing of the current output cell\n",
       "var outputEl = gd.closest('.output');\n",
       "if (outputEl) {{\n",
       "    x.observe(outputEl, {childList: true});\n",
       "}}\n",
       "\n",
       "                        })                };                });            </script>        </div>"
      ]
     },
     "metadata": {},
     "output_type": "display_data"
    }
   ],
   "source": [
    "fig = px.scatter_3d(\n",
    "    clustered_df,\n",
    "    x=\"PCA1\",\n",
    "    y=\"PCA2\",\n",
    "    z=\"PCA3\",\n",
    "    color=\"class\",\n",
    "    symbol=\"class\",\n",
    "    width=900,\n",
    "    hover_name=\"county\",\n",
    "    hover_data=[\"year\"],\n",
    ")\n",
    "fig.update_layout(legend=dict(x=0, y=1))\n",
    "fig.show()"
   ]
  },
  {
   "cell_type": "code",
   "execution_count": null,
   "id": "382fa82e",
   "metadata": {},
   "outputs": [],
   "source": []
  }
 ],
 "metadata": {
  "kernelspec": {
   "display_name": "mlenv",
   "language": "python",
   "name": "mlenv"
  },
  "language_info": {
   "codemirror_mode": {
    "name": "ipython",
    "version": 3
   },
   "file_extension": ".py",
   "mimetype": "text/x-python",
   "name": "python",
   "nbconvert_exporter": "python",
   "pygments_lexer": "ipython3",
   "version": "3.7.10"
  }
 },
 "nbformat": 4,
 "nbformat_minor": 5
}
