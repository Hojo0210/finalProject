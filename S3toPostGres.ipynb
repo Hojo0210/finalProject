{
  "nbformat": 4,
  "nbformat_minor": 0,
  "metadata": {
    "colab": {
      "name": "S3toPostGres.ipynb",
      "provenance": [],
      "collapsed_sections": [],
      "authorship_tag": "ABX9TyMsUnbqp+pU0x+rltqzVXET",
      "include_colab_link": true
    },
    "kernelspec": {
      "name": "python3",
      "display_name": "Python 3"
    },
    "language_info": {
      "name": "python"
    }
  },
  "cells": [
    {
      "cell_type": "markdown",
      "metadata": {
        "id": "view-in-github",
        "colab_type": "text"
      },
      "source": [
        "<a href=\"https://colab.research.google.com/github/Hojo0210/finalProject/blob/CarsonWBr/S3toPostGres.ipynb\" target=\"_parent\"><img src=\"https://colab.research.google.com/assets/colab-badge.svg\" alt=\"Open In Colab\"/></a>"
      ]
    },
    {
      "cell_type": "code",
      "metadata": {
        "id": "atxHuQCdDfvb",
        "colab": {
          "base_uri": "https://localhost:8080/"
        },
        "outputId": "66e634f2-2ba5-4aa4-d87b-75e60fa4363b"
      },
      "source": [
        "import os\n",
        "# Find the latest version of spark 3.0  from http://www.apache.org/dist/spark/ and enter as the spark version\n",
        "# For example:\n",
        "# spark_version = 'spark-3.0.3'\n",
        "spark_version = 'spark-3.1.2'\n",
        "os.environ['SPARK_VERSION']=spark_version\n",
        "\n",
        "# Install Spark and Java\n",
        "!apt-get update\n",
        "!apt-get install openjdk-11-jdk-headless -qq > /dev/null\n",
        "!wget -q http://www.apache.org/dist/spark/$SPARK_VERSION/$SPARK_VERSION-bin-hadoop2.7.tgz\n",
        "!tar xf $SPARK_VERSION-bin-hadoop2.7.tgz\n",
        "!pip install -q findspark\n",
        "\n",
        "# Set Environment Variables\n",
        "import os\n",
        "os.environ[\"JAVA_HOME\"] = \"/usr/lib/jvm/java-11-openjdk-amd64\"\n",
        "os.environ[\"SPARK_HOME\"] = f\"/content/{spark_version}-bin-hadoop2.7\"\n",
        "\n",
        "# Start a SparkSession\n",
        "import findspark\n",
        "findspark.init()"
      ],
      "execution_count": 1,
      "outputs": [
        {
          "output_type": "stream",
          "name": "stdout",
          "text": [
            "\r0% [Working]\r            \rHit:1 http://security.ubuntu.com/ubuntu bionic-security InRelease\n",
            "\r0% [Connecting to archive.ubuntu.com (91.189.88.142)] [Connected to cloud.r-pro\r                                                                               \rHit:2 https://cloud.r-project.org/bin/linux/ubuntu bionic-cran40/ InRelease\n",
            "\r0% [Connecting to archive.ubuntu.com (91.189.88.142)] [Connecting to ppa.launch\r0% [1 InRelease gpgv 88.7 kB] [Connecting to archive.ubuntu.com (91.189.88.142)\r                                                                               \rIgn:3 https://developer.download.nvidia.com/compute/cuda/repos/ubuntu1804/x86_64  InRelease\n",
            "\r0% [1 InRelease gpgv 88.7 kB] [Waiting for headers] [Waiting for headers] [Wait\r                                                                               \rHit:4 http://ppa.launchpad.net/c2d4u.team/c2d4u4.0+/ubuntu bionic InRelease\n",
            "Hit:5 http://archive.ubuntu.com/ubuntu bionic InRelease\n",
            "Ign:6 https://developer.download.nvidia.com/compute/machine-learning/repos/ubuntu1804/x86_64  InRelease\n",
            "Hit:7 https://developer.download.nvidia.com/compute/cuda/repos/ubuntu1804/x86_64  Release\n",
            "Hit:8 https://developer.download.nvidia.com/compute/machine-learning/repos/ubuntu1804/x86_64  Release\n",
            "Hit:9 http://archive.ubuntu.com/ubuntu bionic-updates InRelease\n",
            "Hit:10 http://ppa.launchpad.net/cran/libgit2/ubuntu bionic InRelease\n",
            "Hit:11 http://archive.ubuntu.com/ubuntu bionic-backports InRelease\n",
            "Hit:12 http://ppa.launchpad.net/deadsnakes/ppa/ubuntu bionic InRelease\n",
            "Hit:13 http://ppa.launchpad.net/graphics-drivers/ppa/ubuntu bionic InRelease\n",
            "Reading package lists... Done\n"
          ]
        }
      ]
    },
    {
      "cell_type": "code",
      "metadata": {
        "colab": {
          "base_uri": "https://localhost:8080/"
        },
        "id": "bNNsy9LiDuYB",
        "outputId": "5b3bd5d7-16c6-4b33-81f1-cfa99cef9cca"
      },
      "source": [
        "!wget https://jdbc.postgresql.org/download/postgresql-42.2.16.jar"
      ],
      "execution_count": 2,
      "outputs": [
        {
          "output_type": "stream",
          "name": "stdout",
          "text": [
            "--2021-09-16 16:04:42--  https://jdbc.postgresql.org/download/postgresql-42.2.16.jar\n",
            "Resolving jdbc.postgresql.org (jdbc.postgresql.org)... 72.32.157.228, 2001:4800:3e1:1::228\n",
            "Connecting to jdbc.postgresql.org (jdbc.postgresql.org)|72.32.157.228|:443... connected.\n",
            "HTTP request sent, awaiting response... 200 OK\n",
            "Length: 1002883 (979K) [application/java-archive]\n",
            "Saving to: ‘postgresql-42.2.16.jar.2’\n",
            "\n",
            "postgresql-42.2.16. 100%[===================>] 979.38K  5.62MB/s    in 0.2s    \n",
            "\n",
            "2021-09-16 16:04:43 (5.62 MB/s) - ‘postgresql-42.2.16.jar.2’ saved [1002883/1002883]\n",
            "\n"
          ]
        }
      ]
    },
    {
      "cell_type": "code",
      "metadata": {
        "id": "92cfZTq0D2cr"
      },
      "source": [
        "from pyspark.sql import SparkSession\n",
        "spark = SparkSession.builder.appName(\"CloudETL\").config(\"spark.driver.extraClassPath\",\"/content/postgresql-42.2.16.jar\").getOrCreate()"
      ],
      "execution_count": 3,
      "outputs": []
    },
    {
      "cell_type": "code",
      "metadata": {
        "id": "m1Yl5nxYD88p"
      },
      "source": [
        "# Read in data from S3 Buckets\n",
        "from pyspark import SparkFiles\n",
        "url =\"https://cfwest-mldata.s3.amazonaws.com/Census_Counts_Cleaned.csv\"\n",
        "spark.sparkContext.addFile(url)\n",
        "population_df = spark.read.csv(SparkFiles.get(\"Census_Counts_Cleaned.csv\"), sep=\",\", header=True, inferSchema=True)\n"
      ],
      "execution_count": null,
      "outputs": []
    },
    {
      "cell_type": "code",
      "metadata": {
        "colab": {
          "base_uri": "https://localhost:8080/"
        },
        "id": "8FxBT5tU0sEm",
        "outputId": "bbe4133a-a4f9-4c38-e0a8-f823cc961ee3"
      },
      "source": [
        "population_df.distinct().count()"
      ],
      "execution_count": null,
      "outputs": [
        {
          "output_type": "execute_result",
          "data": {
            "text/plain": [
              "1340"
            ]
          },
          "metadata": {},
          "execution_count": 5
        }
      ]
    },
    {
      "cell_type": "markdown",
      "metadata": {
        "id": "YANnqRkxcgr6"
      },
      "source": [
        ""
      ]
    },
    {
      "cell_type": "code",
      "metadata": {
        "id": "YwWPzO5BES2-"
      },
      "source": [
        "url =\"https://cfwest-mldata.s3.amazonaws.com/Zillow_Master_cleaned.csv\"\n",
        "spark.sparkContext.addFile(url)\n",
        "housing_df_cleaned = spark.read.csv(SparkFiles.get(\"Zillow_Master_cleaned.csv\"), sep=\",\", header=True, inferSchema=True)"
      ],
      "execution_count": null,
      "outputs": []
    },
    {
      "cell_type": "code",
      "metadata": {
        "colab": {
          "base_uri": "https://localhost:8080/"
        },
        "id": "A70yxp4ibiTz",
        "outputId": "e3a26b09-317a-41a5-f9de-6fa6d4d5fc37"
      },
      "source": [
        "housing_df_cleaned.distinct().count()"
      ],
      "execution_count": null,
      "outputs": [
        {
          "output_type": "execute_result",
          "data": {
            "text/plain": [
              "1340"
            ]
          },
          "metadata": {},
          "execution_count": 7
        }
      ]
    },
    {
      "cell_type": "code",
      "metadata": {
        "id": "euBMKrmNEw-d"
      },
      "source": [
        "url =\"https://cfwest-mldata.s3.amazonaws.com/Rainfall_Florida_Counties_Yearly.csv\"\n",
        "spark.sparkContext.addFile(url)\n",
        "rainfall_df = spark.read.csv(SparkFiles.get(\"Rainfall_Florida_Counties_Yearly.csv\"), sep=\",\", header=True, inferSchema=True)"
      ],
      "execution_count": null,
      "outputs": []
    },
    {
      "cell_type": "code",
      "metadata": {
        "colab": {
          "base_uri": "https://localhost:8080/"
        },
        "id": "0kJZ_XO902wo",
        "outputId": "4f98b1c8-822d-4f96-834c-0124e126092f"
      },
      "source": [
        "rainfall_df.distinct().count()"
      ],
      "execution_count": null,
      "outputs": [
        {
          "output_type": "execute_result",
          "data": {
            "text/plain": [
              "1340"
            ]
          },
          "metadata": {},
          "execution_count": 9
        }
      ]
    },
    {
      "cell_type": "code",
      "metadata": {
        "id": "VKYqjWeREx8x"
      },
      "source": [
        "url =\"https://cfwest-mldata.s3.amazonaws.com/Wage_data_by_county_20yr.csv\"\n",
        "spark.sparkContext.addFile(url)\n",
        "wages_df = spark.read.csv(SparkFiles.get(\"Wage_data_by_county_20yr.csv\"), sep=\",\", header=True, inferSchema=True)"
      ],
      "execution_count": null,
      "outputs": []
    },
    {
      "cell_type": "code",
      "metadata": {
        "colab": {
          "base_uri": "https://localhost:8080/"
        },
        "id": "BCdAi6X7060v",
        "outputId": "5ead790e-9556-46de-9768-f2a4f9a16cdf"
      },
      "source": [
        "wages_df.distinct().count()"
      ],
      "execution_count": null,
      "outputs": [
        {
          "output_type": "execute_result",
          "data": {
            "text/plain": [
              "1340"
            ]
          },
          "metadata": {},
          "execution_count": 11
        }
      ]
    },
    {
      "cell_type": "code",
      "metadata": {
        "id": "OTJiRTLVMuNO"
      },
      "source": [
        "from pyspark import SparkFiles\n",
        "url =\"https://cfwest-mldata.s3.amazonaws.com/Florida_Crime.csv\"\n",
        "spark.sparkContext.addFile(url)\n",
        "crime_df = spark.read.csv(SparkFiles.get(\"Florida_Crime.csv\"), sep=\",\", header=True, inferSchema=True)"
      ],
      "execution_count": 4,
      "outputs": []
    },
    {
      "cell_type": "code",
      "metadata": {
        "colab": {
          "base_uri": "https://localhost:8080/"
        },
        "id": "oVV0ZOu1M_Dr",
        "outputId": "b5a37fcf-d5e2-48aa-c7f1-9074f194fad0"
      },
      "source": [
        "crime_df.distinct()"
      ],
      "execution_count": 5,
      "outputs": [
        {
          "output_type": "execute_result",
          "data": {
            "text/plain": [
              "DataFrame[county: string, Year: int, Murder: int, Rape: int, Robbery: int, Aggravated_assault: int, Burglary: int, Larceny: int, Motor_vehicle_theft: int, Index_per_100k: int]"
            ]
          },
          "metadata": {},
          "execution_count": 5
        }
      ]
    },
    {
      "cell_type": "code",
      "metadata": {
        "id": "Z55RkX_2NIXP"
      },
      "source": [
        "url =\"https://cfwest-mldata.s3.amazonaws.com/employment_cleaned.csv\"\n",
        "spark.sparkContext.addFile(url)\n",
        "employment_df = spark.read.csv(SparkFiles.get(\"employment_cleaned.csv\"), sep=\",\", header=True, inferSchema=True)"
      ],
      "execution_count": 6,
      "outputs": []
    },
    {
      "cell_type": "code",
      "metadata": {
        "colab": {
          "base_uri": "https://localhost:8080/"
        },
        "id": "pqPlQLCCNSQr",
        "outputId": "7ece5e9e-1173-4185-c666-f8497f915733"
      },
      "source": [
        "employment_df.distinct().count()"
      ],
      "execution_count": 7,
      "outputs": [
        {
          "output_type": "execute_result",
          "data": {
            "text/plain": [
              "1340"
            ]
          },
          "metadata": {},
          "execution_count": 7
        }
      ]
    },
    {
      "cell_type": "code",
      "metadata": {
        "colab": {
          "base_uri": "https://localhost:8080/"
        },
        "id": "iV9c0g2CFd4h",
        "outputId": "6234ef7e-f909-48af-adfb-d77c51734da0"
      },
      "source": [
        "# Store environmental variable\n",
        "from getpass import getpass\n",
        "password = getpass('postgres')\n",
        "# Configure settings for RDS\n",
        "mode = \"append\"\n",
        "jdbc_url=\"jdbc:postgresql://mldata.chbvxx9zicoa.us-east-2.rds.amazonaws.com:5432/mldata\"\n",
        "config = {\"user\":\"postgres\",\n",
        "          \"password\": password,\n",
        "          \"driver\":\"org.postgresql.Driver\"}"
      ],
      "execution_count": 7,
      "outputs": [
        {
          "name": "stdout",
          "output_type": "stream",
          "text": [
            "postgres··········\n"
          ]
        }
      ]
    },
    {
      "cell_type": "code",
      "metadata": {
        "id": "OA2N_K4CPOxA"
      },
      "source": [
        "# Write DataFrame to active_user table in RDS\n",
        "population_df.write.jdbc(url=jdbc_url, table='Population', mode=mode, properties=config)"
      ],
      "execution_count": null,
      "outputs": []
    },
    {
      "cell_type": "code",
      "metadata": {
        "id": "Zha0R6vOX_9H"
      },
      "source": [
        "housing_df_cleaned.write.jdbc(url=jdbc_url, table='Housing', mode=mode, properties=config)"
      ],
      "execution_count": null,
      "outputs": []
    },
    {
      "cell_type": "code",
      "metadata": {
        "id": "-sh_IGrNEp5y"
      },
      "source": [
        "rainfall_df.write.jdbc(url=jdbc_url, table='Rainfall', mode=mode, properties=config)"
      ],
      "execution_count": null,
      "outputs": []
    },
    {
      "cell_type": "code",
      "metadata": {
        "id": "R0qlOfSZFD6c"
      },
      "source": [
        "wages_df.write.jdbc(url=jdbc_url, table='Wages', mode=mode, properties=config)"
      ],
      "execution_count": null,
      "outputs": []
    },
    {
      "cell_type": "code",
      "metadata": {
        "id": "MjEva9ItNehJ"
      },
      "source": [
        "crime_df.write.jdbc(url=jdbc_url, table='Crime', mode=mode, properties=config)"
      ],
      "execution_count": 8,
      "outputs": []
    },
    {
      "cell_type": "code",
      "metadata": {
        "id": "Sc4ly45VWzBV"
      },
      "source": [
        "employment_df.write.jdbc(url=jdbc_url, table='Employment', mode=mode, properties=config)"
      ],
      "execution_count": 9,
      "outputs": []
    }
  ]
}