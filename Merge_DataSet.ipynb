{
 "cells": [
  {
   "cell_type": "code",
   "execution_count": 3,
   "source": [
    "# Dependencies and Setup\r\n",
    "import pandas as pd\r\n",
    "import numpy as np"
   ],
   "outputs": [],
   "metadata": {}
  },
  {
   "cell_type": "code",
   "execution_count": 30,
   "source": [
    "# File to Load (Remember to change the path if needed.)\r\n",
    "home_prices = \"Resources/Florida_Avg_HomeValues_Zillow.csv\"\r\n",
    "unemployment = \"Resources/FL_State_Unemplyoment.csv\"\r\n",
    "population = \"Resources/FL_CensusCounts.csv\"\r\n",
    "climate = \"Resources/Rainfall_Florida_Counties__Monthly_2000-2021.csv\"\r\n",
    "# wages = "
   ],
   "outputs": [],
   "metadata": {}
  },
  {
   "cell_type": "code",
   "execution_count": 32,
   "source": [
    "# Data Frames\r\n",
    "home_prices_df = pd.read_csv(home_prices)\r\n",
    "unemployment_df = pd.read_csv(unemployment_wages)\r\n",
    "population_df =  pd.read_csv(population)\r\n",
    "climate_df = pd.read_csv(climate)"
   ],
   "outputs": [],
   "metadata": {}
  },
  {
   "cell_type": "code",
   "execution_count": 34,
   "source": [
    "climate_df.head()\r\n",
    "home_prices_df.head()\r\n",
    "unemployment_wages_df.head()\r\n",
    "population_df.head()"
   ],
   "outputs": [
    {
     "output_type": "execute_result",
     "data": {
      "text/plain": [
       "      County  CountywidePopulation  Unincorporated Population  % of Total  \\\n",
       "0  Alachua *                271588                     107807    0.396951   \n",
       "1    Baker *                 28532                      20889    0.732125   \n",
       "2        Bay                174410                      77729    0.445668   \n",
       "3   Bradford                 28725                      21708    0.755718   \n",
       "4    Brevard                606671                     225616    0.371892   \n",
       "\n",
       "   Incorporated Population  % of Total.1  Year  \n",
       "0                   163781      0.603049  2020  \n",
       "1                     7643      0.267875  2020  \n",
       "2                    96681      0.554332  2020  \n",
       "3                     7017      0.244282  2020  \n",
       "4                   381055      0.628108  2020  "
      ],
      "text/html": [
       "<div>\n",
       "<style scoped>\n",
       "    .dataframe tbody tr th:only-of-type {\n",
       "        vertical-align: middle;\n",
       "    }\n",
       "\n",
       "    .dataframe tbody tr th {\n",
       "        vertical-align: top;\n",
       "    }\n",
       "\n",
       "    .dataframe thead th {\n",
       "        text-align: right;\n",
       "    }\n",
       "</style>\n",
       "<table border=\"1\" class=\"dataframe\">\n",
       "  <thead>\n",
       "    <tr style=\"text-align: right;\">\n",
       "      <th></th>\n",
       "      <th>County</th>\n",
       "      <th>CountywidePopulation</th>\n",
       "      <th>Unincorporated Population</th>\n",
       "      <th>% of Total</th>\n",
       "      <th>Incorporated Population</th>\n",
       "      <th>% of Total.1</th>\n",
       "      <th>Year</th>\n",
       "    </tr>\n",
       "  </thead>\n",
       "  <tbody>\n",
       "    <tr>\n",
       "      <th>0</th>\n",
       "      <td>Alachua *</td>\n",
       "      <td>271588</td>\n",
       "      <td>107807</td>\n",
       "      <td>0.396951</td>\n",
       "      <td>163781</td>\n",
       "      <td>0.603049</td>\n",
       "      <td>2020</td>\n",
       "    </tr>\n",
       "    <tr>\n",
       "      <th>1</th>\n",
       "      <td>Baker *</td>\n",
       "      <td>28532</td>\n",
       "      <td>20889</td>\n",
       "      <td>0.732125</td>\n",
       "      <td>7643</td>\n",
       "      <td>0.267875</td>\n",
       "      <td>2020</td>\n",
       "    </tr>\n",
       "    <tr>\n",
       "      <th>2</th>\n",
       "      <td>Bay</td>\n",
       "      <td>174410</td>\n",
       "      <td>77729</td>\n",
       "      <td>0.445668</td>\n",
       "      <td>96681</td>\n",
       "      <td>0.554332</td>\n",
       "      <td>2020</td>\n",
       "    </tr>\n",
       "    <tr>\n",
       "      <th>3</th>\n",
       "      <td>Bradford</td>\n",
       "      <td>28725</td>\n",
       "      <td>21708</td>\n",
       "      <td>0.755718</td>\n",
       "      <td>7017</td>\n",
       "      <td>0.244282</td>\n",
       "      <td>2020</td>\n",
       "    </tr>\n",
       "    <tr>\n",
       "      <th>4</th>\n",
       "      <td>Brevard</td>\n",
       "      <td>606671</td>\n",
       "      <td>225616</td>\n",
       "      <td>0.371892</td>\n",
       "      <td>381055</td>\n",
       "      <td>0.628108</td>\n",
       "      <td>2020</td>\n",
       "    </tr>\n",
       "  </tbody>\n",
       "</table>\n",
       "</div>"
      ]
     },
     "metadata": {},
     "execution_count": 34
    }
   ],
   "metadata": {}
  }
 ],
 "metadata": {
  "orig_nbformat": 4,
  "language_info": {
   "name": "python",
   "version": "3.9.5",
   "mimetype": "text/x-python",
   "codemirror_mode": {
    "name": "ipython",
    "version": 3
   },
   "pygments_lexer": "ipython3",
   "nbconvert_exporter": "python",
   "file_extension": ".py"
  },
  "kernelspec": {
   "name": "python3",
   "display_name": "Python 3.9.5 64-bit"
  },
  "interpreter": {
   "hash": "38740d3277777e2cd7c6c2cc9d8addf5118fdf3f82b1b39231fd12aeac8aee8b"
  }
 },
 "nbformat": 4,
 "nbformat_minor": 2
}